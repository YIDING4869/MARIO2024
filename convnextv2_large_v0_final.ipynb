{
 "cells": [
  {
   "cell_type": "code",
   "id": "initial_id",
   "metadata": {
    "collapsed": true,
    "ExecuteTime": {
     "end_time": "2024-08-07T19:30:09.526286Z",
     "start_time": "2024-08-07T18:36:58.620112Z"
    }
   },
   "source": [
    "import pandas as pd\n",
    "import random\n",
    "\n",
    "import torch\n",
    "import torch.nn as nn\n",
    "import torch.optim as optim\n",
    "import numpy as np\n",
    "from torch.utils.data import DataLoader, random_split\n",
    "from torchvision import transforms, models\n",
    "import OCTData\n",
    "from evaluate import evaluate_model\n",
    "from models import OCTClassifier0\n",
    "from training import train_model\n",
    "from config import config\n",
    "from torchvision.transforms import AutoAugment, RandAugment, AutoAugmentPolicy, InterpolationMode\n",
    "from albumentations.pytorch import ToTensorV2\n",
    "\n",
    "def set_seed(seed):\n",
    "    random.seed(seed)\n",
    "    np.random.seed(seed)\n",
    "    torch.manual_seed(seed)\n",
    "    if torch.cuda.is_available():\n",
    "        torch.cuda.manual_seed(seed)\n",
    "        torch.cuda.manual_seed_all(seed)\n",
    "    torch.backends.cudnn.deterministic = True\n",
    "    torch.backends.cudnn.benchmark = False\n",
    "    generator = torch.Generator().manual_seed(seed)\n",
    "    return generator\n",
    "\n",
    "\n",
    "\n",
    "generator= set_seed(config.seed)  # 你可以选择任何整数作为种子\n",
    "\n",
    "transform = transforms.Compose([\n",
    "    # SquarePad(),  # 填充到正方形\n",
    "    transforms.Resize((224, 224)),\n",
    "    transforms.ToTensor(),\n",
    "    transforms.Normalize(mean=[0.5], std=[0.5]), # ??\n",
    "])\n",
    "\n",
    "#aug3 more\n",
    "train_transform = transforms.Compose([\n",
    "        transforms.RandomApply([transforms.ColorJitter(brightness=0.25, contrast=0.25)], p=0.25),\n",
    "        transforms.RandomApply([transforms.GaussianBlur(kernel_size=(5, 9), sigma=(0.1, 5))], p=0.15),\n",
    "        transforms.RandomAffine(degrees=25, scale=(0.8, 1.2), translate=(0.1, 0.1)),\n",
    "        transforms.RandomHorizontalFlip(p=0.3),\n",
    "        transforms.Resize((224, 224)),\n",
    "        transforms.ToTensor(),\n",
    "        transforms.Normalize(mean=[0.5], std=[0.5]),\n",
    "    ])\n",
    "\n",
    "\n",
    "# 验证集不进行数据增强，只进行基本的预处理\n",
    "val_transform = transforms.Compose([\n",
    "    transforms.Resize((224, 224)),\n",
    "    transforms.ToTensor(),\n",
    "    transforms.Normalize(mean=[0.5], std=[0.5])\n",
    "])\n",
    "\n",
    "\n",
    "\n",
    "train_data_frame = pd.read_csv(config.final_train_csv_file)\n",
    "val_data_frame = pd.read_csv(config.final_val_csv_file)\n",
    "\n",
    "# 为训练和验证集分别创建不同的 Dataset 实例，并应用不同的 transforms\n",
    "train_dataset = OCTData.OCTData(train_data_frame, root_dir=config.final_root_dir, transform=train_transform)\n",
    "val_dataset = OCTData.OCTData(val_data_frame, root_dir=config.final_root_dir, transform=val_transform)\n",
    "\n",
    "# 创建数据加载器\n",
    "train_loader = DataLoader(train_dataset, batch_size=config.batch_size, shuffle=True)\n",
    "val_loader = DataLoader(val_dataset, batch_size=config.batch_size, shuffle=False)\n",
    "\n",
    "\n",
    "\n",
    "\n",
    "model = OCTClassifier0()\n",
    "\n",
    "device = torch.device(\"cuda:0\" if torch.cuda.is_available() else \"cpu\")\n",
    "model = model.to(device)\n",
    "# checkpoint_path = \"data/model/convnextv2_large_v3/epoch_45_split_0.8_bs_16_lr_5e-07.pth\"\n",
    "# checkpoint = torch.load(checkpoint_path)\n",
    "# model.load_state_dict(checkpoint)\n",
    "\n",
    "criterion = nn.CrossEntropyLoss()\n",
    "optimizer = optim.Adam(model.parameters(), lr=config.lr)    \n",
    "\n",
    "train_model(model, train_loader, val_loader, criterion, optimizer, num_epochs=config.num_epochs)\n",
    "\n",
    "\n",
    "\n",
    "\n"
   ],
   "outputs": [
    {
     "name": "stderr",
     "output_type": "stream",
     "text": [
      "INFO:albumentations.check_version:A new version of Albumentations is available: 1.4.13 (you have 1.4.12). Upgrade using: pip install -U albumentations. To disable automatic update checks, set the environment variable NO_ALBUMENTATIONS_UPDATE to 1.\n",
      "INFO:timm.models._builder:Loading pretrained weights from Hugging Face hub (timm/convnextv2_large.fcmae_ft_in22k_in1k)\n",
      "INFO:timm.models._hub:[timm/convnextv2_large.fcmae_ft_in22k_in1k] Safe alternative available for 'pytorch_model.bin' (as 'model.safetensors'). Loading weights using safetensors.\n"
     ]
    },
    {
     "name": "stdout",
     "output_type": "stream",
     "text": [
      "Epoch 0/70\n",
      "----------\n"
     ]
    },
    {
     "name": "stderr",
     "output_type": "stream",
     "text": [
      "Training: 100%|██████████| 1065/1065 [07:13<00:00,  2.46it/s]\n",
      "/home/yi/PycharmProjects/MARIO/training.py:37: ConstantInputWarning: An input array is constant; the correlation coefficient is not defined.\n",
      "  spearman_corr, _ = spearmanr(true_labels, predictions)\n"
     ]
    },
    {
     "name": "stdout",
     "output_type": "stream",
     "text": [
      "Loss: 0.9935 Acc: 0.6713\n",
      "Train Accuracy: 0.6713 F1 Score: 0.5393 Spearman Corr: nan Specificity: 0.7500 Mean Metrics: nan\n"
     ]
    },
    {
     "name": "stderr",
     "output_type": "stream",
     "text": [
      "Validation: 100%|██████████| 280/280 [00:56<00:00,  4.96it/s]\n",
      "/home/yi/PycharmProjects/MARIO/training.py:37: ConstantInputWarning: An input array is constant; the correlation coefficient is not defined.\n",
      "  spearman_corr, _ = spearmanr(true_labels, predictions)\n"
     ]
    },
    {
     "name": "stdout",
     "output_type": "stream",
     "text": [
      "Val Loss: 1.1145 Val Acc: 0.6135\n",
      "Validation Accuracy: 0.6135 F1 Score: 0.4665 Spearman Corr: nan Specificity: 0.7500 Mean Metrics: nan\n",
      "Epoch 1/70\n",
      "----------\n"
     ]
    },
    {
     "name": "stderr",
     "output_type": "stream",
     "text": [
      "Training: 100%|██████████| 1065/1065 [07:17<00:00,  2.44it/s]\n",
      "/home/yi/PycharmProjects/MARIO/training.py:37: ConstantInputWarning: An input array is constant; the correlation coefficient is not defined.\n",
      "  spearman_corr, _ = spearmanr(true_labels, predictions)\n"
     ]
    },
    {
     "name": "stdout",
     "output_type": "stream",
     "text": [
      "Loss: 0.9892 Acc: 0.6713\n",
      "Train Accuracy: 0.6713 F1 Score: 0.5393 Spearman Corr: nan Specificity: 0.7500 Mean Metrics: nan\n"
     ]
    },
    {
     "name": "stderr",
     "output_type": "stream",
     "text": [
      "Validation: 100%|██████████| 280/280 [00:58<00:00,  4.82it/s]\n",
      "/home/yi/PycharmProjects/MARIO/training.py:37: ConstantInputWarning: An input array is constant; the correlation coefficient is not defined.\n",
      "  spearman_corr, _ = spearmanr(true_labels, predictions)\n"
     ]
    },
    {
     "name": "stdout",
     "output_type": "stream",
     "text": [
      "Val Loss: 1.1030 Val Acc: 0.6135\n",
      "Validation Accuracy: 0.6135 F1 Score: 0.4665 Spearman Corr: nan Specificity: 0.7500 Mean Metrics: nan\n",
      "Epoch 2/70\n",
      "----------\n"
     ]
    },
    {
     "name": "stderr",
     "output_type": "stream",
     "text": [
      "Training: 100%|██████████| 1065/1065 [07:15<00:00,  2.45it/s]\n",
      "/home/yi/PycharmProjects/MARIO/training.py:37: ConstantInputWarning: An input array is constant; the correlation coefficient is not defined.\n",
      "  spearman_corr, _ = spearmanr(true_labels, predictions)\n"
     ]
    },
    {
     "name": "stdout",
     "output_type": "stream",
     "text": [
      "Loss: 0.9867 Acc: 0.6713\n",
      "Train Accuracy: 0.6713 F1 Score: 0.5393 Spearman Corr: nan Specificity: 0.7500 Mean Metrics: nan\n"
     ]
    },
    {
     "name": "stderr",
     "output_type": "stream",
     "text": [
      "Validation: 100%|██████████| 280/280 [00:56<00:00,  4.97it/s]\n",
      "/home/yi/PycharmProjects/MARIO/training.py:37: ConstantInputWarning: An input array is constant; the correlation coefficient is not defined.\n",
      "  spearman_corr, _ = spearmanr(true_labels, predictions)\n"
     ]
    },
    {
     "name": "stdout",
     "output_type": "stream",
     "text": [
      "Val Loss: 1.1224 Val Acc: 0.6135\n",
      "Validation Accuracy: 0.6135 F1 Score: 0.4665 Spearman Corr: nan Specificity: 0.7500 Mean Metrics: nan\n",
      "Epoch 3/70\n",
      "----------\n"
     ]
    },
    {
     "name": "stderr",
     "output_type": "stream",
     "text": [
      "Training: 100%|██████████| 1065/1065 [07:15<00:00,  2.45it/s]\n"
     ]
    },
    {
     "name": "stdout",
     "output_type": "stream",
     "text": [
      "Loss: 0.9859 Acc: 0.6712\n",
      "Train Accuracy: 0.6712 F1 Score: 0.5394 Spearman Corr: 0.0111 Specificity: 0.7500 Mean Metrics: 0.4335\n"
     ]
    },
    {
     "name": "stderr",
     "output_type": "stream",
     "text": [
      "Validation: 100%|██████████| 280/280 [00:56<00:00,  4.94it/s]\n",
      "/home/yi/PycharmProjects/MARIO/training.py:37: ConstantInputWarning: An input array is constant; the correlation coefficient is not defined.\n",
      "  spearman_corr, _ = spearmanr(true_labels, predictions)\n"
     ]
    },
    {
     "name": "stdout",
     "output_type": "stream",
     "text": [
      "Val Loss: 1.0917 Val Acc: 0.6135\n",
      "Validation Accuracy: 0.6135 F1 Score: 0.4665 Spearman Corr: nan Specificity: 0.7500 Mean Metrics: nan\n",
      "Epoch 4/70\n",
      "----------\n"
     ]
    },
    {
     "name": "stderr",
     "output_type": "stream",
     "text": [
      "Training: 100%|██████████| 1065/1065 [07:07<00:00,  2.49it/s]\n",
      "/home/yi/PycharmProjects/MARIO/training.py:37: ConstantInputWarning: An input array is constant; the correlation coefficient is not defined.\n",
      "  spearman_corr, _ = spearmanr(true_labels, predictions)\n"
     ]
    },
    {
     "name": "stdout",
     "output_type": "stream",
     "text": [
      "Loss: 0.9856 Acc: 0.6713\n",
      "Train Accuracy: 0.6713 F1 Score: 0.5393 Spearman Corr: nan Specificity: 0.7500 Mean Metrics: nan\n"
     ]
    },
    {
     "name": "stderr",
     "output_type": "stream",
     "text": [
      "Validation: 100%|██████████| 280/280 [00:57<00:00,  4.91it/s]\n",
      "/home/yi/PycharmProjects/MARIO/training.py:37: ConstantInputWarning: An input array is constant; the correlation coefficient is not defined.\n",
      "  spearman_corr, _ = spearmanr(true_labels, predictions)\n"
     ]
    },
    {
     "name": "stdout",
     "output_type": "stream",
     "text": [
      "Val Loss: 1.1086 Val Acc: 0.6135\n",
      "Validation Accuracy: 0.6135 F1 Score: 0.4665 Spearman Corr: nan Specificity: 0.7500 Mean Metrics: nan\n",
      "Epoch 5/70\n",
      "----------\n"
     ]
    },
    {
     "name": "stderr",
     "output_type": "stream",
     "text": [
      "Training: 100%|██████████| 1065/1065 [07:05<00:00,  2.50it/s]\n",
      "/home/yi/PycharmProjects/MARIO/training.py:37: ConstantInputWarning: An input array is constant; the correlation coefficient is not defined.\n",
      "  spearman_corr, _ = spearmanr(true_labels, predictions)\n"
     ]
    },
    {
     "name": "stdout",
     "output_type": "stream",
     "text": [
      "Loss: 0.9853 Acc: 0.6713\n",
      "Train Accuracy: 0.6713 F1 Score: 0.5393 Spearman Corr: nan Specificity: 0.7500 Mean Metrics: nan\n"
     ]
    },
    {
     "name": "stderr",
     "output_type": "stream",
     "text": [
      "Validation: 100%|██████████| 280/280 [00:56<00:00,  4.98it/s]\n",
      "/home/yi/PycharmProjects/MARIO/training.py:37: ConstantInputWarning: An input array is constant; the correlation coefficient is not defined.\n",
      "  spearman_corr, _ = spearmanr(true_labels, predictions)\n"
     ]
    },
    {
     "name": "stdout",
     "output_type": "stream",
     "text": [
      "Val Loss: 1.0904 Val Acc: 0.6135\n",
      "Validation Accuracy: 0.6135 F1 Score: 0.4665 Spearman Corr: nan Specificity: 0.7500 Mean Metrics: nan\n",
      "Epoch 6/70\n",
      "----------\n"
     ]
    },
    {
     "name": "stderr",
     "output_type": "stream",
     "text": [
      "Training:  57%|█████▋    | 607/1065 [04:08<03:07,  2.44it/s]\n"
     ]
    },
    {
     "ename": "KeyboardInterrupt",
     "evalue": "",
     "output_type": "error",
     "traceback": [
      "\u001B[0;31m---------------------------------------------------------------------------\u001B[0m",
      "\u001B[0;31mKeyboardInterrupt\u001B[0m                         Traceback (most recent call last)",
      "Cell \u001B[0;32mIn[1], line 87\u001B[0m\n\u001B[1;32m     84\u001B[0m criterion \u001B[38;5;241m=\u001B[39m nn\u001B[38;5;241m.\u001B[39mCrossEntropyLoss()\n\u001B[1;32m     85\u001B[0m optimizer \u001B[38;5;241m=\u001B[39m optim\u001B[38;5;241m.\u001B[39mAdam(model\u001B[38;5;241m.\u001B[39mparameters(), lr\u001B[38;5;241m=\u001B[39mconfig\u001B[38;5;241m.\u001B[39mlr)    \n\u001B[0;32m---> 87\u001B[0m \u001B[43mtrain_model\u001B[49m\u001B[43m(\u001B[49m\u001B[43mmodel\u001B[49m\u001B[43m,\u001B[49m\u001B[43m \u001B[49m\u001B[43mtrain_loader\u001B[49m\u001B[43m,\u001B[49m\u001B[43m \u001B[49m\u001B[43mval_loader\u001B[49m\u001B[43m,\u001B[49m\u001B[43m \u001B[49m\u001B[43mcriterion\u001B[49m\u001B[43m,\u001B[49m\u001B[43m \u001B[49m\u001B[43moptimizer\u001B[49m\u001B[43m,\u001B[49m\u001B[43m \u001B[49m\u001B[43mnum_epochs\u001B[49m\u001B[38;5;241;43m=\u001B[39;49m\u001B[43mconfig\u001B[49m\u001B[38;5;241;43m.\u001B[39;49m\u001B[43mnum_epochs\u001B[49m\u001B[43m)\u001B[49m\n",
      "File \u001B[0;32m~/PycharmProjects/MARIO/training.py:78\u001B[0m, in \u001B[0;36mtrain_model\u001B[0;34m(model, train_loader, val_loader, criterion, optimizer, num_epochs)\u001B[0m\n\u001B[1;32m     75\u001B[0m \u001B[38;5;66;03m# Adding tqdm progress bar for training\u001B[39;00m\n\u001B[1;32m     76\u001B[0m train_loader_tqdm \u001B[38;5;241m=\u001B[39m tqdm(train_loader, desc\u001B[38;5;241m=\u001B[39m\u001B[38;5;124m\"\u001B[39m\u001B[38;5;124mTraining\u001B[39m\u001B[38;5;124m\"\u001B[39m)\n\u001B[0;32m---> 78\u001B[0m \u001B[38;5;28;01mfor\u001B[39;00m samples \u001B[38;5;129;01min\u001B[39;00m train_loader_tqdm:\n\u001B[1;32m     79\u001B[0m     inputs_ti \u001B[38;5;241m=\u001B[39m samples[\u001B[38;5;124m'\u001B[39m\u001B[38;5;124mimage_ti\u001B[39m\u001B[38;5;124m'\u001B[39m]\u001B[38;5;241m.\u001B[39mto(device, dtype\u001B[38;5;241m=\u001B[39mtorch\u001B[38;5;241m.\u001B[39mfloat)\n\u001B[1;32m     80\u001B[0m     inputs_ti_1 \u001B[38;5;241m=\u001B[39m samples[\u001B[38;5;124m'\u001B[39m\u001B[38;5;124mimage_ti_1\u001B[39m\u001B[38;5;124m'\u001B[39m]\u001B[38;5;241m.\u001B[39mto(device, dtype\u001B[38;5;241m=\u001B[39mtorch\u001B[38;5;241m.\u001B[39mfloat)\n",
      "File \u001B[0;32m~/anaconda3/envs/myenv/lib/python3.10/site-packages/tqdm/std.py:1181\u001B[0m, in \u001B[0;36mtqdm.__iter__\u001B[0;34m(self)\u001B[0m\n\u001B[1;32m   1178\u001B[0m time \u001B[38;5;241m=\u001B[39m \u001B[38;5;28mself\u001B[39m\u001B[38;5;241m.\u001B[39m_time\n\u001B[1;32m   1180\u001B[0m \u001B[38;5;28;01mtry\u001B[39;00m:\n\u001B[0;32m-> 1181\u001B[0m     \u001B[38;5;28;01mfor\u001B[39;00m obj \u001B[38;5;129;01min\u001B[39;00m iterable:\n\u001B[1;32m   1182\u001B[0m         \u001B[38;5;28;01myield\u001B[39;00m obj\n\u001B[1;32m   1183\u001B[0m         \u001B[38;5;66;03m# Update and possibly print the progressbar.\u001B[39;00m\n\u001B[1;32m   1184\u001B[0m         \u001B[38;5;66;03m# Note: does not call self.update(1) for speed optimisation.\u001B[39;00m\n",
      "File \u001B[0;32m~/anaconda3/envs/myenv/lib/python3.10/site-packages/torch/utils/data/dataloader.py:631\u001B[0m, in \u001B[0;36m_BaseDataLoaderIter.__next__\u001B[0;34m(self)\u001B[0m\n\u001B[1;32m    628\u001B[0m \u001B[38;5;28;01mif\u001B[39;00m \u001B[38;5;28mself\u001B[39m\u001B[38;5;241m.\u001B[39m_sampler_iter \u001B[38;5;129;01mis\u001B[39;00m \u001B[38;5;28;01mNone\u001B[39;00m:\n\u001B[1;32m    629\u001B[0m     \u001B[38;5;66;03m# TODO(https://github.com/pytorch/pytorch/issues/76750)\u001B[39;00m\n\u001B[1;32m    630\u001B[0m     \u001B[38;5;28mself\u001B[39m\u001B[38;5;241m.\u001B[39m_reset()  \u001B[38;5;66;03m# type: ignore[call-arg]\u001B[39;00m\n\u001B[0;32m--> 631\u001B[0m data \u001B[38;5;241m=\u001B[39m \u001B[38;5;28;43mself\u001B[39;49m\u001B[38;5;241;43m.\u001B[39;49m\u001B[43m_next_data\u001B[49m\u001B[43m(\u001B[49m\u001B[43m)\u001B[49m\n\u001B[1;32m    632\u001B[0m \u001B[38;5;28mself\u001B[39m\u001B[38;5;241m.\u001B[39m_num_yielded \u001B[38;5;241m+\u001B[39m\u001B[38;5;241m=\u001B[39m \u001B[38;5;241m1\u001B[39m\n\u001B[1;32m    633\u001B[0m \u001B[38;5;28;01mif\u001B[39;00m \u001B[38;5;28mself\u001B[39m\u001B[38;5;241m.\u001B[39m_dataset_kind \u001B[38;5;241m==\u001B[39m _DatasetKind\u001B[38;5;241m.\u001B[39mIterable \u001B[38;5;129;01mand\u001B[39;00m \\\n\u001B[1;32m    634\u001B[0m         \u001B[38;5;28mself\u001B[39m\u001B[38;5;241m.\u001B[39m_IterableDataset_len_called \u001B[38;5;129;01mis\u001B[39;00m \u001B[38;5;129;01mnot\u001B[39;00m \u001B[38;5;28;01mNone\u001B[39;00m \u001B[38;5;129;01mand\u001B[39;00m \\\n\u001B[1;32m    635\u001B[0m         \u001B[38;5;28mself\u001B[39m\u001B[38;5;241m.\u001B[39m_num_yielded \u001B[38;5;241m>\u001B[39m \u001B[38;5;28mself\u001B[39m\u001B[38;5;241m.\u001B[39m_IterableDataset_len_called:\n",
      "File \u001B[0;32m~/anaconda3/envs/myenv/lib/python3.10/site-packages/torch/utils/data/dataloader.py:675\u001B[0m, in \u001B[0;36m_SingleProcessDataLoaderIter._next_data\u001B[0;34m(self)\u001B[0m\n\u001B[1;32m    673\u001B[0m \u001B[38;5;28;01mdef\u001B[39;00m \u001B[38;5;21m_next_data\u001B[39m(\u001B[38;5;28mself\u001B[39m):\n\u001B[1;32m    674\u001B[0m     index \u001B[38;5;241m=\u001B[39m \u001B[38;5;28mself\u001B[39m\u001B[38;5;241m.\u001B[39m_next_index()  \u001B[38;5;66;03m# may raise StopIteration\u001B[39;00m\n\u001B[0;32m--> 675\u001B[0m     data \u001B[38;5;241m=\u001B[39m \u001B[38;5;28;43mself\u001B[39;49m\u001B[38;5;241;43m.\u001B[39;49m\u001B[43m_dataset_fetcher\u001B[49m\u001B[38;5;241;43m.\u001B[39;49m\u001B[43mfetch\u001B[49m\u001B[43m(\u001B[49m\u001B[43mindex\u001B[49m\u001B[43m)\u001B[49m  \u001B[38;5;66;03m# may raise StopIteration\u001B[39;00m\n\u001B[1;32m    676\u001B[0m     \u001B[38;5;28;01mif\u001B[39;00m \u001B[38;5;28mself\u001B[39m\u001B[38;5;241m.\u001B[39m_pin_memory:\n\u001B[1;32m    677\u001B[0m         data \u001B[38;5;241m=\u001B[39m _utils\u001B[38;5;241m.\u001B[39mpin_memory\u001B[38;5;241m.\u001B[39mpin_memory(data, \u001B[38;5;28mself\u001B[39m\u001B[38;5;241m.\u001B[39m_pin_memory_device)\n",
      "File \u001B[0;32m~/anaconda3/envs/myenv/lib/python3.10/site-packages/torch/utils/data/_utils/fetch.py:51\u001B[0m, in \u001B[0;36m_MapDatasetFetcher.fetch\u001B[0;34m(self, possibly_batched_index)\u001B[0m\n\u001B[1;32m     49\u001B[0m         data \u001B[38;5;241m=\u001B[39m \u001B[38;5;28mself\u001B[39m\u001B[38;5;241m.\u001B[39mdataset\u001B[38;5;241m.\u001B[39m__getitems__(possibly_batched_index)\n\u001B[1;32m     50\u001B[0m     \u001B[38;5;28;01melse\u001B[39;00m:\n\u001B[0;32m---> 51\u001B[0m         data \u001B[38;5;241m=\u001B[39m [\u001B[38;5;28mself\u001B[39m\u001B[38;5;241m.\u001B[39mdataset[idx] \u001B[38;5;28;01mfor\u001B[39;00m idx \u001B[38;5;129;01min\u001B[39;00m possibly_batched_index]\n\u001B[1;32m     52\u001B[0m \u001B[38;5;28;01melse\u001B[39;00m:\n\u001B[1;32m     53\u001B[0m     data \u001B[38;5;241m=\u001B[39m \u001B[38;5;28mself\u001B[39m\u001B[38;5;241m.\u001B[39mdataset[possibly_batched_index]\n",
      "File \u001B[0;32m~/anaconda3/envs/myenv/lib/python3.10/site-packages/torch/utils/data/_utils/fetch.py:51\u001B[0m, in \u001B[0;36m<listcomp>\u001B[0;34m(.0)\u001B[0m\n\u001B[1;32m     49\u001B[0m         data \u001B[38;5;241m=\u001B[39m \u001B[38;5;28mself\u001B[39m\u001B[38;5;241m.\u001B[39mdataset\u001B[38;5;241m.\u001B[39m__getitems__(possibly_batched_index)\n\u001B[1;32m     50\u001B[0m     \u001B[38;5;28;01melse\u001B[39;00m:\n\u001B[0;32m---> 51\u001B[0m         data \u001B[38;5;241m=\u001B[39m [\u001B[38;5;28;43mself\u001B[39;49m\u001B[38;5;241;43m.\u001B[39;49m\u001B[43mdataset\u001B[49m\u001B[43m[\u001B[49m\u001B[43midx\u001B[49m\u001B[43m]\u001B[49m \u001B[38;5;28;01mfor\u001B[39;00m idx \u001B[38;5;129;01min\u001B[39;00m possibly_batched_index]\n\u001B[1;32m     52\u001B[0m \u001B[38;5;28;01melse\u001B[39;00m:\n\u001B[1;32m     53\u001B[0m     data \u001B[38;5;241m=\u001B[39m \u001B[38;5;28mself\u001B[39m\u001B[38;5;241m.\u001B[39mdataset[possibly_batched_index]\n",
      "File \u001B[0;32m~/PycharmProjects/MARIO/OCTData.py:24\u001B[0m, in \u001B[0;36mOCTData.__getitem__\u001B[0;34m(self, idx)\u001B[0m\n\u001B[1;32m     21\u001B[0m image_ti_1 \u001B[38;5;241m=\u001B[39m Image\u001B[38;5;241m.\u001B[39mopen(img_name_ti_1)\u001B[38;5;241m.\u001B[39mconvert(\u001B[38;5;124m'\u001B[39m\u001B[38;5;124mL\u001B[39m\u001B[38;5;124m'\u001B[39m)  \u001B[38;5;66;03m# 灰度图\u001B[39;00m\n\u001B[1;32m     23\u001B[0m \u001B[38;5;28;01mif\u001B[39;00m \u001B[38;5;28mself\u001B[39m\u001B[38;5;241m.\u001B[39mtransform:\n\u001B[0;32m---> 24\u001B[0m     image_ti \u001B[38;5;241m=\u001B[39m \u001B[38;5;28;43mself\u001B[39;49m\u001B[38;5;241;43m.\u001B[39;49m\u001B[43mtransform\u001B[49m\u001B[43m(\u001B[49m\u001B[43mimage_ti\u001B[49m\u001B[43m)\u001B[49m\n\u001B[1;32m     25\u001B[0m     image_ti_1 \u001B[38;5;241m=\u001B[39m \u001B[38;5;28mself\u001B[39m\u001B[38;5;241m.\u001B[39mtransform(image_ti_1)\n\u001B[1;32m     27\u001B[0m label \u001B[38;5;241m=\u001B[39m \u001B[38;5;28mint\u001B[39m(\u001B[38;5;28mself\u001B[39m\u001B[38;5;241m.\u001B[39mdata_frame\u001B[38;5;241m.\u001B[39miloc[idx, \u001B[38;5;241m5\u001B[39m])  \u001B[38;5;66;03m# 确保标签是整数\u001B[39;00m\n",
      "File \u001B[0;32m~/anaconda3/envs/myenv/lib/python3.10/site-packages/torchvision/transforms/transforms.py:95\u001B[0m, in \u001B[0;36mCompose.__call__\u001B[0;34m(self, img)\u001B[0m\n\u001B[1;32m     93\u001B[0m \u001B[38;5;28;01mdef\u001B[39;00m \u001B[38;5;21m__call__\u001B[39m(\u001B[38;5;28mself\u001B[39m, img):\n\u001B[1;32m     94\u001B[0m     \u001B[38;5;28;01mfor\u001B[39;00m t \u001B[38;5;129;01min\u001B[39;00m \u001B[38;5;28mself\u001B[39m\u001B[38;5;241m.\u001B[39mtransforms:\n\u001B[0;32m---> 95\u001B[0m         img \u001B[38;5;241m=\u001B[39m \u001B[43mt\u001B[49m\u001B[43m(\u001B[49m\u001B[43mimg\u001B[49m\u001B[43m)\u001B[49m\n\u001B[1;32m     96\u001B[0m     \u001B[38;5;28;01mreturn\u001B[39;00m img\n",
      "File \u001B[0;32m~/anaconda3/envs/myenv/lib/python3.10/site-packages/torch/nn/modules/module.py:1532\u001B[0m, in \u001B[0;36mModule._wrapped_call_impl\u001B[0;34m(self, *args, **kwargs)\u001B[0m\n\u001B[1;32m   1530\u001B[0m     \u001B[38;5;28;01mreturn\u001B[39;00m \u001B[38;5;28mself\u001B[39m\u001B[38;5;241m.\u001B[39m_compiled_call_impl(\u001B[38;5;241m*\u001B[39margs, \u001B[38;5;241m*\u001B[39m\u001B[38;5;241m*\u001B[39mkwargs)  \u001B[38;5;66;03m# type: ignore[misc]\u001B[39;00m\n\u001B[1;32m   1531\u001B[0m \u001B[38;5;28;01melse\u001B[39;00m:\n\u001B[0;32m-> 1532\u001B[0m     \u001B[38;5;28;01mreturn\u001B[39;00m \u001B[38;5;28;43mself\u001B[39;49m\u001B[38;5;241;43m.\u001B[39;49m\u001B[43m_call_impl\u001B[49m\u001B[43m(\u001B[49m\u001B[38;5;241;43m*\u001B[39;49m\u001B[43margs\u001B[49m\u001B[43m,\u001B[49m\u001B[43m \u001B[49m\u001B[38;5;241;43m*\u001B[39;49m\u001B[38;5;241;43m*\u001B[39;49m\u001B[43mkwargs\u001B[49m\u001B[43m)\u001B[49m\n",
      "File \u001B[0;32m~/anaconda3/envs/myenv/lib/python3.10/site-packages/torch/nn/modules/module.py:1541\u001B[0m, in \u001B[0;36mModule._call_impl\u001B[0;34m(self, *args, **kwargs)\u001B[0m\n\u001B[1;32m   1536\u001B[0m \u001B[38;5;66;03m# If we don't have any hooks, we want to skip the rest of the logic in\u001B[39;00m\n\u001B[1;32m   1537\u001B[0m \u001B[38;5;66;03m# this function, and just call forward.\u001B[39;00m\n\u001B[1;32m   1538\u001B[0m \u001B[38;5;28;01mif\u001B[39;00m \u001B[38;5;129;01mnot\u001B[39;00m (\u001B[38;5;28mself\u001B[39m\u001B[38;5;241m.\u001B[39m_backward_hooks \u001B[38;5;129;01mor\u001B[39;00m \u001B[38;5;28mself\u001B[39m\u001B[38;5;241m.\u001B[39m_backward_pre_hooks \u001B[38;5;129;01mor\u001B[39;00m \u001B[38;5;28mself\u001B[39m\u001B[38;5;241m.\u001B[39m_forward_hooks \u001B[38;5;129;01mor\u001B[39;00m \u001B[38;5;28mself\u001B[39m\u001B[38;5;241m.\u001B[39m_forward_pre_hooks\n\u001B[1;32m   1539\u001B[0m         \u001B[38;5;129;01mor\u001B[39;00m _global_backward_pre_hooks \u001B[38;5;129;01mor\u001B[39;00m _global_backward_hooks\n\u001B[1;32m   1540\u001B[0m         \u001B[38;5;129;01mor\u001B[39;00m _global_forward_hooks \u001B[38;5;129;01mor\u001B[39;00m _global_forward_pre_hooks):\n\u001B[0;32m-> 1541\u001B[0m     \u001B[38;5;28;01mreturn\u001B[39;00m \u001B[43mforward_call\u001B[49m\u001B[43m(\u001B[49m\u001B[38;5;241;43m*\u001B[39;49m\u001B[43margs\u001B[49m\u001B[43m,\u001B[49m\u001B[43m \u001B[49m\u001B[38;5;241;43m*\u001B[39;49m\u001B[38;5;241;43m*\u001B[39;49m\u001B[43mkwargs\u001B[49m\u001B[43m)\u001B[49m\n\u001B[1;32m   1543\u001B[0m \u001B[38;5;28;01mtry\u001B[39;00m:\n\u001B[1;32m   1544\u001B[0m     result \u001B[38;5;241m=\u001B[39m \u001B[38;5;28;01mNone\u001B[39;00m\n",
      "File \u001B[0;32m~/anaconda3/envs/myenv/lib/python3.10/site-packages/torchvision/transforms/transforms.py:1529\u001B[0m, in \u001B[0;36mRandomAffine.forward\u001B[0;34m(self, img)\u001B[0m\n\u001B[1;32m   1525\u001B[0m img_size \u001B[38;5;241m=\u001B[39m [width, height]  \u001B[38;5;66;03m# flip for keeping BC on get_params call\u001B[39;00m\n\u001B[1;32m   1527\u001B[0m ret \u001B[38;5;241m=\u001B[39m \u001B[38;5;28mself\u001B[39m\u001B[38;5;241m.\u001B[39mget_params(\u001B[38;5;28mself\u001B[39m\u001B[38;5;241m.\u001B[39mdegrees, \u001B[38;5;28mself\u001B[39m\u001B[38;5;241m.\u001B[39mtranslate, \u001B[38;5;28mself\u001B[39m\u001B[38;5;241m.\u001B[39mscale, \u001B[38;5;28mself\u001B[39m\u001B[38;5;241m.\u001B[39mshear, img_size)\n\u001B[0;32m-> 1529\u001B[0m \u001B[38;5;28;01mreturn\u001B[39;00m \u001B[43mF\u001B[49m\u001B[38;5;241;43m.\u001B[39;49m\u001B[43maffine\u001B[49m\u001B[43m(\u001B[49m\u001B[43mimg\u001B[49m\u001B[43m,\u001B[49m\u001B[43m \u001B[49m\u001B[38;5;241;43m*\u001B[39;49m\u001B[43mret\u001B[49m\u001B[43m,\u001B[49m\u001B[43m \u001B[49m\u001B[43minterpolation\u001B[49m\u001B[38;5;241;43m=\u001B[39;49m\u001B[38;5;28;43mself\u001B[39;49m\u001B[38;5;241;43m.\u001B[39;49m\u001B[43minterpolation\u001B[49m\u001B[43m,\u001B[49m\u001B[43m \u001B[49m\u001B[43mfill\u001B[49m\u001B[38;5;241;43m=\u001B[39;49m\u001B[43mfill\u001B[49m\u001B[43m,\u001B[49m\u001B[43m \u001B[49m\u001B[43mcenter\u001B[49m\u001B[38;5;241;43m=\u001B[39;49m\u001B[38;5;28;43mself\u001B[39;49m\u001B[38;5;241;43m.\u001B[39;49m\u001B[43mcenter\u001B[49m\u001B[43m)\u001B[49m\n",
      "File \u001B[0;32m~/anaconda3/envs/myenv/lib/python3.10/site-packages/torchvision/transforms/functional.py:1219\u001B[0m, in \u001B[0;36maffine\u001B[0;34m(img, angle, translate, scale, shear, interpolation, fill, center)\u001B[0m\n\u001B[1;32m   1217\u001B[0m     matrix \u001B[38;5;241m=\u001B[39m _get_inverse_affine_matrix(center, angle, translate, scale, shear)\n\u001B[1;32m   1218\u001B[0m     pil_interpolation \u001B[38;5;241m=\u001B[39m pil_modes_mapping[interpolation]\n\u001B[0;32m-> 1219\u001B[0m     \u001B[38;5;28;01mreturn\u001B[39;00m \u001B[43mF_pil\u001B[49m\u001B[38;5;241;43m.\u001B[39;49m\u001B[43maffine\u001B[49m\u001B[43m(\u001B[49m\u001B[43mimg\u001B[49m\u001B[43m,\u001B[49m\u001B[43m \u001B[49m\u001B[43mmatrix\u001B[49m\u001B[38;5;241;43m=\u001B[39;49m\u001B[43mmatrix\u001B[49m\u001B[43m,\u001B[49m\u001B[43m \u001B[49m\u001B[43minterpolation\u001B[49m\u001B[38;5;241;43m=\u001B[39;49m\u001B[43mpil_interpolation\u001B[49m\u001B[43m,\u001B[49m\u001B[43m \u001B[49m\u001B[43mfill\u001B[49m\u001B[38;5;241;43m=\u001B[39;49m\u001B[43mfill\u001B[49m\u001B[43m)\u001B[49m\n\u001B[1;32m   1221\u001B[0m center_f \u001B[38;5;241m=\u001B[39m [\u001B[38;5;241m0.0\u001B[39m, \u001B[38;5;241m0.0\u001B[39m]\n\u001B[1;32m   1222\u001B[0m \u001B[38;5;28;01mif\u001B[39;00m center \u001B[38;5;129;01mis\u001B[39;00m \u001B[38;5;129;01mnot\u001B[39;00m \u001B[38;5;28;01mNone\u001B[39;00m:\n",
      "File \u001B[0;32m~/anaconda3/envs/myenv/lib/python3.10/site-packages/torchvision/transforms/_functional_pil.py:297\u001B[0m, in \u001B[0;36maffine\u001B[0;34m(img, matrix, interpolation, fill)\u001B[0m\n\u001B[1;32m    295\u001B[0m output_size \u001B[38;5;241m=\u001B[39m img\u001B[38;5;241m.\u001B[39msize\n\u001B[1;32m    296\u001B[0m opts \u001B[38;5;241m=\u001B[39m _parse_fill(fill, img)\n\u001B[0;32m--> 297\u001B[0m \u001B[38;5;28;01mreturn\u001B[39;00m \u001B[43mimg\u001B[49m\u001B[38;5;241;43m.\u001B[39;49m\u001B[43mtransform\u001B[49m\u001B[43m(\u001B[49m\u001B[43moutput_size\u001B[49m\u001B[43m,\u001B[49m\u001B[43m \u001B[49m\u001B[43mImage\u001B[49m\u001B[38;5;241;43m.\u001B[39;49m\u001B[43mAFFINE\u001B[49m\u001B[43m,\u001B[49m\u001B[43m \u001B[49m\u001B[43mmatrix\u001B[49m\u001B[43m,\u001B[49m\u001B[43m \u001B[49m\u001B[43minterpolation\u001B[49m\u001B[43m,\u001B[49m\u001B[43m \u001B[49m\u001B[38;5;241;43m*\u001B[39;49m\u001B[38;5;241;43m*\u001B[39;49m\u001B[43mopts\u001B[49m\u001B[43m)\u001B[49m\n",
      "File \u001B[0;32m~/anaconda3/envs/myenv/lib/python3.10/site-packages/PIL/Image.py:2733\u001B[0m, in \u001B[0;36mImage.transform\u001B[0;34m(self, size, method, data, resample, fill, fillcolor)\u001B[0m\n\u001B[1;32m   2730\u001B[0m     msg \u001B[38;5;241m=\u001B[39m \u001B[38;5;124m\"\u001B[39m\u001B[38;5;124mmissing method data\u001B[39m\u001B[38;5;124m\"\u001B[39m\n\u001B[1;32m   2731\u001B[0m     \u001B[38;5;28;01mraise\u001B[39;00m \u001B[38;5;167;01mValueError\u001B[39;00m(msg)\n\u001B[0;32m-> 2733\u001B[0m im \u001B[38;5;241m=\u001B[39m \u001B[43mnew\u001B[49m\u001B[43m(\u001B[49m\u001B[38;5;28;43mself\u001B[39;49m\u001B[38;5;241;43m.\u001B[39;49m\u001B[43mmode\u001B[49m\u001B[43m,\u001B[49m\u001B[43m \u001B[49m\u001B[43msize\u001B[49m\u001B[43m,\u001B[49m\u001B[43m \u001B[49m\u001B[43mfillcolor\u001B[49m\u001B[43m)\u001B[49m\n\u001B[1;32m   2734\u001B[0m \u001B[38;5;28;01mif\u001B[39;00m \u001B[38;5;28mself\u001B[39m\u001B[38;5;241m.\u001B[39mmode \u001B[38;5;241m==\u001B[39m \u001B[38;5;124m\"\u001B[39m\u001B[38;5;124mP\u001B[39m\u001B[38;5;124m\"\u001B[39m \u001B[38;5;129;01mand\u001B[39;00m \u001B[38;5;28mself\u001B[39m\u001B[38;5;241m.\u001B[39mpalette:\n\u001B[1;32m   2735\u001B[0m     im\u001B[38;5;241m.\u001B[39mpalette \u001B[38;5;241m=\u001B[39m \u001B[38;5;28mself\u001B[39m\u001B[38;5;241m.\u001B[39mpalette\u001B[38;5;241m.\u001B[39mcopy()\n",
      "File \u001B[0;32m~/anaconda3/envs/myenv/lib/python3.10/site-packages/PIL/Image.py:2974\u001B[0m, in \u001B[0;36mnew\u001B[0;34m(mode, size, color)\u001B[0m\n\u001B[1;32m   2972\u001B[0m     im\u001B[38;5;241m.\u001B[39mpalette \u001B[38;5;241m=\u001B[39m ImagePalette\u001B[38;5;241m.\u001B[39mImagePalette()\n\u001B[1;32m   2973\u001B[0m     color \u001B[38;5;241m=\u001B[39m im\u001B[38;5;241m.\u001B[39mpalette\u001B[38;5;241m.\u001B[39mgetcolor(color)\n\u001B[0;32m-> 2974\u001B[0m \u001B[38;5;28;01mreturn\u001B[39;00m im\u001B[38;5;241m.\u001B[39m_new(\u001B[43mcore\u001B[49m\u001B[38;5;241;43m.\u001B[39;49m\u001B[43mfill\u001B[49m\u001B[43m(\u001B[49m\u001B[43mmode\u001B[49m\u001B[43m,\u001B[49m\u001B[43m \u001B[49m\u001B[43msize\u001B[49m\u001B[43m,\u001B[49m\u001B[43m \u001B[49m\u001B[43mcolor\u001B[49m\u001B[43m)\u001B[49m)\n",
      "\u001B[0;31mKeyboardInterrupt\u001B[0m: "
     ]
    }
   ],
   "execution_count": 1
  },
  {
   "metadata": {
    "ExecuteTime": {
     "end_time": "2024-08-08T01:35:32.230544Z",
     "start_time": "2024-08-07T19:30:40.564668Z"
    }
   },
   "cell_type": "code",
   "source": [
    "import pandas as pd\n",
    "import random\n",
    "\n",
    "import torch\n",
    "import torch.nn as nn\n",
    "import torch.optim as optim\n",
    "import numpy as np\n",
    "from torch.utils.data import DataLoader, random_split\n",
    "from torchvision import transforms, models\n",
    "import OCTData\n",
    "from evaluate import evaluate_model\n",
    "from models import OCTClassifier0\n",
    "from training import train_model\n",
    "from config import config\n",
    "from torchvision.transforms import AutoAugment, RandAugment, AutoAugmentPolicy, InterpolationMode\n",
    "from albumentations.pytorch import ToTensorV2\n",
    "\n",
    "def set_seed(seed):\n",
    "    random.seed(seed)\n",
    "    np.random.seed(seed)\n",
    "    torch.manual_seed(seed)\n",
    "    if torch.cuda.is_available():\n",
    "        torch.cuda.manual_seed(seed)\n",
    "        torch.cuda.manual_seed_all(seed)\n",
    "    torch.backends.cudnn.deterministic = True\n",
    "    torch.backends.cudnn.benchmark = False\n",
    "    generator = torch.Generator().manual_seed(seed)\n",
    "    return generator\n",
    "\n",
    "\n",
    "\n",
    "generator= set_seed(config.seed)  # 你可以选择任何整数作为种子\n",
    "\n",
    "transform = transforms.Compose([\n",
    "    # SquarePad(),  # 填充到正方形\n",
    "    transforms.Resize((224, 224)),\n",
    "    transforms.ToTensor(),\n",
    "    transforms.Normalize(mean=[0.5], std=[0.5]), # ??\n",
    "])\n",
    "\n",
    "#aug3 more\n",
    "train_transform = transforms.Compose([\n",
    "        transforms.RandomApply([transforms.ColorJitter(brightness=0.25, contrast=0.25)], p=0.25),\n",
    "        transforms.RandomApply([transforms.GaussianBlur(kernel_size=(5, 9), sigma=(0.1, 5))], p=0.15),\n",
    "        transforms.RandomAffine(degrees=25, scale=(0.8, 1.2), translate=(0.1, 0.1)),\n",
    "        transforms.RandomHorizontalFlip(p=0.3),\n",
    "        transforms.Resize((224, 224)),\n",
    "        transforms.ToTensor(),\n",
    "        transforms.Normalize(mean=[0.5], std=[0.5]),\n",
    "    ])\n",
    "\n",
    "\n",
    "# 验证集不进行数据增强，只进行基本的预处理\n",
    "val_transform = transforms.Compose([\n",
    "    transforms.Resize((224, 224)),\n",
    "    transforms.ToTensor(),\n",
    "    transforms.Normalize(mean=[0.5], std=[0.5])\n",
    "])\n",
    "\n",
    "\n",
    "\n",
    "train_data_frame = pd.read_csv(config.final_train_csv_file)\n",
    "val_data_frame = pd.read_csv(config.final_val_csv_file)\n",
    "\n",
    "# 为训练和验证集分别创建不同的 Dataset 实例，并应用不同的 transforms\n",
    "train_dataset = OCTData.OCTData(train_data_frame, root_dir=config.final_root_dir, transform=train_transform)\n",
    "val_dataset = OCTData.OCTData(val_data_frame, root_dir=config.final_root_dir, transform=val_transform)\n",
    "\n",
    "# 创建数据加载器\n",
    "train_loader = DataLoader(train_dataset, batch_size=config.batch_size, shuffle=True)\n",
    "val_loader = DataLoader(val_dataset, batch_size=config.batch_size, shuffle=False)\n",
    "\n",
    "\n",
    "\n",
    "\n",
    "model = OCTClassifier0()\n",
    "\n",
    "device = torch.device(\"cuda:0\" if torch.cuda.is_available() else \"cpu\")\n",
    "model = model.to(device)\n",
    "# checkpoint_path = \"data/model/convnextv2_large_v3/epoch_45_split_0.8_bs_16_lr_5e-07.pth\"\n",
    "# checkpoint = torch.load(checkpoint_path)\n",
    "# model.load_state_dict(checkpoint)\n",
    "\n",
    "criterion = nn.CrossEntropyLoss()\n",
    "optimizer = optim.Adam(model.parameters(), lr=config.lr)    \n",
    "\n",
    "train_model(model, train_loader, val_loader, criterion, optimizer, num_epochs=config.num_epochs)\n",
    "\n",
    "\n",
    "\n",
    "\n"
   ],
   "id": "7fa6fe3bac582df7",
   "outputs": [
    {
     "name": "stderr",
     "output_type": "stream",
     "text": [
      "INFO:albumentations.check_version:A new version of Albumentations is available: 1.4.13 (you have 1.4.12). Upgrade using: pip install -U albumentations. To disable automatic update checks, set the environment variable NO_ALBUMENTATIONS_UPDATE to 1.\n",
      "INFO:timm.models._builder:Loading pretrained weights from Hugging Face hub (timm/convnextv2_large.fcmae_ft_in22k_in1k)\n",
      "INFO:timm.models._hub:[timm/convnextv2_large.fcmae_ft_in22k_in1k] Safe alternative available for 'pytorch_model.bin' (as 'model.safetensors'). Loading weights using safetensors.\n"
     ]
    },
    {
     "name": "stdout",
     "output_type": "stream",
     "text": [
      "Epoch 0/70\n",
      "----------\n"
     ]
    },
    {
     "name": "stderr",
     "output_type": "stream",
     "text": [
      "Training: 100%|██████████| 1065/1065 [07:14<00:00,  2.45it/s]\n"
     ]
    },
    {
     "name": "stdout",
     "output_type": "stream",
     "text": [
      "Loss: 0.7406 Acc: 0.7319\n",
      "Train Accuracy: 0.7319 F1 Score: 0.6921 Spearman Corr: 0.3003 Specificity: 0.8321 Mean Metrics: 0.6082\n"
     ]
    },
    {
     "name": "stderr",
     "output_type": "stream",
     "text": [
      "Validation: 100%|██████████| 280/280 [00:57<00:00,  4.86it/s]\n"
     ]
    },
    {
     "name": "stdout",
     "output_type": "stream",
     "text": [
      "Val Loss: 0.5921 Val Acc: 0.7905\n",
      "Validation Accuracy: 0.7905 F1 Score: 0.7745 Spearman Corr: 0.5320 Specificity: 0.8897 Mean Metrics: 0.7320\n",
      "Epoch 1/70\n",
      "----------\n"
     ]
    },
    {
     "name": "stderr",
     "output_type": "stream",
     "text": [
      "Training: 100%|██████████| 1065/1065 [07:14<00:00,  2.45it/s]\n"
     ]
    },
    {
     "name": "stdout",
     "output_type": "stream",
     "text": [
      "Loss: 0.5170 Acc: 0.8095\n",
      "Train Accuracy: 0.8095 F1 Score: 0.8011 Spearman Corr: 0.5411 Specificity: 0.8963 Mean Metrics: 0.7462\n"
     ]
    },
    {
     "name": "stderr",
     "output_type": "stream",
     "text": [
      "Validation: 100%|██████████| 280/280 [00:56<00:00,  4.94it/s]\n"
     ]
    },
    {
     "name": "stdout",
     "output_type": "stream",
     "text": [
      "Val Loss: 0.5694 Val Acc: 0.7921\n",
      "Validation Accuracy: 0.7921 F1 Score: 0.7658 Spearman Corr: 0.5812 Specificity: 0.8806 Mean Metrics: 0.7425\n",
      "Epoch 2/70\n",
      "----------\n"
     ]
    },
    {
     "name": "stderr",
     "output_type": "stream",
     "text": [
      "Training: 100%|██████████| 1065/1065 [07:16<00:00,  2.44it/s]\n"
     ]
    },
    {
     "name": "stdout",
     "output_type": "stream",
     "text": [
      "Loss: 0.4346 Acc: 0.8436\n",
      "Train Accuracy: 0.8436 F1 Score: 0.8382 Spearman Corr: 0.6516 Specificity: 0.9129 Mean Metrics: 0.8009\n"
     ]
    },
    {
     "name": "stderr",
     "output_type": "stream",
     "text": [
      "Validation: 100%|██████████| 280/280 [00:56<00:00,  4.97it/s]\n"
     ]
    },
    {
     "name": "stdout",
     "output_type": "stream",
     "text": [
      "Val Loss: 0.4442 Val Acc: 0.8310\n",
      "Validation Accuracy: 0.8310 F1 Score: 0.8210 Spearman Corr: 0.6392 Specificity: 0.9129 Mean Metrics: 0.7910\n",
      "Epoch 3/70\n",
      "----------\n"
     ]
    },
    {
     "name": "stderr",
     "output_type": "stream",
     "text": [
      "Training: 100%|██████████| 1065/1065 [07:14<00:00,  2.45it/s]\n"
     ]
    },
    {
     "name": "stdout",
     "output_type": "stream",
     "text": [
      "Loss: 0.3883 Acc: 0.8591\n",
      "Train Accuracy: 0.8591 F1 Score: 0.8551 Spearman Corr: 0.6965 Specificity: 0.9214 Mean Metrics: 0.8243\n"
     ]
    },
    {
     "name": "stderr",
     "output_type": "stream",
     "text": [
      "Validation: 100%|██████████| 280/280 [00:58<00:00,  4.81it/s]\n"
     ]
    },
    {
     "name": "stdout",
     "output_type": "stream",
     "text": [
      "Val Loss: 0.4265 Val Acc: 0.8357\n",
      "Validation Accuracy: 0.8357 F1 Score: 0.8298 Spearman Corr: 0.6625 Specificity: 0.9175 Mean Metrics: 0.8033\n",
      "Epoch 4/70\n",
      "----------\n"
     ]
    },
    {
     "name": "stderr",
     "output_type": "stream",
     "text": [
      "Training: 100%|██████████| 1065/1065 [07:15<00:00,  2.45it/s]\n"
     ]
    },
    {
     "name": "stdout",
     "output_type": "stream",
     "text": [
      "Loss: 0.3428 Acc: 0.8765\n",
      "Train Accuracy: 0.8765 F1 Score: 0.8737 Spearman Corr: 0.7442 Specificity: 0.9304 Mean Metrics: 0.8495\n"
     ]
    },
    {
     "name": "stderr",
     "output_type": "stream",
     "text": [
      "Validation: 100%|██████████| 280/280 [00:57<00:00,  4.91it/s]\n"
     ]
    },
    {
     "name": "stdout",
     "output_type": "stream",
     "text": [
      "Val Loss: 0.4220 Val Acc: 0.8404\n",
      "Validation Accuracy: 0.8404 F1 Score: 0.8330 Spearman Corr: 0.6866 Specificity: 0.9159 Mean Metrics: 0.8119\n",
      "Epoch 5/70\n",
      "----------\n"
     ]
    },
    {
     "name": "stderr",
     "output_type": "stream",
     "text": [
      "Training: 100%|██████████| 1065/1065 [07:06<00:00,  2.50it/s]\n"
     ]
    },
    {
     "name": "stdout",
     "output_type": "stream",
     "text": [
      "Loss: 0.3107 Acc: 0.8880\n",
      "Train Accuracy: 0.8880 F1 Score: 0.8859 Spearman Corr: 0.7761 Specificity: 0.9374 Mean Metrics: 0.8665\n"
     ]
    },
    {
     "name": "stderr",
     "output_type": "stream",
     "text": [
      "Validation: 100%|██████████| 280/280 [00:57<00:00,  4.85it/s]\n"
     ]
    },
    {
     "name": "stdout",
     "output_type": "stream",
     "text": [
      "Val Loss: 0.3957 Val Acc: 0.8545\n",
      "Validation Accuracy: 0.8545 F1 Score: 0.8520 Spearman Corr: 0.7157 Specificity: 0.9315 Mean Metrics: 0.8331\n",
      "Epoch 6/70\n",
      "----------\n"
     ]
    },
    {
     "name": "stderr",
     "output_type": "stream",
     "text": [
      "Training: 100%|██████████| 1065/1065 [07:16<00:00,  2.44it/s]\n"
     ]
    },
    {
     "name": "stdout",
     "output_type": "stream",
     "text": [
      "Loss: 0.2826 Acc: 0.8967\n",
      "Train Accuracy: 0.8967 F1 Score: 0.8949 Spearman Corr: 0.7911 Specificity: 0.9422 Mean Metrics: 0.8761\n"
     ]
    },
    {
     "name": "stderr",
     "output_type": "stream",
     "text": [
      "Validation: 100%|██████████| 280/280 [00:58<00:00,  4.82it/s]\n"
     ]
    },
    {
     "name": "stdout",
     "output_type": "stream",
     "text": [
      "Val Loss: 0.4423 Val Acc: 0.8366\n",
      "Validation Accuracy: 0.8366 F1 Score: 0.8264 Spearman Corr: 0.6774 Specificity: 0.9139 Mean Metrics: 0.8059\n",
      "Epoch 7/70\n",
      "----------\n"
     ]
    },
    {
     "name": "stderr",
     "output_type": "stream",
     "text": [
      "Training: 100%|██████████| 1065/1065 [07:16<00:00,  2.44it/s]\n"
     ]
    },
    {
     "name": "stdout",
     "output_type": "stream",
     "text": [
      "Loss: 0.2669 Acc: 0.9035\n",
      "Train Accuracy: 0.9035 F1 Score: 0.9020 Spearman Corr: 0.8083 Specificity: 0.9460 Mean Metrics: 0.8854\n"
     ]
    },
    {
     "name": "stderr",
     "output_type": "stream",
     "text": [
      "Validation: 100%|██████████| 280/280 [00:56<00:00,  4.97it/s]\n"
     ]
    },
    {
     "name": "stdout",
     "output_type": "stream",
     "text": [
      "Val Loss: 0.4254 Val Acc: 0.8415\n",
      "Validation Accuracy: 0.8415 F1 Score: 0.8331 Spearman Corr: 0.6680 Specificity: 0.9191 Mean Metrics: 0.8067\n",
      "Epoch 8/70\n",
      "----------\n"
     ]
    },
    {
     "name": "stderr",
     "output_type": "stream",
     "text": [
      "Training: 100%|██████████| 1065/1065 [07:16<00:00,  2.44it/s]\n"
     ]
    },
    {
     "name": "stdout",
     "output_type": "stream",
     "text": [
      "Loss: 0.2355 Acc: 0.9162\n",
      "Train Accuracy: 0.9162 F1 Score: 0.9150 Spearman Corr: 0.8360 Specificity: 0.9523 Mean Metrics: 0.9011\n"
     ]
    },
    {
     "name": "stderr",
     "output_type": "stream",
     "text": [
      "Validation: 100%|██████████| 280/280 [00:59<00:00,  4.73it/s]\n"
     ]
    },
    {
     "name": "stdout",
     "output_type": "stream",
     "text": [
      "Val Loss: 0.4228 Val Acc: 0.8504\n",
      "Validation Accuracy: 0.8504 F1 Score: 0.8442 Spearman Corr: 0.6887 Specificity: 0.9233 Mean Metrics: 0.8187\n",
      "Epoch 9/70\n",
      "----------\n"
     ]
    },
    {
     "name": "stderr",
     "output_type": "stream",
     "text": [
      "Training: 100%|██████████| 1065/1065 [07:11<00:00,  2.47it/s]\n"
     ]
    },
    {
     "name": "stdout",
     "output_type": "stream",
     "text": [
      "Loss: 0.2250 Acc: 0.9190\n",
      "Train Accuracy: 0.9190 F1 Score: 0.9181 Spearman Corr: 0.8422 Specificity: 0.9546 Mean Metrics: 0.9049\n"
     ]
    },
    {
     "name": "stderr",
     "output_type": "stream",
     "text": [
      "Validation: 100%|██████████| 280/280 [00:58<00:00,  4.82it/s]\n"
     ]
    },
    {
     "name": "stdout",
     "output_type": "stream",
     "text": [
      "Val Loss: 0.4340 Val Acc: 0.8471\n",
      "Validation Accuracy: 0.8471 F1 Score: 0.8402 Spearman Corr: 0.6931 Specificity: 0.9201 Mean Metrics: 0.8178\n",
      "Epoch 10/70\n",
      "----------\n"
     ]
    },
    {
     "name": "stderr",
     "output_type": "stream",
     "text": [
      "Training: 100%|██████████| 1065/1065 [07:13<00:00,  2.46it/s]\n"
     ]
    },
    {
     "name": "stdout",
     "output_type": "stream",
     "text": [
      "Loss: 0.2058 Acc: 0.9253\n",
      "Train Accuracy: 0.9253 F1 Score: 0.9245 Spearman Corr: 0.8576 Specificity: 0.9578 Mean Metrics: 0.9133\n"
     ]
    },
    {
     "name": "stderr",
     "output_type": "stream",
     "text": [
      "Validation: 100%|██████████| 280/280 [00:58<00:00,  4.80it/s]\n"
     ]
    },
    {
     "name": "stdout",
     "output_type": "stream",
     "text": [
      "Val Loss: 0.4370 Val Acc: 0.8462\n",
      "Validation Accuracy: 0.8462 F1 Score: 0.8398 Spearman Corr: 0.6833 Specificity: 0.9200 Mean Metrics: 0.8144\n",
      "Epoch 11/70\n",
      "----------\n"
     ]
    },
    {
     "name": "stderr",
     "output_type": "stream",
     "text": [
      "Training: 100%|██████████| 1065/1065 [07:04<00:00,  2.51it/s]\n"
     ]
    },
    {
     "name": "stdout",
     "output_type": "stream",
     "text": [
      "Loss: 0.1881 Acc: 0.9343\n",
      "Train Accuracy: 0.9343 F1 Score: 0.9336 Spearman Corr: 0.8744 Specificity: 0.9629 Mean Metrics: 0.9236\n"
     ]
    },
    {
     "name": "stderr",
     "output_type": "stream",
     "text": [
      "Validation: 100%|██████████| 280/280 [00:55<00:00,  5.04it/s]\n"
     ]
    },
    {
     "name": "stdout",
     "output_type": "stream",
     "text": [
      "Val Loss: 0.4506 Val Acc: 0.8498\n",
      "Validation Accuracy: 0.8498 F1 Score: 0.8439 Spearman Corr: 0.6899 Specificity: 0.9231 Mean Metrics: 0.8190\n",
      "Epoch 12/70\n",
      "----------\n"
     ]
    },
    {
     "name": "stderr",
     "output_type": "stream",
     "text": [
      "Training: 100%|██████████| 1065/1065 [07:04<00:00,  2.51it/s]\n"
     ]
    },
    {
     "name": "stdout",
     "output_type": "stream",
     "text": [
      "Loss: 0.1745 Acc: 0.9359\n",
      "Train Accuracy: 0.9359 F1 Score: 0.9354 Spearman Corr: 0.8790 Specificity: 0.9643 Mean Metrics: 0.9262\n"
     ]
    },
    {
     "name": "stderr",
     "output_type": "stream",
     "text": [
      "Validation: 100%|██████████| 280/280 [00:56<00:00,  4.97it/s]\n"
     ]
    },
    {
     "name": "stdout",
     "output_type": "stream",
     "text": [
      "Val Loss: 0.4411 Val Acc: 0.8531\n",
      "Validation Accuracy: 0.8531 F1 Score: 0.8467 Spearman Corr: 0.6979 Specificity: 0.9235 Mean Metrics: 0.8227\n",
      "Epoch 13/70\n",
      "----------\n"
     ]
    },
    {
     "name": "stderr",
     "output_type": "stream",
     "text": [
      "Training: 100%|██████████| 1065/1065 [07:07<00:00,  2.49it/s]\n"
     ]
    },
    {
     "name": "stdout",
     "output_type": "stream",
     "text": [
      "Loss: 0.1651 Acc: 0.9421\n",
      "Train Accuracy: 0.9421 F1 Score: 0.9416 Spearman Corr: 0.8928 Specificity: 0.9674 Mean Metrics: 0.9339\n"
     ]
    },
    {
     "name": "stderr",
     "output_type": "stream",
     "text": [
      "Validation: 100%|██████████| 280/280 [00:56<00:00,  4.99it/s]\n"
     ]
    },
    {
     "name": "stdout",
     "output_type": "stream",
     "text": [
      "Val Loss: 0.4755 Val Acc: 0.8536\n",
      "Validation Accuracy: 0.8536 F1 Score: 0.8472 Spearman Corr: 0.7007 Specificity: 0.9233 Mean Metrics: 0.8237\n",
      "Epoch 14/70\n",
      "----------\n"
     ]
    },
    {
     "name": "stderr",
     "output_type": "stream",
     "text": [
      "Training: 100%|██████████| 1065/1065 [07:04<00:00,  2.51it/s]\n"
     ]
    },
    {
     "name": "stdout",
     "output_type": "stream",
     "text": [
      "Loss: 0.1503 Acc: 0.9461\n",
      "Train Accuracy: 0.9461 F1 Score: 0.9457 Spearman Corr: 0.8972 Specificity: 0.9696 Mean Metrics: 0.9375\n"
     ]
    },
    {
     "name": "stderr",
     "output_type": "stream",
     "text": [
      "Validation: 100%|██████████| 280/280 [00:56<00:00,  4.93it/s]\n"
     ]
    },
    {
     "name": "stdout",
     "output_type": "stream",
     "text": [
      "Val Loss: 0.4828 Val Acc: 0.8502\n",
      "Validation Accuracy: 0.8502 F1 Score: 0.8438 Spearman Corr: 0.6918 Specificity: 0.9253 Mean Metrics: 0.8203\n",
      "Epoch 15/70\n",
      "----------\n"
     ]
    },
    {
     "name": "stderr",
     "output_type": "stream",
     "text": [
      "Training: 100%|██████████| 1065/1065 [07:03<00:00,  2.51it/s]\n"
     ]
    },
    {
     "name": "stdout",
     "output_type": "stream",
     "text": [
      "Loss: 0.1448 Acc: 0.9477\n",
      "Train Accuracy: 0.9477 F1 Score: 0.9473 Spearman Corr: 0.9057 Specificity: 0.9701 Mean Metrics: 0.9410\n"
     ]
    },
    {
     "name": "stderr",
     "output_type": "stream",
     "text": [
      "Validation: 100%|██████████| 280/280 [00:57<00:00,  4.90it/s]\n"
     ]
    },
    {
     "name": "stdout",
     "output_type": "stream",
     "text": [
      "Val Loss: 0.4510 Val Acc: 0.8558\n",
      "Validation Accuracy: 0.8558 F1 Score: 0.8523 Spearman Corr: 0.6980 Specificity: 0.9305 Mean Metrics: 0.8270\n",
      "Epoch 16/70\n",
      "----------\n"
     ]
    },
    {
     "name": "stderr",
     "output_type": "stream",
     "text": [
      "Training: 100%|██████████| 1065/1065 [07:05<00:00,  2.50it/s]\n"
     ]
    },
    {
     "name": "stdout",
     "output_type": "stream",
     "text": [
      "Loss: 0.1353 Acc: 0.9506\n",
      "Train Accuracy: 0.9506 F1 Score: 0.9503 Spearman Corr: 0.9088 Specificity: 0.9723 Mean Metrics: 0.9438\n"
     ]
    },
    {
     "name": "stderr",
     "output_type": "stream",
     "text": [
      "Validation: 100%|██████████| 280/280 [00:56<00:00,  4.99it/s]\n"
     ]
    },
    {
     "name": "stdout",
     "output_type": "stream",
     "text": [
      "Val Loss: 0.4600 Val Acc: 0.8589\n",
      "Validation Accuracy: 0.8589 F1 Score: 0.8541 Spearman Corr: 0.7017 Specificity: 0.9301 Mean Metrics: 0.8286\n",
      "Epoch 17/70\n",
      "----------\n"
     ]
    },
    {
     "name": "stderr",
     "output_type": "stream",
     "text": [
      "Training: 100%|██████████| 1065/1065 [07:03<00:00,  2.51it/s]\n"
     ]
    },
    {
     "name": "stdout",
     "output_type": "stream",
     "text": [
      "Loss: 0.1231 Acc: 0.9550\n",
      "Train Accuracy: 0.9550 F1 Score: 0.9548 Spearman Corr: 0.9146 Specificity: 0.9751 Mean Metrics: 0.9481\n"
     ]
    },
    {
     "name": "stderr",
     "output_type": "stream",
     "text": [
      "Validation: 100%|██████████| 280/280 [00:56<00:00,  4.98it/s]\n"
     ]
    },
    {
     "name": "stdout",
     "output_type": "stream",
     "text": [
      "Val Loss: 0.4666 Val Acc: 0.8592\n",
      "Validation Accuracy: 0.8592 F1 Score: 0.8548 Spearman Corr: 0.7026 Specificity: 0.9306 Mean Metrics: 0.8294\n",
      "Epoch 18/70\n",
      "----------\n"
     ]
    },
    {
     "name": "stderr",
     "output_type": "stream",
     "text": [
      "Training: 100%|██████████| 1065/1065 [07:04<00:00,  2.51it/s]\n"
     ]
    },
    {
     "name": "stdout",
     "output_type": "stream",
     "text": [
      "Loss: 0.1208 Acc: 0.9573\n",
      "Train Accuracy: 0.9573 F1 Score: 0.9570 Spearman Corr: 0.9216 Specificity: 0.9761 Mean Metrics: 0.9516\n"
     ]
    },
    {
     "name": "stderr",
     "output_type": "stream",
     "text": [
      "Validation: 100%|██████████| 280/280 [00:56<00:00,  4.99it/s]\n"
     ]
    },
    {
     "name": "stdout",
     "output_type": "stream",
     "text": [
      "Val Loss: 0.4709 Val Acc: 0.8576\n",
      "Validation Accuracy: 0.8576 F1 Score: 0.8537 Spearman Corr: 0.6980 Specificity: 0.9312 Mean Metrics: 0.8276\n",
      "Epoch 19/70\n",
      "----------\n"
     ]
    },
    {
     "name": "stderr",
     "output_type": "stream",
     "text": [
      "Training: 100%|██████████| 1065/1065 [07:04<00:00,  2.51it/s]\n"
     ]
    },
    {
     "name": "stdout",
     "output_type": "stream",
     "text": [
      "Loss: 0.1163 Acc: 0.9579\n",
      "Train Accuracy: 0.9579 F1 Score: 0.9577 Spearman Corr: 0.9215 Specificity: 0.9767 Mean Metrics: 0.9520\n"
     ]
    },
    {
     "name": "stderr",
     "output_type": "stream",
     "text": [
      "Validation: 100%|██████████| 280/280 [00:56<00:00,  4.97it/s]\n"
     ]
    },
    {
     "name": "stdout",
     "output_type": "stream",
     "text": [
      "Val Loss: 0.5038 Val Acc: 0.8540\n",
      "Validation Accuracy: 0.8540 F1 Score: 0.8482 Spearman Corr: 0.6993 Specificity: 0.9249 Mean Metrics: 0.8241\n",
      "Epoch 20/70\n",
      "----------\n"
     ]
    },
    {
     "name": "stderr",
     "output_type": "stream",
     "text": [
      "Training: 100%|██████████| 1065/1065 [07:05<00:00,  2.50it/s]\n"
     ]
    },
    {
     "name": "stdout",
     "output_type": "stream",
     "text": [
      "Loss: 0.1104 Acc: 0.9607\n",
      "Train Accuracy: 0.9607 F1 Score: 0.9605 Spearman Corr: 0.9282 Specificity: 0.9780 Mean Metrics: 0.9555\n"
     ]
    },
    {
     "name": "stderr",
     "output_type": "stream",
     "text": [
      "Validation: 100%|██████████| 280/280 [00:55<00:00,  5.01it/s]\n"
     ]
    },
    {
     "name": "stdout",
     "output_type": "stream",
     "text": [
      "Val Loss: 0.4922 Val Acc: 0.8504\n",
      "Validation Accuracy: 0.8504 F1 Score: 0.8450 Spearman Corr: 0.6791 Specificity: 0.9256 Mean Metrics: 0.8166\n",
      "Epoch 21/70\n",
      "----------\n"
     ]
    },
    {
     "name": "stderr",
     "output_type": "stream",
     "text": [
      "Training: 100%|██████████| 1065/1065 [07:04<00:00,  2.51it/s]\n"
     ]
    },
    {
     "name": "stdout",
     "output_type": "stream",
     "text": [
      "Loss: 0.1026 Acc: 0.9633\n",
      "Train Accuracy: 0.9633 F1 Score: 0.9632 Spearman Corr: 0.9315 Specificity: 0.9796 Mean Metrics: 0.9581\n"
     ]
    },
    {
     "name": "stderr",
     "output_type": "stream",
     "text": [
      "Validation: 100%|██████████| 280/280 [00:55<00:00,  5.01it/s]\n"
     ]
    },
    {
     "name": "stdout",
     "output_type": "stream",
     "text": [
      "Val Loss: 0.5001 Val Acc: 0.8513\n",
      "Validation Accuracy: 0.8513 F1 Score: 0.8474 Spearman Corr: 0.6905 Specificity: 0.9283 Mean Metrics: 0.8221\n",
      "Epoch 22/70\n",
      "----------\n"
     ]
    },
    {
     "name": "stderr",
     "output_type": "stream",
     "text": [
      "Training: 100%|██████████| 1065/1065 [07:04<00:00,  2.51it/s]\n"
     ]
    },
    {
     "name": "stdout",
     "output_type": "stream",
     "text": [
      "Loss: 0.1031 Acc: 0.9637\n",
      "Train Accuracy: 0.9637 F1 Score: 0.9636 Spearman Corr: 0.9357 Specificity: 0.9797 Mean Metrics: 0.9596\n"
     ]
    },
    {
     "name": "stderr",
     "output_type": "stream",
     "text": [
      "Validation: 100%|██████████| 280/280 [00:55<00:00,  5.01it/s]\n"
     ]
    },
    {
     "name": "stdout",
     "output_type": "stream",
     "text": [
      "Val Loss: 0.5212 Val Acc: 0.8504\n",
      "Validation Accuracy: 0.8504 F1 Score: 0.8439 Spearman Corr: 0.6935 Specificity: 0.9226 Mean Metrics: 0.8200\n",
      "Epoch 23/70\n",
      "----------\n"
     ]
    },
    {
     "name": "stderr",
     "output_type": "stream",
     "text": [
      "Training: 100%|██████████| 1065/1065 [07:04<00:00,  2.51it/s]\n"
     ]
    },
    {
     "name": "stdout",
     "output_type": "stream",
     "text": [
      "Loss: 0.0986 Acc: 0.9655\n",
      "Train Accuracy: 0.9655 F1 Score: 0.9654 Spearman Corr: 0.9381 Specificity: 0.9806 Mean Metrics: 0.9614\n"
     ]
    },
    {
     "name": "stderr",
     "output_type": "stream",
     "text": [
      "Validation: 100%|██████████| 280/280 [00:56<00:00,  4.98it/s]\n"
     ]
    },
    {
     "name": "stdout",
     "output_type": "stream",
     "text": [
      "Val Loss: 0.5307 Val Acc: 0.8511\n",
      "Validation Accuracy: 0.8511 F1 Score: 0.8451 Spearman Corr: 0.6914 Specificity: 0.9241 Mean Metrics: 0.8202\n",
      "Epoch 24/70\n",
      "----------\n"
     ]
    },
    {
     "name": "stderr",
     "output_type": "stream",
     "text": [
      "Training: 100%|██████████| 1065/1065 [07:05<00:00,  2.50it/s]\n"
     ]
    },
    {
     "name": "stdout",
     "output_type": "stream",
     "text": [
      "Loss: 0.0926 Acc: 0.9661\n",
      "Train Accuracy: 0.9661 F1 Score: 0.9660 Spearman Corr: 0.9387 Specificity: 0.9815 Mean Metrics: 0.9621\n"
     ]
    },
    {
     "name": "stderr",
     "output_type": "stream",
     "text": [
      "Validation: 100%|██████████| 280/280 [00:56<00:00,  4.98it/s]\n"
     ]
    },
    {
     "name": "stdout",
     "output_type": "stream",
     "text": [
      "Val Loss: 0.5252 Val Acc: 0.8502\n",
      "Validation Accuracy: 0.8502 F1 Score: 0.8451 Spearman Corr: 0.6971 Specificity: 0.9240 Mean Metrics: 0.8221\n",
      "Epoch 25/70\n",
      "----------\n"
     ]
    },
    {
     "name": "stderr",
     "output_type": "stream",
     "text": [
      "Training: 100%|██████████| 1065/1065 [07:04<00:00,  2.51it/s]\n"
     ]
    },
    {
     "name": "stdout",
     "output_type": "stream",
     "text": [
      "Loss: 0.0891 Acc: 0.9692\n",
      "Train Accuracy: 0.9692 F1 Score: 0.9691 Spearman Corr: 0.9438 Specificity: 0.9830 Mean Metrics: 0.9653\n"
     ]
    },
    {
     "name": "stderr",
     "output_type": "stream",
     "text": [
      "Validation: 100%|██████████| 280/280 [00:56<00:00,  4.96it/s]\n"
     ]
    },
    {
     "name": "stdout",
     "output_type": "stream",
     "text": [
      "Val Loss: 0.5269 Val Acc: 0.8516\n",
      "Validation Accuracy: 0.8516 F1 Score: 0.8461 Spearman Corr: 0.6952 Specificity: 0.9246 Mean Metrics: 0.8220\n",
      "Epoch 26/70\n",
      "----------\n"
     ]
    },
    {
     "name": "stderr",
     "output_type": "stream",
     "text": [
      "Training: 100%|██████████| 1065/1065 [07:05<00:00,  2.51it/s]\n"
     ]
    },
    {
     "name": "stdout",
     "output_type": "stream",
     "text": [
      "Loss: 0.0895 Acc: 0.9691\n",
      "Train Accuracy: 0.9691 F1 Score: 0.9690 Spearman Corr: 0.9424 Specificity: 0.9831 Mean Metrics: 0.9648\n"
     ]
    },
    {
     "name": "stderr",
     "output_type": "stream",
     "text": [
      "Validation: 100%|██████████| 280/280 [00:56<00:00,  4.97it/s]\n"
     ]
    },
    {
     "name": "stdout",
     "output_type": "stream",
     "text": [
      "Val Loss: 0.5190 Val Acc: 0.8529\n",
      "Validation Accuracy: 0.8529 F1 Score: 0.8481 Spearman Corr: 0.6921 Specificity: 0.9277 Mean Metrics: 0.8226\n",
      "Epoch 27/70\n",
      "----------\n"
     ]
    },
    {
     "name": "stderr",
     "output_type": "stream",
     "text": [
      "Training: 100%|██████████| 1065/1065 [07:03<00:00,  2.52it/s]\n"
     ]
    },
    {
     "name": "stdout",
     "output_type": "stream",
     "text": [
      "Loss: 0.0856 Acc: 0.9702\n",
      "Train Accuracy: 0.9702 F1 Score: 0.9701 Spearman Corr: 0.9454 Specificity: 0.9833 Mean Metrics: 0.9663\n"
     ]
    },
    {
     "name": "stderr",
     "output_type": "stream",
     "text": [
      "Validation: 100%|██████████| 280/280 [00:56<00:00,  4.98it/s]\n"
     ]
    },
    {
     "name": "stdout",
     "output_type": "stream",
     "text": [
      "Val Loss: 0.5431 Val Acc: 0.8509\n",
      "Validation Accuracy: 0.8509 F1 Score: 0.8449 Spearman Corr: 0.6924 Specificity: 0.9237 Mean Metrics: 0.8203\n",
      "Epoch 28/70\n",
      "----------\n"
     ]
    },
    {
     "name": "stderr",
     "output_type": "stream",
     "text": [
      "Training: 100%|██████████| 1065/1065 [07:04<00:00,  2.51it/s]\n"
     ]
    },
    {
     "name": "stdout",
     "output_type": "stream",
     "text": [
      "Loss: 0.0829 Acc: 0.9705\n",
      "Train Accuracy: 0.9705 F1 Score: 0.9704 Spearman Corr: 0.9473 Specificity: 0.9834 Mean Metrics: 0.9670\n"
     ]
    },
    {
     "name": "stderr",
     "output_type": "stream",
     "text": [
      "Validation: 100%|██████████| 280/280 [00:55<00:00,  5.02it/s]\n"
     ]
    },
    {
     "name": "stdout",
     "output_type": "stream",
     "text": [
      "Val Loss: 0.5384 Val Acc: 0.8531\n",
      "Validation Accuracy: 0.8531 F1 Score: 0.8471 Spearman Corr: 0.6895 Specificity: 0.9254 Mean Metrics: 0.8207\n",
      "Epoch 29/70\n",
      "----------\n"
     ]
    },
    {
     "name": "stderr",
     "output_type": "stream",
     "text": [
      "Training: 100%|██████████| 1065/1065 [07:05<00:00,  2.50it/s]\n"
     ]
    },
    {
     "name": "stdout",
     "output_type": "stream",
     "text": [
      "Loss: 0.0826 Acc: 0.9722\n",
      "Train Accuracy: 0.9722 F1 Score: 0.9721 Spearman Corr: 0.9532 Specificity: 0.9844 Mean Metrics: 0.9699\n"
     ]
    },
    {
     "name": "stderr",
     "output_type": "stream",
     "text": [
      "Validation: 100%|██████████| 280/280 [00:56<00:00,  5.00it/s]\n"
     ]
    },
    {
     "name": "stdout",
     "output_type": "stream",
     "text": [
      "Val Loss: 0.5402 Val Acc: 0.8504\n",
      "Validation Accuracy: 0.8504 F1 Score: 0.8456 Spearman Corr: 0.6837 Specificity: 0.9262 Mean Metrics: 0.8185\n",
      "Epoch 30/70\n",
      "----------\n"
     ]
    },
    {
     "name": "stderr",
     "output_type": "stream",
     "text": [
      "Training: 100%|██████████| 1065/1065 [07:03<00:00,  2.52it/s]\n"
     ]
    },
    {
     "name": "stdout",
     "output_type": "stream",
     "text": [
      "Loss: 0.0826 Acc: 0.9712\n",
      "Train Accuracy: 0.9712 F1 Score: 0.9711 Spearman Corr: 0.9475 Specificity: 0.9844 Mean Metrics: 0.9677\n"
     ]
    },
    {
     "name": "stderr",
     "output_type": "stream",
     "text": [
      "Validation: 100%|██████████| 280/280 [00:55<00:00,  5.00it/s]\n"
     ]
    },
    {
     "name": "stdout",
     "output_type": "stream",
     "text": [
      "Val Loss: 0.5472 Val Acc: 0.8540\n",
      "Validation Accuracy: 0.8540 F1 Score: 0.8483 Spearman Corr: 0.6872 Specificity: 0.9274 Mean Metrics: 0.8210\n",
      "Epoch 31/70\n",
      "----------\n"
     ]
    },
    {
     "name": "stderr",
     "output_type": "stream",
     "text": [
      "Training: 100%|██████████| 1065/1065 [07:05<00:00,  2.50it/s]\n"
     ]
    },
    {
     "name": "stdout",
     "output_type": "stream",
     "text": [
      "Loss: 0.0811 Acc: 0.9713\n",
      "Train Accuracy: 0.9713 F1 Score: 0.9713 Spearman Corr: 0.9483 Specificity: 0.9842 Mean Metrics: 0.9679\n"
     ]
    },
    {
     "name": "stderr",
     "output_type": "stream",
     "text": [
      "Validation: 100%|██████████| 280/280 [00:55<00:00,  5.01it/s]\n"
     ]
    },
    {
     "name": "stdout",
     "output_type": "stream",
     "text": [
      "Val Loss: 0.5589 Val Acc: 0.8520\n",
      "Validation Accuracy: 0.8520 F1 Score: 0.8460 Spearman Corr: 0.6875 Specificity: 0.9252 Mean Metrics: 0.8195\n",
      "Epoch 32/70\n",
      "----------\n"
     ]
    },
    {
     "name": "stderr",
     "output_type": "stream",
     "text": [
      "Training: 100%|██████████| 1065/1065 [07:04<00:00,  2.51it/s]\n"
     ]
    },
    {
     "name": "stdout",
     "output_type": "stream",
     "text": [
      "Loss: 0.0788 Acc: 0.9741\n",
      "Train Accuracy: 0.9741 F1 Score: 0.9740 Spearman Corr: 0.9550 Specificity: 0.9852 Mean Metrics: 0.9714\n"
     ]
    },
    {
     "name": "stderr",
     "output_type": "stream",
     "text": [
      "Validation: 100%|██████████| 280/280 [00:56<00:00,  4.95it/s]\n"
     ]
    },
    {
     "name": "stdout",
     "output_type": "stream",
     "text": [
      "Val Loss: 0.5473 Val Acc: 0.8513\n",
      "Validation Accuracy: 0.8513 F1 Score: 0.8464 Spearman Corr: 0.6850 Specificity: 0.9266 Mean Metrics: 0.8193\n",
      "Epoch 33/70\n",
      "----------\n"
     ]
    },
    {
     "name": "stderr",
     "output_type": "stream",
     "text": [
      "Training: 100%|██████████| 1065/1065 [07:18<00:00,  2.43it/s]\n"
     ]
    },
    {
     "name": "stdout",
     "output_type": "stream",
     "text": [
      "Loss: 0.0748 Acc: 0.9741\n",
      "Train Accuracy: 0.9741 F1 Score: 0.9740 Spearman Corr: 0.9559 Specificity: 0.9855 Mean Metrics: 0.9718\n"
     ]
    },
    {
     "name": "stderr",
     "output_type": "stream",
     "text": [
      "Validation: 100%|██████████| 280/280 [00:59<00:00,  4.72it/s]\n"
     ]
    },
    {
     "name": "stdout",
     "output_type": "stream",
     "text": [
      "Val Loss: 0.5543 Val Acc: 0.8520\n",
      "Validation Accuracy: 0.8520 F1 Score: 0.8464 Spearman Corr: 0.6883 Specificity: 0.9262 Mean Metrics: 0.8203\n",
      "Epoch 34/70\n",
      "----------\n"
     ]
    },
    {
     "name": "stderr",
     "output_type": "stream",
     "text": [
      "Training: 100%|██████████| 1065/1065 [07:05<00:00,  2.50it/s]\n"
     ]
    },
    {
     "name": "stdout",
     "output_type": "stream",
     "text": [
      "Loss: 0.0764 Acc: 0.9748\n",
      "Train Accuracy: 0.9748 F1 Score: 0.9747 Spearman Corr: 0.9561 Specificity: 0.9859 Mean Metrics: 0.9722\n"
     ]
    },
    {
     "name": "stderr",
     "output_type": "stream",
     "text": [
      "Validation: 100%|██████████| 280/280 [00:55<00:00,  5.02it/s]\n"
     ]
    },
    {
     "name": "stdout",
     "output_type": "stream",
     "text": [
      "Val Loss: 0.5563 Val Acc: 0.8536\n",
      "Validation Accuracy: 0.8536 F1 Score: 0.8481 Spearman Corr: 0.6890 Specificity: 0.9269 Mean Metrics: 0.8213\n",
      "Epoch 35/70\n",
      "----------\n"
     ]
    },
    {
     "name": "stderr",
     "output_type": "stream",
     "text": [
      "Training: 100%|██████████| 1065/1065 [07:07<00:00,  2.49it/s]\n"
     ]
    },
    {
     "name": "stdout",
     "output_type": "stream",
     "text": [
      "Loss: 0.0780 Acc: 0.9736\n",
      "Train Accuracy: 0.9736 F1 Score: 0.9735 Spearman Corr: 0.9532 Specificity: 0.9851 Mean Metrics: 0.9706\n"
     ]
    },
    {
     "name": "stderr",
     "output_type": "stream",
     "text": [
      "Validation: 100%|██████████| 280/280 [00:57<00:00,  4.87it/s]\n"
     ]
    },
    {
     "name": "stdout",
     "output_type": "stream",
     "text": [
      "Val Loss: 0.5624 Val Acc: 0.8513\n",
      "Validation Accuracy: 0.8513 F1 Score: 0.8457 Spearman Corr: 0.6871 Specificity: 0.9258 Mean Metrics: 0.8195\n",
      "Epoch 36/70\n",
      "----------\n"
     ]
    },
    {
     "name": "stderr",
     "output_type": "stream",
     "text": [
      "Training: 100%|██████████| 1065/1065 [07:20<00:00,  2.42it/s]\n"
     ]
    },
    {
     "name": "stdout",
     "output_type": "stream",
     "text": [
      "Loss: 0.0734 Acc: 0.9757\n",
      "Train Accuracy: 0.9757 F1 Score: 0.9756 Spearman Corr: 0.9585 Specificity: 0.9864 Mean Metrics: 0.9735\n"
     ]
    },
    {
     "name": "stderr",
     "output_type": "stream",
     "text": [
      "Validation: 100%|██████████| 280/280 [00:59<00:00,  4.70it/s]\n"
     ]
    },
    {
     "name": "stdout",
     "output_type": "stream",
     "text": [
      "Val Loss: 0.5632 Val Acc: 0.8527\n",
      "Validation Accuracy: 0.8527 F1 Score: 0.8473 Spearman Corr: 0.6831 Specificity: 0.9269 Mean Metrics: 0.8191\n",
      "Epoch 37/70\n",
      "----------\n"
     ]
    },
    {
     "name": "stderr",
     "output_type": "stream",
     "text": [
      "Training: 100%|██████████| 1065/1065 [07:09<00:00,  2.48it/s]\n"
     ]
    },
    {
     "name": "stdout",
     "output_type": "stream",
     "text": [
      "Loss: 0.0729 Acc: 0.9737\n",
      "Train Accuracy: 0.9737 F1 Score: 0.9736 Spearman Corr: 0.9530 Specificity: 0.9857 Mean Metrics: 0.9708\n"
     ]
    },
    {
     "name": "stderr",
     "output_type": "stream",
     "text": [
      "Validation: 100%|██████████| 280/280 [00:56<00:00,  4.97it/s]\n"
     ]
    },
    {
     "name": "stdout",
     "output_type": "stream",
     "text": [
      "Val Loss: 0.5665 Val Acc: 0.8518\n",
      "Validation Accuracy: 0.8518 F1 Score: 0.8464 Spearman Corr: 0.6873 Specificity: 0.9258 Mean Metrics: 0.8199\n",
      "Epoch 38/70\n",
      "----------\n"
     ]
    },
    {
     "name": "stderr",
     "output_type": "stream",
     "text": [
      "Training: 100%|██████████| 1065/1065 [07:15<00:00,  2.45it/s]\n"
     ]
    },
    {
     "name": "stdout",
     "output_type": "stream",
     "text": [
      "Loss: 0.0712 Acc: 0.9742\n",
      "Train Accuracy: 0.9742 F1 Score: 0.9741 Spearman Corr: 0.9535 Specificity: 0.9856 Mean Metrics: 0.9711\n"
     ]
    },
    {
     "name": "stderr",
     "output_type": "stream",
     "text": [
      "Validation: 100%|██████████| 280/280 [00:57<00:00,  4.89it/s]\n"
     ]
    },
    {
     "name": "stdout",
     "output_type": "stream",
     "text": [
      "Val Loss: 0.5671 Val Acc: 0.8524\n",
      "Validation Accuracy: 0.8524 F1 Score: 0.8471 Spearman Corr: 0.6892 Specificity: 0.9259 Mean Metrics: 0.8208\n",
      "Epoch 39/70\n",
      "----------\n"
     ]
    },
    {
     "name": "stderr",
     "output_type": "stream",
     "text": [
      "Training: 100%|██████████| 1065/1065 [07:19<00:00,  2.42it/s]\n"
     ]
    },
    {
     "name": "stdout",
     "output_type": "stream",
     "text": [
      "Loss: 0.0728 Acc: 0.9739\n",
      "Train Accuracy: 0.9739 F1 Score: 0.9738 Spearman Corr: 0.9538 Specificity: 0.9855 Mean Metrics: 0.9710\n"
     ]
    },
    {
     "name": "stderr",
     "output_type": "stream",
     "text": [
      "Validation: 100%|██████████| 280/280 [00:56<00:00,  4.96it/s]\n"
     ]
    },
    {
     "name": "stdout",
     "output_type": "stream",
     "text": [
      "Val Loss: 0.5597 Val Acc: 0.8531\n",
      "Validation Accuracy: 0.8531 F1 Score: 0.8482 Spearman Corr: 0.6887 Specificity: 0.9272 Mean Metrics: 0.8214\n",
      "Epoch 40/70\n",
      "----------\n"
     ]
    },
    {
     "name": "stderr",
     "output_type": "stream",
     "text": [
      "Training: 100%|██████████| 1065/1065 [07:08<00:00,  2.48it/s]\n"
     ]
    },
    {
     "name": "stdout",
     "output_type": "stream",
     "text": [
      "Loss: 0.0703 Acc: 0.9761\n",
      "Train Accuracy: 0.9761 F1 Score: 0.9760 Spearman Corr: 0.9578 Specificity: 0.9866 Mean Metrics: 0.9735\n"
     ]
    },
    {
     "name": "stderr",
     "output_type": "stream",
     "text": [
      "Validation: 100%|██████████| 280/280 [00:57<00:00,  4.90it/s]\n"
     ]
    },
    {
     "name": "stdout",
     "output_type": "stream",
     "text": [
      "Val Loss: 0.5648 Val Acc: 0.8524\n",
      "Validation Accuracy: 0.8524 F1 Score: 0.8471 Spearman Corr: 0.6883 Specificity: 0.9264 Mean Metrics: 0.8206\n",
      "Epoch 41/70\n",
      "----------\n"
     ]
    },
    {
     "name": "stderr",
     "output_type": "stream",
     "text": [
      "Training: 100%|██████████| 1065/1065 [07:06<00:00,  2.50it/s]\n"
     ]
    },
    {
     "name": "stdout",
     "output_type": "stream",
     "text": [
      "Loss: 0.0713 Acc: 0.9758\n",
      "Train Accuracy: 0.9758 F1 Score: 0.9757 Spearman Corr: 0.9582 Specificity: 0.9863 Mean Metrics: 0.9734\n"
     ]
    },
    {
     "name": "stderr",
     "output_type": "stream",
     "text": [
      "Validation: 100%|██████████| 280/280 [00:56<00:00,  4.98it/s]\n"
     ]
    },
    {
     "name": "stdout",
     "output_type": "stream",
     "text": [
      "Val Loss: 0.5570 Val Acc: 0.8538\n",
      "Validation Accuracy: 0.8538 F1 Score: 0.8491 Spearman Corr: 0.6887 Specificity: 0.9279 Mean Metrics: 0.8219\n",
      "Epoch 42/70\n",
      "----------\n"
     ]
    },
    {
     "name": "stderr",
     "output_type": "stream",
     "text": [
      "Training: 100%|██████████| 1065/1065 [07:08<00:00,  2.48it/s]\n"
     ]
    },
    {
     "name": "stdout",
     "output_type": "stream",
     "text": [
      "Loss: 0.0698 Acc: 0.9759\n",
      "Train Accuracy: 0.9759 F1 Score: 0.9759 Spearman Corr: 0.9598 Specificity: 0.9868 Mean Metrics: 0.9742\n"
     ]
    },
    {
     "name": "stderr",
     "output_type": "stream",
     "text": [
      "Validation: 100%|██████████| 280/280 [00:58<00:00,  4.81it/s]\n"
     ]
    },
    {
     "name": "stdout",
     "output_type": "stream",
     "text": [
      "Val Loss: 0.5663 Val Acc: 0.8516\n",
      "Validation Accuracy: 0.8516 F1 Score: 0.8463 Spearman Corr: 0.6881 Specificity: 0.9258 Mean Metrics: 0.8201\n",
      "Epoch 43/70\n",
      "----------\n"
     ]
    },
    {
     "name": "stderr",
     "output_type": "stream",
     "text": [
      "Training: 100%|██████████| 1065/1065 [07:04<00:00,  2.51it/s]\n"
     ]
    },
    {
     "name": "stdout",
     "output_type": "stream",
     "text": [
      "Loss: 0.0688 Acc: 0.9769\n",
      "Train Accuracy: 0.9769 F1 Score: 0.9768 Spearman Corr: 0.9601 Specificity: 0.9869 Mean Metrics: 0.9746\n"
     ]
    },
    {
     "name": "stderr",
     "output_type": "stream",
     "text": [
      "Validation: 100%|██████████| 280/280 [00:55<00:00,  5.01it/s]\n"
     ]
    },
    {
     "name": "stdout",
     "output_type": "stream",
     "text": [
      "Val Loss: 0.5628 Val Acc: 0.8522\n",
      "Validation Accuracy: 0.8522 F1 Score: 0.8470 Spearman Corr: 0.6876 Specificity: 0.9264 Mean Metrics: 0.8204\n",
      "Epoch 44/70\n",
      "----------\n"
     ]
    },
    {
     "name": "stderr",
     "output_type": "stream",
     "text": [
      "Training: 100%|██████████| 1065/1065 [07:13<00:00,  2.46it/s]\n"
     ]
    },
    {
     "name": "stdout",
     "output_type": "stream",
     "text": [
      "Loss: 0.0702 Acc: 0.9755\n",
      "Train Accuracy: 0.9755 F1 Score: 0.9754 Spearman Corr: 0.9560 Specificity: 0.9863 Mean Metrics: 0.9726\n"
     ]
    },
    {
     "name": "stderr",
     "output_type": "stream",
     "text": [
      "Validation: 100%|██████████| 280/280 [00:57<00:00,  4.86it/s]\n"
     ]
    },
    {
     "name": "stdout",
     "output_type": "stream",
     "text": [
      "Val Loss: 0.5637 Val Acc: 0.8527\n",
      "Validation Accuracy: 0.8527 F1 Score: 0.8475 Spearman Corr: 0.6884 Specificity: 0.9267 Mean Metrics: 0.8209\n",
      "Epoch 45/70\n",
      "----------\n"
     ]
    },
    {
     "name": "stderr",
     "output_type": "stream",
     "text": [
      "Training:   3%|▎         | 30/1065 [00:12<07:16,  2.37it/s]\n"
     ]
    },
    {
     "ename": "KeyboardInterrupt",
     "evalue": "",
     "output_type": "error",
     "traceback": [
      "\u001B[0;31m---------------------------------------------------------------------------\u001B[0m",
      "\u001B[0;31mKeyboardInterrupt\u001B[0m                         Traceback (most recent call last)",
      "Cell \u001B[0;32mIn[1], line 87\u001B[0m\n\u001B[1;32m     84\u001B[0m criterion \u001B[38;5;241m=\u001B[39m nn\u001B[38;5;241m.\u001B[39mCrossEntropyLoss()\n\u001B[1;32m     85\u001B[0m optimizer \u001B[38;5;241m=\u001B[39m optim\u001B[38;5;241m.\u001B[39mAdam(model\u001B[38;5;241m.\u001B[39mparameters(), lr\u001B[38;5;241m=\u001B[39mconfig\u001B[38;5;241m.\u001B[39mlr)    \n\u001B[0;32m---> 87\u001B[0m \u001B[43mtrain_model\u001B[49m\u001B[43m(\u001B[49m\u001B[43mmodel\u001B[49m\u001B[43m,\u001B[49m\u001B[43m \u001B[49m\u001B[43mtrain_loader\u001B[49m\u001B[43m,\u001B[49m\u001B[43m \u001B[49m\u001B[43mval_loader\u001B[49m\u001B[43m,\u001B[49m\u001B[43m \u001B[49m\u001B[43mcriterion\u001B[49m\u001B[43m,\u001B[49m\u001B[43m \u001B[49m\u001B[43moptimizer\u001B[49m\u001B[43m,\u001B[49m\u001B[43m \u001B[49m\u001B[43mnum_epochs\u001B[49m\u001B[38;5;241;43m=\u001B[39;49m\u001B[43mconfig\u001B[49m\u001B[38;5;241;43m.\u001B[39;49m\u001B[43mnum_epochs\u001B[49m\u001B[43m)\u001B[49m\n",
      "File \u001B[0;32m~/PycharmProjects/MARIO/training.py:78\u001B[0m, in \u001B[0;36mtrain_model\u001B[0;34m(model, train_loader, val_loader, criterion, optimizer, num_epochs)\u001B[0m\n\u001B[1;32m     75\u001B[0m \u001B[38;5;66;03m# Adding tqdm progress bar for training\u001B[39;00m\n\u001B[1;32m     76\u001B[0m train_loader_tqdm \u001B[38;5;241m=\u001B[39m tqdm(train_loader, desc\u001B[38;5;241m=\u001B[39m\u001B[38;5;124m\"\u001B[39m\u001B[38;5;124mTraining\u001B[39m\u001B[38;5;124m\"\u001B[39m)\n\u001B[0;32m---> 78\u001B[0m \u001B[38;5;28;01mfor\u001B[39;00m samples \u001B[38;5;129;01min\u001B[39;00m train_loader_tqdm:\n\u001B[1;32m     79\u001B[0m     inputs_ti \u001B[38;5;241m=\u001B[39m samples[\u001B[38;5;124m'\u001B[39m\u001B[38;5;124mimage_ti\u001B[39m\u001B[38;5;124m'\u001B[39m]\u001B[38;5;241m.\u001B[39mto(device, dtype\u001B[38;5;241m=\u001B[39mtorch\u001B[38;5;241m.\u001B[39mfloat)\n\u001B[1;32m     80\u001B[0m     inputs_ti_1 \u001B[38;5;241m=\u001B[39m samples[\u001B[38;5;124m'\u001B[39m\u001B[38;5;124mimage_ti_1\u001B[39m\u001B[38;5;124m'\u001B[39m]\u001B[38;5;241m.\u001B[39mto(device, dtype\u001B[38;5;241m=\u001B[39mtorch\u001B[38;5;241m.\u001B[39mfloat)\n",
      "File \u001B[0;32m~/anaconda3/envs/myenv/lib/python3.10/site-packages/tqdm/std.py:1181\u001B[0m, in \u001B[0;36mtqdm.__iter__\u001B[0;34m(self)\u001B[0m\n\u001B[1;32m   1178\u001B[0m time \u001B[38;5;241m=\u001B[39m \u001B[38;5;28mself\u001B[39m\u001B[38;5;241m.\u001B[39m_time\n\u001B[1;32m   1180\u001B[0m \u001B[38;5;28;01mtry\u001B[39;00m:\n\u001B[0;32m-> 1181\u001B[0m     \u001B[38;5;28;01mfor\u001B[39;00m obj \u001B[38;5;129;01min\u001B[39;00m iterable:\n\u001B[1;32m   1182\u001B[0m         \u001B[38;5;28;01myield\u001B[39;00m obj\n\u001B[1;32m   1183\u001B[0m         \u001B[38;5;66;03m# Update and possibly print the progressbar.\u001B[39;00m\n\u001B[1;32m   1184\u001B[0m         \u001B[38;5;66;03m# Note: does not call self.update(1) for speed optimisation.\u001B[39;00m\n",
      "File \u001B[0;32m~/anaconda3/envs/myenv/lib/python3.10/site-packages/torch/utils/data/dataloader.py:631\u001B[0m, in \u001B[0;36m_BaseDataLoaderIter.__next__\u001B[0;34m(self)\u001B[0m\n\u001B[1;32m    628\u001B[0m \u001B[38;5;28;01mif\u001B[39;00m \u001B[38;5;28mself\u001B[39m\u001B[38;5;241m.\u001B[39m_sampler_iter \u001B[38;5;129;01mis\u001B[39;00m \u001B[38;5;28;01mNone\u001B[39;00m:\n\u001B[1;32m    629\u001B[0m     \u001B[38;5;66;03m# TODO(https://github.com/pytorch/pytorch/issues/76750)\u001B[39;00m\n\u001B[1;32m    630\u001B[0m     \u001B[38;5;28mself\u001B[39m\u001B[38;5;241m.\u001B[39m_reset()  \u001B[38;5;66;03m# type: ignore[call-arg]\u001B[39;00m\n\u001B[0;32m--> 631\u001B[0m data \u001B[38;5;241m=\u001B[39m \u001B[38;5;28;43mself\u001B[39;49m\u001B[38;5;241;43m.\u001B[39;49m\u001B[43m_next_data\u001B[49m\u001B[43m(\u001B[49m\u001B[43m)\u001B[49m\n\u001B[1;32m    632\u001B[0m \u001B[38;5;28mself\u001B[39m\u001B[38;5;241m.\u001B[39m_num_yielded \u001B[38;5;241m+\u001B[39m\u001B[38;5;241m=\u001B[39m \u001B[38;5;241m1\u001B[39m\n\u001B[1;32m    633\u001B[0m \u001B[38;5;28;01mif\u001B[39;00m \u001B[38;5;28mself\u001B[39m\u001B[38;5;241m.\u001B[39m_dataset_kind \u001B[38;5;241m==\u001B[39m _DatasetKind\u001B[38;5;241m.\u001B[39mIterable \u001B[38;5;129;01mand\u001B[39;00m \\\n\u001B[1;32m    634\u001B[0m         \u001B[38;5;28mself\u001B[39m\u001B[38;5;241m.\u001B[39m_IterableDataset_len_called \u001B[38;5;129;01mis\u001B[39;00m \u001B[38;5;129;01mnot\u001B[39;00m \u001B[38;5;28;01mNone\u001B[39;00m \u001B[38;5;129;01mand\u001B[39;00m \\\n\u001B[1;32m    635\u001B[0m         \u001B[38;5;28mself\u001B[39m\u001B[38;5;241m.\u001B[39m_num_yielded \u001B[38;5;241m>\u001B[39m \u001B[38;5;28mself\u001B[39m\u001B[38;5;241m.\u001B[39m_IterableDataset_len_called:\n",
      "File \u001B[0;32m~/anaconda3/envs/myenv/lib/python3.10/site-packages/torch/utils/data/dataloader.py:675\u001B[0m, in \u001B[0;36m_SingleProcessDataLoaderIter._next_data\u001B[0;34m(self)\u001B[0m\n\u001B[1;32m    673\u001B[0m \u001B[38;5;28;01mdef\u001B[39;00m \u001B[38;5;21m_next_data\u001B[39m(\u001B[38;5;28mself\u001B[39m):\n\u001B[1;32m    674\u001B[0m     index \u001B[38;5;241m=\u001B[39m \u001B[38;5;28mself\u001B[39m\u001B[38;5;241m.\u001B[39m_next_index()  \u001B[38;5;66;03m# may raise StopIteration\u001B[39;00m\n\u001B[0;32m--> 675\u001B[0m     data \u001B[38;5;241m=\u001B[39m \u001B[38;5;28;43mself\u001B[39;49m\u001B[38;5;241;43m.\u001B[39;49m\u001B[43m_dataset_fetcher\u001B[49m\u001B[38;5;241;43m.\u001B[39;49m\u001B[43mfetch\u001B[49m\u001B[43m(\u001B[49m\u001B[43mindex\u001B[49m\u001B[43m)\u001B[49m  \u001B[38;5;66;03m# may raise StopIteration\u001B[39;00m\n\u001B[1;32m    676\u001B[0m     \u001B[38;5;28;01mif\u001B[39;00m \u001B[38;5;28mself\u001B[39m\u001B[38;5;241m.\u001B[39m_pin_memory:\n\u001B[1;32m    677\u001B[0m         data \u001B[38;5;241m=\u001B[39m _utils\u001B[38;5;241m.\u001B[39mpin_memory\u001B[38;5;241m.\u001B[39mpin_memory(data, \u001B[38;5;28mself\u001B[39m\u001B[38;5;241m.\u001B[39m_pin_memory_device)\n",
      "File \u001B[0;32m~/anaconda3/envs/myenv/lib/python3.10/site-packages/torch/utils/data/_utils/fetch.py:51\u001B[0m, in \u001B[0;36m_MapDatasetFetcher.fetch\u001B[0;34m(self, possibly_batched_index)\u001B[0m\n\u001B[1;32m     49\u001B[0m         data \u001B[38;5;241m=\u001B[39m \u001B[38;5;28mself\u001B[39m\u001B[38;5;241m.\u001B[39mdataset\u001B[38;5;241m.\u001B[39m__getitems__(possibly_batched_index)\n\u001B[1;32m     50\u001B[0m     \u001B[38;5;28;01melse\u001B[39;00m:\n\u001B[0;32m---> 51\u001B[0m         data \u001B[38;5;241m=\u001B[39m [\u001B[38;5;28mself\u001B[39m\u001B[38;5;241m.\u001B[39mdataset[idx] \u001B[38;5;28;01mfor\u001B[39;00m idx \u001B[38;5;129;01min\u001B[39;00m possibly_batched_index]\n\u001B[1;32m     52\u001B[0m \u001B[38;5;28;01melse\u001B[39;00m:\n\u001B[1;32m     53\u001B[0m     data \u001B[38;5;241m=\u001B[39m \u001B[38;5;28mself\u001B[39m\u001B[38;5;241m.\u001B[39mdataset[possibly_batched_index]\n",
      "File \u001B[0;32m~/anaconda3/envs/myenv/lib/python3.10/site-packages/torch/utils/data/_utils/fetch.py:51\u001B[0m, in \u001B[0;36m<listcomp>\u001B[0;34m(.0)\u001B[0m\n\u001B[1;32m     49\u001B[0m         data \u001B[38;5;241m=\u001B[39m \u001B[38;5;28mself\u001B[39m\u001B[38;5;241m.\u001B[39mdataset\u001B[38;5;241m.\u001B[39m__getitems__(possibly_batched_index)\n\u001B[1;32m     50\u001B[0m     \u001B[38;5;28;01melse\u001B[39;00m:\n\u001B[0;32m---> 51\u001B[0m         data \u001B[38;5;241m=\u001B[39m [\u001B[38;5;28;43mself\u001B[39;49m\u001B[38;5;241;43m.\u001B[39;49m\u001B[43mdataset\u001B[49m\u001B[43m[\u001B[49m\u001B[43midx\u001B[49m\u001B[43m]\u001B[49m \u001B[38;5;28;01mfor\u001B[39;00m idx \u001B[38;5;129;01min\u001B[39;00m possibly_batched_index]\n\u001B[1;32m     52\u001B[0m \u001B[38;5;28;01melse\u001B[39;00m:\n\u001B[1;32m     53\u001B[0m     data \u001B[38;5;241m=\u001B[39m \u001B[38;5;28mself\u001B[39m\u001B[38;5;241m.\u001B[39mdataset[possibly_batched_index]\n",
      "File \u001B[0;32m~/PycharmProjects/MARIO/OCTData.py:21\u001B[0m, in \u001B[0;36mOCTData.__getitem__\u001B[0;34m(self, idx)\u001B[0m\n\u001B[1;32m     18\u001B[0m img_name_ti_1 \u001B[38;5;241m=\u001B[39m os\u001B[38;5;241m.\u001B[39mpath\u001B[38;5;241m.\u001B[39mjoin(\u001B[38;5;28mself\u001B[39m\u001B[38;5;241m.\u001B[39mroot_dir, \u001B[38;5;28mself\u001B[39m\u001B[38;5;241m.\u001B[39mdata_frame\u001B[38;5;241m.\u001B[39miloc[idx, \u001B[38;5;241m4\u001B[39m])\n\u001B[1;32m     20\u001B[0m image_ti \u001B[38;5;241m=\u001B[39m Image\u001B[38;5;241m.\u001B[39mopen(img_name_ti)\u001B[38;5;241m.\u001B[39mconvert(\u001B[38;5;124m'\u001B[39m\u001B[38;5;124mL\u001B[39m\u001B[38;5;124m'\u001B[39m)  \u001B[38;5;66;03m# 灰度图\u001B[39;00m\n\u001B[0;32m---> 21\u001B[0m image_ti_1 \u001B[38;5;241m=\u001B[39m \u001B[43mImage\u001B[49m\u001B[38;5;241;43m.\u001B[39;49m\u001B[43mopen\u001B[49m\u001B[43m(\u001B[49m\u001B[43mimg_name_ti_1\u001B[49m\u001B[43m)\u001B[49m\u001B[38;5;241;43m.\u001B[39;49m\u001B[43mconvert\u001B[49m\u001B[43m(\u001B[49m\u001B[38;5;124;43m'\u001B[39;49m\u001B[38;5;124;43mL\u001B[39;49m\u001B[38;5;124;43m'\u001B[39;49m\u001B[43m)\u001B[49m  \u001B[38;5;66;03m# 灰度图\u001B[39;00m\n\u001B[1;32m     23\u001B[0m \u001B[38;5;28;01mif\u001B[39;00m \u001B[38;5;28mself\u001B[39m\u001B[38;5;241m.\u001B[39mtransform:\n\u001B[1;32m     24\u001B[0m     image_ti \u001B[38;5;241m=\u001B[39m \u001B[38;5;28mself\u001B[39m\u001B[38;5;241m.\u001B[39mtransform(image_ti)\n",
      "File \u001B[0;32m~/anaconda3/envs/myenv/lib/python3.10/site-packages/PIL/Image.py:941\u001B[0m, in \u001B[0;36mImage.convert\u001B[0;34m(self, mode, matrix, dither, palette, colors)\u001B[0m\n\u001B[1;32m    889\u001B[0m \u001B[38;5;28;01mdef\u001B[39;00m \u001B[38;5;21mconvert\u001B[39m(\n\u001B[1;32m    890\u001B[0m     \u001B[38;5;28mself\u001B[39m,\n\u001B[1;32m    891\u001B[0m     mode: \u001B[38;5;28mstr\u001B[39m \u001B[38;5;241m|\u001B[39m \u001B[38;5;28;01mNone\u001B[39;00m \u001B[38;5;241m=\u001B[39m \u001B[38;5;28;01mNone\u001B[39;00m,\n\u001B[0;32m   (...)\u001B[0m\n\u001B[1;32m    895\u001B[0m     colors: \u001B[38;5;28mint\u001B[39m \u001B[38;5;241m=\u001B[39m \u001B[38;5;241m256\u001B[39m,\n\u001B[1;32m    896\u001B[0m ) \u001B[38;5;241m-\u001B[39m\u001B[38;5;241m>\u001B[39m Image:\n\u001B[1;32m    897\u001B[0m \u001B[38;5;250m    \u001B[39m\u001B[38;5;124;03m\"\"\"\u001B[39;00m\n\u001B[1;32m    898\u001B[0m \u001B[38;5;124;03m    Returns a converted copy of this image. For the \"P\" mode, this\u001B[39;00m\n\u001B[1;32m    899\u001B[0m \u001B[38;5;124;03m    method translates pixels through the palette.  If mode is\u001B[39;00m\n\u001B[0;32m   (...)\u001B[0m\n\u001B[1;32m    938\u001B[0m \u001B[38;5;124;03m    :returns: An :py:class:`~PIL.Image.Image` object.\u001B[39;00m\n\u001B[1;32m    939\u001B[0m \u001B[38;5;124;03m    \"\"\"\u001B[39;00m\n\u001B[0;32m--> 941\u001B[0m     \u001B[38;5;28;43mself\u001B[39;49m\u001B[38;5;241;43m.\u001B[39;49m\u001B[43mload\u001B[49m\u001B[43m(\u001B[49m\u001B[43m)\u001B[49m\n\u001B[1;32m    943\u001B[0m     has_transparency \u001B[38;5;241m=\u001B[39m \u001B[38;5;124m\"\u001B[39m\u001B[38;5;124mtransparency\u001B[39m\u001B[38;5;124m\"\u001B[39m \u001B[38;5;129;01min\u001B[39;00m \u001B[38;5;28mself\u001B[39m\u001B[38;5;241m.\u001B[39minfo\n\u001B[1;32m    944\u001B[0m     \u001B[38;5;28;01mif\u001B[39;00m \u001B[38;5;129;01mnot\u001B[39;00m mode \u001B[38;5;129;01mand\u001B[39;00m \u001B[38;5;28mself\u001B[39m\u001B[38;5;241m.\u001B[39mmode \u001B[38;5;241m==\u001B[39m \u001B[38;5;124m\"\u001B[39m\u001B[38;5;124mP\u001B[39m\u001B[38;5;124m\"\u001B[39m:\n\u001B[1;32m    945\u001B[0m         \u001B[38;5;66;03m# determine default mode\u001B[39;00m\n",
      "File \u001B[0;32m~/anaconda3/envs/myenv/lib/python3.10/site-packages/PIL/ImageFile.py:291\u001B[0m, in \u001B[0;36mImageFile.load\u001B[0;34m(self)\u001B[0m\n\u001B[1;32m    288\u001B[0m         \u001B[38;5;28;01mraise\u001B[39;00m \u001B[38;5;167;01mOSError\u001B[39;00m(msg)\n\u001B[1;32m    290\u001B[0m b \u001B[38;5;241m=\u001B[39m b \u001B[38;5;241m+\u001B[39m s\n\u001B[0;32m--> 291\u001B[0m n, err_code \u001B[38;5;241m=\u001B[39m \u001B[43mdecoder\u001B[49m\u001B[38;5;241;43m.\u001B[39;49m\u001B[43mdecode\u001B[49m\u001B[43m(\u001B[49m\u001B[43mb\u001B[49m\u001B[43m)\u001B[49m\n\u001B[1;32m    292\u001B[0m \u001B[38;5;28;01mif\u001B[39;00m n \u001B[38;5;241m<\u001B[39m \u001B[38;5;241m0\u001B[39m:\n\u001B[1;32m    293\u001B[0m     \u001B[38;5;28;01mbreak\u001B[39;00m\n",
      "\u001B[0;31mKeyboardInterrupt\u001B[0m: "
     ]
    }
   ],
   "execution_count": 1
  },
  {
   "metadata": {
    "ExecuteTime": {
     "end_time": "2024-08-08T12:17:21.961139Z",
     "start_time": "2024-08-08T09:29:15.356808Z"
    }
   },
   "cell_type": "code",
   "source": [
    "import pandas as pd\n",
    "import random\n",
    "\n",
    "import torch\n",
    "import torch.nn as nn\n",
    "import torch.optim as optim\n",
    "import numpy as np\n",
    "from torch.utils.data import DataLoader, random_split\n",
    "from torchvision import transforms, models\n",
    "import OCTData\n",
    "from evaluate import evaluate_model\n",
    "from models import OCTClassifier0\n",
    "from training import train_model\n",
    "from config import config\n",
    "from torchvision.transforms import AutoAugment, RandAugment, AutoAugmentPolicy, InterpolationMode\n",
    "from albumentations.pytorch import ToTensorV2\n",
    "\n",
    "def set_seed(seed):\n",
    "    random.seed(seed)\n",
    "    np.random.seed(seed)\n",
    "    torch.manual_seed(seed)\n",
    "    if torch.cuda.is_available():\n",
    "        torch.cuda.manual_seed(seed)\n",
    "        torch.cuda.manual_seed_all(seed)\n",
    "    torch.backends.cudnn.deterministic = True\n",
    "    torch.backends.cudnn.benchmark = False\n",
    "    generator = torch.Generator().manual_seed(seed)\n",
    "    return generator\n",
    "\n",
    "\n",
    "\n",
    "generator= set_seed(config.seed)  # 你可以选择任何整数作为种子\n",
    "\n",
    "transform = transforms.Compose([\n",
    "    # SquarePad(),  # 填充到正方形\n",
    "    transforms.Resize((224, 224)),\n",
    "    transforms.ToTensor(),\n",
    "    transforms.Normalize(mean=[0.5], std=[0.5]), # ??\n",
    "])\n",
    "\n",
    "#aug3 more\n",
    "train_transform = transforms.Compose([\n",
    "        transforms.RandomApply([transforms.ColorJitter(brightness=0.25, contrast=0.25)], p=0.25),\n",
    "        transforms.RandomApply([transforms.GaussianBlur(kernel_size=(5, 9), sigma=(0.1, 5))], p=0.15),\n",
    "        transforms.RandomAffine(degrees=25, scale=(0.8, 1.2), translate=(0.1, 0.1)),\n",
    "        transforms.RandomHorizontalFlip(p=0.3),\n",
    "        transforms.Resize((224, 224)),\n",
    "        transforms.ToTensor(),\n",
    "        transforms.Normalize(mean=[0.5], std=[0.5]),\n",
    "    ])\n",
    "\n",
    "\n",
    "# 验证集不进行数据增强，只进行基本的预处理\n",
    "val_transform = transforms.Compose([\n",
    "    transforms.Resize((224, 224)),\n",
    "    transforms.ToTensor(),\n",
    "    transforms.Normalize(mean=[0.5], std=[0.5])\n",
    "])\n",
    "\n",
    "\n",
    "\n",
    "train_data_frame = pd.read_csv(config.final_train_csv_file)\n",
    "val_data_frame = pd.read_csv(config.final_val_csv_file)\n",
    "\n",
    "# 为训练和验证集分别创建不同的 Dataset 实例，并应用不同的 transforms\n",
    "train_dataset = OCTData.OCTData(train_data_frame, root_dir=config.final_root_dir, transform=train_transform)\n",
    "val_dataset = OCTData.OCTData(val_data_frame, root_dir=config.final_root_dir, transform=val_transform)\n",
    "\n",
    "# 创建数据加载器\n",
    "train_loader = DataLoader(train_dataset, batch_size=config.batch_size, shuffle=True)\n",
    "val_loader = DataLoader(val_dataset, batch_size=config.batch_size, shuffle=False)\n",
    "\n",
    "\n",
    "\n",
    "\n",
    "model = OCTClassifier0()\n",
    "\n",
    "device = torch.device(\"cuda:0\" if torch.cuda.is_available() else \"cpu\")\n",
    "model = model.to(device)\n",
    "# checkpoint_path = \"data/model/convnextv2_large_v3/epoch_45_split_0.8_bs_16_lr_5e-07.pth\"\n",
    "# checkpoint = torch.load(checkpoint_path)\n",
    "# model.load_state_dict(checkpoint)\n",
    "\n",
    "criterion = nn.CrossEntropyLoss()\n",
    "optimizer = optim.Adam(model.parameters(), lr=config.lr)    \n",
    "\n",
    "train_model(model, train_loader, val_loader, criterion, optimizer, num_epochs=config.num_epochs)\n",
    "\n",
    "\n",
    "\n",
    "\n"
   ],
   "id": "180b85957033182d",
   "outputs": [
    {
     "name": "stderr",
     "output_type": "stream",
     "text": [
      "INFO:albumentations.check_version:A new version of Albumentations is available: 1.4.13 (you have 1.4.12). Upgrade using: pip install -U albumentations. To disable automatic update checks, set the environment variable NO_ALBUMENTATIONS_UPDATE to 1.\n",
      "INFO:timm.models._builder:Loading pretrained weights from Hugging Face hub (timm/convnextv2_large.fcmae_ft_in22k_in1k)\n",
      "INFO:timm.models._hub:[timm/convnextv2_large.fcmae_ft_in22k_in1k] Safe alternative available for 'pytorch_model.bin' (as 'model.safetensors'). Loading weights using safetensors.\n"
     ]
    },
    {
     "name": "stdout",
     "output_type": "stream",
     "text": [
      "Epoch 0/60\n",
      "----------\n"
     ]
    },
    {
     "name": "stderr",
     "output_type": "stream",
     "text": [
      "Training: 100%|██████████| 1067/1067 [07:56<00:00,  2.24it/s]\n"
     ]
    },
    {
     "name": "stdout",
     "output_type": "stream",
     "text": [
      "Loss: 0.7112 Acc: 0.7390\n",
      "Train Accuracy: 0.7390 F1 Score: 0.7083 Spearman Corr: 0.3654 Specificity: 0.8412 Mean Metrics: 0.6383\n"
     ]
    },
    {
     "name": "stderr",
     "output_type": "stream",
     "text": [
      "Validation: 100%|██████████| 278/278 [00:59<00:00,  4.64it/s]\n"
     ]
    },
    {
     "name": "stdout",
     "output_type": "stream",
     "text": [
      "Val Loss: 0.5551 Val Acc: 0.7937\n",
      "Validation Accuracy: 0.7937 F1 Score: 0.7747 Spearman Corr: 0.5216 Specificity: 0.8794 Mean Metrics: 0.7252\n",
      "Epoch 1/60\n",
      "----------\n"
     ]
    },
    {
     "name": "stderr",
     "output_type": "stream",
     "text": [
      "Training: 100%|██████████| 1067/1067 [07:16<00:00,  2.44it/s]\n"
     ]
    },
    {
     "name": "stdout",
     "output_type": "stream",
     "text": [
      "Loss: 0.4644 Acc: 0.8328\n",
      "Train Accuracy: 0.8328 F1 Score: 0.8276 Spearman Corr: 0.6346 Specificity: 0.9098 Mean Metrics: 0.7907\n"
     ]
    },
    {
     "name": "stderr",
     "output_type": "stream",
     "text": [
      "Validation: 100%|██████████| 278/278 [00:55<00:00,  4.99it/s]\n"
     ]
    },
    {
     "name": "stdout",
     "output_type": "stream",
     "text": [
      "Val Loss: 0.4888 Val Acc: 0.8272\n",
      "Validation Accuracy: 0.8272 F1 Score: 0.8146 Spearman Corr: 0.6175 Specificity: 0.8960 Mean Metrics: 0.7760\n",
      "Epoch 2/60\n",
      "----------\n"
     ]
    },
    {
     "name": "stderr",
     "output_type": "stream",
     "text": [
      "Training: 100%|██████████| 1067/1067 [07:19<00:00,  2.43it/s]\n"
     ]
    },
    {
     "name": "stdout",
     "output_type": "stream",
     "text": [
      "Loss: 0.3827 Acc: 0.8634\n",
      "Train Accuracy: 0.8634 F1 Score: 0.8601 Spearman Corr: 0.7189 Specificity: 0.9251 Mean Metrics: 0.8347\n"
     ]
    },
    {
     "name": "stderr",
     "output_type": "stream",
     "text": [
      "Validation: 100%|██████████| 278/278 [00:55<00:00,  5.01it/s]\n"
     ]
    },
    {
     "name": "stdout",
     "output_type": "stream",
     "text": [
      "Val Loss: 0.4341 Val Acc: 0.8382\n",
      "Validation Accuracy: 0.8382 F1 Score: 0.8350 Spearman Corr: 0.6615 Specificity: 0.9190 Mean Metrics: 0.8052\n",
      "Epoch 3/60\n",
      "----------\n"
     ]
    },
    {
     "name": "stderr",
     "output_type": "stream",
     "text": [
      "Training: 100%|██████████| 1067/1067 [07:21<00:00,  2.42it/s]\n"
     ]
    },
    {
     "name": "stdout",
     "output_type": "stream",
     "text": [
      "Loss: 0.3368 Acc: 0.8747\n",
      "Train Accuracy: 0.8747 F1 Score: 0.8724 Spearman Corr: 0.7475 Specificity: 0.9322 Mean Metrics: 0.8507\n"
     ]
    },
    {
     "name": "stderr",
     "output_type": "stream",
     "text": [
      "Validation: 100%|██████████| 278/278 [00:55<00:00,  4.99it/s]\n"
     ]
    },
    {
     "name": "stdout",
     "output_type": "stream",
     "text": [
      "Val Loss: 0.4409 Val Acc: 0.8342\n",
      "Validation Accuracy: 0.8342 F1 Score: 0.8264 Spearman Corr: 0.6373 Specificity: 0.9089 Mean Metrics: 0.7909\n",
      "Epoch 4/60\n",
      "----------\n"
     ]
    },
    {
     "name": "stderr",
     "output_type": "stream",
     "text": [
      "Training: 100%|██████████| 1067/1067 [07:19<00:00,  2.43it/s]\n"
     ]
    },
    {
     "name": "stdout",
     "output_type": "stream",
     "text": [
      "Loss: 0.2846 Acc: 0.8954\n",
      "Train Accuracy: 0.8954 F1 Score: 0.8939 Spearman Corr: 0.8034 Specificity: 0.9424 Mean Metrics: 0.8799\n"
     ]
    },
    {
     "name": "stderr",
     "output_type": "stream",
     "text": [
      "Validation: 100%|██████████| 278/278 [00:56<00:00,  4.96it/s]\n"
     ]
    },
    {
     "name": "stdout",
     "output_type": "stream",
     "text": [
      "Val Loss: 0.4306 Val Acc: 0.8418\n",
      "Validation Accuracy: 0.8418 F1 Score: 0.8329 Spearman Corr: 0.6630 Specificity: 0.9090 Mean Metrics: 0.8016\n",
      "Epoch 5/60\n",
      "----------\n"
     ]
    },
    {
     "name": "stderr",
     "output_type": "stream",
     "text": [
      "Training: 100%|██████████| 1067/1067 [07:20<00:00,  2.42it/s]\n"
     ]
    },
    {
     "name": "stdout",
     "output_type": "stream",
     "text": [
      "Loss: 0.2545 Acc: 0.9067\n",
      "Train Accuracy: 0.9067 F1 Score: 0.9056 Spearman Corr: 0.8261 Specificity: 0.9491 Mean Metrics: 0.8936\n"
     ]
    },
    {
     "name": "stderr",
     "output_type": "stream",
     "text": [
      "Validation: 100%|██████████| 278/278 [00:55<00:00,  5.01it/s]\n"
     ]
    },
    {
     "name": "stdout",
     "output_type": "stream",
     "text": [
      "Val Loss: 0.4650 Val Acc: 0.8445\n",
      "Validation Accuracy: 0.8445 F1 Score: 0.8354 Spearman Corr: 0.6461 Specificity: 0.9136 Mean Metrics: 0.7984\n",
      "Epoch 6/60\n",
      "----------\n"
     ]
    },
    {
     "name": "stderr",
     "output_type": "stream",
     "text": [
      "Training: 100%|██████████| 1067/1067 [07:18<00:00,  2.44it/s]\n"
     ]
    },
    {
     "name": "stdout",
     "output_type": "stream",
     "text": [
      "Loss: 0.2181 Acc: 0.9208\n",
      "Train Accuracy: 0.9208 F1 Score: 0.9200 Spearman Corr: 0.8565 Specificity: 0.9565 Mean Metrics: 0.9110\n"
     ]
    },
    {
     "name": "stderr",
     "output_type": "stream",
     "text": [
      "Validation: 100%|██████████| 278/278 [00:55<00:00,  5.00it/s]\n"
     ]
    },
    {
     "name": "stdout",
     "output_type": "stream",
     "text": [
      "Val Loss: 0.4450 Val Acc: 0.8481\n",
      "Validation Accuracy: 0.8481 F1 Score: 0.8421 Spearman Corr: 0.6780 Specificity: 0.9177 Mean Metrics: 0.8126\n",
      "Epoch 7/60\n",
      "----------\n"
     ]
    },
    {
     "name": "stderr",
     "output_type": "stream",
     "text": [
      "Training: 100%|██████████| 1067/1067 [07:19<00:00,  2.43it/s]\n"
     ]
    },
    {
     "name": "stdout",
     "output_type": "stream",
     "text": [
      "Loss: 0.1953 Acc: 0.9288\n",
      "Train Accuracy: 0.9288 F1 Score: 0.9282 Spearman Corr: 0.8695 Specificity: 0.9610 Mean Metrics: 0.9195\n"
     ]
    },
    {
     "name": "stderr",
     "output_type": "stream",
     "text": [
      "Validation: 100%|██████████| 278/278 [00:56<00:00,  4.94it/s]\n"
     ]
    },
    {
     "name": "stdout",
     "output_type": "stream",
     "text": [
      "Val Loss: 0.4921 Val Acc: 0.8466\n",
      "Validation Accuracy: 0.8466 F1 Score: 0.8371 Spearman Corr: 0.6810 Specificity: 0.9107 Mean Metrics: 0.8096\n",
      "Epoch 8/60\n",
      "----------\n"
     ]
    },
    {
     "name": "stderr",
     "output_type": "stream",
     "text": [
      "Training: 100%|██████████| 1067/1067 [07:15<00:00,  2.45it/s]\n"
     ]
    },
    {
     "name": "stdout",
     "output_type": "stream",
     "text": [
      "Loss: 0.1652 Acc: 0.9404\n",
      "Train Accuracy: 0.9404 F1 Score: 0.9400 Spearman Corr: 0.8956 Specificity: 0.9675 Mean Metrics: 0.9344\n"
     ]
    },
    {
     "name": "stderr",
     "output_type": "stream",
     "text": [
      "Validation: 100%|██████████| 278/278 [00:54<00:00,  5.08it/s]\n"
     ]
    },
    {
     "name": "stdout",
     "output_type": "stream",
     "text": [
      "Val Loss: 0.4840 Val Acc: 0.8502\n",
      "Validation Accuracy: 0.8502 F1 Score: 0.8435 Spearman Corr: 0.6940 Specificity: 0.9161 Mean Metrics: 0.8178\n",
      "Epoch 9/60\n",
      "----------\n"
     ]
    },
    {
     "name": "stderr",
     "output_type": "stream",
     "text": [
      "Training: 100%|██████████| 1067/1067 [07:11<00:00,  2.47it/s]\n"
     ]
    },
    {
     "name": "stdout",
     "output_type": "stream",
     "text": [
      "Loss: 0.1451 Acc: 0.9467\n",
      "Train Accuracy: 0.9467 F1 Score: 0.9464 Spearman Corr: 0.9036 Specificity: 0.9712 Mean Metrics: 0.9404\n"
     ]
    },
    {
     "name": "stderr",
     "output_type": "stream",
     "text": [
      "Validation: 100%|██████████| 278/278 [00:55<00:00,  5.01it/s]\n"
     ]
    },
    {
     "name": "stdout",
     "output_type": "stream",
     "text": [
      "Val Loss: 0.5156 Val Acc: 0.8407\n",
      "Validation Accuracy: 0.8407 F1 Score: 0.8343 Spearman Corr: 0.6543 Specificity: 0.9172 Mean Metrics: 0.8019\n",
      "Epoch 10/60\n",
      "----------\n"
     ]
    },
    {
     "name": "stderr",
     "output_type": "stream",
     "text": [
      "Training: 100%|██████████| 1067/1067 [07:20<00:00,  2.42it/s]\n"
     ]
    },
    {
     "name": "stdout",
     "output_type": "stream",
     "text": [
      "Loss: 0.1218 Acc: 0.9565\n",
      "Train Accuracy: 0.9565 F1 Score: 0.9564 Spearman Corr: 0.9238 Specificity: 0.9768 Mean Metrics: 0.9523\n"
     ]
    },
    {
     "name": "stderr",
     "output_type": "stream",
     "text": [
      "Validation: 100%|██████████| 278/278 [00:56<00:00,  4.92it/s]\n"
     ]
    },
    {
     "name": "stdout",
     "output_type": "stream",
     "text": [
      "Val Loss: 0.5380 Val Acc: 0.8493\n",
      "Validation Accuracy: 0.8493 F1 Score: 0.8425 Spearman Corr: 0.6765 Specificity: 0.9179 Mean Metrics: 0.8123\n",
      "Epoch 11/60\n",
      "----------\n"
     ]
    },
    {
     "name": "stderr",
     "output_type": "stream",
     "text": [
      "Training: 100%|██████████| 1067/1067 [07:26<00:00,  2.39it/s]\n"
     ]
    },
    {
     "name": "stdout",
     "output_type": "stream",
     "text": [
      "Loss: 0.1049 Acc: 0.9624\n",
      "Train Accuracy: 0.9624 F1 Score: 0.9623 Spearman Corr: 0.9326 Specificity: 0.9793 Mean Metrics: 0.9581\n"
     ]
    },
    {
     "name": "stderr",
     "output_type": "stream",
     "text": [
      "Validation: 100%|██████████| 278/278 [00:56<00:00,  4.88it/s]\n"
     ]
    },
    {
     "name": "stdout",
     "output_type": "stream",
     "text": [
      "Val Loss: 0.5534 Val Acc: 0.8470\n",
      "Validation Accuracy: 0.8470 F1 Score: 0.8415 Spearman Corr: 0.6889 Specificity: 0.9184 Mean Metrics: 0.8163\n",
      "Epoch 12/60\n",
      "----------\n"
     ]
    },
    {
     "name": "stderr",
     "output_type": "stream",
     "text": [
      "Training: 100%|██████████| 1067/1067 [07:25<00:00,  2.39it/s]\n"
     ]
    },
    {
     "name": "stdout",
     "output_type": "stream",
     "text": [
      "Loss: 0.0925 Acc: 0.9674\n",
      "Train Accuracy: 0.9674 F1 Score: 0.9673 Spearman Corr: 0.9452 Specificity: 0.9823 Mean Metrics: 0.9649\n"
     ]
    },
    {
     "name": "stderr",
     "output_type": "stream",
     "text": [
      "Validation: 100%|██████████| 278/278 [00:57<00:00,  4.86it/s]\n"
     ]
    },
    {
     "name": "stdout",
     "output_type": "stream",
     "text": [
      "Val Loss: 0.5993 Val Acc: 0.8481\n",
      "Validation Accuracy: 0.8481 F1 Score: 0.8414 Spearman Corr: 0.6931 Specificity: 0.9153 Mean Metrics: 0.8166\n",
      "Epoch 13/60\n",
      "----------\n"
     ]
    },
    {
     "name": "stderr",
     "output_type": "stream",
     "text": [
      "Training: 100%|██████████| 1067/1067 [07:28<00:00,  2.38it/s]\n"
     ]
    },
    {
     "name": "stdout",
     "output_type": "stream",
     "text": [
      "Loss: 0.0793 Acc: 0.9714\n",
      "Train Accuracy: 0.9714 F1 Score: 0.9713 Spearman Corr: 0.9519 Specificity: 0.9846 Mean Metrics: 0.9693\n"
     ]
    },
    {
     "name": "stderr",
     "output_type": "stream",
     "text": [
      "Validation: 100%|██████████| 278/278 [00:55<00:00,  5.05it/s]\n"
     ]
    },
    {
     "name": "stdout",
     "output_type": "stream",
     "text": [
      "Val Loss: 0.5832 Val Acc: 0.8479\n",
      "Validation Accuracy: 0.8479 F1 Score: 0.8433 Spearman Corr: 0.6820 Specificity: 0.9204 Mean Metrics: 0.8152\n",
      "Epoch 14/60\n",
      "----------\n"
     ]
    },
    {
     "name": "stderr",
     "output_type": "stream",
     "text": [
      "Training: 100%|██████████| 1067/1067 [07:06<00:00,  2.50it/s]\n"
     ]
    },
    {
     "name": "stdout",
     "output_type": "stream",
     "text": [
      "Loss: 0.0678 Acc: 0.9768\n",
      "Train Accuracy: 0.9768 F1 Score: 0.9768 Spearman Corr: 0.9589 Specificity: 0.9875 Mean Metrics: 0.9744\n"
     ]
    },
    {
     "name": "stderr",
     "output_type": "stream",
     "text": [
      "Validation: 100%|██████████| 278/278 [00:54<00:00,  5.10it/s]\n"
     ]
    },
    {
     "name": "stdout",
     "output_type": "stream",
     "text": [
      "Val Loss: 0.6255 Val Acc: 0.8486\n",
      "Validation Accuracy: 0.8486 F1 Score: 0.8434 Spearman Corr: 0.6724 Specificity: 0.9218 Mean Metrics: 0.8125\n",
      "Epoch 15/60\n",
      "----------\n"
     ]
    },
    {
     "name": "stderr",
     "output_type": "stream",
     "text": [
      "Training: 100%|██████████| 1067/1067 [07:06<00:00,  2.50it/s]\n"
     ]
    },
    {
     "name": "stdout",
     "output_type": "stream",
     "text": [
      "Loss: 0.0608 Acc: 0.9782\n",
      "Train Accuracy: 0.9782 F1 Score: 0.9782 Spearman Corr: 0.9628 Specificity: 0.9883 Mean Metrics: 0.9764\n"
     ]
    },
    {
     "name": "stderr",
     "output_type": "stream",
     "text": [
      "Validation: 100%|██████████| 278/278 [00:53<00:00,  5.16it/s]\n"
     ]
    },
    {
     "name": "stdout",
     "output_type": "stream",
     "text": [
      "Val Loss: 0.6259 Val Acc: 0.8515\n",
      "Validation Accuracy: 0.8515 F1 Score: 0.8476 Spearman Corr: 0.6777 Specificity: 0.9252 Mean Metrics: 0.8168\n",
      "Epoch 16/60\n",
      "----------\n"
     ]
    },
    {
     "name": "stderr",
     "output_type": "stream",
     "text": [
      "Training: 100%|██████████| 1067/1067 [07:07<00:00,  2.50it/s]\n"
     ]
    },
    {
     "name": "stdout",
     "output_type": "stream",
     "text": [
      "Loss: 0.0520 Acc: 0.9819\n",
      "Train Accuracy: 0.9819 F1 Score: 0.9819 Spearman Corr: 0.9697 Specificity: 0.9904 Mean Metrics: 0.9807\n"
     ]
    },
    {
     "name": "stderr",
     "output_type": "stream",
     "text": [
      "Validation: 100%|██████████| 278/278 [00:57<00:00,  4.87it/s]\n"
     ]
    },
    {
     "name": "stdout",
     "output_type": "stream",
     "text": [
      "Val Loss: 0.6617 Val Acc: 0.8490\n",
      "Validation Accuracy: 0.8490 F1 Score: 0.8438 Spearman Corr: 0.6774 Specificity: 0.9208 Mean Metrics: 0.8140\n",
      "Epoch 17/60\n",
      "----------\n"
     ]
    },
    {
     "name": "stderr",
     "output_type": "stream",
     "text": [
      "Training: 100%|██████████| 1067/1067 [07:12<00:00,  2.47it/s]\n"
     ]
    },
    {
     "name": "stdout",
     "output_type": "stream",
     "text": [
      "Loss: 0.0464 Acc: 0.9842\n",
      "Train Accuracy: 0.9842 F1 Score: 0.9842 Spearman Corr: 0.9704 Specificity: 0.9916 Mean Metrics: 0.9821\n"
     ]
    },
    {
     "name": "stderr",
     "output_type": "stream",
     "text": [
      "Validation: 100%|██████████| 278/278 [00:55<00:00,  5.02it/s]\n"
     ]
    },
    {
     "name": "stdout",
     "output_type": "stream",
     "text": [
      "Val Loss: 0.7093 Val Acc: 0.8484\n",
      "Validation Accuracy: 0.8484 F1 Score: 0.8416 Spearman Corr: 0.6869 Specificity: 0.9162 Mean Metrics: 0.8149\n",
      "Epoch 18/60\n",
      "----------\n"
     ]
    },
    {
     "name": "stderr",
     "output_type": "stream",
     "text": [
      "Training: 100%|██████████| 1067/1067 [07:14<00:00,  2.46it/s]\n"
     ]
    },
    {
     "name": "stdout",
     "output_type": "stream",
     "text": [
      "Loss: 0.0409 Acc: 0.9871\n",
      "Train Accuracy: 0.9871 F1 Score: 0.9871 Spearman Corr: 0.9794 Specificity: 0.9932 Mean Metrics: 0.9865\n"
     ]
    },
    {
     "name": "stderr",
     "output_type": "stream",
     "text": [
      "Validation: 100%|██████████| 278/278 [00:55<00:00,  5.02it/s]\n"
     ]
    },
    {
     "name": "stdout",
     "output_type": "stream",
     "text": [
      "Val Loss: 0.7063 Val Acc: 0.8461\n",
      "Validation Accuracy: 0.8461 F1 Score: 0.8408 Spearman Corr: 0.6764 Specificity: 0.9189 Mean Metrics: 0.8120\n",
      "Epoch 19/60\n",
      "----------\n"
     ]
    },
    {
     "name": "stderr",
     "output_type": "stream",
     "text": [
      "Training: 100%|██████████| 1067/1067 [07:13<00:00,  2.46it/s]\n"
     ]
    },
    {
     "name": "stdout",
     "output_type": "stream",
     "text": [
      "Loss: 0.0397 Acc: 0.9864\n",
      "Train Accuracy: 0.9864 F1 Score: 0.9864 Spearman Corr: 0.9759 Specificity: 0.9927 Mean Metrics: 0.9850\n"
     ]
    },
    {
     "name": "stderr",
     "output_type": "stream",
     "text": [
      "Validation: 100%|██████████| 278/278 [00:54<00:00,  5.06it/s]\n"
     ]
    },
    {
     "name": "stdout",
     "output_type": "stream",
     "text": [
      "Val Loss: 0.7368 Val Acc: 0.8470\n",
      "Validation Accuracy: 0.8470 F1 Score: 0.8410 Spearman Corr: 0.6740 Specificity: 0.9182 Mean Metrics: 0.8111\n",
      "Epoch 20/60\n",
      "----------\n"
     ]
    },
    {
     "name": "stderr",
     "output_type": "stream",
     "text": [
      "Training:  40%|███▉      | 424/1067 [02:54<04:24,  2.43it/s]\n"
     ]
    },
    {
     "ename": "KeyboardInterrupt",
     "evalue": "",
     "output_type": "error",
     "traceback": [
      "\u001B[0;31m---------------------------------------------------------------------------\u001B[0m",
      "\u001B[0;31mKeyboardInterrupt\u001B[0m                         Traceback (most recent call last)",
      "Cell \u001B[0;32mIn[1], line 87\u001B[0m\n\u001B[1;32m     84\u001B[0m criterion \u001B[38;5;241m=\u001B[39m nn\u001B[38;5;241m.\u001B[39mCrossEntropyLoss()\n\u001B[1;32m     85\u001B[0m optimizer \u001B[38;5;241m=\u001B[39m optim\u001B[38;5;241m.\u001B[39mAdam(model\u001B[38;5;241m.\u001B[39mparameters(), lr\u001B[38;5;241m=\u001B[39mconfig\u001B[38;5;241m.\u001B[39mlr)    \n\u001B[0;32m---> 87\u001B[0m \u001B[43mtrain_model\u001B[49m\u001B[43m(\u001B[49m\u001B[43mmodel\u001B[49m\u001B[43m,\u001B[49m\u001B[43m \u001B[49m\u001B[43mtrain_loader\u001B[49m\u001B[43m,\u001B[49m\u001B[43m \u001B[49m\u001B[43mval_loader\u001B[49m\u001B[43m,\u001B[49m\u001B[43m \u001B[49m\u001B[43mcriterion\u001B[49m\u001B[43m,\u001B[49m\u001B[43m \u001B[49m\u001B[43moptimizer\u001B[49m\u001B[43m,\u001B[49m\u001B[43m \u001B[49m\u001B[43mnum_epochs\u001B[49m\u001B[38;5;241;43m=\u001B[39;49m\u001B[43mconfig\u001B[49m\u001B[38;5;241;43m.\u001B[39;49m\u001B[43mnum_epochs\u001B[49m\u001B[43m)\u001B[49m\n",
      "File \u001B[0;32m~/PycharmProjects/MARIO/training.py:90\u001B[0m, in \u001B[0;36mtrain_model\u001B[0;34m(model, train_loader, val_loader, criterion, optimizer, num_epochs)\u001B[0m\n\u001B[1;32m     87\u001B[0m     loss \u001B[38;5;241m=\u001B[39m criterion(outputs, labels)\n\u001B[1;32m     89\u001B[0m scaler\u001B[38;5;241m.\u001B[39mscale(loss)\u001B[38;5;241m.\u001B[39mbackward()\n\u001B[0;32m---> 90\u001B[0m \u001B[43mscaler\u001B[49m\u001B[38;5;241;43m.\u001B[39;49m\u001B[43mstep\u001B[49m\u001B[43m(\u001B[49m\u001B[43moptimizer\u001B[49m\u001B[43m)\u001B[49m\n\u001B[1;32m     91\u001B[0m scaler\u001B[38;5;241m.\u001B[39mupdate()\n\u001B[1;32m     93\u001B[0m running_loss \u001B[38;5;241m+\u001B[39m\u001B[38;5;241m=\u001B[39m loss\u001B[38;5;241m.\u001B[39mitem() \u001B[38;5;241m*\u001B[39m inputs_ti\u001B[38;5;241m.\u001B[39msize(\u001B[38;5;241m0\u001B[39m)\n",
      "File \u001B[0;32m~/anaconda3/envs/myenv/lib/python3.10/site-packages/torch/amp/grad_scaler.py:453\u001B[0m, in \u001B[0;36mGradScaler.step\u001B[0;34m(self, optimizer, *args, **kwargs)\u001B[0m\n\u001B[1;32m    447\u001B[0m     \u001B[38;5;28mself\u001B[39m\u001B[38;5;241m.\u001B[39munscale_(optimizer)\n\u001B[1;32m    449\u001B[0m \u001B[38;5;28;01massert\u001B[39;00m (\n\u001B[1;32m    450\u001B[0m     \u001B[38;5;28mlen\u001B[39m(optimizer_state[\u001B[38;5;124m\"\u001B[39m\u001B[38;5;124mfound_inf_per_device\u001B[39m\u001B[38;5;124m\"\u001B[39m]) \u001B[38;5;241m>\u001B[39m \u001B[38;5;241m0\u001B[39m\n\u001B[1;32m    451\u001B[0m ), \u001B[38;5;124m\"\u001B[39m\u001B[38;5;124mNo inf checks were recorded for this optimizer.\u001B[39m\u001B[38;5;124m\"\u001B[39m\n\u001B[0;32m--> 453\u001B[0m retval \u001B[38;5;241m=\u001B[39m \u001B[38;5;28;43mself\u001B[39;49m\u001B[38;5;241;43m.\u001B[39;49m\u001B[43m_maybe_opt_step\u001B[49m\u001B[43m(\u001B[49m\u001B[43moptimizer\u001B[49m\u001B[43m,\u001B[49m\u001B[43m \u001B[49m\u001B[43moptimizer_state\u001B[49m\u001B[43m,\u001B[49m\u001B[43m \u001B[49m\u001B[38;5;241;43m*\u001B[39;49m\u001B[43margs\u001B[49m\u001B[43m,\u001B[49m\u001B[43m \u001B[49m\u001B[38;5;241;43m*\u001B[39;49m\u001B[38;5;241;43m*\u001B[39;49m\u001B[43mkwargs\u001B[49m\u001B[43m)\u001B[49m\n\u001B[1;32m    455\u001B[0m optimizer_state[\u001B[38;5;124m\"\u001B[39m\u001B[38;5;124mstage\u001B[39m\u001B[38;5;124m\"\u001B[39m] \u001B[38;5;241m=\u001B[39m OptState\u001B[38;5;241m.\u001B[39mSTEPPED\n\u001B[1;32m    457\u001B[0m \u001B[38;5;28;01mreturn\u001B[39;00m retval\n",
      "File \u001B[0;32m~/anaconda3/envs/myenv/lib/python3.10/site-packages/torch/amp/grad_scaler.py:350\u001B[0m, in \u001B[0;36mGradScaler._maybe_opt_step\u001B[0;34m(self, optimizer, optimizer_state, *args, **kwargs)\u001B[0m\n\u001B[1;32m    342\u001B[0m \u001B[38;5;28;01mdef\u001B[39;00m \u001B[38;5;21m_maybe_opt_step\u001B[39m(\n\u001B[1;32m    343\u001B[0m     \u001B[38;5;28mself\u001B[39m,\n\u001B[1;32m    344\u001B[0m     optimizer: torch\u001B[38;5;241m.\u001B[39moptim\u001B[38;5;241m.\u001B[39mOptimizer,\n\u001B[0;32m   (...)\u001B[0m\n\u001B[1;32m    347\u001B[0m     \u001B[38;5;241m*\u001B[39m\u001B[38;5;241m*\u001B[39mkwargs: Any,\n\u001B[1;32m    348\u001B[0m ) \u001B[38;5;241m-\u001B[39m\u001B[38;5;241m>\u001B[39m Optional[\u001B[38;5;28mfloat\u001B[39m]:\n\u001B[1;32m    349\u001B[0m     retval: Optional[\u001B[38;5;28mfloat\u001B[39m] \u001B[38;5;241m=\u001B[39m \u001B[38;5;28;01mNone\u001B[39;00m\n\u001B[0;32m--> 350\u001B[0m     \u001B[38;5;28;01mif\u001B[39;00m \u001B[38;5;129;01mnot\u001B[39;00m \u001B[38;5;28;43msum\u001B[39;49m\u001B[43m(\u001B[49m\u001B[43mv\u001B[49m\u001B[38;5;241;43m.\u001B[39;49m\u001B[43mitem\u001B[49m\u001B[43m(\u001B[49m\u001B[43m)\u001B[49m\u001B[43m \u001B[49m\u001B[38;5;28;43;01mfor\u001B[39;49;00m\u001B[43m \u001B[49m\u001B[43mv\u001B[49m\u001B[43m \u001B[49m\u001B[38;5;129;43;01min\u001B[39;49;00m\u001B[43m \u001B[49m\u001B[43moptimizer_state\u001B[49m\u001B[43m[\u001B[49m\u001B[38;5;124;43m\"\u001B[39;49m\u001B[38;5;124;43mfound_inf_per_device\u001B[39;49m\u001B[38;5;124;43m\"\u001B[39;49m\u001B[43m]\u001B[49m\u001B[38;5;241;43m.\u001B[39;49m\u001B[43mvalues\u001B[49m\u001B[43m(\u001B[49m\u001B[43m)\u001B[49m\u001B[43m)\u001B[49m:\n\u001B[1;32m    351\u001B[0m         retval \u001B[38;5;241m=\u001B[39m optimizer\u001B[38;5;241m.\u001B[39mstep(\u001B[38;5;241m*\u001B[39margs, \u001B[38;5;241m*\u001B[39m\u001B[38;5;241m*\u001B[39mkwargs)\n\u001B[1;32m    352\u001B[0m     \u001B[38;5;28;01mreturn\u001B[39;00m retval\n",
      "File \u001B[0;32m~/anaconda3/envs/myenv/lib/python3.10/site-packages/torch/amp/grad_scaler.py:350\u001B[0m, in \u001B[0;36m<genexpr>\u001B[0;34m(.0)\u001B[0m\n\u001B[1;32m    342\u001B[0m \u001B[38;5;28;01mdef\u001B[39;00m \u001B[38;5;21m_maybe_opt_step\u001B[39m(\n\u001B[1;32m    343\u001B[0m     \u001B[38;5;28mself\u001B[39m,\n\u001B[1;32m    344\u001B[0m     optimizer: torch\u001B[38;5;241m.\u001B[39moptim\u001B[38;5;241m.\u001B[39mOptimizer,\n\u001B[0;32m   (...)\u001B[0m\n\u001B[1;32m    347\u001B[0m     \u001B[38;5;241m*\u001B[39m\u001B[38;5;241m*\u001B[39mkwargs: Any,\n\u001B[1;32m    348\u001B[0m ) \u001B[38;5;241m-\u001B[39m\u001B[38;5;241m>\u001B[39m Optional[\u001B[38;5;28mfloat\u001B[39m]:\n\u001B[1;32m    349\u001B[0m     retval: Optional[\u001B[38;5;28mfloat\u001B[39m] \u001B[38;5;241m=\u001B[39m \u001B[38;5;28;01mNone\u001B[39;00m\n\u001B[0;32m--> 350\u001B[0m     \u001B[38;5;28;01mif\u001B[39;00m \u001B[38;5;129;01mnot\u001B[39;00m \u001B[38;5;28msum\u001B[39m(\u001B[43mv\u001B[49m\u001B[38;5;241;43m.\u001B[39;49m\u001B[43mitem\u001B[49m\u001B[43m(\u001B[49m\u001B[43m)\u001B[49m \u001B[38;5;28;01mfor\u001B[39;00m v \u001B[38;5;129;01min\u001B[39;00m optimizer_state[\u001B[38;5;124m\"\u001B[39m\u001B[38;5;124mfound_inf_per_device\u001B[39m\u001B[38;5;124m\"\u001B[39m]\u001B[38;5;241m.\u001B[39mvalues()):\n\u001B[1;32m    351\u001B[0m         retval \u001B[38;5;241m=\u001B[39m optimizer\u001B[38;5;241m.\u001B[39mstep(\u001B[38;5;241m*\u001B[39margs, \u001B[38;5;241m*\u001B[39m\u001B[38;5;241m*\u001B[39mkwargs)\n\u001B[1;32m    352\u001B[0m     \u001B[38;5;28;01mreturn\u001B[39;00m retval\n",
      "\u001B[0;31mKeyboardInterrupt\u001B[0m: "
     ]
    }
   ],
   "execution_count": 1
  },
  {
   "metadata": {
    "ExecuteTime": {
     "end_time": "2024-08-08T17:54:46.211954Z",
     "start_time": "2024-08-08T12:18:00.432793Z"
    }
   },
   "cell_type": "code",
   "source": [
    "import pandas as pd\n",
    "import random\n",
    "\n",
    "import torch\n",
    "import torch.nn as nn\n",
    "import torch.optim as optim\n",
    "import numpy as np\n",
    "from torch.utils.data import DataLoader, random_split\n",
    "from torchvision import transforms, models\n",
    "import OCTData\n",
    "from evaluate import evaluate_model\n",
    "from models import OCTClassifier0\n",
    "from training import train_model\n",
    "from config import config\n",
    "from torchvision.transforms import AutoAugment, RandAugment, AutoAugmentPolicy, InterpolationMode\n",
    "from albumentations.pytorch import ToTensorV2\n",
    "\n",
    "def set_seed(seed):\n",
    "    random.seed(seed)\n",
    "    np.random.seed(seed)\n",
    "    torch.manual_seed(seed)\n",
    "    if torch.cuda.is_available():\n",
    "        torch.cuda.manual_seed(seed)\n",
    "        torch.cuda.manual_seed_all(seed)\n",
    "    torch.backends.cudnn.deterministic = True\n",
    "    torch.backends.cudnn.benchmark = False\n",
    "    generator = torch.Generator().manual_seed(seed)\n",
    "    return generator\n",
    "\n",
    "\n",
    "\n",
    "generator= set_seed(config.seed)  # 你可以选择任何整数作为种子\n",
    "\n",
    "transform = transforms.Compose([\n",
    "    # SquarePad(),  # 填充到正方形\n",
    "    transforms.Resize((224, 224)),\n",
    "    transforms.ToTensor(),\n",
    "    transforms.Normalize(mean=[0.5], std=[0.5]), # ??\n",
    "])\n",
    "\n",
    "#aug3 more\n",
    "train_transform = transforms.Compose([\n",
    "        transforms.RandomApply([transforms.ColorJitter(brightness=0.25, contrast=0.25)], p=0.25),\n",
    "        transforms.RandomApply([transforms.GaussianBlur(kernel_size=(5, 9), sigma=(0.1, 5))], p=0.15),\n",
    "        transforms.RandomAffine(degrees=25, scale=(0.8, 1.2), translate=(0.1, 0.1)),\n",
    "        transforms.RandomHorizontalFlip(p=0.3),\n",
    "        transforms.Resize((224, 224)),\n",
    "        transforms.ToTensor(),\n",
    "        transforms.Normalize(mean=[0.5], std=[0.5]),\n",
    "    ])\n",
    "\n",
    "\n",
    "# 验证集不进行数据增强，只进行基本的预处理\n",
    "val_transform = transforms.Compose([\n",
    "    transforms.Resize((224, 224)),\n",
    "    transforms.ToTensor(),\n",
    "    transforms.Normalize(mean=[0.5], std=[0.5])\n",
    "])\n",
    "\n",
    "\n",
    "\n",
    "train_data_frame = pd.read_csv(config.final_train_csv_file)\n",
    "val_data_frame = pd.read_csv(config.final_val_csv_file)\n",
    "\n",
    "# 为训练和验证集分别创建不同的 Dataset 实例，并应用不同的 transforms\n",
    "train_dataset = OCTData.OCTData(train_data_frame, root_dir=config.final_root_dir, transform=train_transform)\n",
    "val_dataset = OCTData.OCTData(val_data_frame, root_dir=config.final_root_dir, transform=val_transform)\n",
    "\n",
    "# 创建数据加载器\n",
    "train_loader = DataLoader(train_dataset, batch_size=config.batch_size, shuffle=True)\n",
    "val_loader = DataLoader(val_dataset, batch_size=config.batch_size, shuffle=False)\n",
    "\n",
    "\n",
    "\n",
    "\n",
    "model = OCTClassifier0()\n",
    "\n",
    "device = torch.device(\"cuda:0\" if torch.cuda.is_available() else \"cpu\")\n",
    "model = model.to(device)\n",
    "# checkpoint_path = \"data/model/convnextv2_large_v3/epoch_45_split_0.8_bs_16_lr_5e-07.pth\"\n",
    "# checkpoint = torch.load(checkpoint_path)\n",
    "# model.load_state_dict(checkpoint)\n",
    "\n",
    "criterion = nn.CrossEntropyLoss()\n",
    "optimizer = optim.Adam(model.parameters(), lr=config.lr)    \n",
    "\n",
    "train_model(model, train_loader, val_loader, criterion, optimizer, num_epochs=config.num_epochs)\n",
    "\n",
    "\n",
    "\n",
    "\n"
   ],
   "id": "b9c60b4177552804",
   "outputs": [
    {
     "name": "stderr",
     "output_type": "stream",
     "text": [
      "INFO:timm.models._builder:Loading pretrained weights from Hugging Face hub (timm/convnextv2_large.fcmae_ft_in22k_in1k)\n",
      "INFO:timm.models._hub:[timm/convnextv2_large.fcmae_ft_in22k_in1k] Safe alternative available for 'pytorch_model.bin' (as 'model.safetensors'). Loading weights using safetensors.\n"
     ]
    },
    {
     "name": "stdout",
     "output_type": "stream",
     "text": [
      "Epoch 0/40\n",
      "----------\n"
     ]
    },
    {
     "name": "stderr",
     "output_type": "stream",
     "text": [
      "Training: 100%|██████████| 1081/1081 [07:26<00:00,  2.42it/s]\n"
     ]
    },
    {
     "name": "stdout",
     "output_type": "stream",
     "text": [
      "Loss: 0.7035 Acc: 0.7403\n",
      "Train Accuracy: 0.7403 F1 Score: 0.7149 Spearman Corr: 0.3837 Specificity: 0.8526 Mean Metrics: 0.6504\n"
     ]
    },
    {
     "name": "stderr",
     "output_type": "stream",
     "text": [
      "Validation: 100%|██████████| 264/264 [00:53<00:00,  4.93it/s]\n"
     ]
    },
    {
     "name": "stdout",
     "output_type": "stream",
     "text": [
      "Val Loss: 0.5161 Val Acc: 0.8107\n",
      "Validation Accuracy: 0.8107 F1 Score: 0.8004 Spearman Corr: 0.5280 Specificity: 0.8902 Mean Metrics: 0.7395\n",
      "Epoch 1/40\n",
      "----------\n"
     ]
    },
    {
     "name": "stderr",
     "output_type": "stream",
     "text": [
      "Training: 100%|██████████| 1081/1081 [07:24<00:00,  2.43it/s]\n"
     ]
    },
    {
     "name": "stdout",
     "output_type": "stream",
     "text": [
      "Loss: 0.4676 Acc: 0.8285\n",
      "Train Accuracy: 0.8285 F1 Score: 0.8241 Spearman Corr: 0.6300 Specificity: 0.9119 Mean Metrics: 0.7887\n"
     ]
    },
    {
     "name": "stderr",
     "output_type": "stream",
     "text": [
      "Validation: 100%|██████████| 264/264 [00:52<00:00,  4.98it/s]\n"
     ]
    },
    {
     "name": "stdout",
     "output_type": "stream",
     "text": [
      "Val Loss: 0.4517 Val Acc: 0.8308\n",
      "Validation Accuracy: 0.8308 F1 Score: 0.8220 Spearman Corr: 0.6084 Specificity: 0.8943 Mean Metrics: 0.7749\n",
      "Epoch 2/40\n",
      "----------\n"
     ]
    },
    {
     "name": "stderr",
     "output_type": "stream",
     "text": [
      "Training: 100%|██████████| 1081/1081 [07:26<00:00,  2.42it/s]\n"
     ]
    },
    {
     "name": "stdout",
     "output_type": "stream",
     "text": [
      "Loss: 0.3820 Acc: 0.8646\n",
      "Train Accuracy: 0.8646 F1 Score: 0.8616 Spearman Corr: 0.7239 Specificity: 0.9284 Mean Metrics: 0.8380\n"
     ]
    },
    {
     "name": "stderr",
     "output_type": "stream",
     "text": [
      "Validation: 100%|██████████| 264/264 [00:52<00:00,  5.01it/s]\n"
     ]
    },
    {
     "name": "stdout",
     "output_type": "stream",
     "text": [
      "Val Loss: 0.4504 Val Acc: 0.8301\n",
      "Validation Accuracy: 0.8301 F1 Score: 0.8215 Spearman Corr: 0.5858 Specificity: 0.8976 Mean Metrics: 0.7683\n",
      "Epoch 3/40\n",
      "----------\n"
     ]
    },
    {
     "name": "stderr",
     "output_type": "stream",
     "text": [
      "Training: 100%|██████████| 1081/1081 [07:27<00:00,  2.42it/s]\n"
     ]
    },
    {
     "name": "stdout",
     "output_type": "stream",
     "text": [
      "Loss: 0.3380 Acc: 0.8771\n",
      "Train Accuracy: 0.8771 F1 Score: 0.8750 Spearman Corr: 0.7584 Specificity: 0.9355 Mean Metrics: 0.8563\n"
     ]
    },
    {
     "name": "stderr",
     "output_type": "stream",
     "text": [
      "Validation: 100%|██████████| 264/264 [00:53<00:00,  4.96it/s]\n"
     ]
    },
    {
     "name": "stdout",
     "output_type": "stream",
     "text": [
      "Val Loss: 0.4349 Val Acc: 0.8400\n",
      "Validation Accuracy: 0.8400 F1 Score: 0.8334 Spearman Corr: 0.6245 Specificity: 0.9053 Mean Metrics: 0.7877\n",
      "Epoch 4/40\n",
      "----------\n"
     ]
    },
    {
     "name": "stderr",
     "output_type": "stream",
     "text": [
      "Training: 100%|██████████| 1081/1081 [07:26<00:00,  2.42it/s]\n"
     ]
    },
    {
     "name": "stdout",
     "output_type": "stream",
     "text": [
      "Loss: 0.2924 Acc: 0.8922\n",
      "Train Accuracy: 0.8922 F1 Score: 0.8907 Spearman Corr: 0.7961 Specificity: 0.9430 Mean Metrics: 0.8766\n"
     ]
    },
    {
     "name": "stderr",
     "output_type": "stream",
     "text": [
      "Validation: 100%|██████████| 264/264 [00:53<00:00,  4.90it/s]\n"
     ]
    },
    {
     "name": "stdout",
     "output_type": "stream",
     "text": [
      "Val Loss: 0.4286 Val Acc: 0.8438\n",
      "Validation Accuracy: 0.8438 F1 Score: 0.8401 Spearman Corr: 0.6333 Specificity: 0.9127 Mean Metrics: 0.7954\n",
      "Epoch 5/40\n",
      "----------\n"
     ]
    },
    {
     "name": "stderr",
     "output_type": "stream",
     "text": [
      "Training: 100%|██████████| 1081/1081 [07:18<00:00,  2.46it/s]\n"
     ]
    },
    {
     "name": "stdout",
     "output_type": "stream",
     "text": [
      "Loss: 0.2694 Acc: 0.9029\n",
      "Train Accuracy: 0.9029 F1 Score: 0.9016 Spearman Corr: 0.8152 Specificity: 0.9485 Mean Metrics: 0.8884\n"
     ]
    },
    {
     "name": "stderr",
     "output_type": "stream",
     "text": [
      "Validation: 100%|██████████| 264/264 [00:52<00:00,  5.01it/s]\n"
     ]
    },
    {
     "name": "stdout",
     "output_type": "stream",
     "text": [
      "Val Loss: 0.4350 Val Acc: 0.8479\n",
      "Validation Accuracy: 0.8479 F1 Score: 0.8449 Spearman Corr: 0.6422 Specificity: 0.9152 Mean Metrics: 0.8007\n",
      "Epoch 6/40\n",
      "----------\n"
     ]
    },
    {
     "name": "stderr",
     "output_type": "stream",
     "text": [
      "Training: 100%|██████████| 1081/1081 [07:18<00:00,  2.46it/s]\n"
     ]
    },
    {
     "name": "stdout",
     "output_type": "stream",
     "text": [
      "Loss: 0.2286 Acc: 0.9168\n",
      "Train Accuracy: 0.9168 F1 Score: 0.9159 Spearman Corr: 0.8438 Specificity: 0.9560 Mean Metrics: 0.9052\n"
     ]
    },
    {
     "name": "stderr",
     "output_type": "stream",
     "text": [
      "Validation: 100%|██████████| 264/264 [00:53<00:00,  4.92it/s]\n"
     ]
    },
    {
     "name": "stdout",
     "output_type": "stream",
     "text": [
      "Val Loss: 0.4639 Val Acc: 0.8486\n",
      "Validation Accuracy: 0.8486 F1 Score: 0.8464 Spearman Corr: 0.6347 Specificity: 0.9187 Mean Metrics: 0.7999\n",
      "Epoch 7/40\n",
      "----------\n"
     ]
    },
    {
     "name": "stderr",
     "output_type": "stream",
     "text": [
      "Training: 100%|██████████| 1081/1081 [07:17<00:00,  2.47it/s]\n"
     ]
    },
    {
     "name": "stdout",
     "output_type": "stream",
     "text": [
      "Loss: 0.2030 Acc: 0.9255\n",
      "Train Accuracy: 0.9255 F1 Score: 0.9249 Spearman Corr: 0.8648 Specificity: 0.9605 Mean Metrics: 0.9167\n"
     ]
    },
    {
     "name": "stderr",
     "output_type": "stream",
     "text": [
      "Validation: 100%|██████████| 264/264 [00:53<00:00,  4.92it/s]\n"
     ]
    },
    {
     "name": "stdout",
     "output_type": "stream",
     "text": [
      "Val Loss: 0.4664 Val Acc: 0.8486\n",
      "Validation Accuracy: 0.8486 F1 Score: 0.8481 Spearman Corr: 0.6442 Specificity: 0.9232 Mean Metrics: 0.8052\n",
      "Epoch 8/40\n",
      "----------\n"
     ]
    },
    {
     "name": "stderr",
     "output_type": "stream",
     "text": [
      "Training: 100%|██████████| 1081/1081 [07:16<00:00,  2.48it/s]\n"
     ]
    },
    {
     "name": "stdout",
     "output_type": "stream",
     "text": [
      "Loss: 0.1749 Acc: 0.9380\n",
      "Train Accuracy: 0.9380 F1 Score: 0.9376 Spearman Corr: 0.8902 Specificity: 0.9673 Mean Metrics: 0.9317\n"
     ]
    },
    {
     "name": "stderr",
     "output_type": "stream",
     "text": [
      "Validation: 100%|██████████| 264/264 [00:52<00:00,  5.01it/s]\n"
     ]
    },
    {
     "name": "stdout",
     "output_type": "stream",
     "text": [
      "Val Loss: 0.4896 Val Acc: 0.8500\n",
      "Validation Accuracy: 0.8500 F1 Score: 0.8472 Spearman Corr: 0.6437 Specificity: 0.9186 Mean Metrics: 0.8032\n",
      "Epoch 9/40\n",
      "----------\n"
     ]
    },
    {
     "name": "stderr",
     "output_type": "stream",
     "text": [
      "Training: 100%|██████████| 1081/1081 [07:22<00:00,  2.44it/s]\n"
     ]
    },
    {
     "name": "stdout",
     "output_type": "stream",
     "text": [
      "Loss: 0.1553 Acc: 0.9428\n",
      "Train Accuracy: 0.9428 F1 Score: 0.9425 Spearman Corr: 0.9010 Specificity: 0.9700 Mean Metrics: 0.9378\n"
     ]
    },
    {
     "name": "stderr",
     "output_type": "stream",
     "text": [
      "Validation: 100%|██████████| 264/264 [00:52<00:00,  5.06it/s]\n"
     ]
    },
    {
     "name": "stdout",
     "output_type": "stream",
     "text": [
      "Val Loss: 0.4913 Val Acc: 0.8481\n",
      "Validation Accuracy: 0.8481 F1 Score: 0.8438 Spearman Corr: 0.6373 Specificity: 0.9127 Mean Metrics: 0.7980\n",
      "Epoch 10/40\n",
      "----------\n"
     ]
    },
    {
     "name": "stderr",
     "output_type": "stream",
     "text": [
      "Training: 100%|██████████| 1081/1081 [07:16<00:00,  2.47it/s]\n"
     ]
    },
    {
     "name": "stdout",
     "output_type": "stream",
     "text": [
      "Loss: 0.1296 Acc: 0.9530\n",
      "Train Accuracy: 0.9530 F1 Score: 0.9528 Spearman Corr: 0.9182 Specificity: 0.9755 Mean Metrics: 0.9489\n"
     ]
    },
    {
     "name": "stderr",
     "output_type": "stream",
     "text": [
      "Validation: 100%|██████████| 264/264 [00:52<00:00,  5.00it/s]\n"
     ]
    },
    {
     "name": "stdout",
     "output_type": "stream",
     "text": [
      "Val Loss: 0.5308 Val Acc: 0.8495\n",
      "Validation Accuracy: 0.8495 F1 Score: 0.8473 Spearman Corr: 0.6286 Specificity: 0.9191 Mean Metrics: 0.7984\n",
      "Epoch 11/40\n",
      "----------\n"
     ]
    },
    {
     "name": "stderr",
     "output_type": "stream",
     "text": [
      "Training: 100%|██████████| 1081/1081 [07:17<00:00,  2.47it/s]\n"
     ]
    },
    {
     "name": "stdout",
     "output_type": "stream",
     "text": [
      "Loss: 0.1157 Acc: 0.9577\n",
      "Train Accuracy: 0.9577 F1 Score: 0.9575 Spearman Corr: 0.9269 Specificity: 0.9779 Mean Metrics: 0.9541\n"
     ]
    },
    {
     "name": "stderr",
     "output_type": "stream",
     "text": [
      "Validation: 100%|██████████| 264/264 [00:52<00:00,  5.03it/s]\n"
     ]
    },
    {
     "name": "stdout",
     "output_type": "stream",
     "text": [
      "Val Loss: 0.5332 Val Acc: 0.8524\n",
      "Validation Accuracy: 0.8524 F1 Score: 0.8479 Spearman Corr: 0.6388 Specificity: 0.9152 Mean Metrics: 0.8006\n",
      "Epoch 12/40\n",
      "----------\n"
     ]
    },
    {
     "name": "stderr",
     "output_type": "stream",
     "text": [
      "Training: 100%|██████████| 1081/1081 [07:17<00:00,  2.47it/s]\n"
     ]
    },
    {
     "name": "stdout",
     "output_type": "stream",
     "text": [
      "Loss: 0.1020 Acc: 0.9638\n",
      "Train Accuracy: 0.9638 F1 Score: 0.9637 Spearman Corr: 0.9368 Specificity: 0.9810 Mean Metrics: 0.9605\n"
     ]
    },
    {
     "name": "stderr",
     "output_type": "stream",
     "text": [
      "Validation: 100%|██████████| 264/264 [00:52<00:00,  4.99it/s]\n"
     ]
    },
    {
     "name": "stdout",
     "output_type": "stream",
     "text": [
      "Val Loss: 0.5727 Val Acc: 0.8488\n",
      "Validation Accuracy: 0.8488 F1 Score: 0.8453 Spearman Corr: 0.6403 Specificity: 0.9148 Mean Metrics: 0.8001\n",
      "Epoch 13/40\n",
      "----------\n"
     ]
    },
    {
     "name": "stderr",
     "output_type": "stream",
     "text": [
      "Training: 100%|██████████| 1081/1081 [07:19<00:00,  2.46it/s]\n"
     ]
    },
    {
     "name": "stdout",
     "output_type": "stream",
     "text": [
      "Loss: 0.0884 Acc: 0.9692\n",
      "Train Accuracy: 0.9692 F1 Score: 0.9691 Spearman Corr: 0.9468 Specificity: 0.9839 Mean Metrics: 0.9666\n"
     ]
    },
    {
     "name": "stderr",
     "output_type": "stream",
     "text": [
      "Validation: 100%|██████████| 264/264 [00:53<00:00,  4.98it/s]\n"
     ]
    },
    {
     "name": "stdout",
     "output_type": "stream",
     "text": [
      "Val Loss: 0.6047 Val Acc: 0.8495\n",
      "Validation Accuracy: 0.8495 F1 Score: 0.8445 Spearman Corr: 0.6352 Specificity: 0.9118 Mean Metrics: 0.7972\n",
      "Epoch 14/40\n",
      "----------\n"
     ]
    },
    {
     "name": "stderr",
     "output_type": "stream",
     "text": [
      "Training: 100%|██████████| 1081/1081 [07:19<00:00,  2.46it/s]\n"
     ]
    },
    {
     "name": "stdout",
     "output_type": "stream",
     "text": [
      "Loss: 0.0741 Acc: 0.9740\n",
      "Train Accuracy: 0.9740 F1 Score: 0.9739 Spearman Corr: 0.9553 Specificity: 0.9863 Mean Metrics: 0.9718\n"
     ]
    },
    {
     "name": "stderr",
     "output_type": "stream",
     "text": [
      "Validation: 100%|██████████| 264/264 [00:52<00:00,  5.06it/s]\n"
     ]
    },
    {
     "name": "stdout",
     "output_type": "stream",
     "text": [
      "Val Loss: 0.6033 Val Acc: 0.8512\n",
      "Validation Accuracy: 0.8512 F1 Score: 0.8481 Spearman Corr: 0.6384 Specificity: 0.9178 Mean Metrics: 0.8014\n",
      "Epoch 15/40\n",
      "----------\n"
     ]
    },
    {
     "name": "stderr",
     "output_type": "stream",
     "text": [
      "Training: 100%|██████████| 1081/1081 [07:17<00:00,  2.47it/s]\n"
     ]
    },
    {
     "name": "stdout",
     "output_type": "stream",
     "text": [
      "Loss: 0.0657 Acc: 0.9774\n",
      "Train Accuracy: 0.9774 F1 Score: 0.9774 Spearman Corr: 0.9622 Specificity: 0.9884 Mean Metrics: 0.9760\n"
     ]
    },
    {
     "name": "stderr",
     "output_type": "stream",
     "text": [
      "Validation: 100%|██████████| 264/264 [00:51<00:00,  5.08it/s]\n"
     ]
    },
    {
     "name": "stdout",
     "output_type": "stream",
     "text": [
      "Val Loss: 0.6451 Val Acc: 0.8486\n",
      "Validation Accuracy: 0.8486 F1 Score: 0.8450 Spearman Corr: 0.6319 Specificity: 0.9149 Mean Metrics: 0.7973\n",
      "Epoch 16/40\n",
      "----------\n"
     ]
    },
    {
     "name": "stderr",
     "output_type": "stream",
     "text": [
      "Training: 100%|██████████| 1081/1081 [07:18<00:00,  2.46it/s]\n"
     ]
    },
    {
     "name": "stdout",
     "output_type": "stream",
     "text": [
      "Loss: 0.0579 Acc: 0.9788\n",
      "Train Accuracy: 0.9788 F1 Score: 0.9788 Spearman Corr: 0.9631 Specificity: 0.9890 Mean Metrics: 0.9770\n"
     ]
    },
    {
     "name": "stderr",
     "output_type": "stream",
     "text": [
      "Validation: 100%|██████████| 264/264 [00:53<00:00,  4.95it/s]\n"
     ]
    },
    {
     "name": "stdout",
     "output_type": "stream",
     "text": [
      "Val Loss: 0.6526 Val Acc: 0.8493\n",
      "Validation Accuracy: 0.8493 F1 Score: 0.8461 Spearman Corr: 0.6318 Specificity: 0.9165 Mean Metrics: 0.7981\n",
      "Epoch 17/40\n",
      "----------\n"
     ]
    },
    {
     "name": "stderr",
     "output_type": "stream",
     "text": [
      "Training: 100%|██████████| 1081/1081 [07:17<00:00,  2.47it/s]\n"
     ]
    },
    {
     "name": "stdout",
     "output_type": "stream",
     "text": [
      "Loss: 0.0520 Acc: 0.9817\n",
      "Train Accuracy: 0.9817 F1 Score: 0.9816 Spearman Corr: 0.9692 Specificity: 0.9904 Mean Metrics: 0.9804\n"
     ]
    },
    {
     "name": "stderr",
     "output_type": "stream",
     "text": [
      "Validation: 100%|██████████| 264/264 [00:52<00:00,  4.99it/s]\n"
     ]
    },
    {
     "name": "stdout",
     "output_type": "stream",
     "text": [
      "Val Loss: 0.6657 Val Acc: 0.8460\n",
      "Validation Accuracy: 0.8460 F1 Score: 0.8446 Spearman Corr: 0.6256 Specificity: 0.9193 Mean Metrics: 0.7965\n",
      "Epoch 18/40\n",
      "----------\n"
     ]
    },
    {
     "name": "stderr",
     "output_type": "stream",
     "text": [
      "Training: 100%|██████████| 1081/1081 [07:18<00:00,  2.46it/s]\n"
     ]
    },
    {
     "name": "stdout",
     "output_type": "stream",
     "text": [
      "Loss: 0.0492 Acc: 0.9831\n",
      "Train Accuracy: 0.9831 F1 Score: 0.9831 Spearman Corr: 0.9727 Specificity: 0.9914 Mean Metrics: 0.9824\n"
     ]
    },
    {
     "name": "stderr",
     "output_type": "stream",
     "text": [
      "Validation: 100%|██████████| 264/264 [00:52<00:00,  5.01it/s]\n"
     ]
    },
    {
     "name": "stdout",
     "output_type": "stream",
     "text": [
      "Val Loss: 0.6715 Val Acc: 0.8476\n",
      "Validation Accuracy: 0.8476 F1 Score: 0.8456 Spearman Corr: 0.6279 Specificity: 0.9183 Mean Metrics: 0.7973\n",
      "Epoch 19/40\n",
      "----------\n"
     ]
    },
    {
     "name": "stderr",
     "output_type": "stream",
     "text": [
      "Training: 100%|██████████| 1081/1081 [07:19<00:00,  2.46it/s]\n"
     ]
    },
    {
     "name": "stdout",
     "output_type": "stream",
     "text": [
      "Loss: 0.0426 Acc: 0.9852\n",
      "Train Accuracy: 0.9852 F1 Score: 0.9852 Spearman Corr: 0.9755 Specificity: 0.9924 Mean Metrics: 0.9844\n"
     ]
    },
    {
     "name": "stderr",
     "output_type": "stream",
     "text": [
      "Validation: 100%|██████████| 264/264 [00:53<00:00,  4.94it/s]\n"
     ]
    },
    {
     "name": "stdout",
     "output_type": "stream",
     "text": [
      "Val Loss: 0.6994 Val Acc: 0.8488\n",
      "Validation Accuracy: 0.8488 F1 Score: 0.8458 Spearman Corr: 0.6254 Specificity: 0.9166 Mean Metrics: 0.7959\n",
      "Epoch 20/40\n",
      "----------\n"
     ]
    },
    {
     "name": "stderr",
     "output_type": "stream",
     "text": [
      "Training: 100%|██████████| 1081/1081 [07:16<00:00,  2.48it/s]\n"
     ]
    },
    {
     "name": "stdout",
     "output_type": "stream",
     "text": [
      "Loss: 0.0373 Acc: 0.9879\n",
      "Train Accuracy: 0.9879 F1 Score: 0.9878 Spearman Corr: 0.9803 Specificity: 0.9937 Mean Metrics: 0.9873\n"
     ]
    },
    {
     "name": "stderr",
     "output_type": "stream",
     "text": [
      "Validation: 100%|██████████| 264/264 [00:53<00:00,  4.97it/s]\n"
     ]
    },
    {
     "name": "stdout",
     "output_type": "stream",
     "text": [
      "Val Loss: 0.6945 Val Acc: 0.8507\n",
      "Validation Accuracy: 0.8507 F1 Score: 0.8477 Spearman Corr: 0.6385 Specificity: 0.9179 Mean Metrics: 0.8014\n",
      "Epoch 21/40\n",
      "----------\n"
     ]
    },
    {
     "name": "stderr",
     "output_type": "stream",
     "text": [
      "Training: 100%|██████████| 1081/1081 [07:18<00:00,  2.47it/s]\n"
     ]
    },
    {
     "name": "stdout",
     "output_type": "stream",
     "text": [
      "Loss: 0.0353 Acc: 0.9881\n",
      "Train Accuracy: 0.9881 F1 Score: 0.9881 Spearman Corr: 0.9793 Specificity: 0.9938 Mean Metrics: 0.9871\n"
     ]
    },
    {
     "name": "stderr",
     "output_type": "stream",
     "text": [
      "Validation: 100%|██████████| 264/264 [00:53<00:00,  4.93it/s]\n"
     ]
    },
    {
     "name": "stdout",
     "output_type": "stream",
     "text": [
      "Val Loss: 0.7265 Val Acc: 0.8457\n",
      "Validation Accuracy: 0.8457 F1 Score: 0.8439 Spearman Corr: 0.6313 Specificity: 0.9181 Mean Metrics: 0.7978\n",
      "Epoch 22/40\n",
      "----------\n"
     ]
    },
    {
     "name": "stderr",
     "output_type": "stream",
     "text": [
      "Training: 100%|██████████| 1081/1081 [07:17<00:00,  2.47it/s]\n"
     ]
    },
    {
     "name": "stdout",
     "output_type": "stream",
     "text": [
      "Loss: 0.0316 Acc: 0.9890\n",
      "Train Accuracy: 0.9890 F1 Score: 0.9890 Spearman Corr: 0.9813 Specificity: 0.9944 Mean Metrics: 0.9882\n"
     ]
    },
    {
     "name": "stderr",
     "output_type": "stream",
     "text": [
      "Validation: 100%|██████████| 264/264 [00:53<00:00,  4.94it/s]\n"
     ]
    },
    {
     "name": "stdout",
     "output_type": "stream",
     "text": [
      "Val Loss: 0.7422 Val Acc: 0.8455\n",
      "Validation Accuracy: 0.8455 F1 Score: 0.8428 Spearman Corr: 0.6256 Specificity: 0.9156 Mean Metrics: 0.7947\n",
      "Epoch 23/40\n",
      "----------\n"
     ]
    },
    {
     "name": "stderr",
     "output_type": "stream",
     "text": [
      "Training: 100%|██████████| 1081/1081 [07:17<00:00,  2.47it/s]\n"
     ]
    },
    {
     "name": "stdout",
     "output_type": "stream",
     "text": [
      "Loss: 0.0294 Acc: 0.9899\n",
      "Train Accuracy: 0.9899 F1 Score: 0.9899 Spearman Corr: 0.9817 Specificity: 0.9948 Mean Metrics: 0.9888\n"
     ]
    },
    {
     "name": "stderr",
     "output_type": "stream",
     "text": [
      "Validation: 100%|██████████| 264/264 [00:53<00:00,  4.94it/s]\n"
     ]
    },
    {
     "name": "stdout",
     "output_type": "stream",
     "text": [
      "Val Loss: 0.7752 Val Acc: 0.8479\n",
      "Validation Accuracy: 0.8479 F1 Score: 0.8436 Spearman Corr: 0.6288 Specificity: 0.9130 Mean Metrics: 0.7951\n",
      "Epoch 24/40\n",
      "----------\n"
     ]
    },
    {
     "name": "stderr",
     "output_type": "stream",
     "text": [
      "Training: 100%|██████████| 1081/1081 [07:18<00:00,  2.46it/s]\n"
     ]
    },
    {
     "name": "stdout",
     "output_type": "stream",
     "text": [
      "Loss: 0.0273 Acc: 0.9908\n",
      "Train Accuracy: 0.9908 F1 Score: 0.9908 Spearman Corr: 0.9851 Specificity: 0.9952 Mean Metrics: 0.9904\n"
     ]
    },
    {
     "name": "stderr",
     "output_type": "stream",
     "text": [
      "Validation: 100%|██████████| 264/264 [00:54<00:00,  4.89it/s]\n"
     ]
    },
    {
     "name": "stdout",
     "output_type": "stream",
     "text": [
      "Val Loss: 0.7374 Val Acc: 0.8460\n",
      "Validation Accuracy: 0.8460 F1 Score: 0.8444 Spearman Corr: 0.6371 Specificity: 0.9191 Mean Metrics: 0.8002\n",
      "Epoch 25/40\n",
      "----------\n"
     ]
    },
    {
     "name": "stderr",
     "output_type": "stream",
     "text": [
      "Training: 100%|██████████| 1081/1081 [07:21<00:00,  2.45it/s]\n"
     ]
    },
    {
     "name": "stdout",
     "output_type": "stream",
     "text": [
      "Loss: 0.0267 Acc: 0.9915\n",
      "Train Accuracy: 0.9915 F1 Score: 0.9915 Spearman Corr: 0.9863 Specificity: 0.9957 Mean Metrics: 0.9911\n"
     ]
    },
    {
     "name": "stderr",
     "output_type": "stream",
     "text": [
      "Validation: 100%|██████████| 264/264 [00:53<00:00,  4.93it/s]\n"
     ]
    },
    {
     "name": "stdout",
     "output_type": "stream",
     "text": [
      "Val Loss: 0.7634 Val Acc: 0.8460\n",
      "Validation Accuracy: 0.8460 F1 Score: 0.8424 Spearman Corr: 0.6337 Specificity: 0.9141 Mean Metrics: 0.7967\n",
      "Epoch 26/40\n",
      "----------\n"
     ]
    },
    {
     "name": "stderr",
     "output_type": "stream",
     "text": [
      "Training: 100%|██████████| 1081/1081 [07:21<00:00,  2.45it/s]\n"
     ]
    },
    {
     "name": "stdout",
     "output_type": "stream",
     "text": [
      "Loss: 0.0243 Acc: 0.9922\n",
      "Train Accuracy: 0.9922 F1 Score: 0.9922 Spearman Corr: 0.9861 Specificity: 0.9959 Mean Metrics: 0.9914\n"
     ]
    },
    {
     "name": "stderr",
     "output_type": "stream",
     "text": [
      "Validation: 100%|██████████| 264/264 [00:53<00:00,  4.91it/s]\n"
     ]
    },
    {
     "name": "stdout",
     "output_type": "stream",
     "text": [
      "Val Loss: 0.7728 Val Acc: 0.8464\n",
      "Validation Accuracy: 0.8464 F1 Score: 0.8433 Spearman Corr: 0.6346 Specificity: 0.9154 Mean Metrics: 0.7977\n",
      "Epoch 27/40\n",
      "----------\n"
     ]
    },
    {
     "name": "stderr",
     "output_type": "stream",
     "text": [
      "Training: 100%|██████████| 1081/1081 [07:16<00:00,  2.48it/s]\n"
     ]
    },
    {
     "name": "stdout",
     "output_type": "stream",
     "text": [
      "Loss: 0.0215 Acc: 0.9933\n",
      "Train Accuracy: 0.9933 F1 Score: 0.9933 Spearman Corr: 0.9890 Specificity: 0.9966 Mean Metrics: 0.9930\n"
     ]
    },
    {
     "name": "stderr",
     "output_type": "stream",
     "text": [
      "Validation: 100%|██████████| 264/264 [00:52<00:00,  5.00it/s]\n"
     ]
    },
    {
     "name": "stdout",
     "output_type": "stream",
     "text": [
      "Val Loss: 0.7679 Val Acc: 0.8476\n",
      "Validation Accuracy: 0.8476 F1 Score: 0.8447 Spearman Corr: 0.6333 Specificity: 0.9167 Mean Metrics: 0.7982\n",
      "Epoch 28/40\n",
      "----------\n"
     ]
    },
    {
     "name": "stderr",
     "output_type": "stream",
     "text": [
      "Training: 100%|██████████| 1081/1081 [07:18<00:00,  2.47it/s]\n"
     ]
    },
    {
     "name": "stdout",
     "output_type": "stream",
     "text": [
      "Loss: 0.0196 Acc: 0.9943\n",
      "Train Accuracy: 0.9943 F1 Score: 0.9943 Spearman Corr: 0.9901 Specificity: 0.9970 Mean Metrics: 0.9938\n"
     ]
    },
    {
     "name": "stderr",
     "output_type": "stream",
     "text": [
      "Validation: 100%|██████████| 264/264 [00:53<00:00,  4.95it/s]\n"
     ]
    },
    {
     "name": "stdout",
     "output_type": "stream",
     "text": [
      "Val Loss: 0.7886 Val Acc: 0.8483\n",
      "Validation Accuracy: 0.8483 F1 Score: 0.8452 Spearman Corr: 0.6302 Specificity: 0.9165 Mean Metrics: 0.7973\n",
      "Epoch 29/40\n",
      "----------\n"
     ]
    },
    {
     "name": "stderr",
     "output_type": "stream",
     "text": [
      "Training: 100%|██████████| 1081/1081 [07:17<00:00,  2.47it/s]\n"
     ]
    },
    {
     "name": "stdout",
     "output_type": "stream",
     "text": [
      "Loss: 0.0215 Acc: 0.9938\n",
      "Train Accuracy: 0.9938 F1 Score: 0.9937 Spearman Corr: 0.9898 Specificity: 0.9967 Mean Metrics: 0.9934\n"
     ]
    },
    {
     "name": "stderr",
     "output_type": "stream",
     "text": [
      "Validation: 100%|██████████| 264/264 [00:53<00:00,  4.96it/s]\n"
     ]
    },
    {
     "name": "stdout",
     "output_type": "stream",
     "text": [
      "Val Loss: 0.7890 Val Acc: 0.8479\n",
      "Validation Accuracy: 0.8479 F1 Score: 0.8449 Spearman Corr: 0.6380 Specificity: 0.9160 Mean Metrics: 0.7996\n",
      "Epoch 30/40\n",
      "----------\n"
     ]
    },
    {
     "name": "stderr",
     "output_type": "stream",
     "text": [
      "Training: 100%|██████████| 1081/1081 [07:17<00:00,  2.47it/s]\n"
     ]
    },
    {
     "name": "stdout",
     "output_type": "stream",
     "text": [
      "Loss: 0.0172 Acc: 0.9953\n",
      "Train Accuracy: 0.9953 F1 Score: 0.9953 Spearman Corr: 0.9924 Specificity: 0.9976 Mean Metrics: 0.9951\n"
     ]
    },
    {
     "name": "stderr",
     "output_type": "stream",
     "text": [
      "Validation: 100%|██████████| 264/264 [00:52<00:00,  5.01it/s]\n"
     ]
    },
    {
     "name": "stdout",
     "output_type": "stream",
     "text": [
      "Val Loss: 0.7898 Val Acc: 0.8476\n",
      "Validation Accuracy: 0.8476 F1 Score: 0.8452 Spearman Corr: 0.6423 Specificity: 0.9178 Mean Metrics: 0.8018\n",
      "Epoch 31/40\n",
      "----------\n"
     ]
    },
    {
     "name": "stderr",
     "output_type": "stream",
     "text": [
      "Training: 100%|██████████| 1081/1081 [07:22<00:00,  2.44it/s]\n"
     ]
    },
    {
     "name": "stdout",
     "output_type": "stream",
     "text": [
      "Loss: 0.0195 Acc: 0.9939\n",
      "Train Accuracy: 0.9939 F1 Score: 0.9939 Spearman Corr: 0.9892 Specificity: 0.9968 Mean Metrics: 0.9933\n"
     ]
    },
    {
     "name": "stderr",
     "output_type": "stream",
     "text": [
      "Validation: 100%|██████████| 264/264 [00:52<00:00,  5.07it/s]\n"
     ]
    },
    {
     "name": "stdout",
     "output_type": "stream",
     "text": [
      "Val Loss: 0.8116 Val Acc: 0.8474\n",
      "Validation Accuracy: 0.8474 F1 Score: 0.8441 Spearman Corr: 0.6330 Specificity: 0.9158 Mean Metrics: 0.7976\n",
      "Epoch 32/40\n",
      "----------\n"
     ]
    },
    {
     "name": "stderr",
     "output_type": "stream",
     "text": [
      "Training: 100%|██████████| 1081/1081 [07:17<00:00,  2.47it/s]\n"
     ]
    },
    {
     "name": "stdout",
     "output_type": "stream",
     "text": [
      "Loss: 0.0167 Acc: 0.9946\n",
      "Train Accuracy: 0.9946 F1 Score: 0.9946 Spearman Corr: 0.9901 Specificity: 0.9973 Mean Metrics: 0.9940\n"
     ]
    },
    {
     "name": "stderr",
     "output_type": "stream",
     "text": [
      "Validation: 100%|██████████| 264/264 [00:52<00:00,  5.03it/s]\n"
     ]
    },
    {
     "name": "stdout",
     "output_type": "stream",
     "text": [
      "Val Loss: 0.8044 Val Acc: 0.8472\n",
      "Validation Accuracy: 0.8472 F1 Score: 0.8444 Spearman Corr: 0.6364 Specificity: 0.9166 Mean Metrics: 0.7991\n",
      "Epoch 33/40\n",
      "----------\n"
     ]
    },
    {
     "name": "stderr",
     "output_type": "stream",
     "text": [
      "Training: 100%|██████████| 1081/1081 [07:19<00:00,  2.46it/s]\n"
     ]
    },
    {
     "name": "stdout",
     "output_type": "stream",
     "text": [
      "Loss: 0.0168 Acc: 0.9947\n",
      "Train Accuracy: 0.9947 F1 Score: 0.9947 Spearman Corr: 0.9890 Specificity: 0.9973 Mean Metrics: 0.9937\n"
     ]
    },
    {
     "name": "stderr",
     "output_type": "stream",
     "text": [
      "Validation: 100%|██████████| 264/264 [00:51<00:00,  5.09it/s]\n"
     ]
    },
    {
     "name": "stdout",
     "output_type": "stream",
     "text": [
      "Val Loss: 0.7974 Val Acc: 0.8462\n",
      "Validation Accuracy: 0.8462 F1 Score: 0.8440 Spearman Corr: 0.6299 Specificity: 0.9179 Mean Metrics: 0.7973\n",
      "Epoch 34/40\n",
      "----------\n"
     ]
    },
    {
     "name": "stderr",
     "output_type": "stream",
     "text": [
      "Training: 100%|██████████| 1081/1081 [07:19<00:00,  2.46it/s]\n"
     ]
    },
    {
     "name": "stdout",
     "output_type": "stream",
     "text": [
      "Loss: 0.0167 Acc: 0.9953\n",
      "Train Accuracy: 0.9953 F1 Score: 0.9953 Spearman Corr: 0.9919 Specificity: 0.9976 Mean Metrics: 0.9949\n"
     ]
    },
    {
     "name": "stderr",
     "output_type": "stream",
     "text": [
      "Validation: 100%|██████████| 264/264 [00:53<00:00,  4.98it/s]\n"
     ]
    },
    {
     "name": "stdout",
     "output_type": "stream",
     "text": [
      "Val Loss: 0.8080 Val Acc: 0.8457\n",
      "Validation Accuracy: 0.8457 F1 Score: 0.8430 Spearman Corr: 0.6295 Specificity: 0.9167 Mean Metrics: 0.7964\n",
      "Epoch 35/40\n",
      "----------\n"
     ]
    },
    {
     "name": "stderr",
     "output_type": "stream",
     "text": [
      "Training: 100%|██████████| 1081/1081 [07:18<00:00,  2.47it/s]\n"
     ]
    },
    {
     "name": "stdout",
     "output_type": "stream",
     "text": [
      "Loss: 0.0151 Acc: 0.9965\n",
      "Train Accuracy: 0.9965 F1 Score: 0.9965 Spearman Corr: 0.9939 Specificity: 0.9981 Mean Metrics: 0.9961\n"
     ]
    },
    {
     "name": "stderr",
     "output_type": "stream",
     "text": [
      "Validation: 100%|██████████| 264/264 [00:52<00:00,  4.99it/s]\n"
     ]
    },
    {
     "name": "stdout",
     "output_type": "stream",
     "text": [
      "Val Loss: 0.8240 Val Acc: 0.8467\n",
      "Validation Accuracy: 0.8467 F1 Score: 0.8434 Spearman Corr: 0.6312 Specificity: 0.9155 Mean Metrics: 0.7967\n",
      "Epoch 36/40\n",
      "----------\n"
     ]
    },
    {
     "name": "stderr",
     "output_type": "stream",
     "text": [
      "Training: 100%|██████████| 1081/1081 [07:16<00:00,  2.48it/s]\n"
     ]
    },
    {
     "name": "stdout",
     "output_type": "stream",
     "text": [
      "Loss: 0.0158 Acc: 0.9957\n",
      "Train Accuracy: 0.9957 F1 Score: 0.9957 Spearman Corr: 0.9931 Specificity: 0.9977 Mean Metrics: 0.9955\n"
     ]
    },
    {
     "name": "stderr",
     "output_type": "stream",
     "text": [
      "Validation: 100%|██████████| 264/264 [00:54<00:00,  4.88it/s]\n"
     ]
    },
    {
     "name": "stdout",
     "output_type": "stream",
     "text": [
      "Val Loss: 0.8207 Val Acc: 0.8486\n",
      "Validation Accuracy: 0.8486 F1 Score: 0.8454 Spearman Corr: 0.6379 Specificity: 0.9164 Mean Metrics: 0.7999\n",
      "Epoch 37/40\n",
      "----------\n"
     ]
    },
    {
     "name": "stderr",
     "output_type": "stream",
     "text": [
      "Training: 100%|██████████| 1081/1081 [07:18<00:00,  2.46it/s]\n"
     ]
    },
    {
     "name": "stdout",
     "output_type": "stream",
     "text": [
      "Loss: 0.0135 Acc: 0.9958\n",
      "Train Accuracy: 0.9958 F1 Score: 0.9958 Spearman Corr: 0.9922 Specificity: 0.9979 Mean Metrics: 0.9953\n"
     ]
    },
    {
     "name": "stderr",
     "output_type": "stream",
     "text": [
      "Validation: 100%|██████████| 264/264 [00:53<00:00,  4.96it/s]\n"
     ]
    },
    {
     "name": "stdout",
     "output_type": "stream",
     "text": [
      "Val Loss: 0.8254 Val Acc: 0.8462\n",
      "Validation Accuracy: 0.8462 F1 Score: 0.8432 Spearman Corr: 0.6304 Specificity: 0.9160 Mean Metrics: 0.7965\n",
      "Epoch 38/40\n",
      "----------\n"
     ]
    },
    {
     "name": "stderr",
     "output_type": "stream",
     "text": [
      "Training: 100%|██████████| 1081/1081 [07:16<00:00,  2.47it/s]\n"
     ]
    },
    {
     "name": "stdout",
     "output_type": "stream",
     "text": [
      "Loss: 0.0140 Acc: 0.9951\n",
      "Train Accuracy: 0.9951 F1 Score: 0.9951 Spearman Corr: 0.9907 Specificity: 0.9976 Mean Metrics: 0.9944\n"
     ]
    },
    {
     "name": "stderr",
     "output_type": "stream",
     "text": [
      "Validation: 100%|██████████| 264/264 [00:53<00:00,  4.92it/s]\n"
     ]
    },
    {
     "name": "stdout",
     "output_type": "stream",
     "text": [
      "Val Loss: 0.8348 Val Acc: 0.8462\n",
      "Validation Accuracy: 0.8462 F1 Score: 0.8429 Spearman Corr: 0.6305 Specificity: 0.9150 Mean Metrics: 0.7961\n",
      "Epoch 39/40\n",
      "----------\n"
     ]
    },
    {
     "name": "stderr",
     "output_type": "stream",
     "text": [
      "Training: 100%|██████████| 1081/1081 [07:18<00:00,  2.46it/s]\n"
     ]
    },
    {
     "name": "stdout",
     "output_type": "stream",
     "text": [
      "Loss: 0.0131 Acc: 0.9959\n",
      "Train Accuracy: 0.9959 F1 Score: 0.9959 Spearman Corr: 0.9925 Specificity: 0.9978 Mean Metrics: 0.9954\n"
     ]
    },
    {
     "name": "stderr",
     "output_type": "stream",
     "text": [
      "Validation: 100%|██████████| 264/264 [00:53<00:00,  4.96it/s]\n"
     ]
    },
    {
     "name": "stdout",
     "output_type": "stream",
     "text": [
      "Val Loss: 0.8353 Val Acc: 0.8460\n",
      "Validation Accuracy: 0.8460 F1 Score: 0.8433 Spearman Corr: 0.6306 Specificity: 0.9166 Mean Metrics: 0.7969\n",
      "Epoch 40/40\n",
      "----------\n"
     ]
    },
    {
     "name": "stderr",
     "output_type": "stream",
     "text": [
      "Training: 100%|██████████| 1081/1081 [07:18<00:00,  2.47it/s]\n"
     ]
    },
    {
     "name": "stdout",
     "output_type": "stream",
     "text": [
      "Loss: 0.0146 Acc: 0.9957\n",
      "Train Accuracy: 0.9957 F1 Score: 0.9957 Spearman Corr: 0.9928 Specificity: 0.9978 Mean Metrics: 0.9954\n"
     ]
    },
    {
     "name": "stderr",
     "output_type": "stream",
     "text": [
      "Validation: 100%|██████████| 264/264 [00:52<00:00,  5.00it/s]\n"
     ]
    },
    {
     "name": "stdout",
     "output_type": "stream",
     "text": [
      "Val Loss: 0.8400 Val Acc: 0.8464\n",
      "Validation Accuracy: 0.8464 F1 Score: 0.8439 Spearman Corr: 0.6306 Specificity: 0.9172 Mean Metrics: 0.7972\n"
     ]
    },
    {
     "data": {
      "text/plain": [
       "OCTClassifier0(\n",
       "  (model): ConvNeXt(\n",
       "    (stem): Sequential(\n",
       "      (0): Conv2d(1, 192, kernel_size=(4, 4), stride=(4, 4))\n",
       "      (1): LayerNorm2d((192,), eps=1e-06, elementwise_affine=True)\n",
       "    )\n",
       "    (stages): Sequential(\n",
       "      (0): ConvNeXtStage(\n",
       "        (downsample): Identity()\n",
       "        (blocks): Sequential(\n",
       "          (0): ConvNeXtBlock(\n",
       "            (conv_dw): Conv2d(192, 192, kernel_size=(7, 7), stride=(1, 1), padding=(3, 3), groups=192)\n",
       "            (norm): LayerNorm((192,), eps=1e-06, elementwise_affine=True)\n",
       "            (mlp): GlobalResponseNormMlp(\n",
       "              (fc1): Linear(in_features=192, out_features=768, bias=True)\n",
       "              (act): GELU()\n",
       "              (drop1): Dropout(p=0.0, inplace=False)\n",
       "              (grn): GlobalResponseNorm()\n",
       "              (fc2): Linear(in_features=768, out_features=192, bias=True)\n",
       "              (drop2): Dropout(p=0.0, inplace=False)\n",
       "            )\n",
       "            (shortcut): Identity()\n",
       "            (drop_path): Identity()\n",
       "          )\n",
       "          (1): ConvNeXtBlock(\n",
       "            (conv_dw): Conv2d(192, 192, kernel_size=(7, 7), stride=(1, 1), padding=(3, 3), groups=192)\n",
       "            (norm): LayerNorm((192,), eps=1e-06, elementwise_affine=True)\n",
       "            (mlp): GlobalResponseNormMlp(\n",
       "              (fc1): Linear(in_features=192, out_features=768, bias=True)\n",
       "              (act): GELU()\n",
       "              (drop1): Dropout(p=0.0, inplace=False)\n",
       "              (grn): GlobalResponseNorm()\n",
       "              (fc2): Linear(in_features=768, out_features=192, bias=True)\n",
       "              (drop2): Dropout(p=0.0, inplace=False)\n",
       "            )\n",
       "            (shortcut): Identity()\n",
       "            (drop_path): Identity()\n",
       "          )\n",
       "          (2): ConvNeXtBlock(\n",
       "            (conv_dw): Conv2d(192, 192, kernel_size=(7, 7), stride=(1, 1), padding=(3, 3), groups=192)\n",
       "            (norm): LayerNorm((192,), eps=1e-06, elementwise_affine=True)\n",
       "            (mlp): GlobalResponseNormMlp(\n",
       "              (fc1): Linear(in_features=192, out_features=768, bias=True)\n",
       "              (act): GELU()\n",
       "              (drop1): Dropout(p=0.0, inplace=False)\n",
       "              (grn): GlobalResponseNorm()\n",
       "              (fc2): Linear(in_features=768, out_features=192, bias=True)\n",
       "              (drop2): Dropout(p=0.0, inplace=False)\n",
       "            )\n",
       "            (shortcut): Identity()\n",
       "            (drop_path): Identity()\n",
       "          )\n",
       "        )\n",
       "      )\n",
       "      (1): ConvNeXtStage(\n",
       "        (downsample): Sequential(\n",
       "          (0): LayerNorm2d((192,), eps=1e-06, elementwise_affine=True)\n",
       "          (1): Conv2d(192, 384, kernel_size=(2, 2), stride=(2, 2))\n",
       "        )\n",
       "        (blocks): Sequential(\n",
       "          (0): ConvNeXtBlock(\n",
       "            (conv_dw): Conv2d(384, 384, kernel_size=(7, 7), stride=(1, 1), padding=(3, 3), groups=384)\n",
       "            (norm): LayerNorm((384,), eps=1e-06, elementwise_affine=True)\n",
       "            (mlp): GlobalResponseNormMlp(\n",
       "              (fc1): Linear(in_features=384, out_features=1536, bias=True)\n",
       "              (act): GELU()\n",
       "              (drop1): Dropout(p=0.0, inplace=False)\n",
       "              (grn): GlobalResponseNorm()\n",
       "              (fc2): Linear(in_features=1536, out_features=384, bias=True)\n",
       "              (drop2): Dropout(p=0.0, inplace=False)\n",
       "            )\n",
       "            (shortcut): Identity()\n",
       "            (drop_path): Identity()\n",
       "          )\n",
       "          (1): ConvNeXtBlock(\n",
       "            (conv_dw): Conv2d(384, 384, kernel_size=(7, 7), stride=(1, 1), padding=(3, 3), groups=384)\n",
       "            (norm): LayerNorm((384,), eps=1e-06, elementwise_affine=True)\n",
       "            (mlp): GlobalResponseNormMlp(\n",
       "              (fc1): Linear(in_features=384, out_features=1536, bias=True)\n",
       "              (act): GELU()\n",
       "              (drop1): Dropout(p=0.0, inplace=False)\n",
       "              (grn): GlobalResponseNorm()\n",
       "              (fc2): Linear(in_features=1536, out_features=384, bias=True)\n",
       "              (drop2): Dropout(p=0.0, inplace=False)\n",
       "            )\n",
       "            (shortcut): Identity()\n",
       "            (drop_path): Identity()\n",
       "          )\n",
       "          (2): ConvNeXtBlock(\n",
       "            (conv_dw): Conv2d(384, 384, kernel_size=(7, 7), stride=(1, 1), padding=(3, 3), groups=384)\n",
       "            (norm): LayerNorm((384,), eps=1e-06, elementwise_affine=True)\n",
       "            (mlp): GlobalResponseNormMlp(\n",
       "              (fc1): Linear(in_features=384, out_features=1536, bias=True)\n",
       "              (act): GELU()\n",
       "              (drop1): Dropout(p=0.0, inplace=False)\n",
       "              (grn): GlobalResponseNorm()\n",
       "              (fc2): Linear(in_features=1536, out_features=384, bias=True)\n",
       "              (drop2): Dropout(p=0.0, inplace=False)\n",
       "            )\n",
       "            (shortcut): Identity()\n",
       "            (drop_path): Identity()\n",
       "          )\n",
       "        )\n",
       "      )\n",
       "      (2): ConvNeXtStage(\n",
       "        (downsample): Sequential(\n",
       "          (0): LayerNorm2d((384,), eps=1e-06, elementwise_affine=True)\n",
       "          (1): Conv2d(384, 768, kernel_size=(2, 2), stride=(2, 2))\n",
       "        )\n",
       "        (blocks): Sequential(\n",
       "          (0): ConvNeXtBlock(\n",
       "            (conv_dw): Conv2d(768, 768, kernel_size=(7, 7), stride=(1, 1), padding=(3, 3), groups=768)\n",
       "            (norm): LayerNorm((768,), eps=1e-06, elementwise_affine=True)\n",
       "            (mlp): GlobalResponseNormMlp(\n",
       "              (fc1): Linear(in_features=768, out_features=3072, bias=True)\n",
       "              (act): GELU()\n",
       "              (drop1): Dropout(p=0.0, inplace=False)\n",
       "              (grn): GlobalResponseNorm()\n",
       "              (fc2): Linear(in_features=3072, out_features=768, bias=True)\n",
       "              (drop2): Dropout(p=0.0, inplace=False)\n",
       "            )\n",
       "            (shortcut): Identity()\n",
       "            (drop_path): Identity()\n",
       "          )\n",
       "          (1): ConvNeXtBlock(\n",
       "            (conv_dw): Conv2d(768, 768, kernel_size=(7, 7), stride=(1, 1), padding=(3, 3), groups=768)\n",
       "            (norm): LayerNorm((768,), eps=1e-06, elementwise_affine=True)\n",
       "            (mlp): GlobalResponseNormMlp(\n",
       "              (fc1): Linear(in_features=768, out_features=3072, bias=True)\n",
       "              (act): GELU()\n",
       "              (drop1): Dropout(p=0.0, inplace=False)\n",
       "              (grn): GlobalResponseNorm()\n",
       "              (fc2): Linear(in_features=3072, out_features=768, bias=True)\n",
       "              (drop2): Dropout(p=0.0, inplace=False)\n",
       "            )\n",
       "            (shortcut): Identity()\n",
       "            (drop_path): Identity()\n",
       "          )\n",
       "          (2): ConvNeXtBlock(\n",
       "            (conv_dw): Conv2d(768, 768, kernel_size=(7, 7), stride=(1, 1), padding=(3, 3), groups=768)\n",
       "            (norm): LayerNorm((768,), eps=1e-06, elementwise_affine=True)\n",
       "            (mlp): GlobalResponseNormMlp(\n",
       "              (fc1): Linear(in_features=768, out_features=3072, bias=True)\n",
       "              (act): GELU()\n",
       "              (drop1): Dropout(p=0.0, inplace=False)\n",
       "              (grn): GlobalResponseNorm()\n",
       "              (fc2): Linear(in_features=3072, out_features=768, bias=True)\n",
       "              (drop2): Dropout(p=0.0, inplace=False)\n",
       "            )\n",
       "            (shortcut): Identity()\n",
       "            (drop_path): Identity()\n",
       "          )\n",
       "          (3): ConvNeXtBlock(\n",
       "            (conv_dw): Conv2d(768, 768, kernel_size=(7, 7), stride=(1, 1), padding=(3, 3), groups=768)\n",
       "            (norm): LayerNorm((768,), eps=1e-06, elementwise_affine=True)\n",
       "            (mlp): GlobalResponseNormMlp(\n",
       "              (fc1): Linear(in_features=768, out_features=3072, bias=True)\n",
       "              (act): GELU()\n",
       "              (drop1): Dropout(p=0.0, inplace=False)\n",
       "              (grn): GlobalResponseNorm()\n",
       "              (fc2): Linear(in_features=3072, out_features=768, bias=True)\n",
       "              (drop2): Dropout(p=0.0, inplace=False)\n",
       "            )\n",
       "            (shortcut): Identity()\n",
       "            (drop_path): Identity()\n",
       "          )\n",
       "          (4): ConvNeXtBlock(\n",
       "            (conv_dw): Conv2d(768, 768, kernel_size=(7, 7), stride=(1, 1), padding=(3, 3), groups=768)\n",
       "            (norm): LayerNorm((768,), eps=1e-06, elementwise_affine=True)\n",
       "            (mlp): GlobalResponseNormMlp(\n",
       "              (fc1): Linear(in_features=768, out_features=3072, bias=True)\n",
       "              (act): GELU()\n",
       "              (drop1): Dropout(p=0.0, inplace=False)\n",
       "              (grn): GlobalResponseNorm()\n",
       "              (fc2): Linear(in_features=3072, out_features=768, bias=True)\n",
       "              (drop2): Dropout(p=0.0, inplace=False)\n",
       "            )\n",
       "            (shortcut): Identity()\n",
       "            (drop_path): Identity()\n",
       "          )\n",
       "          (5): ConvNeXtBlock(\n",
       "            (conv_dw): Conv2d(768, 768, kernel_size=(7, 7), stride=(1, 1), padding=(3, 3), groups=768)\n",
       "            (norm): LayerNorm((768,), eps=1e-06, elementwise_affine=True)\n",
       "            (mlp): GlobalResponseNormMlp(\n",
       "              (fc1): Linear(in_features=768, out_features=3072, bias=True)\n",
       "              (act): GELU()\n",
       "              (drop1): Dropout(p=0.0, inplace=False)\n",
       "              (grn): GlobalResponseNorm()\n",
       "              (fc2): Linear(in_features=3072, out_features=768, bias=True)\n",
       "              (drop2): Dropout(p=0.0, inplace=False)\n",
       "            )\n",
       "            (shortcut): Identity()\n",
       "            (drop_path): Identity()\n",
       "          )\n",
       "          (6): ConvNeXtBlock(\n",
       "            (conv_dw): Conv2d(768, 768, kernel_size=(7, 7), stride=(1, 1), padding=(3, 3), groups=768)\n",
       "            (norm): LayerNorm((768,), eps=1e-06, elementwise_affine=True)\n",
       "            (mlp): GlobalResponseNormMlp(\n",
       "              (fc1): Linear(in_features=768, out_features=3072, bias=True)\n",
       "              (act): GELU()\n",
       "              (drop1): Dropout(p=0.0, inplace=False)\n",
       "              (grn): GlobalResponseNorm()\n",
       "              (fc2): Linear(in_features=3072, out_features=768, bias=True)\n",
       "              (drop2): Dropout(p=0.0, inplace=False)\n",
       "            )\n",
       "            (shortcut): Identity()\n",
       "            (drop_path): Identity()\n",
       "          )\n",
       "          (7): ConvNeXtBlock(\n",
       "            (conv_dw): Conv2d(768, 768, kernel_size=(7, 7), stride=(1, 1), padding=(3, 3), groups=768)\n",
       "            (norm): LayerNorm((768,), eps=1e-06, elementwise_affine=True)\n",
       "            (mlp): GlobalResponseNormMlp(\n",
       "              (fc1): Linear(in_features=768, out_features=3072, bias=True)\n",
       "              (act): GELU()\n",
       "              (drop1): Dropout(p=0.0, inplace=False)\n",
       "              (grn): GlobalResponseNorm()\n",
       "              (fc2): Linear(in_features=3072, out_features=768, bias=True)\n",
       "              (drop2): Dropout(p=0.0, inplace=False)\n",
       "            )\n",
       "            (shortcut): Identity()\n",
       "            (drop_path): Identity()\n",
       "          )\n",
       "          (8): ConvNeXtBlock(\n",
       "            (conv_dw): Conv2d(768, 768, kernel_size=(7, 7), stride=(1, 1), padding=(3, 3), groups=768)\n",
       "            (norm): LayerNorm((768,), eps=1e-06, elementwise_affine=True)\n",
       "            (mlp): GlobalResponseNormMlp(\n",
       "              (fc1): Linear(in_features=768, out_features=3072, bias=True)\n",
       "              (act): GELU()\n",
       "              (drop1): Dropout(p=0.0, inplace=False)\n",
       "              (grn): GlobalResponseNorm()\n",
       "              (fc2): Linear(in_features=3072, out_features=768, bias=True)\n",
       "              (drop2): Dropout(p=0.0, inplace=False)\n",
       "            )\n",
       "            (shortcut): Identity()\n",
       "            (drop_path): Identity()\n",
       "          )\n",
       "          (9): ConvNeXtBlock(\n",
       "            (conv_dw): Conv2d(768, 768, kernel_size=(7, 7), stride=(1, 1), padding=(3, 3), groups=768)\n",
       "            (norm): LayerNorm((768,), eps=1e-06, elementwise_affine=True)\n",
       "            (mlp): GlobalResponseNormMlp(\n",
       "              (fc1): Linear(in_features=768, out_features=3072, bias=True)\n",
       "              (act): GELU()\n",
       "              (drop1): Dropout(p=0.0, inplace=False)\n",
       "              (grn): GlobalResponseNorm()\n",
       "              (fc2): Linear(in_features=3072, out_features=768, bias=True)\n",
       "              (drop2): Dropout(p=0.0, inplace=False)\n",
       "            )\n",
       "            (shortcut): Identity()\n",
       "            (drop_path): Identity()\n",
       "          )\n",
       "          (10): ConvNeXtBlock(\n",
       "            (conv_dw): Conv2d(768, 768, kernel_size=(7, 7), stride=(1, 1), padding=(3, 3), groups=768)\n",
       "            (norm): LayerNorm((768,), eps=1e-06, elementwise_affine=True)\n",
       "            (mlp): GlobalResponseNormMlp(\n",
       "              (fc1): Linear(in_features=768, out_features=3072, bias=True)\n",
       "              (act): GELU()\n",
       "              (drop1): Dropout(p=0.0, inplace=False)\n",
       "              (grn): GlobalResponseNorm()\n",
       "              (fc2): Linear(in_features=3072, out_features=768, bias=True)\n",
       "              (drop2): Dropout(p=0.0, inplace=False)\n",
       "            )\n",
       "            (shortcut): Identity()\n",
       "            (drop_path): Identity()\n",
       "          )\n",
       "          (11): ConvNeXtBlock(\n",
       "            (conv_dw): Conv2d(768, 768, kernel_size=(7, 7), stride=(1, 1), padding=(3, 3), groups=768)\n",
       "            (norm): LayerNorm((768,), eps=1e-06, elementwise_affine=True)\n",
       "            (mlp): GlobalResponseNormMlp(\n",
       "              (fc1): Linear(in_features=768, out_features=3072, bias=True)\n",
       "              (act): GELU()\n",
       "              (drop1): Dropout(p=0.0, inplace=False)\n",
       "              (grn): GlobalResponseNorm()\n",
       "              (fc2): Linear(in_features=3072, out_features=768, bias=True)\n",
       "              (drop2): Dropout(p=0.0, inplace=False)\n",
       "            )\n",
       "            (shortcut): Identity()\n",
       "            (drop_path): Identity()\n",
       "          )\n",
       "          (12): ConvNeXtBlock(\n",
       "            (conv_dw): Conv2d(768, 768, kernel_size=(7, 7), stride=(1, 1), padding=(3, 3), groups=768)\n",
       "            (norm): LayerNorm((768,), eps=1e-06, elementwise_affine=True)\n",
       "            (mlp): GlobalResponseNormMlp(\n",
       "              (fc1): Linear(in_features=768, out_features=3072, bias=True)\n",
       "              (act): GELU()\n",
       "              (drop1): Dropout(p=0.0, inplace=False)\n",
       "              (grn): GlobalResponseNorm()\n",
       "              (fc2): Linear(in_features=3072, out_features=768, bias=True)\n",
       "              (drop2): Dropout(p=0.0, inplace=False)\n",
       "            )\n",
       "            (shortcut): Identity()\n",
       "            (drop_path): Identity()\n",
       "          )\n",
       "          (13): ConvNeXtBlock(\n",
       "            (conv_dw): Conv2d(768, 768, kernel_size=(7, 7), stride=(1, 1), padding=(3, 3), groups=768)\n",
       "            (norm): LayerNorm((768,), eps=1e-06, elementwise_affine=True)\n",
       "            (mlp): GlobalResponseNormMlp(\n",
       "              (fc1): Linear(in_features=768, out_features=3072, bias=True)\n",
       "              (act): GELU()\n",
       "              (drop1): Dropout(p=0.0, inplace=False)\n",
       "              (grn): GlobalResponseNorm()\n",
       "              (fc2): Linear(in_features=3072, out_features=768, bias=True)\n",
       "              (drop2): Dropout(p=0.0, inplace=False)\n",
       "            )\n",
       "            (shortcut): Identity()\n",
       "            (drop_path): Identity()\n",
       "          )\n",
       "          (14): ConvNeXtBlock(\n",
       "            (conv_dw): Conv2d(768, 768, kernel_size=(7, 7), stride=(1, 1), padding=(3, 3), groups=768)\n",
       "            (norm): LayerNorm((768,), eps=1e-06, elementwise_affine=True)\n",
       "            (mlp): GlobalResponseNormMlp(\n",
       "              (fc1): Linear(in_features=768, out_features=3072, bias=True)\n",
       "              (act): GELU()\n",
       "              (drop1): Dropout(p=0.0, inplace=False)\n",
       "              (grn): GlobalResponseNorm()\n",
       "              (fc2): Linear(in_features=3072, out_features=768, bias=True)\n",
       "              (drop2): Dropout(p=0.0, inplace=False)\n",
       "            )\n",
       "            (shortcut): Identity()\n",
       "            (drop_path): Identity()\n",
       "          )\n",
       "          (15): ConvNeXtBlock(\n",
       "            (conv_dw): Conv2d(768, 768, kernel_size=(7, 7), stride=(1, 1), padding=(3, 3), groups=768)\n",
       "            (norm): LayerNorm((768,), eps=1e-06, elementwise_affine=True)\n",
       "            (mlp): GlobalResponseNormMlp(\n",
       "              (fc1): Linear(in_features=768, out_features=3072, bias=True)\n",
       "              (act): GELU()\n",
       "              (drop1): Dropout(p=0.0, inplace=False)\n",
       "              (grn): GlobalResponseNorm()\n",
       "              (fc2): Linear(in_features=3072, out_features=768, bias=True)\n",
       "              (drop2): Dropout(p=0.0, inplace=False)\n",
       "            )\n",
       "            (shortcut): Identity()\n",
       "            (drop_path): Identity()\n",
       "          )\n",
       "          (16): ConvNeXtBlock(\n",
       "            (conv_dw): Conv2d(768, 768, kernel_size=(7, 7), stride=(1, 1), padding=(3, 3), groups=768)\n",
       "            (norm): LayerNorm((768,), eps=1e-06, elementwise_affine=True)\n",
       "            (mlp): GlobalResponseNormMlp(\n",
       "              (fc1): Linear(in_features=768, out_features=3072, bias=True)\n",
       "              (act): GELU()\n",
       "              (drop1): Dropout(p=0.0, inplace=False)\n",
       "              (grn): GlobalResponseNorm()\n",
       "              (fc2): Linear(in_features=3072, out_features=768, bias=True)\n",
       "              (drop2): Dropout(p=0.0, inplace=False)\n",
       "            )\n",
       "            (shortcut): Identity()\n",
       "            (drop_path): Identity()\n",
       "          )\n",
       "          (17): ConvNeXtBlock(\n",
       "            (conv_dw): Conv2d(768, 768, kernel_size=(7, 7), stride=(1, 1), padding=(3, 3), groups=768)\n",
       "            (norm): LayerNorm((768,), eps=1e-06, elementwise_affine=True)\n",
       "            (mlp): GlobalResponseNormMlp(\n",
       "              (fc1): Linear(in_features=768, out_features=3072, bias=True)\n",
       "              (act): GELU()\n",
       "              (drop1): Dropout(p=0.0, inplace=False)\n",
       "              (grn): GlobalResponseNorm()\n",
       "              (fc2): Linear(in_features=3072, out_features=768, bias=True)\n",
       "              (drop2): Dropout(p=0.0, inplace=False)\n",
       "            )\n",
       "            (shortcut): Identity()\n",
       "            (drop_path): Identity()\n",
       "          )\n",
       "          (18): ConvNeXtBlock(\n",
       "            (conv_dw): Conv2d(768, 768, kernel_size=(7, 7), stride=(1, 1), padding=(3, 3), groups=768)\n",
       "            (norm): LayerNorm((768,), eps=1e-06, elementwise_affine=True)\n",
       "            (mlp): GlobalResponseNormMlp(\n",
       "              (fc1): Linear(in_features=768, out_features=3072, bias=True)\n",
       "              (act): GELU()\n",
       "              (drop1): Dropout(p=0.0, inplace=False)\n",
       "              (grn): GlobalResponseNorm()\n",
       "              (fc2): Linear(in_features=3072, out_features=768, bias=True)\n",
       "              (drop2): Dropout(p=0.0, inplace=False)\n",
       "            )\n",
       "            (shortcut): Identity()\n",
       "            (drop_path): Identity()\n",
       "          )\n",
       "          (19): ConvNeXtBlock(\n",
       "            (conv_dw): Conv2d(768, 768, kernel_size=(7, 7), stride=(1, 1), padding=(3, 3), groups=768)\n",
       "            (norm): LayerNorm((768,), eps=1e-06, elementwise_affine=True)\n",
       "            (mlp): GlobalResponseNormMlp(\n",
       "              (fc1): Linear(in_features=768, out_features=3072, bias=True)\n",
       "              (act): GELU()\n",
       "              (drop1): Dropout(p=0.0, inplace=False)\n",
       "              (grn): GlobalResponseNorm()\n",
       "              (fc2): Linear(in_features=3072, out_features=768, bias=True)\n",
       "              (drop2): Dropout(p=0.0, inplace=False)\n",
       "            )\n",
       "            (shortcut): Identity()\n",
       "            (drop_path): Identity()\n",
       "          )\n",
       "          (20): ConvNeXtBlock(\n",
       "            (conv_dw): Conv2d(768, 768, kernel_size=(7, 7), stride=(1, 1), padding=(3, 3), groups=768)\n",
       "            (norm): LayerNorm((768,), eps=1e-06, elementwise_affine=True)\n",
       "            (mlp): GlobalResponseNormMlp(\n",
       "              (fc1): Linear(in_features=768, out_features=3072, bias=True)\n",
       "              (act): GELU()\n",
       "              (drop1): Dropout(p=0.0, inplace=False)\n",
       "              (grn): GlobalResponseNorm()\n",
       "              (fc2): Linear(in_features=3072, out_features=768, bias=True)\n",
       "              (drop2): Dropout(p=0.0, inplace=False)\n",
       "            )\n",
       "            (shortcut): Identity()\n",
       "            (drop_path): Identity()\n",
       "          )\n",
       "          (21): ConvNeXtBlock(\n",
       "            (conv_dw): Conv2d(768, 768, kernel_size=(7, 7), stride=(1, 1), padding=(3, 3), groups=768)\n",
       "            (norm): LayerNorm((768,), eps=1e-06, elementwise_affine=True)\n",
       "            (mlp): GlobalResponseNormMlp(\n",
       "              (fc1): Linear(in_features=768, out_features=3072, bias=True)\n",
       "              (act): GELU()\n",
       "              (drop1): Dropout(p=0.0, inplace=False)\n",
       "              (grn): GlobalResponseNorm()\n",
       "              (fc2): Linear(in_features=3072, out_features=768, bias=True)\n",
       "              (drop2): Dropout(p=0.0, inplace=False)\n",
       "            )\n",
       "            (shortcut): Identity()\n",
       "            (drop_path): Identity()\n",
       "          )\n",
       "          (22): ConvNeXtBlock(\n",
       "            (conv_dw): Conv2d(768, 768, kernel_size=(7, 7), stride=(1, 1), padding=(3, 3), groups=768)\n",
       "            (norm): LayerNorm((768,), eps=1e-06, elementwise_affine=True)\n",
       "            (mlp): GlobalResponseNormMlp(\n",
       "              (fc1): Linear(in_features=768, out_features=3072, bias=True)\n",
       "              (act): GELU()\n",
       "              (drop1): Dropout(p=0.0, inplace=False)\n",
       "              (grn): GlobalResponseNorm()\n",
       "              (fc2): Linear(in_features=3072, out_features=768, bias=True)\n",
       "              (drop2): Dropout(p=0.0, inplace=False)\n",
       "            )\n",
       "            (shortcut): Identity()\n",
       "            (drop_path): Identity()\n",
       "          )\n",
       "          (23): ConvNeXtBlock(\n",
       "            (conv_dw): Conv2d(768, 768, kernel_size=(7, 7), stride=(1, 1), padding=(3, 3), groups=768)\n",
       "            (norm): LayerNorm((768,), eps=1e-06, elementwise_affine=True)\n",
       "            (mlp): GlobalResponseNormMlp(\n",
       "              (fc1): Linear(in_features=768, out_features=3072, bias=True)\n",
       "              (act): GELU()\n",
       "              (drop1): Dropout(p=0.0, inplace=False)\n",
       "              (grn): GlobalResponseNorm()\n",
       "              (fc2): Linear(in_features=3072, out_features=768, bias=True)\n",
       "              (drop2): Dropout(p=0.0, inplace=False)\n",
       "            )\n",
       "            (shortcut): Identity()\n",
       "            (drop_path): Identity()\n",
       "          )\n",
       "          (24): ConvNeXtBlock(\n",
       "            (conv_dw): Conv2d(768, 768, kernel_size=(7, 7), stride=(1, 1), padding=(3, 3), groups=768)\n",
       "            (norm): LayerNorm((768,), eps=1e-06, elementwise_affine=True)\n",
       "            (mlp): GlobalResponseNormMlp(\n",
       "              (fc1): Linear(in_features=768, out_features=3072, bias=True)\n",
       "              (act): GELU()\n",
       "              (drop1): Dropout(p=0.0, inplace=False)\n",
       "              (grn): GlobalResponseNorm()\n",
       "              (fc2): Linear(in_features=3072, out_features=768, bias=True)\n",
       "              (drop2): Dropout(p=0.0, inplace=False)\n",
       "            )\n",
       "            (shortcut): Identity()\n",
       "            (drop_path): Identity()\n",
       "          )\n",
       "          (25): ConvNeXtBlock(\n",
       "            (conv_dw): Conv2d(768, 768, kernel_size=(7, 7), stride=(1, 1), padding=(3, 3), groups=768)\n",
       "            (norm): LayerNorm((768,), eps=1e-06, elementwise_affine=True)\n",
       "            (mlp): GlobalResponseNormMlp(\n",
       "              (fc1): Linear(in_features=768, out_features=3072, bias=True)\n",
       "              (act): GELU()\n",
       "              (drop1): Dropout(p=0.0, inplace=False)\n",
       "              (grn): GlobalResponseNorm()\n",
       "              (fc2): Linear(in_features=3072, out_features=768, bias=True)\n",
       "              (drop2): Dropout(p=0.0, inplace=False)\n",
       "            )\n",
       "            (shortcut): Identity()\n",
       "            (drop_path): Identity()\n",
       "          )\n",
       "          (26): ConvNeXtBlock(\n",
       "            (conv_dw): Conv2d(768, 768, kernel_size=(7, 7), stride=(1, 1), padding=(3, 3), groups=768)\n",
       "            (norm): LayerNorm((768,), eps=1e-06, elementwise_affine=True)\n",
       "            (mlp): GlobalResponseNormMlp(\n",
       "              (fc1): Linear(in_features=768, out_features=3072, bias=True)\n",
       "              (act): GELU()\n",
       "              (drop1): Dropout(p=0.0, inplace=False)\n",
       "              (grn): GlobalResponseNorm()\n",
       "              (fc2): Linear(in_features=3072, out_features=768, bias=True)\n",
       "              (drop2): Dropout(p=0.0, inplace=False)\n",
       "            )\n",
       "            (shortcut): Identity()\n",
       "            (drop_path): Identity()\n",
       "          )\n",
       "        )\n",
       "      )\n",
       "      (3): ConvNeXtStage(\n",
       "        (downsample): Sequential(\n",
       "          (0): LayerNorm2d((768,), eps=1e-06, elementwise_affine=True)\n",
       "          (1): Conv2d(768, 1536, kernel_size=(2, 2), stride=(2, 2))\n",
       "        )\n",
       "        (blocks): Sequential(\n",
       "          (0): ConvNeXtBlock(\n",
       "            (conv_dw): Conv2d(1536, 1536, kernel_size=(7, 7), stride=(1, 1), padding=(3, 3), groups=1536)\n",
       "            (norm): LayerNorm((1536,), eps=1e-06, elementwise_affine=True)\n",
       "            (mlp): GlobalResponseNormMlp(\n",
       "              (fc1): Linear(in_features=1536, out_features=6144, bias=True)\n",
       "              (act): GELU()\n",
       "              (drop1): Dropout(p=0.0, inplace=False)\n",
       "              (grn): GlobalResponseNorm()\n",
       "              (fc2): Linear(in_features=6144, out_features=1536, bias=True)\n",
       "              (drop2): Dropout(p=0.0, inplace=False)\n",
       "            )\n",
       "            (shortcut): Identity()\n",
       "            (drop_path): Identity()\n",
       "          )\n",
       "          (1): ConvNeXtBlock(\n",
       "            (conv_dw): Conv2d(1536, 1536, kernel_size=(7, 7), stride=(1, 1), padding=(3, 3), groups=1536)\n",
       "            (norm): LayerNorm((1536,), eps=1e-06, elementwise_affine=True)\n",
       "            (mlp): GlobalResponseNormMlp(\n",
       "              (fc1): Linear(in_features=1536, out_features=6144, bias=True)\n",
       "              (act): GELU()\n",
       "              (drop1): Dropout(p=0.0, inplace=False)\n",
       "              (grn): GlobalResponseNorm()\n",
       "              (fc2): Linear(in_features=6144, out_features=1536, bias=True)\n",
       "              (drop2): Dropout(p=0.0, inplace=False)\n",
       "            )\n",
       "            (shortcut): Identity()\n",
       "            (drop_path): Identity()\n",
       "          )\n",
       "          (2): ConvNeXtBlock(\n",
       "            (conv_dw): Conv2d(1536, 1536, kernel_size=(7, 7), stride=(1, 1), padding=(3, 3), groups=1536)\n",
       "            (norm): LayerNorm((1536,), eps=1e-06, elementwise_affine=True)\n",
       "            (mlp): GlobalResponseNormMlp(\n",
       "              (fc1): Linear(in_features=1536, out_features=6144, bias=True)\n",
       "              (act): GELU()\n",
       "              (drop1): Dropout(p=0.0, inplace=False)\n",
       "              (grn): GlobalResponseNorm()\n",
       "              (fc2): Linear(in_features=6144, out_features=1536, bias=True)\n",
       "              (drop2): Dropout(p=0.0, inplace=False)\n",
       "            )\n",
       "            (shortcut): Identity()\n",
       "            (drop_path): Identity()\n",
       "          )\n",
       "        )\n",
       "      )\n",
       "    )\n",
       "    (norm_pre): Identity()\n",
       "    (head): NormMlpClassifierHead(\n",
       "      (global_pool): SelectAdaptivePool2d(pool_type=avg, flatten=Identity())\n",
       "      (norm): LayerNorm2d((1536,), eps=1e-06, elementwise_affine=True)\n",
       "      (flatten): Flatten(start_dim=1, end_dim=-1)\n",
       "      (pre_logits): Identity()\n",
       "      (drop): Dropout(p=0.0, inplace=False)\n",
       "      (fc): Identity()\n",
       "    )\n",
       "  )\n",
       "  (fc_single): Sequential(\n",
       "    (0): Linear(in_features=1536, out_features=512, bias=True)\n",
       "    (1): ReLU()\n",
       "    (2): Linear(in_features=512, out_features=256, bias=True)\n",
       "  )\n",
       "  (fc_diff): Sequential(\n",
       "    (0): Linear(in_features=1536, out_features=512, bias=True)\n",
       "    (1): ReLU()\n",
       "    (2): Linear(in_features=512, out_features=256, bias=True)\n",
       "  )\n",
       "  (fc_final): Sequential(\n",
       "    (0): Linear(in_features=768, out_features=512, bias=True)\n",
       "    (1): ReLU()\n",
       "    (2): Linear(in_features=512, out_features=4, bias=True)\n",
       "  )\n",
       ")"
      ]
     },
     "execution_count": 2,
     "metadata": {},
     "output_type": "execute_result"
    }
   ],
   "execution_count": 2
  },
  {
   "metadata": {
    "ExecuteTime": {
     "end_time": "2024-08-09T00:24:14.154553Z",
     "start_time": "2024-08-08T20:58:23.059586Z"
    }
   },
   "cell_type": "code",
   "source": [
    "import pandas as pd\n",
    "import random\n",
    "\n",
    "import torch\n",
    "import torch.nn as nn\n",
    "import torch.optim as optim\n",
    "import numpy as np\n",
    "from torch.utils.data import DataLoader, random_split\n",
    "from torchvision import transforms, models\n",
    "import OCTData\n",
    "from evaluate import evaluate_model\n",
    "from models import OCTClassifier0\n",
    "from training import train_model\n",
    "from config import config\n",
    "from torchvision.transforms import AutoAugment, RandAugment, AutoAugmentPolicy, InterpolationMode\n",
    "from albumentations.pytorch import ToTensorV2\n",
    "\n",
    "def set_seed(seed):\n",
    "    random.seed(seed)\n",
    "    np.random.seed(seed)\n",
    "    torch.manual_seed(seed)\n",
    "    if torch.cuda.is_available():\n",
    "        torch.cuda.manual_seed(seed)\n",
    "        torch.cuda.manual_seed_all(seed)\n",
    "    torch.backends.cudnn.deterministic = True\n",
    "    torch.backends.cudnn.benchmark = False\n",
    "    generator = torch.Generator().manual_seed(seed)\n",
    "    return generator\n",
    "\n",
    "\n",
    "\n",
    "generator= set_seed(config.seed)  # 你可以选择任何整数作为种子\n",
    "\n",
    "transform = transforms.Compose([\n",
    "    # SquarePad(),  # 填充到正方形\n",
    "    transforms.Resize((224, 224)),\n",
    "    transforms.ToTensor(),\n",
    "    transforms.Normalize(mean=[0.5], std=[0.5]), # ??\n",
    "])\n",
    "\n",
    "#aug3 more\n",
    "train_transform = transforms.Compose([\n",
    "        transforms.RandomApply([transforms.ColorJitter(brightness=0.25, contrast=0.25)], p=0.25),\n",
    "        transforms.RandomApply([transforms.GaussianBlur(kernel_size=(5, 9), sigma=(0.1, 5))], p=0.15),\n",
    "        transforms.RandomAffine(degrees=25, scale=(0.8, 1.2), translate=(0.1, 0.1)),\n",
    "        transforms.RandomHorizontalFlip(p=0.3),\n",
    "        transforms.Resize((224, 224)),\n",
    "        transforms.ToTensor(),\n",
    "        transforms.Normalize(mean=[0.5], std=[0.5]),\n",
    "    ])\n",
    "\n",
    "\n",
    "# 验证集不进行数据增强，只进行基本的预处理\n",
    "val_transform = transforms.Compose([\n",
    "    transforms.Resize((224, 224)),\n",
    "    transforms.ToTensor(),\n",
    "    transforms.Normalize(mean=[0.5], std=[0.5])\n",
    "])\n",
    "\n",
    "\n",
    "\n",
    "train_data_frame = pd.read_csv(config.final_train_csv_file)\n",
    "val_data_frame = pd.read_csv(config.final_val_csv_file)\n",
    "\n",
    "# 为训练和验证集分别创建不同的 Dataset 实例，并应用不同的 transforms\n",
    "train_dataset = OCTData.OCTData(train_data_frame, root_dir=config.final_root_dir, transform=train_transform)\n",
    "val_dataset = OCTData.OCTData(val_data_frame, root_dir=config.final_root_dir, transform=val_transform)\n",
    "\n",
    "# 创建数据加载器\n",
    "train_loader = DataLoader(train_dataset, batch_size=config.batch_size, shuffle=True)\n",
    "val_loader = DataLoader(val_dataset, batch_size=config.batch_size, shuffle=False)\n",
    "\n",
    "\n",
    "\n",
    "\n",
    "model = OCTClassifier0()\n",
    "\n",
    "device = torch.device(\"cuda:0\" if torch.cuda.is_available() else \"cpu\")\n",
    "model = model.to(device)\n",
    "# checkpoint_path = \"data/model/convnextv2_large_v3/epoch_45_split_0.8_bs_16_lr_5e-07.pth\"\n",
    "# checkpoint = torch.load(checkpoint_path)\n",
    "# model.load_state_dict(checkpoint)\n",
    "\n",
    "criterion = nn.CrossEntropyLoss()\n",
    "optimizer = optim.Adam(model.parameters(), lr=config.lr)    \n",
    "\n",
    "train_model(model, train_loader, val_loader, criterion, optimizer, num_epochs=config.num_epochs)\n",
    "\n",
    "\n",
    "\n",
    "\n"
   ],
   "id": "6e8076323acf37e",
   "outputs": [
    {
     "name": "stderr",
     "output_type": "stream",
     "text": [
      "INFO:albumentations.check_version:A new version of Albumentations is available: 1.4.13 (you have 1.4.12). Upgrade using: pip install -U albumentations. To disable automatic update checks, set the environment variable NO_ALBUMENTATIONS_UPDATE to 1.\n",
      "INFO:timm.models._builder:Loading pretrained weights from Hugging Face hub (timm/convnextv2_large.fcmae_ft_in22k_in1k)\n",
      "INFO:timm.models._hub:[timm/convnextv2_large.fcmae_ft_in22k_in1k] Safe alternative available for 'pytorch_model.bin' (as 'model.safetensors'). Loading weights using safetensors.\n"
     ]
    },
    {
     "name": "stdout",
     "output_type": "stream",
     "text": [
      "Epoch 0/60\n",
      "----------\n"
     ]
    },
    {
     "name": "stderr",
     "output_type": "stream",
     "text": [
      "Training: 100%|██████████| 1086/1086 [07:25<00:00,  2.44it/s]\n"
     ]
    },
    {
     "name": "stdout",
     "output_type": "stream",
     "text": [
      "Loss: 0.7053 Acc: 0.7393\n",
      "Train Accuracy: 0.7393 F1 Score: 0.7111 Spearman Corr: 0.3643 Specificity: 0.8463 Mean Metrics: 0.6406\n"
     ]
    },
    {
     "name": "stderr",
     "output_type": "stream",
     "text": [
      "Validation: 100%|██████████| 259/259 [00:52<00:00,  4.93it/s]\n"
     ]
    },
    {
     "name": "stdout",
     "output_type": "stream",
     "text": [
      "Val Loss: 0.5282 Val Acc: 0.7998\n",
      "Validation Accuracy: 0.7998 F1 Score: 0.8009 Spearman Corr: 0.5479 Specificity: 0.9107 Mean Metrics: 0.7532\n",
      "Epoch 1/60\n",
      "----------\n"
     ]
    },
    {
     "name": "stderr",
     "output_type": "stream",
     "text": [
      "Training: 100%|██████████| 1086/1086 [07:25<00:00,  2.44it/s]\n"
     ]
    },
    {
     "name": "stdout",
     "output_type": "stream",
     "text": [
      "Loss: 0.4814 Acc: 0.8235\n",
      "Train Accuracy: 0.8235 F1 Score: 0.8183 Spearman Corr: 0.6208 Specificity: 0.9069 Mean Metrics: 0.7820\n"
     ]
    },
    {
     "name": "stderr",
     "output_type": "stream",
     "text": [
      "Validation: 100%|██████████| 259/259 [00:51<00:00,  5.02it/s]\n"
     ]
    },
    {
     "name": "stdout",
     "output_type": "stream",
     "text": [
      "Val Loss: 0.4781 Val Acc: 0.8259\n",
      "Validation Accuracy: 0.8259 F1 Score: 0.8126 Spearman Corr: 0.5906 Specificity: 0.8944 Mean Metrics: 0.7658\n",
      "Epoch 2/60\n",
      "----------\n"
     ]
    },
    {
     "name": "stderr",
     "output_type": "stream",
     "text": [
      "Training: 100%|██████████| 1086/1086 [07:27<00:00,  2.43it/s]\n"
     ]
    },
    {
     "name": "stdout",
     "output_type": "stream",
     "text": [
      "Loss: 0.3945 Acc: 0.8596\n",
      "Train Accuracy: 0.8596 F1 Score: 0.8564 Spearman Corr: 0.7101 Specificity: 0.9248 Mean Metrics: 0.8304\n"
     ]
    },
    {
     "name": "stderr",
     "output_type": "stream",
     "text": [
      "Validation: 100%|██████████| 259/259 [00:53<00:00,  4.87it/s]\n"
     ]
    },
    {
     "name": "stdout",
     "output_type": "stream",
     "text": [
      "Val Loss: 0.4637 Val Acc: 0.8303\n",
      "Validation Accuracy: 0.8303 F1 Score: 0.8185 Spearman Corr: 0.5980 Specificity: 0.8990 Mean Metrics: 0.7718\n",
      "Epoch 3/60\n",
      "----------\n"
     ]
    },
    {
     "name": "stderr",
     "output_type": "stream",
     "text": [
      "Training: 100%|██████████| 1086/1086 [07:27<00:00,  2.43it/s]\n"
     ]
    },
    {
     "name": "stdout",
     "output_type": "stream",
     "text": [
      "Loss: 0.3442 Acc: 0.8778\n",
      "Train Accuracy: 0.8778 F1 Score: 0.8755 Spearman Corr: 0.7518 Specificity: 0.9350 Mean Metrics: 0.8541\n"
     ]
    },
    {
     "name": "stderr",
     "output_type": "stream",
     "text": [
      "Validation: 100%|██████████| 259/259 [00:54<00:00,  4.79it/s]\n"
     ]
    },
    {
     "name": "stdout",
     "output_type": "stream",
     "text": [
      "Val Loss: 0.4629 Val Acc: 0.8266\n",
      "Validation Accuracy: 0.8266 F1 Score: 0.8095 Spearman Corr: 0.6131 Specificity: 0.8851 Mean Metrics: 0.7692\n",
      "Epoch 4/60\n",
      "----------\n"
     ]
    },
    {
     "name": "stderr",
     "output_type": "stream",
     "text": [
      "Training: 100%|██████████| 1086/1086 [07:26<00:00,  2.43it/s]\n"
     ]
    },
    {
     "name": "stdout",
     "output_type": "stream",
     "text": [
      "Loss: 0.2966 Acc: 0.8966\n",
      "Train Accuracy: 0.8966 F1 Score: 0.8950 Spearman Corr: 0.7997 Specificity: 0.9443 Mean Metrics: 0.8797\n"
     ]
    },
    {
     "name": "stderr",
     "output_type": "stream",
     "text": [
      "Validation: 100%|██████████| 259/259 [00:52<00:00,  4.89it/s]\n"
     ]
    },
    {
     "name": "stdout",
     "output_type": "stream",
     "text": [
      "Val Loss: 0.4151 Val Acc: 0.8450\n",
      "Validation Accuracy: 0.8450 F1 Score: 0.8375 Spearman Corr: 0.6258 Specificity: 0.9129 Mean Metrics: 0.7921\n",
      "Epoch 5/60\n",
      "----------\n"
     ]
    },
    {
     "name": "stderr",
     "output_type": "stream",
     "text": [
      "Training: 100%|██████████| 1086/1086 [07:17<00:00,  2.48it/s]\n"
     ]
    },
    {
     "name": "stdout",
     "output_type": "stream",
     "text": [
      "Loss: 0.2640 Acc: 0.9050\n",
      "Train Accuracy: 0.9050 F1 Score: 0.9039 Spearman Corr: 0.8125 Specificity: 0.9499 Mean Metrics: 0.8888\n"
     ]
    },
    {
     "name": "stderr",
     "output_type": "stream",
     "text": [
      "Validation: 100%|██████████| 259/259 [00:52<00:00,  4.91it/s]\n"
     ]
    },
    {
     "name": "stdout",
     "output_type": "stream",
     "text": [
      "Val Loss: 0.4282 Val Acc: 0.8426\n",
      "Validation Accuracy: 0.8426 F1 Score: 0.8400 Spearman Corr: 0.6304 Specificity: 0.9194 Mean Metrics: 0.7966\n",
      "Epoch 6/60\n",
      "----------\n"
     ]
    },
    {
     "name": "stderr",
     "output_type": "stream",
     "text": [
      "Training: 100%|██████████| 1086/1086 [07:22<00:00,  2.45it/s]\n"
     ]
    },
    {
     "name": "stdout",
     "output_type": "stream",
     "text": [
      "Loss: 0.2188 Acc: 0.9219\n",
      "Train Accuracy: 0.9219 F1 Score: 0.9212 Spearman Corr: 0.8579 Specificity: 0.9580 Mean Metrics: 0.9124\n"
     ]
    },
    {
     "name": "stderr",
     "output_type": "stream",
     "text": [
      "Validation: 100%|██████████| 259/259 [00:53<00:00,  4.88it/s]\n"
     ]
    },
    {
     "name": "stdout",
     "output_type": "stream",
     "text": [
      "Val Loss: 0.4471 Val Acc: 0.8457\n",
      "Validation Accuracy: 0.8457 F1 Score: 0.8419 Spearman Corr: 0.6364 Specificity: 0.9197 Mean Metrics: 0.7993\n",
      "Epoch 7/60\n",
      "----------\n"
     ]
    },
    {
     "name": "stderr",
     "output_type": "stream",
     "text": [
      "Training: 100%|██████████| 1086/1086 [07:21<00:00,  2.46it/s]\n"
     ]
    },
    {
     "name": "stdout",
     "output_type": "stream",
     "text": [
      "Loss: 0.1970 Acc: 0.9286\n",
      "Train Accuracy: 0.9286 F1 Score: 0.9281 Spearman Corr: 0.8710 Specificity: 0.9621 Mean Metrics: 0.9204\n"
     ]
    },
    {
     "name": "stderr",
     "output_type": "stream",
     "text": [
      "Validation: 100%|██████████| 259/259 [00:52<00:00,  4.97it/s]\n"
     ]
    },
    {
     "name": "stdout",
     "output_type": "stream",
     "text": [
      "Val Loss: 0.4715 Val Acc: 0.8448\n",
      "Validation Accuracy: 0.8448 F1 Score: 0.8382 Spearman Corr: 0.6741 Specificity: 0.9105 Mean Metrics: 0.8076\n",
      "Epoch 8/60\n",
      "----------\n"
     ]
    },
    {
     "name": "stderr",
     "output_type": "stream",
     "text": [
      "Training: 100%|██████████| 1086/1086 [07:16<00:00,  2.49it/s]\n"
     ]
    },
    {
     "name": "stdout",
     "output_type": "stream",
     "text": [
      "Loss: 0.1625 Acc: 0.9424\n",
      "Train Accuracy: 0.9424 F1 Score: 0.9421 Spearman Corr: 0.8996 Specificity: 0.9691 Mean Metrics: 0.9369\n"
     ]
    },
    {
     "name": "stderr",
     "output_type": "stream",
     "text": [
      "Validation: 100%|██████████| 259/259 [00:51<00:00,  5.04it/s]\n"
     ]
    },
    {
     "name": "stdout",
     "output_type": "stream",
     "text": [
      "Val Loss: 0.4766 Val Acc: 0.8503\n",
      "Validation Accuracy: 0.8503 F1 Score: 0.8488 Spearman Corr: 0.6495 Specificity: 0.9273 Mean Metrics: 0.8085\n",
      "Epoch 9/60\n",
      "----------\n"
     ]
    },
    {
     "name": "stderr",
     "output_type": "stream",
     "text": [
      "Training: 100%|██████████| 1086/1086 [07:21<00:00,  2.46it/s]\n"
     ]
    },
    {
     "name": "stdout",
     "output_type": "stream",
     "text": [
      "Loss: 0.1453 Acc: 0.9465\n",
      "Train Accuracy: 0.9465 F1 Score: 0.9462 Spearman Corr: 0.9044 Specificity: 0.9720 Mean Metrics: 0.9409\n"
     ]
    },
    {
     "name": "stderr",
     "output_type": "stream",
     "text": [
      "Validation: 100%|██████████| 259/259 [00:52<00:00,  4.91it/s]\n"
     ]
    },
    {
     "name": "stdout",
     "output_type": "stream",
     "text": [
      "Val Loss: 0.5008 Val Acc: 0.8523\n",
      "Validation Accuracy: 0.8523 F1 Score: 0.8467 Spearman Corr: 0.6709 Specificity: 0.9169 Mean Metrics: 0.8115\n",
      "Epoch 10/60\n",
      "----------\n"
     ]
    },
    {
     "name": "stderr",
     "output_type": "stream",
     "text": [
      "Training: 100%|██████████| 1086/1086 [07:18<00:00,  2.48it/s]\n"
     ]
    },
    {
     "name": "stdout",
     "output_type": "stream",
     "text": [
      "Loss: 0.1203 Acc: 0.9561\n",
      "Train Accuracy: 0.9561 F1 Score: 0.9559 Spearman Corr: 0.9211 Specificity: 0.9767 Mean Metrics: 0.9512\n"
     ]
    },
    {
     "name": "stderr",
     "output_type": "stream",
     "text": [
      "Validation: 100%|██████████| 259/259 [00:53<00:00,  4.88it/s]\n"
     ]
    },
    {
     "name": "stdout",
     "output_type": "stream",
     "text": [
      "Val Loss: 0.5338 Val Acc: 0.8525\n",
      "Validation Accuracy: 0.8525 F1 Score: 0.8481 Spearman Corr: 0.6586 Specificity: 0.9197 Mean Metrics: 0.8088\n",
      "Epoch 11/60\n",
      "----------\n"
     ]
    },
    {
     "name": "stderr",
     "output_type": "stream",
     "text": [
      "Training: 100%|██████████| 1086/1086 [07:23<00:00,  2.45it/s]\n"
     ]
    },
    {
     "name": "stdout",
     "output_type": "stream",
     "text": [
      "Loss: 0.1058 Acc: 0.9623\n",
      "Train Accuracy: 0.9623 F1 Score: 0.9622 Spearman Corr: 0.9356 Specificity: 0.9799 Mean Metrics: 0.9592\n"
     ]
    },
    {
     "name": "stderr",
     "output_type": "stream",
     "text": [
      "Validation: 100%|██████████| 259/259 [00:51<00:00,  5.05it/s]\n"
     ]
    },
    {
     "name": "stdout",
     "output_type": "stream",
     "text": [
      "Val Loss: 0.5631 Val Acc: 0.8530\n",
      "Validation Accuracy: 0.8530 F1 Score: 0.8475 Spearman Corr: 0.6712 Specificity: 0.9177 Mean Metrics: 0.8121\n",
      "Epoch 12/60\n",
      "----------\n"
     ]
    },
    {
     "name": "stderr",
     "output_type": "stream",
     "text": [
      "Training: 100%|██████████| 1086/1086 [07:18<00:00,  2.48it/s]\n"
     ]
    },
    {
     "name": "stdout",
     "output_type": "stream",
     "text": [
      "Loss: 0.0862 Acc: 0.9700\n",
      "Train Accuracy: 0.9700 F1 Score: 0.9699 Spearman Corr: 0.9475 Specificity: 0.9839 Mean Metrics: 0.9671\n"
     ]
    },
    {
     "name": "stderr",
     "output_type": "stream",
     "text": [
      "Validation: 100%|██████████| 259/259 [00:52<00:00,  4.96it/s]\n"
     ]
    },
    {
     "name": "stdout",
     "output_type": "stream",
     "text": [
      "Val Loss: 0.5822 Val Acc: 0.8532\n",
      "Validation Accuracy: 0.8532 F1 Score: 0.8502 Spearman Corr: 0.6686 Specificity: 0.9244 Mean Metrics: 0.8144\n",
      "Epoch 13/60\n",
      "----------\n"
     ]
    },
    {
     "name": "stderr",
     "output_type": "stream",
     "text": [
      "Training: 100%|██████████| 1086/1086 [07:17<00:00,  2.48it/s]\n"
     ]
    },
    {
     "name": "stdout",
     "output_type": "stream",
     "text": [
      "Loss: 0.0746 Acc: 0.9718\n",
      "Train Accuracy: 0.9718 F1 Score: 0.9717 Spearman Corr: 0.9499 Specificity: 0.9853 Mean Metrics: 0.9690\n"
     ]
    },
    {
     "name": "stderr",
     "output_type": "stream",
     "text": [
      "Validation: 100%|██████████| 259/259 [00:51<00:00,  5.02it/s]\n"
     ]
    },
    {
     "name": "stdout",
     "output_type": "stream",
     "text": [
      "Val Loss: 0.6705 Val Acc: 0.8501\n",
      "Validation Accuracy: 0.8501 F1 Score: 0.8428 Spearman Corr: 0.6543 Specificity: 0.9125 Mean Metrics: 0.8032\n",
      "Epoch 14/60\n",
      "----------\n"
     ]
    },
    {
     "name": "stderr",
     "output_type": "stream",
     "text": [
      "Training: 100%|██████████| 1086/1086 [07:20<00:00,  2.47it/s]\n"
     ]
    },
    {
     "name": "stdout",
     "output_type": "stream",
     "text": [
      "Loss: 0.0613 Acc: 0.9791\n",
      "Train Accuracy: 0.9791 F1 Score: 0.9791 Spearman Corr: 0.9653 Specificity: 0.9889 Mean Metrics: 0.9778\n"
     ]
    },
    {
     "name": "stderr",
     "output_type": "stream",
     "text": [
      "Validation: 100%|██████████| 259/259 [00:50<00:00,  5.08it/s]\n"
     ]
    },
    {
     "name": "stdout",
     "output_type": "stream",
     "text": [
      "Val Loss: 0.6992 Val Acc: 0.8482\n",
      "Validation Accuracy: 0.8482 F1 Score: 0.8416 Spearman Corr: 0.6550 Specificity: 0.9142 Mean Metrics: 0.8036\n",
      "Epoch 15/60\n",
      "----------\n"
     ]
    },
    {
     "name": "stderr",
     "output_type": "stream",
     "text": [
      "Training: 100%|██████████| 1086/1086 [07:19<00:00,  2.47it/s]\n"
     ]
    },
    {
     "name": "stdout",
     "output_type": "stream",
     "text": [
      "Loss: 0.0560 Acc: 0.9797\n",
      "Train Accuracy: 0.9797 F1 Score: 0.9797 Spearman Corr: 0.9657 Specificity: 0.9895 Mean Metrics: 0.9783\n"
     ]
    },
    {
     "name": "stderr",
     "output_type": "stream",
     "text": [
      "Validation: 100%|██████████| 259/259 [00:52<00:00,  4.96it/s]\n"
     ]
    },
    {
     "name": "stdout",
     "output_type": "stream",
     "text": [
      "Val Loss: 0.6835 Val Acc: 0.8520\n",
      "Validation Accuracy: 0.8520 F1 Score: 0.8463 Spearman Corr: 0.6711 Specificity: 0.9161 Mean Metrics: 0.8111\n",
      "Epoch 16/60\n",
      "----------\n"
     ]
    },
    {
     "name": "stderr",
     "output_type": "stream",
     "text": [
      "Training: 100%|██████████| 1086/1086 [07:20<00:00,  2.46it/s]\n"
     ]
    },
    {
     "name": "stdout",
     "output_type": "stream",
     "text": [
      "Loss: 0.0496 Acc: 0.9827\n",
      "Train Accuracy: 0.9827 F1 Score: 0.9827 Spearman Corr: 0.9695 Specificity: 0.9910 Mean Metrics: 0.9811\n"
     ]
    },
    {
     "name": "stderr",
     "output_type": "stream",
     "text": [
      "Validation: 100%|██████████| 259/259 [00:51<00:00,  5.03it/s]\n"
     ]
    },
    {
     "name": "stdout",
     "output_type": "stream",
     "text": [
      "Val Loss: 0.6863 Val Acc: 0.8513\n",
      "Validation Accuracy: 0.8513 F1 Score: 0.8467 Spearman Corr: 0.6676 Specificity: 0.9192 Mean Metrics: 0.8112\n",
      "Epoch 17/60\n",
      "----------\n"
     ]
    },
    {
     "name": "stderr",
     "output_type": "stream",
     "text": [
      "Training: 100%|██████████| 1086/1086 [07:18<00:00,  2.48it/s]\n"
     ]
    },
    {
     "name": "stdout",
     "output_type": "stream",
     "text": [
      "Loss: 0.0387 Acc: 0.9866\n",
      "Train Accuracy: 0.9866 F1 Score: 0.9866 Spearman Corr: 0.9765 Specificity: 0.9930 Mean Metrics: 0.9854\n"
     ]
    },
    {
     "name": "stderr",
     "output_type": "stream",
     "text": [
      "Validation: 100%|██████████| 259/259 [00:53<00:00,  4.86it/s]\n"
     ]
    },
    {
     "name": "stdout",
     "output_type": "stream",
     "text": [
      "Val Loss: 0.7266 Val Acc: 0.8511\n",
      "Validation Accuracy: 0.8511 F1 Score: 0.8455 Spearman Corr: 0.6572 Specificity: 0.9176 Mean Metrics: 0.8068\n",
      "Epoch 18/60\n",
      "----------\n"
     ]
    },
    {
     "name": "stderr",
     "output_type": "stream",
     "text": [
      "Training: 100%|██████████| 1086/1086 [07:19<00:00,  2.47it/s]\n"
     ]
    },
    {
     "name": "stdout",
     "output_type": "stream",
     "text": [
      "Loss: 0.0389 Acc: 0.9861\n",
      "Train Accuracy: 0.9861 F1 Score: 0.9861 Spearman Corr: 0.9762 Specificity: 0.9926 Mean Metrics: 0.9850\n"
     ]
    },
    {
     "name": "stderr",
     "output_type": "stream",
     "text": [
      "Validation: 100%|██████████| 259/259 [00:51<00:00,  5.06it/s]\n"
     ]
    },
    {
     "name": "stdout",
     "output_type": "stream",
     "text": [
      "Val Loss: 0.7418 Val Acc: 0.8530\n",
      "Validation Accuracy: 0.8530 F1 Score: 0.8482 Spearman Corr: 0.6682 Specificity: 0.9192 Mean Metrics: 0.8119\n",
      "Epoch 19/60\n",
      "----------\n"
     ]
    },
    {
     "name": "stderr",
     "output_type": "stream",
     "text": [
      "Training: 100%|██████████| 1086/1086 [07:16<00:00,  2.49it/s]\n"
     ]
    },
    {
     "name": "stdout",
     "output_type": "stream",
     "text": [
      "Loss: 0.0339 Acc: 0.9888\n",
      "Train Accuracy: 0.9888 F1 Score: 0.9888 Spearman Corr: 0.9813 Specificity: 0.9942 Mean Metrics: 0.9881\n"
     ]
    },
    {
     "name": "stderr",
     "output_type": "stream",
     "text": [
      "Validation: 100%|██████████| 259/259 [00:51<00:00,  5.04it/s]\n"
     ]
    },
    {
     "name": "stdout",
     "output_type": "stream",
     "text": [
      "Val Loss: 0.7714 Val Acc: 0.8491\n",
      "Validation Accuracy: 0.8491 F1 Score: 0.8435 Spearman Corr: 0.6648 Specificity: 0.9160 Mean Metrics: 0.8081\n",
      "Epoch 20/60\n",
      "----------\n"
     ]
    },
    {
     "name": "stderr",
     "output_type": "stream",
     "text": [
      "Training: 100%|██████████| 1086/1086 [07:19<00:00,  2.47it/s]\n"
     ]
    },
    {
     "name": "stdout",
     "output_type": "stream",
     "text": [
      "Loss: 0.0303 Acc: 0.9903\n",
      "Train Accuracy: 0.9903 F1 Score: 0.9903 Spearman Corr: 0.9834 Specificity: 0.9949 Mean Metrics: 0.9895\n"
     ]
    },
    {
     "name": "stderr",
     "output_type": "stream",
     "text": [
      "Validation: 100%|██████████| 259/259 [00:51<00:00,  5.01it/s]\n"
     ]
    },
    {
     "name": "stdout",
     "output_type": "stream",
     "text": [
      "Val Loss: 0.8029 Val Acc: 0.8491\n",
      "Validation Accuracy: 0.8491 F1 Score: 0.8432 Spearman Corr: 0.6605 Specificity: 0.9156 Mean Metrics: 0.8064\n",
      "Epoch 21/60\n",
      "----------\n"
     ]
    },
    {
     "name": "stderr",
     "output_type": "stream",
     "text": [
      "Training: 100%|██████████| 1086/1086 [07:20<00:00,  2.46it/s]\n"
     ]
    },
    {
     "name": "stdout",
     "output_type": "stream",
     "text": [
      "Loss: 0.0279 Acc: 0.9913\n",
      "Train Accuracy: 0.9913 F1 Score: 0.9913 Spearman Corr: 0.9841 Specificity: 0.9954 Mean Metrics: 0.9903\n"
     ]
    },
    {
     "name": "stderr",
     "output_type": "stream",
     "text": [
      "Validation: 100%|██████████| 259/259 [00:51<00:00,  5.00it/s]\n"
     ]
    },
    {
     "name": "stdout",
     "output_type": "stream",
     "text": [
      "Val Loss: 0.7685 Val Acc: 0.8486\n",
      "Validation Accuracy: 0.8486 F1 Score: 0.8443 Spearman Corr: 0.6570 Specificity: 0.9188 Mean Metrics: 0.8067\n",
      "Epoch 22/60\n",
      "----------\n"
     ]
    },
    {
     "name": "stderr",
     "output_type": "stream",
     "text": [
      "Training: 100%|██████████| 1086/1086 [07:16<00:00,  2.49it/s]\n"
     ]
    },
    {
     "name": "stdout",
     "output_type": "stream",
     "text": [
      "Loss: 0.0225 Acc: 0.9931\n",
      "Train Accuracy: 0.9931 F1 Score: 0.9931 Spearman Corr: 0.9892 Specificity: 0.9963 Mean Metrics: 0.9929\n"
     ]
    },
    {
     "name": "stderr",
     "output_type": "stream",
     "text": [
      "Validation: 100%|██████████| 259/259 [00:52<00:00,  4.98it/s]\n"
     ]
    },
    {
     "name": "stdout",
     "output_type": "stream",
     "text": [
      "Val Loss: 0.8139 Val Acc: 0.8467\n",
      "Validation Accuracy: 0.8467 F1 Score: 0.8415 Spearman Corr: 0.6472 Specificity: 0.9161 Mean Metrics: 0.8016\n",
      "Epoch 23/60\n",
      "----------\n"
     ]
    },
    {
     "name": "stderr",
     "output_type": "stream",
     "text": [
      "Training: 100%|██████████| 1086/1086 [07:19<00:00,  2.47it/s]\n"
     ]
    },
    {
     "name": "stdout",
     "output_type": "stream",
     "text": [
      "Loss: 0.0232 Acc: 0.9921\n",
      "Train Accuracy: 0.9921 F1 Score: 0.9921 Spearman Corr: 0.9860 Specificity: 0.9960 Mean Metrics: 0.9914\n"
     ]
    },
    {
     "name": "stderr",
     "output_type": "stream",
     "text": [
      "Validation: 100%|██████████| 259/259 [00:52<00:00,  4.98it/s]\n"
     ]
    },
    {
     "name": "stdout",
     "output_type": "stream",
     "text": [
      "Val Loss: 0.8360 Val Acc: 0.8484\n",
      "Validation Accuracy: 0.8484 F1 Score: 0.8428 Spearman Corr: 0.6556 Specificity: 0.9158 Mean Metrics: 0.8048\n",
      "Epoch 24/60\n",
      "----------\n"
     ]
    },
    {
     "name": "stderr",
     "output_type": "stream",
     "text": [
      "Training: 100%|██████████| 1086/1086 [07:19<00:00,  2.47it/s]\n"
     ]
    },
    {
     "name": "stdout",
     "output_type": "stream",
     "text": [
      "Loss: 0.0205 Acc: 0.9937\n",
      "Train Accuracy: 0.9937 F1 Score: 0.9937 Spearman Corr: 0.9894 Specificity: 0.9967 Mean Metrics: 0.9933\n"
     ]
    },
    {
     "name": "stderr",
     "output_type": "stream",
     "text": [
      "Validation: 100%|██████████| 259/259 [00:52<00:00,  4.97it/s]\n"
     ]
    },
    {
     "name": "stdout",
     "output_type": "stream",
     "text": [
      "Val Loss: 0.8831 Val Acc: 0.8477\n",
      "Validation Accuracy: 0.8477 F1 Score: 0.8410 Spearman Corr: 0.6530 Specificity: 0.9124 Mean Metrics: 0.8021\n",
      "Epoch 25/60\n",
      "----------\n"
     ]
    },
    {
     "name": "stderr",
     "output_type": "stream",
     "text": [
      "Training:   3%|▎         | 28/1086 [00:12<07:36,  2.32it/s]\n"
     ]
    },
    {
     "ename": "KeyboardInterrupt",
     "evalue": "",
     "output_type": "error",
     "traceback": [
      "\u001B[0;31m---------------------------------------------------------------------------\u001B[0m",
      "\u001B[0;31mKeyboardInterrupt\u001B[0m                         Traceback (most recent call last)",
      "Cell \u001B[0;32mIn[1], line 87\u001B[0m\n\u001B[1;32m     84\u001B[0m criterion \u001B[38;5;241m=\u001B[39m nn\u001B[38;5;241m.\u001B[39mCrossEntropyLoss()\n\u001B[1;32m     85\u001B[0m optimizer \u001B[38;5;241m=\u001B[39m optim\u001B[38;5;241m.\u001B[39mAdam(model\u001B[38;5;241m.\u001B[39mparameters(), lr\u001B[38;5;241m=\u001B[39mconfig\u001B[38;5;241m.\u001B[39mlr)    \n\u001B[0;32m---> 87\u001B[0m \u001B[43mtrain_model\u001B[49m\u001B[43m(\u001B[49m\u001B[43mmodel\u001B[49m\u001B[43m,\u001B[49m\u001B[43m \u001B[49m\u001B[43mtrain_loader\u001B[49m\u001B[43m,\u001B[49m\u001B[43m \u001B[49m\u001B[43mval_loader\u001B[49m\u001B[43m,\u001B[49m\u001B[43m \u001B[49m\u001B[43mcriterion\u001B[49m\u001B[43m,\u001B[49m\u001B[43m \u001B[49m\u001B[43moptimizer\u001B[49m\u001B[43m,\u001B[49m\u001B[43m \u001B[49m\u001B[43mnum_epochs\u001B[49m\u001B[38;5;241;43m=\u001B[39;49m\u001B[43mconfig\u001B[49m\u001B[38;5;241;43m.\u001B[39;49m\u001B[43mnum_epochs\u001B[49m\u001B[43m)\u001B[49m\n",
      "File \u001B[0;32m~/PycharmProjects/MARIO/training.py:93\u001B[0m, in \u001B[0;36mtrain_model\u001B[0;34m(model, train_loader, val_loader, criterion, optimizer, num_epochs)\u001B[0m\n\u001B[1;32m     90\u001B[0m scaler\u001B[38;5;241m.\u001B[39mstep(optimizer)\n\u001B[1;32m     91\u001B[0m scaler\u001B[38;5;241m.\u001B[39mupdate()\n\u001B[0;32m---> 93\u001B[0m running_loss \u001B[38;5;241m+\u001B[39m\u001B[38;5;241m=\u001B[39m \u001B[43mloss\u001B[49m\u001B[38;5;241;43m.\u001B[39;49m\u001B[43mitem\u001B[49m\u001B[43m(\u001B[49m\u001B[43m)\u001B[49m \u001B[38;5;241m*\u001B[39m inputs_ti\u001B[38;5;241m.\u001B[39msize(\u001B[38;5;241m0\u001B[39m)\n\u001B[1;32m     94\u001B[0m _, preds \u001B[38;5;241m=\u001B[39m torch\u001B[38;5;241m.\u001B[39mmax(outputs, \u001B[38;5;241m1\u001B[39m)\n\u001B[1;32m     95\u001B[0m running_corrects \u001B[38;5;241m+\u001B[39m\u001B[38;5;241m=\u001B[39m torch\u001B[38;5;241m.\u001B[39msum(preds \u001B[38;5;241m==\u001B[39m labels\u001B[38;5;241m.\u001B[39mdata)\n",
      "\u001B[0;31mKeyboardInterrupt\u001B[0m: "
     ]
    }
   ],
   "execution_count": 1
  },
  {
   "metadata": {
    "ExecuteTime": {
     "end_time": "2024-08-09T17:36:33.960496Z",
     "start_time": "2024-08-09T09:19:11.171931Z"
    }
   },
   "cell_type": "code",
   "source": [
    "import pandas as pd\n",
    "import random\n",
    "\n",
    "import torch\n",
    "import torch.nn as nn\n",
    "import torch.optim as optim\n",
    "import numpy as np\n",
    "from torch.utils.data import DataLoader, random_split\n",
    "from torchvision import transforms, models\n",
    "import OCTData\n",
    "from evaluate import evaluate_model\n",
    "from models import OCTClassifier0\n",
    "from training import train_model\n",
    "from config import config\n",
    "from torchvision.transforms import AutoAugment, RandAugment, AutoAugmentPolicy, InterpolationMode\n",
    "from albumentations.pytorch import ToTensorV2\n",
    "\n",
    "def set_seed(seed):\n",
    "    random.seed(seed)\n",
    "    np.random.seed(seed)\n",
    "    torch.manual_seed(seed)\n",
    "    if torch.cuda.is_available():\n",
    "        torch.cuda.manual_seed(seed)\n",
    "        torch.cuda.manual_seed_all(seed)\n",
    "    torch.backends.cudnn.deterministic = True\n",
    "    torch.backends.cudnn.benchmark = False\n",
    "    generator = torch.Generator().manual_seed(seed)\n",
    "    return generator\n",
    "\n",
    "\n",
    "\n",
    "generator= set_seed(config.seed)  # 你可以选择任何整数作为种子\n",
    "\n",
    "transform = transforms.Compose([\n",
    "    # SquarePad(),  # 填充到正方形\n",
    "    transforms.Resize((224, 224)),\n",
    "    transforms.ToTensor(),\n",
    "    transforms.Normalize(mean=[0.5], std=[0.5]), # ??\n",
    "])\n",
    "\n",
    "#aug3 more\n",
    "train_transform = transforms.Compose([\n",
    "        transforms.RandomApply([transforms.ColorJitter(brightness=0.25, contrast=0.25)], p=0.25),\n",
    "        transforms.RandomApply([transforms.GaussianBlur(kernel_size=(5, 9), sigma=(0.1, 5))], p=0.15),\n",
    "        transforms.RandomAffine(degrees=25, scale=(0.8, 1.2), translate=(0.1, 0.1)),\n",
    "        transforms.RandomHorizontalFlip(p=0.3),\n",
    "        transforms.Resize((224, 224)),\n",
    "        transforms.ToTensor(),\n",
    "        transforms.Normalize(mean=[0.5], std=[0.5]),\n",
    "    ])\n",
    "\n",
    "\n",
    "# 验证集不进行数据增强，只进行基本的预处理\n",
    "val_transform = transforms.Compose([\n",
    "    transforms.Resize((224, 224)),\n",
    "    transforms.ToTensor(),\n",
    "    transforms.Normalize(mean=[0.5], std=[0.5])\n",
    "])\n",
    "\n",
    "\n",
    "\n",
    "train_data_frame = pd.read_csv(config.final_train_csv_file)\n",
    "val_data_frame = pd.read_csv(config.final_val_csv_file)\n",
    "\n",
    "# 为训练和验证集分别创建不同的 Dataset 实例，并应用不同的 transforms\n",
    "train_dataset = OCTData.OCTData(train_data_frame, root_dir=config.final_root_dir, transform=train_transform)\n",
    "val_dataset = OCTData.OCTData(val_data_frame, root_dir=config.final_root_dir, transform=val_transform)\n",
    "\n",
    "# 创建数据加载器\n",
    "train_loader = DataLoader(train_dataset, batch_size=config.batch_size, shuffle=True)\n",
    "val_loader = DataLoader(val_dataset, batch_size=config.batch_size, shuffle=False)\n",
    "\n",
    "\n",
    "\n",
    "\n",
    "model = OCTClassifier0()\n",
    "\n",
    "device = torch.device(\"cuda:0\" if torch.cuda.is_available() else \"cpu\")\n",
    "model = model.to(device)\n",
    "# checkpoint_path = \"data/model/convnextv2_large_v3/epoch_45_split_0.8_bs_16_lr_5e-07.pth\"\n",
    "# checkpoint = torch.load(checkpoint_path)\n",
    "# model.load_state_dict(checkpoint)\n",
    "\n",
    "criterion = nn.CrossEntropyLoss()\n",
    "optimizer = optim.Adam(model.parameters(), lr=config.lr)    \n",
    "\n",
    "train_model(model, train_loader, val_loader, criterion, optimizer, num_epochs=config.num_epochs)\n",
    "\n",
    "\n",
    "\n",
    "\n"
   ],
   "id": "e0390c035e20a533",
   "outputs": [
    {
     "name": "stderr",
     "output_type": "stream",
     "text": [
      "INFO:albumentations.check_version:A new version of Albumentations is available: 1.4.13 (you have 1.4.12). Upgrade using: pip install -U albumentations. To disable automatic update checks, set the environment variable NO_ALBUMENTATIONS_UPDATE to 1.\n",
      "INFO:timm.models._builder:Loading pretrained weights from Hugging Face hub (timm/convnextv2_large.fcmae_ft_in22k_in1k)\n",
      "INFO:timm.models._hub:[timm/convnextv2_large.fcmae_ft_in22k_in1k] Safe alternative available for 'pytorch_model.bin' (as 'model.safetensors'). Loading weights using safetensors.\n"
     ]
    },
    {
     "name": "stdout",
     "output_type": "stream",
     "text": [
      "Epoch 0/60\n",
      "----------\n"
     ]
    },
    {
     "name": "stderr",
     "output_type": "stream",
     "text": [
      "Training: 100%|██████████| 1080/1080 [08:00<00:00,  2.25it/s]\n"
     ]
    },
    {
     "name": "stdout",
     "output_type": "stream",
     "text": [
      "Loss: 0.7037 Acc: 0.7416\n",
      "Train Accuracy: 0.7416 F1 Score: 0.7131 Spearman Corr: 0.3864 Specificity: 0.8464 Mean Metrics: 0.6486\n"
     ]
    },
    {
     "name": "stderr",
     "output_type": "stream",
     "text": [
      "Validation: 100%|██████████| 265/265 [00:56<00:00,  4.72it/s]\n"
     ]
    },
    {
     "name": "stdout",
     "output_type": "stream",
     "text": [
      "Val Loss: 0.5267 Val Acc: 0.8041\n",
      "Validation Accuracy: 0.8041 F1 Score: 0.7895 Spearman Corr: 0.5056 Specificity: 0.8841 Mean Metrics: 0.7264\n",
      "Epoch 1/60\n",
      "----------\n"
     ]
    },
    {
     "name": "stderr",
     "output_type": "stream",
     "text": [
      "Training: 100%|██████████| 1080/1080 [07:22<00:00,  2.44it/s]\n"
     ]
    },
    {
     "name": "stdout",
     "output_type": "stream",
     "text": [
      "Loss: 0.4633 Acc: 0.8299\n",
      "Train Accuracy: 0.8299 F1 Score: 0.8248 Spearman Corr: 0.6386 Specificity: 0.9100 Mean Metrics: 0.7912\n"
     ]
    },
    {
     "name": "stderr",
     "output_type": "stream",
     "text": [
      "Validation: 100%|██████████| 265/265 [00:53<00:00,  4.95it/s]\n"
     ]
    },
    {
     "name": "stdout",
     "output_type": "stream",
     "text": [
      "Val Loss: 0.4615 Val Acc: 0.8299\n",
      "Validation Accuracy: 0.8299 F1 Score: 0.8188 Spearman Corr: 0.5670 Specificity: 0.9034 Mean Metrics: 0.7631\n",
      "Epoch 2/60\n",
      "----------\n"
     ]
    },
    {
     "name": "stderr",
     "output_type": "stream",
     "text": [
      "Training: 100%|██████████| 1080/1080 [07:21<00:00,  2.45it/s]\n"
     ]
    },
    {
     "name": "stdout",
     "output_type": "stream",
     "text": [
      "Loss: 0.3721 Acc: 0.8649\n",
      "Train Accuracy: 0.8649 F1 Score: 0.8620 Spearman Corr: 0.7241 Specificity: 0.9279 Mean Metrics: 0.8380\n"
     ]
    },
    {
     "name": "stderr",
     "output_type": "stream",
     "text": [
      "Validation: 100%|██████████| 265/265 [00:53<00:00,  4.98it/s]\n"
     ]
    },
    {
     "name": "stdout",
     "output_type": "stream",
     "text": [
      "Val Loss: 0.4868 Val Acc: 0.8384\n",
      "Validation Accuracy: 0.8384 F1 Score: 0.8327 Spearman Corr: 0.6109 Specificity: 0.9088 Mean Metrics: 0.7841\n",
      "Epoch 3/60\n",
      "----------\n"
     ]
    },
    {
     "name": "stderr",
     "output_type": "stream",
     "text": [
      "Training: 100%|██████████| 1080/1080 [07:23<00:00,  2.44it/s]\n"
     ]
    },
    {
     "name": "stdout",
     "output_type": "stream",
     "text": [
      "Loss: 0.3300 Acc: 0.8779\n",
      "Train Accuracy: 0.8779 F1 Score: 0.8755 Spearman Corr: 0.7559 Specificity: 0.9345 Mean Metrics: 0.8553\n"
     ]
    },
    {
     "name": "stderr",
     "output_type": "stream",
     "text": [
      "Validation: 100%|██████████| 265/265 [00:52<00:00,  5.01it/s]\n"
     ]
    },
    {
     "name": "stdout",
     "output_type": "stream",
     "text": [
      "Val Loss: 0.4566 Val Acc: 0.8384\n",
      "Validation Accuracy: 0.8384 F1 Score: 0.8344 Spearman Corr: 0.6210 Specificity: 0.9157 Mean Metrics: 0.7904\n",
      "Epoch 4/60\n",
      "----------\n"
     ]
    },
    {
     "name": "stderr",
     "output_type": "stream",
     "text": [
      "Training: 100%|██████████| 1080/1080 [07:24<00:00,  2.43it/s]\n"
     ]
    },
    {
     "name": "stdout",
     "output_type": "stream",
     "text": [
      "Loss: 0.2823 Acc: 0.8948\n",
      "Train Accuracy: 0.8948 F1 Score: 0.8933 Spearman Corr: 0.7992 Specificity: 0.9438 Mean Metrics: 0.8788\n"
     ]
    },
    {
     "name": "stderr",
     "output_type": "stream",
     "text": [
      "Validation: 100%|██████████| 265/265 [00:53<00:00,  4.98it/s]\n"
     ]
    },
    {
     "name": "stdout",
     "output_type": "stream",
     "text": [
      "Val Loss: 0.4678 Val Acc: 0.8466\n",
      "Validation Accuracy: 0.8466 F1 Score: 0.8378 Spearman Corr: 0.6436 Specificity: 0.9075 Mean Metrics: 0.7963\n",
      "Epoch 5/60\n",
      "----------\n"
     ]
    },
    {
     "name": "stderr",
     "output_type": "stream",
     "text": [
      "Training: 100%|██████████| 1080/1080 [07:14<00:00,  2.49it/s]\n"
     ]
    },
    {
     "name": "stdout",
     "output_type": "stream",
     "text": [
      "Loss: 0.2540 Acc: 0.9071\n",
      "Train Accuracy: 0.9071 F1 Score: 0.9061 Spearman Corr: 0.8209 Specificity: 0.9507 Mean Metrics: 0.8926\n"
     ]
    },
    {
     "name": "stderr",
     "output_type": "stream",
     "text": [
      "Validation: 100%|██████████| 265/265 [00:51<00:00,  5.10it/s]\n"
     ]
    },
    {
     "name": "stdout",
     "output_type": "stream",
     "text": [
      "Val Loss: 0.4378 Val Acc: 0.8542\n",
      "Validation Accuracy: 0.8542 F1 Score: 0.8511 Spearman Corr: 0.6581 Specificity: 0.9236 Mean Metrics: 0.8109\n",
      "Epoch 6/60\n",
      "----------\n"
     ]
    },
    {
     "name": "stderr",
     "output_type": "stream",
     "text": [
      "Training: 100%|██████████| 1080/1080 [07:14<00:00,  2.49it/s]\n"
     ]
    },
    {
     "name": "stdout",
     "output_type": "stream",
     "text": [
      "Loss: 0.2168 Acc: 0.9202\n",
      "Train Accuracy: 0.9202 F1 Score: 0.9195 Spearman Corr: 0.8477 Specificity: 0.9579 Mean Metrics: 0.9084\n"
     ]
    },
    {
     "name": "stderr",
     "output_type": "stream",
     "text": [
      "Validation: 100%|██████████| 265/265 [00:52<00:00,  5.09it/s]\n"
     ]
    },
    {
     "name": "stdout",
     "output_type": "stream",
     "text": [
      "Val Loss: 0.4756 Val Acc: 0.8533\n",
      "Validation Accuracy: 0.8533 F1 Score: 0.8485 Spearman Corr: 0.6502 Specificity: 0.9184 Mean Metrics: 0.8057\n",
      "Epoch 7/60\n",
      "----------\n"
     ]
    },
    {
     "name": "stderr",
     "output_type": "stream",
     "text": [
      "Training: 100%|██████████| 1080/1080 [07:17<00:00,  2.47it/s]\n"
     ]
    },
    {
     "name": "stdout",
     "output_type": "stream",
     "text": [
      "Loss: 0.1949 Acc: 0.9289\n",
      "Train Accuracy: 0.9289 F1 Score: 0.9284 Spearman Corr: 0.8671 Specificity: 0.9622 Mean Metrics: 0.9192\n"
     ]
    },
    {
     "name": "stderr",
     "output_type": "stream",
     "text": [
      "Validation: 100%|██████████| 265/265 [00:53<00:00,  4.93it/s]\n"
     ]
    },
    {
     "name": "stdout",
     "output_type": "stream",
     "text": [
      "Val Loss: 0.4712 Val Acc: 0.8474\n",
      "Validation Accuracy: 0.8474 F1 Score: 0.8444 Spearman Corr: 0.6481 Specificity: 0.9193 Mean Metrics: 0.8040\n",
      "Epoch 8/60\n",
      "----------\n"
     ]
    },
    {
     "name": "stderr",
     "output_type": "stream",
     "text": [
      "Training: 100%|██████████| 1080/1080 [07:12<00:00,  2.50it/s]\n"
     ]
    },
    {
     "name": "stdout",
     "output_type": "stream",
     "text": [
      "Loss: 0.1643 Acc: 0.9393\n",
      "Train Accuracy: 0.9393 F1 Score: 0.9390 Spearman Corr: 0.8900 Specificity: 0.9681 Mean Metrics: 0.9323\n"
     ]
    },
    {
     "name": "stderr",
     "output_type": "stream",
     "text": [
      "Validation: 100%|██████████| 265/265 [00:52<00:00,  5.06it/s]\n"
     ]
    },
    {
     "name": "stdout",
     "output_type": "stream",
     "text": [
      "Val Loss: 0.5076 Val Acc: 0.8585\n",
      "Validation Accuracy: 0.8585 F1 Score: 0.8555 Spearman Corr: 0.6697 Specificity: 0.9242 Mean Metrics: 0.8165\n",
      "Epoch 9/60\n",
      "----------\n"
     ]
    },
    {
     "name": "stderr",
     "output_type": "stream",
     "text": [
      "Training: 100%|██████████| 1080/1080 [07:15<00:00,  2.48it/s]\n"
     ]
    },
    {
     "name": "stdout",
     "output_type": "stream",
     "text": [
      "Loss: 0.1425 Acc: 0.9488\n",
      "Train Accuracy: 0.9488 F1 Score: 0.9485 Spearman Corr: 0.9093 Specificity: 0.9725 Mean Metrics: 0.9434\n"
     ]
    },
    {
     "name": "stderr",
     "output_type": "stream",
     "text": [
      "Validation: 100%|██████████| 265/265 [00:52<00:00,  5.03it/s]\n"
     ]
    },
    {
     "name": "stdout",
     "output_type": "stream",
     "text": [
      "Val Loss: 0.5140 Val Acc: 0.8459\n",
      "Validation Accuracy: 0.8459 F1 Score: 0.8463 Spearman Corr: 0.6497 Specificity: 0.9273 Mean Metrics: 0.8078\n",
      "Epoch 10/60\n",
      "----------\n"
     ]
    },
    {
     "name": "stderr",
     "output_type": "stream",
     "text": [
      "Training: 100%|██████████| 1080/1080 [07:14<00:00,  2.49it/s]\n"
     ]
    },
    {
     "name": "stdout",
     "output_type": "stream",
     "text": [
      "Loss: 0.1277 Acc: 0.9524\n",
      "Train Accuracy: 0.9524 F1 Score: 0.9522 Spearman Corr: 0.9147 Specificity: 0.9751 Mean Metrics: 0.9473\n"
     ]
    },
    {
     "name": "stderr",
     "output_type": "stream",
     "text": [
      "Validation: 100%|██████████| 265/265 [00:52<00:00,  5.01it/s]\n"
     ]
    },
    {
     "name": "stdout",
     "output_type": "stream",
     "text": [
      "Val Loss: 0.5240 Val Acc: 0.8596\n",
      "Validation Accuracy: 0.8596 F1 Score: 0.8558 Spearman Corr: 0.6675 Specificity: 0.9235 Mean Metrics: 0.8156\n",
      "Epoch 11/60\n",
      "----------\n"
     ]
    },
    {
     "name": "stderr",
     "output_type": "stream",
     "text": [
      "Training: 100%|██████████| 1080/1080 [07:17<00:00,  2.47it/s]\n"
     ]
    },
    {
     "name": "stdout",
     "output_type": "stream",
     "text": [
      "Loss: 0.1113 Acc: 0.9600\n",
      "Train Accuracy: 0.9600 F1 Score: 0.9599 Spearman Corr: 0.9330 Specificity: 0.9785 Mean Metrics: 0.9571\n"
     ]
    },
    {
     "name": "stderr",
     "output_type": "stream",
     "text": [
      "Validation: 100%|██████████| 265/265 [00:52<00:00,  5.03it/s]\n"
     ]
    },
    {
     "name": "stdout",
     "output_type": "stream",
     "text": [
      "Val Loss: 0.5805 Val Acc: 0.8521\n",
      "Validation Accuracy: 0.8521 F1 Score: 0.8493 Spearman Corr: 0.6671 Specificity: 0.9205 Mean Metrics: 0.8123\n",
      "Epoch 12/60\n",
      "----------\n"
     ]
    },
    {
     "name": "stderr",
     "output_type": "stream",
     "text": [
      "Training: 100%|██████████| 1080/1080 [07:14<00:00,  2.48it/s]\n"
     ]
    },
    {
     "name": "stdout",
     "output_type": "stream",
     "text": [
      "Loss: 0.0943 Acc: 0.9656\n",
      "Train Accuracy: 0.9656 F1 Score: 0.9655 Spearman Corr: 0.9399 Specificity: 0.9818 Mean Metrics: 0.9624\n"
     ]
    },
    {
     "name": "stderr",
     "output_type": "stream",
     "text": [
      "Validation: 100%|██████████| 265/265 [00:52<00:00,  5.03it/s]\n"
     ]
    },
    {
     "name": "stdout",
     "output_type": "stream",
     "text": [
      "Val Loss: 0.6016 Val Acc: 0.8537\n",
      "Validation Accuracy: 0.8537 F1 Score: 0.8502 Spearman Corr: 0.6529 Specificity: 0.9219 Mean Metrics: 0.8084\n",
      "Epoch 13/60\n",
      "----------\n"
     ]
    },
    {
     "name": "stderr",
     "output_type": "stream",
     "text": [
      "Training: 100%|██████████| 1080/1080 [07:17<00:00,  2.47it/s]\n"
     ]
    },
    {
     "name": "stdout",
     "output_type": "stream",
     "text": [
      "Loss: 0.0834 Acc: 0.9691\n",
      "Train Accuracy: 0.9691 F1 Score: 0.9690 Spearman Corr: 0.9447 Specificity: 0.9838 Mean Metrics: 0.9658\n"
     ]
    },
    {
     "name": "stderr",
     "output_type": "stream",
     "text": [
      "Validation: 100%|██████████| 265/265 [00:53<00:00,  4.99it/s]\n"
     ]
    },
    {
     "name": "stdout",
     "output_type": "stream",
     "text": [
      "Val Loss: 0.6009 Val Acc: 0.8485\n",
      "Validation Accuracy: 0.8485 F1 Score: 0.8464 Spearman Corr: 0.6512 Specificity: 0.9222 Mean Metrics: 0.8066\n",
      "Epoch 14/60\n",
      "----------\n"
     ]
    },
    {
     "name": "stderr",
     "output_type": "stream",
     "text": [
      "Training: 100%|██████████| 1080/1080 [07:16<00:00,  2.47it/s]\n"
     ]
    },
    {
     "name": "stdout",
     "output_type": "stream",
     "text": [
      "Loss: 0.0723 Acc: 0.9738\n",
      "Train Accuracy: 0.9738 F1 Score: 0.9738 Spearman Corr: 0.9543 Specificity: 0.9865 Mean Metrics: 0.9715\n"
     ]
    },
    {
     "name": "stderr",
     "output_type": "stream",
     "text": [
      "Validation: 100%|██████████| 265/265 [00:53<00:00,  4.99it/s]\n"
     ]
    },
    {
     "name": "stdout",
     "output_type": "stream",
     "text": [
      "Val Loss: 0.6286 Val Acc: 0.8495\n",
      "Validation Accuracy: 0.8495 F1 Score: 0.8470 Spearman Corr: 0.6520 Specificity: 0.9212 Mean Metrics: 0.8067\n",
      "Epoch 15/60\n",
      "----------\n"
     ]
    },
    {
     "name": "stderr",
     "output_type": "stream",
     "text": [
      "Training: 100%|██████████| 1080/1080 [07:16<00:00,  2.48it/s]\n"
     ]
    },
    {
     "name": "stdout",
     "output_type": "stream",
     "text": [
      "Loss: 0.0667 Acc: 0.9771\n",
      "Train Accuracy: 0.9771 F1 Score: 0.9771 Spearman Corr: 0.9611 Specificity: 0.9880 Mean Metrics: 0.9754\n"
     ]
    },
    {
     "name": "stderr",
     "output_type": "stream",
     "text": [
      "Validation: 100%|██████████| 265/265 [00:51<00:00,  5.10it/s]\n"
     ]
    },
    {
     "name": "stdout",
     "output_type": "stream",
     "text": [
      "Val Loss: 0.6242 Val Acc: 0.8568\n",
      "Validation Accuracy: 0.8568 F1 Score: 0.8553 Spearman Corr: 0.6645 Specificity: 0.9281 Mean Metrics: 0.8160\n",
      "Epoch 16/60\n",
      "----------\n"
     ]
    },
    {
     "name": "stderr",
     "output_type": "stream",
     "text": [
      "Training: 100%|██████████| 1080/1080 [07:15<00:00,  2.48it/s]\n"
     ]
    },
    {
     "name": "stdout",
     "output_type": "stream",
     "text": [
      "Loss: 0.0534 Acc: 0.9810\n",
      "Train Accuracy: 0.9810 F1 Score: 0.9809 Spearman Corr: 0.9693 Specificity: 0.9895 Mean Metrics: 0.9799\n"
     ]
    },
    {
     "name": "stderr",
     "output_type": "stream",
     "text": [
      "Validation: 100%|██████████| 265/265 [00:51<00:00,  5.14it/s]\n"
     ]
    },
    {
     "name": "stdout",
     "output_type": "stream",
     "text": [
      "Val Loss: 0.6550 Val Acc: 0.8561\n",
      "Validation Accuracy: 0.8561 F1 Score: 0.8552 Spearman Corr: 0.6640 Specificity: 0.9295 Mean Metrics: 0.8162\n",
      "Epoch 17/60\n",
      "----------\n"
     ]
    },
    {
     "name": "stderr",
     "output_type": "stream",
     "text": [
      "Training: 100%|██████████| 1080/1080 [07:13<00:00,  2.49it/s]\n"
     ]
    },
    {
     "name": "stdout",
     "output_type": "stream",
     "text": [
      "Loss: 0.0527 Acc: 0.9812\n",
      "Train Accuracy: 0.9812 F1 Score: 0.9812 Spearman Corr: 0.9687 Specificity: 0.9902 Mean Metrics: 0.9800\n"
     ]
    },
    {
     "name": "stderr",
     "output_type": "stream",
     "text": [
      "Validation: 100%|██████████| 265/265 [00:52<00:00,  5.03it/s]\n"
     ]
    },
    {
     "name": "stdout",
     "output_type": "stream",
     "text": [
      "Val Loss: 0.6630 Val Acc: 0.8594\n",
      "Validation Accuracy: 0.8594 F1 Score: 0.8574 Spearman Corr: 0.6656 Specificity: 0.9287 Mean Metrics: 0.8172\n",
      "Epoch 18/60\n",
      "----------\n"
     ]
    },
    {
     "name": "stderr",
     "output_type": "stream",
     "text": [
      "Training: 100%|██████████| 1080/1080 [07:14<00:00,  2.48it/s]\n"
     ]
    },
    {
     "name": "stdout",
     "output_type": "stream",
     "text": [
      "Loss: 0.0446 Acc: 0.9838\n",
      "Train Accuracy: 0.9838 F1 Score: 0.9838 Spearman Corr: 0.9724 Specificity: 0.9914 Mean Metrics: 0.9826\n"
     ]
    },
    {
     "name": "stderr",
     "output_type": "stream",
     "text": [
      "Validation: 100%|██████████| 265/265 [00:53<00:00,  4.97it/s]\n"
     ]
    },
    {
     "name": "stdout",
     "output_type": "stream",
     "text": [
      "Val Loss: 0.6830 Val Acc: 0.8559\n",
      "Validation Accuracy: 0.8559 F1 Score: 0.8540 Spearman Corr: 0.6581 Specificity: 0.9277 Mean Metrics: 0.8133\n",
      "Epoch 19/60\n",
      "----------\n"
     ]
    },
    {
     "name": "stderr",
     "output_type": "stream",
     "text": [
      "Training: 100%|██████████| 1080/1080 [07:17<00:00,  2.47it/s]\n"
     ]
    },
    {
     "name": "stdout",
     "output_type": "stream",
     "text": [
      "Loss: 0.0386 Acc: 0.9862\n",
      "Train Accuracy: 0.9862 F1 Score: 0.9862 Spearman Corr: 0.9764 Specificity: 0.9927 Mean Metrics: 0.9851\n"
     ]
    },
    {
     "name": "stderr",
     "output_type": "stream",
     "text": [
      "Validation: 100%|██████████| 265/265 [00:52<00:00,  5.05it/s]\n"
     ]
    },
    {
     "name": "stdout",
     "output_type": "stream",
     "text": [
      "Val Loss: 0.7276 Val Acc: 0.8556\n",
      "Validation Accuracy: 0.8556 F1 Score: 0.8536 Spearman Corr: 0.6571 Specificity: 0.9269 Mean Metrics: 0.8126\n",
      "Epoch 20/60\n",
      "----------\n"
     ]
    },
    {
     "name": "stderr",
     "output_type": "stream",
     "text": [
      "Training: 100%|██████████| 1080/1080 [07:16<00:00,  2.47it/s]\n"
     ]
    },
    {
     "name": "stdout",
     "output_type": "stream",
     "text": [
      "Loss: 0.0403 Acc: 0.9862\n",
      "Train Accuracy: 0.9862 F1 Score: 0.9862 Spearman Corr: 0.9766 Specificity: 0.9930 Mean Metrics: 0.9853\n"
     ]
    },
    {
     "name": "stderr",
     "output_type": "stream",
     "text": [
      "Validation: 100%|██████████| 265/265 [00:53<00:00,  4.99it/s]\n"
     ]
    },
    {
     "name": "stdout",
     "output_type": "stream",
     "text": [
      "Val Loss: 0.7193 Val Acc: 0.8570\n",
      "Validation Accuracy: 0.8570 F1 Score: 0.8558 Spearman Corr: 0.6594 Specificity: 0.9296 Mean Metrics: 0.8149\n",
      "Epoch 21/60\n",
      "----------\n"
     ]
    },
    {
     "name": "stderr",
     "output_type": "stream",
     "text": [
      "Training: 100%|██████████| 1080/1080 [07:15<00:00,  2.48it/s]\n"
     ]
    },
    {
     "name": "stdout",
     "output_type": "stream",
     "text": [
      "Loss: 0.0337 Acc: 0.9888\n",
      "Train Accuracy: 0.9888 F1 Score: 0.9888 Spearman Corr: 0.9803 Specificity: 0.9940 Mean Metrics: 0.9877\n"
     ]
    },
    {
     "name": "stderr",
     "output_type": "stream",
     "text": [
      "Validation: 100%|██████████| 265/265 [00:51<00:00,  5.12it/s]\n"
     ]
    },
    {
     "name": "stdout",
     "output_type": "stream",
     "text": [
      "Val Loss: 0.7430 Val Acc: 0.8575\n",
      "Validation Accuracy: 0.8575 F1 Score: 0.8561 Spearman Corr: 0.6521 Specificity: 0.9297 Mean Metrics: 0.8126\n",
      "Epoch 22/60\n",
      "----------\n"
     ]
    },
    {
     "name": "stderr",
     "output_type": "stream",
     "text": [
      "Training: 100%|██████████| 1080/1080 [07:14<00:00,  2.49it/s]\n"
     ]
    },
    {
     "name": "stdout",
     "output_type": "stream",
     "text": [
      "Loss: 0.0300 Acc: 0.9898\n",
      "Train Accuracy: 0.9898 F1 Score: 0.9898 Spearman Corr: 0.9822 Specificity: 0.9948 Mean Metrics: 0.9889\n"
     ]
    },
    {
     "name": "stderr",
     "output_type": "stream",
     "text": [
      "Validation: 100%|██████████| 265/265 [00:52<00:00,  5.01it/s]\n"
     ]
    },
    {
     "name": "stdout",
     "output_type": "stream",
     "text": [
      "Val Loss: 0.7787 Val Acc: 0.8570\n",
      "Validation Accuracy: 0.8570 F1 Score: 0.8535 Spearman Corr: 0.6592 Specificity: 0.9237 Mean Metrics: 0.8121\n",
      "Epoch 23/60\n",
      "----------\n"
     ]
    },
    {
     "name": "stderr",
     "output_type": "stream",
     "text": [
      "Training: 100%|██████████| 1080/1080 [07:17<00:00,  2.47it/s]\n"
     ]
    },
    {
     "name": "stdout",
     "output_type": "stream",
     "text": [
      "Loss: 0.0296 Acc: 0.9903\n",
      "Train Accuracy: 0.9903 F1 Score: 0.9903 Spearman Corr: 0.9841 Specificity: 0.9947 Mean Metrics: 0.9897\n"
     ]
    },
    {
     "name": "stderr",
     "output_type": "stream",
     "text": [
      "Validation: 100%|██████████| 265/265 [00:51<00:00,  5.15it/s]\n"
     ]
    },
    {
     "name": "stdout",
     "output_type": "stream",
     "text": [
      "Val Loss: 0.7821 Val Acc: 0.8587\n",
      "Validation Accuracy: 0.8587 F1 Score: 0.8561 Spearman Corr: 0.6521 Specificity: 0.9273 Mean Metrics: 0.8118\n",
      "Epoch 24/60\n",
      "----------\n"
     ]
    },
    {
     "name": "stderr",
     "output_type": "stream",
     "text": [
      "Training: 100%|██████████| 1080/1080 [07:16<00:00,  2.47it/s]\n"
     ]
    },
    {
     "name": "stdout",
     "output_type": "stream",
     "text": [
      "Loss: 0.0281 Acc: 0.9906\n",
      "Train Accuracy: 0.9906 F1 Score: 0.9906 Spearman Corr: 0.9840 Specificity: 0.9950 Mean Metrics: 0.9899\n"
     ]
    },
    {
     "name": "stderr",
     "output_type": "stream",
     "text": [
      "Validation: 100%|██████████| 265/265 [00:52<00:00,  5.09it/s]\n"
     ]
    },
    {
     "name": "stdout",
     "output_type": "stream",
     "text": [
      "Val Loss: 0.8096 Val Acc: 0.8559\n",
      "Validation Accuracy: 0.8559 F1 Score: 0.8522 Spearman Corr: 0.6553 Specificity: 0.9226 Mean Metrics: 0.8100\n",
      "Epoch 25/60\n",
      "----------\n"
     ]
    },
    {
     "name": "stderr",
     "output_type": "stream",
     "text": [
      "Training: 100%|██████████| 1080/1080 [07:16<00:00,  2.47it/s]\n"
     ]
    },
    {
     "name": "stdout",
     "output_type": "stream",
     "text": [
      "Loss: 0.0242 Acc: 0.9925\n",
      "Train Accuracy: 0.9925 F1 Score: 0.9925 Spearman Corr: 0.9869 Specificity: 0.9962 Mean Metrics: 0.9919\n"
     ]
    },
    {
     "name": "stderr",
     "output_type": "stream",
     "text": [
      "Validation: 100%|██████████| 265/265 [00:53<00:00,  4.99it/s]\n"
     ]
    },
    {
     "name": "stdout",
     "output_type": "stream",
     "text": [
      "Val Loss: 0.7884 Val Acc: 0.8575\n",
      "Validation Accuracy: 0.8575 F1 Score: 0.8548 Spearman Corr: 0.6599 Specificity: 0.9257 Mean Metrics: 0.8134\n",
      "Epoch 26/60\n",
      "----------\n"
     ]
    },
    {
     "name": "stderr",
     "output_type": "stream",
     "text": [
      "Training: 100%|██████████| 1080/1080 [07:15<00:00,  2.48it/s]\n"
     ]
    },
    {
     "name": "stdout",
     "output_type": "stream",
     "text": [
      "Loss: 0.0204 Acc: 0.9931\n",
      "Train Accuracy: 0.9931 F1 Score: 0.9930 Spearman Corr: 0.9871 Specificity: 0.9963 Mean Metrics: 0.9922\n"
     ]
    },
    {
     "name": "stderr",
     "output_type": "stream",
     "text": [
      "Validation: 100%|██████████| 265/265 [00:52<00:00,  5.05it/s]\n"
     ]
    },
    {
     "name": "stdout",
     "output_type": "stream",
     "text": [
      "Val Loss: 0.8238 Val Acc: 0.8552\n",
      "Validation Accuracy: 0.8552 F1 Score: 0.8516 Spearman Corr: 0.6576 Specificity: 0.9226 Mean Metrics: 0.8106\n",
      "Epoch 27/60\n",
      "----------\n"
     ]
    },
    {
     "name": "stderr",
     "output_type": "stream",
     "text": [
      "Training: 100%|██████████| 1080/1080 [07:14<00:00,  2.49it/s]\n"
     ]
    },
    {
     "name": "stdout",
     "output_type": "stream",
     "text": [
      "Loss: 0.0214 Acc: 0.9932\n",
      "Train Accuracy: 0.9932 F1 Score: 0.9932 Spearman Corr: 0.9878 Specificity: 0.9965 Mean Metrics: 0.9925\n"
     ]
    },
    {
     "name": "stderr",
     "output_type": "stream",
     "text": [
      "Validation: 100%|██████████| 265/265 [00:52<00:00,  5.06it/s]\n"
     ]
    },
    {
     "name": "stdout",
     "output_type": "stream",
     "text": [
      "Val Loss: 0.8213 Val Acc: 0.8549\n",
      "Validation Accuracy: 0.8549 F1 Score: 0.8517 Spearman Corr: 0.6514 Specificity: 0.9243 Mean Metrics: 0.8091\n",
      "Epoch 28/60\n",
      "----------\n"
     ]
    },
    {
     "name": "stderr",
     "output_type": "stream",
     "text": [
      "Training: 100%|██████████| 1080/1080 [07:15<00:00,  2.48it/s]\n"
     ]
    },
    {
     "name": "stdout",
     "output_type": "stream",
     "text": [
      "Loss: 0.0199 Acc: 0.9937\n",
      "Train Accuracy: 0.9937 F1 Score: 0.9937 Spearman Corr: 0.9890 Specificity: 0.9966 Mean Metrics: 0.9931\n"
     ]
    },
    {
     "name": "stderr",
     "output_type": "stream",
     "text": [
      "Validation: 100%|██████████| 265/265 [00:51<00:00,  5.14it/s]\n"
     ]
    },
    {
     "name": "stdout",
     "output_type": "stream",
     "text": [
      "Val Loss: 0.8217 Val Acc: 0.8563\n",
      "Validation Accuracy: 0.8563 F1 Score: 0.8536 Spearman Corr: 0.6517 Specificity: 0.9258 Mean Metrics: 0.8104\n",
      "Epoch 29/60\n",
      "----------\n"
     ]
    },
    {
     "name": "stderr",
     "output_type": "stream",
     "text": [
      "Training: 100%|██████████| 1080/1080 [07:16<00:00,  2.47it/s]\n"
     ]
    },
    {
     "name": "stdout",
     "output_type": "stream",
     "text": [
      "Loss: 0.0190 Acc: 0.9939\n",
      "Train Accuracy: 0.9939 F1 Score: 0.9939 Spearman Corr: 0.9899 Specificity: 0.9969 Mean Metrics: 0.9935\n"
     ]
    },
    {
     "name": "stderr",
     "output_type": "stream",
     "text": [
      "Validation: 100%|██████████| 265/265 [00:52<00:00,  5.04it/s]\n"
     ]
    },
    {
     "name": "stdout",
     "output_type": "stream",
     "text": [
      "Val Loss: 0.8531 Val Acc: 0.8570\n",
      "Validation Accuracy: 0.8570 F1 Score: 0.8533 Spearman Corr: 0.6543 Specificity: 0.9232 Mean Metrics: 0.8102\n",
      "Epoch 30/60\n",
      "----------\n"
     ]
    },
    {
     "name": "stderr",
     "output_type": "stream",
     "text": [
      "Training: 100%|██████████| 1080/1080 [07:15<00:00,  2.48it/s]\n"
     ]
    },
    {
     "name": "stdout",
     "output_type": "stream",
     "text": [
      "Loss: 0.0190 Acc: 0.9943\n",
      "Train Accuracy: 0.9943 F1 Score: 0.9943 Spearman Corr: 0.9901 Specificity: 0.9968 Mean Metrics: 0.9937\n"
     ]
    },
    {
     "name": "stderr",
     "output_type": "stream",
     "text": [
      "Validation: 100%|██████████| 265/265 [00:52<00:00,  5.04it/s]\n"
     ]
    },
    {
     "name": "stdout",
     "output_type": "stream",
     "text": [
      "Val Loss: 0.8462 Val Acc: 0.8563\n",
      "Validation Accuracy: 0.8563 F1 Score: 0.8539 Spearman Corr: 0.6543 Specificity: 0.9263 Mean Metrics: 0.8115\n",
      "Epoch 31/60\n",
      "----------\n"
     ]
    },
    {
     "name": "stderr",
     "output_type": "stream",
     "text": [
      "Training: 100%|██████████| 1080/1080 [07:11<00:00,  2.50it/s]\n"
     ]
    },
    {
     "name": "stdout",
     "output_type": "stream",
     "text": [
      "Loss: 0.0181 Acc: 0.9943\n",
      "Train Accuracy: 0.9943 F1 Score: 0.9943 Spearman Corr: 0.9906 Specificity: 0.9969 Mean Metrics: 0.9939\n"
     ]
    },
    {
     "name": "stderr",
     "output_type": "stream",
     "text": [
      "Validation: 100%|██████████| 265/265 [00:51<00:00,  5.17it/s]\n"
     ]
    },
    {
     "name": "stdout",
     "output_type": "stream",
     "text": [
      "Val Loss: 0.8337 Val Acc: 0.8544\n",
      "Validation Accuracy: 0.8544 F1 Score: 0.8522 Spearman Corr: 0.6508 Specificity: 0.9260 Mean Metrics: 0.8097\n",
      "Epoch 32/60\n",
      "----------\n"
     ]
    },
    {
     "name": "stderr",
     "output_type": "stream",
     "text": [
      "Training: 100%|██████████| 1080/1080 [07:10<00:00,  2.51it/s]\n"
     ]
    },
    {
     "name": "stdout",
     "output_type": "stream",
     "text": [
      "Loss: 0.0163 Acc: 0.9951\n",
      "Train Accuracy: 0.9951 F1 Score: 0.9951 Spearman Corr: 0.9916 Specificity: 0.9974 Mean Metrics: 0.9947\n"
     ]
    },
    {
     "name": "stderr",
     "output_type": "stream",
     "text": [
      "Validation: 100%|██████████| 265/265 [00:51<00:00,  5.18it/s]\n"
     ]
    },
    {
     "name": "stdout",
     "output_type": "stream",
     "text": [
      "Val Loss: 0.8405 Val Acc: 0.8559\n",
      "Validation Accuracy: 0.8559 F1 Score: 0.8539 Spearman Corr: 0.6553 Specificity: 0.9269 Mean Metrics: 0.8120\n",
      "Epoch 33/60\n",
      "----------\n"
     ]
    },
    {
     "name": "stderr",
     "output_type": "stream",
     "text": [
      "Training: 100%|██████████| 1080/1080 [07:09<00:00,  2.51it/s]\n"
     ]
    },
    {
     "name": "stdout",
     "output_type": "stream",
     "text": [
      "Loss: 0.0163 Acc: 0.9949\n",
      "Train Accuracy: 0.9949 F1 Score: 0.9949 Spearman Corr: 0.9913 Specificity: 0.9973 Mean Metrics: 0.9945\n"
     ]
    },
    {
     "name": "stderr",
     "output_type": "stream",
     "text": [
      "Validation: 100%|██████████| 265/265 [00:51<00:00,  5.17it/s]\n"
     ]
    },
    {
     "name": "stdout",
     "output_type": "stream",
     "text": [
      "Val Loss: 0.8567 Val Acc: 0.8566\n",
      "Validation Accuracy: 0.8566 F1 Score: 0.8535 Spearman Corr: 0.6524 Specificity: 0.9248 Mean Metrics: 0.8103\n",
      "Epoch 34/60\n",
      "----------\n"
     ]
    },
    {
     "name": "stderr",
     "output_type": "stream",
     "text": [
      "Training: 100%|██████████| 1080/1080 [07:11<00:00,  2.51it/s]\n"
     ]
    },
    {
     "name": "stdout",
     "output_type": "stream",
     "text": [
      "Loss: 0.0148 Acc: 0.9953\n",
      "Train Accuracy: 0.9953 F1 Score: 0.9953 Spearman Corr: 0.9924 Specificity: 0.9974 Mean Metrics: 0.9950\n"
     ]
    },
    {
     "name": "stderr",
     "output_type": "stream",
     "text": [
      "Validation: 100%|██████████| 265/265 [00:51<00:00,  5.19it/s]\n"
     ]
    },
    {
     "name": "stdout",
     "output_type": "stream",
     "text": [
      "Val Loss: 0.8571 Val Acc: 0.8573\n",
      "Validation Accuracy: 0.8573 F1 Score: 0.8546 Spearman Corr: 0.6526 Specificity: 0.9265 Mean Metrics: 0.8112\n",
      "Epoch 35/60\n",
      "----------\n"
     ]
    },
    {
     "name": "stderr",
     "output_type": "stream",
     "text": [
      "Training: 100%|██████████| 1080/1080 [07:13<00:00,  2.49it/s]\n"
     ]
    },
    {
     "name": "stdout",
     "output_type": "stream",
     "text": [
      "Loss: 0.0151 Acc: 0.9959\n",
      "Train Accuracy: 0.9959 F1 Score: 0.9959 Spearman Corr: 0.9933 Specificity: 0.9978 Mean Metrics: 0.9957\n"
     ]
    },
    {
     "name": "stderr",
     "output_type": "stream",
     "text": [
      "Validation: 100%|██████████| 265/265 [00:51<00:00,  5.15it/s]\n"
     ]
    },
    {
     "name": "stdout",
     "output_type": "stream",
     "text": [
      "Val Loss: 0.8625 Val Acc: 0.8573\n",
      "Validation Accuracy: 0.8573 F1 Score: 0.8546 Spearman Corr: 0.6560 Specificity: 0.9262 Mean Metrics: 0.8123\n",
      "Epoch 36/60\n",
      "----------\n"
     ]
    },
    {
     "name": "stderr",
     "output_type": "stream",
     "text": [
      "Training: 100%|██████████| 1080/1080 [07:09<00:00,  2.51it/s]\n"
     ]
    },
    {
     "name": "stdout",
     "output_type": "stream",
     "text": [
      "Loss: 0.0158 Acc: 0.9950\n",
      "Train Accuracy: 0.9950 F1 Score: 0.9950 Spearman Corr: 0.9907 Specificity: 0.9975 Mean Metrics: 0.9944\n"
     ]
    },
    {
     "name": "stderr",
     "output_type": "stream",
     "text": [
      "Validation: 100%|██████████| 265/265 [00:52<00:00,  5.09it/s]\n"
     ]
    },
    {
     "name": "stdout",
     "output_type": "stream",
     "text": [
      "Val Loss: 0.8691 Val Acc: 0.8575\n",
      "Validation Accuracy: 0.8575 F1 Score: 0.8547 Spearman Corr: 0.6546 Specificity: 0.9260 Mean Metrics: 0.8118\n",
      "Epoch 37/60\n",
      "----------\n"
     ]
    },
    {
     "name": "stderr",
     "output_type": "stream",
     "text": [
      "Training: 100%|██████████| 1080/1080 [07:12<00:00,  2.50it/s]\n"
     ]
    },
    {
     "name": "stdout",
     "output_type": "stream",
     "text": [
      "Loss: 0.0144 Acc: 0.9963\n",
      "Train Accuracy: 0.9963 F1 Score: 0.9963 Spearman Corr: 0.9929 Specificity: 0.9980 Mean Metrics: 0.9957\n"
     ]
    },
    {
     "name": "stderr",
     "output_type": "stream",
     "text": [
      "Validation: 100%|██████████| 265/265 [00:51<00:00,  5.13it/s]\n"
     ]
    },
    {
     "name": "stdout",
     "output_type": "stream",
     "text": [
      "Val Loss: 0.8673 Val Acc: 0.8570\n",
      "Validation Accuracy: 0.8570 F1 Score: 0.8544 Spearman Corr: 0.6537 Specificity: 0.9261 Mean Metrics: 0.8114\n",
      "Epoch 38/60\n",
      "----------\n"
     ]
    },
    {
     "name": "stderr",
     "output_type": "stream",
     "text": [
      "Training: 100%|██████████| 1080/1080 [07:19<00:00,  2.46it/s]\n"
     ]
    },
    {
     "name": "stdout",
     "output_type": "stream",
     "text": [
      "Loss: 0.0141 Acc: 0.9958\n",
      "Train Accuracy: 0.9958 F1 Score: 0.9958 Spearman Corr: 0.9927 Specificity: 0.9978 Mean Metrics: 0.9954\n"
     ]
    },
    {
     "name": "stderr",
     "output_type": "stream",
     "text": [
      "Validation: 100%|██████████| 265/265 [00:54<00:00,  4.83it/s]\n"
     ]
    },
    {
     "name": "stdout",
     "output_type": "stream",
     "text": [
      "Val Loss: 0.8788 Val Acc: 0.8556\n",
      "Validation Accuracy: 0.8556 F1 Score: 0.8527 Spearman Corr: 0.6490 Specificity: 0.9249 Mean Metrics: 0.8089\n",
      "Epoch 39/60\n",
      "----------\n"
     ]
    },
    {
     "name": "stderr",
     "output_type": "stream",
     "text": [
      "Training: 100%|██████████| 1080/1080 [07:19<00:00,  2.45it/s]\n"
     ]
    },
    {
     "name": "stdout",
     "output_type": "stream",
     "text": [
      "Loss: 0.0140 Acc: 0.9961\n",
      "Train Accuracy: 0.9961 F1 Score: 0.9961 Spearman Corr: 0.9935 Specificity: 0.9978 Mean Metrics: 0.9958\n"
     ]
    },
    {
     "name": "stderr",
     "output_type": "stream",
     "text": [
      "Validation: 100%|██████████| 265/265 [00:51<00:00,  5.16it/s]\n"
     ]
    },
    {
     "name": "stdout",
     "output_type": "stream",
     "text": [
      "Val Loss: 0.8695 Val Acc: 0.8554\n",
      "Validation Accuracy: 0.8554 F1 Score: 0.8530 Spearman Corr: 0.6513 Specificity: 0.9260 Mean Metrics: 0.8101\n",
      "Epoch 40/60\n",
      "----------\n"
     ]
    },
    {
     "name": "stderr",
     "output_type": "stream",
     "text": [
      "Training: 100%|██████████| 1080/1080 [07:13<00:00,  2.49it/s]\n"
     ]
    },
    {
     "name": "stdout",
     "output_type": "stream",
     "text": [
      "Loss: 0.0149 Acc: 0.9958\n",
      "Train Accuracy: 0.9958 F1 Score: 0.9958 Spearman Corr: 0.9923 Specificity: 0.9978 Mean Metrics: 0.9953\n"
     ]
    },
    {
     "name": "stderr",
     "output_type": "stream",
     "text": [
      "Validation: 100%|██████████| 265/265 [00:52<00:00,  5.05it/s]\n"
     ]
    },
    {
     "name": "stdout",
     "output_type": "stream",
     "text": [
      "Val Loss: 0.8690 Val Acc: 0.8566\n",
      "Validation Accuracy: 0.8566 F1 Score: 0.8541 Spearman Corr: 0.6548 Specificity: 0.9263 Mean Metrics: 0.8117\n",
      "Epoch 41/60\n",
      "----------\n"
     ]
    },
    {
     "name": "stderr",
     "output_type": "stream",
     "text": [
      "Training: 100%|██████████| 1080/1080 [07:13<00:00,  2.49it/s]\n"
     ]
    },
    {
     "name": "stdout",
     "output_type": "stream",
     "text": [
      "Loss: 0.0128 Acc: 0.9960\n",
      "Train Accuracy: 0.9960 F1 Score: 0.9960 Spearman Corr: 0.9927 Specificity: 0.9980 Mean Metrics: 0.9956\n"
     ]
    },
    {
     "name": "stderr",
     "output_type": "stream",
     "text": [
      "Validation: 100%|██████████| 265/265 [00:51<00:00,  5.11it/s]\n"
     ]
    },
    {
     "name": "stdout",
     "output_type": "stream",
     "text": [
      "Val Loss: 0.8725 Val Acc: 0.8573\n",
      "Validation Accuracy: 0.8573 F1 Score: 0.8546 Spearman Corr: 0.6524 Specificity: 0.9264 Mean Metrics: 0.8111\n",
      "Epoch 42/60\n",
      "----------\n"
     ]
    },
    {
     "name": "stderr",
     "output_type": "stream",
     "text": [
      "Training: 100%|██████████| 1080/1080 [07:14<00:00,  2.48it/s]\n"
     ]
    },
    {
     "name": "stdout",
     "output_type": "stream",
     "text": [
      "Loss: 0.0137 Acc: 0.9961\n",
      "Train Accuracy: 0.9961 F1 Score: 0.9961 Spearman Corr: 0.9929 Specificity: 0.9981 Mean Metrics: 0.9957\n"
     ]
    },
    {
     "name": "stderr",
     "output_type": "stream",
     "text": [
      "Validation: 100%|██████████| 265/265 [00:51<00:00,  5.11it/s]\n"
     ]
    },
    {
     "name": "stdout",
     "output_type": "stream",
     "text": [
      "Val Loss: 0.8851 Val Acc: 0.8573\n",
      "Validation Accuracy: 0.8573 F1 Score: 0.8541 Spearman Corr: 0.6538 Specificity: 0.9251 Mean Metrics: 0.8110\n",
      "Epoch 43/60\n",
      "----------\n"
     ]
    },
    {
     "name": "stderr",
     "output_type": "stream",
     "text": [
      "Training: 100%|██████████| 1080/1080 [07:15<00:00,  2.48it/s]\n"
     ]
    },
    {
     "name": "stdout",
     "output_type": "stream",
     "text": [
      "Loss: 0.0129 Acc: 0.9964\n",
      "Train Accuracy: 0.9964 F1 Score: 0.9964 Spearman Corr: 0.9935 Specificity: 0.9980 Mean Metrics: 0.9960\n"
     ]
    },
    {
     "name": "stderr",
     "output_type": "stream",
     "text": [
      "Validation: 100%|██████████| 265/265 [00:52<00:00,  5.06it/s]\n"
     ]
    },
    {
     "name": "stdout",
     "output_type": "stream",
     "text": [
      "Val Loss: 0.8805 Val Acc: 0.8578\n",
      "Validation Accuracy: 0.8578 F1 Score: 0.8550 Spearman Corr: 0.6542 Specificity: 0.9263 Mean Metrics: 0.8118\n",
      "Epoch 44/60\n",
      "----------\n"
     ]
    },
    {
     "name": "stderr",
     "output_type": "stream",
     "text": [
      "Training: 100%|██████████| 1080/1080 [07:13<00:00,  2.49it/s]\n"
     ]
    },
    {
     "name": "stdout",
     "output_type": "stream",
     "text": [
      "Loss: 0.0121 Acc: 0.9972\n",
      "Train Accuracy: 0.9972 F1 Score: 0.9972 Spearman Corr: 0.9944 Specificity: 0.9986 Mean Metrics: 0.9967\n"
     ]
    },
    {
     "name": "stderr",
     "output_type": "stream",
     "text": [
      "Validation: 100%|██████████| 265/265 [00:51<00:00,  5.11it/s]\n"
     ]
    },
    {
     "name": "stdout",
     "output_type": "stream",
     "text": [
      "Val Loss: 0.8885 Val Acc: 0.8587\n",
      "Validation Accuracy: 0.8587 F1 Score: 0.8556 Spearman Corr: 0.6527 Specificity: 0.9261 Mean Metrics: 0.8115\n",
      "Epoch 45/60\n",
      "----------\n"
     ]
    },
    {
     "name": "stderr",
     "output_type": "stream",
     "text": [
      "Training: 100%|██████████| 1080/1080 [07:12<00:00,  2.50it/s]\n"
     ]
    },
    {
     "name": "stdout",
     "output_type": "stream",
     "text": [
      "Loss: 0.0117 Acc: 0.9969\n",
      "Train Accuracy: 0.9969 F1 Score: 0.9969 Spearman Corr: 0.9950 Specificity: 0.9984 Mean Metrics: 0.9968\n"
     ]
    },
    {
     "name": "stderr",
     "output_type": "stream",
     "text": [
      "Validation: 100%|██████████| 265/265 [00:53<00:00,  4.96it/s]\n"
     ]
    },
    {
     "name": "stdout",
     "output_type": "stream",
     "text": [
      "Val Loss: 0.8898 Val Acc: 0.8582\n",
      "Validation Accuracy: 0.8582 F1 Score: 0.8550 Spearman Corr: 0.6531 Specificity: 0.9254 Mean Metrics: 0.8112\n",
      "Epoch 46/60\n",
      "----------\n"
     ]
    },
    {
     "name": "stderr",
     "output_type": "stream",
     "text": [
      "Training: 100%|██████████| 1080/1080 [07:16<00:00,  2.47it/s]\n"
     ]
    },
    {
     "name": "stdout",
     "output_type": "stream",
     "text": [
      "Loss: 0.0110 Acc: 0.9973\n",
      "Train Accuracy: 0.9973 F1 Score: 0.9973 Spearman Corr: 0.9956 Specificity: 0.9985 Mean Metrics: 0.9972\n"
     ]
    },
    {
     "name": "stderr",
     "output_type": "stream",
     "text": [
      "Validation: 100%|██████████| 265/265 [00:51<00:00,  5.11it/s]\n"
     ]
    },
    {
     "name": "stdout",
     "output_type": "stream",
     "text": [
      "Val Loss: 0.8877 Val Acc: 0.8575\n",
      "Validation Accuracy: 0.8575 F1 Score: 0.8545 Spearman Corr: 0.6508 Specificity: 0.9256 Mean Metrics: 0.8103\n",
      "Epoch 47/60\n",
      "----------\n"
     ]
    },
    {
     "name": "stderr",
     "output_type": "stream",
     "text": [
      "Training: 100%|██████████| 1080/1080 [07:12<00:00,  2.49it/s]\n"
     ]
    },
    {
     "name": "stdout",
     "output_type": "stream",
     "text": [
      "Loss: 0.0127 Acc: 0.9962\n",
      "Train Accuracy: 0.9962 F1 Score: 0.9962 Spearman Corr: 0.9928 Specificity: 0.9979 Mean Metrics: 0.9956\n"
     ]
    },
    {
     "name": "stderr",
     "output_type": "stream",
     "text": [
      "Validation: 100%|██████████| 265/265 [00:52<00:00,  5.09it/s]\n"
     ]
    },
    {
     "name": "stdout",
     "output_type": "stream",
     "text": [
      "Val Loss: 0.8885 Val Acc: 0.8580\n",
      "Validation Accuracy: 0.8580 F1 Score: 0.8551 Spearman Corr: 0.6521 Specificity: 0.9260 Mean Metrics: 0.8111\n",
      "Epoch 48/60\n",
      "----------\n"
     ]
    },
    {
     "name": "stderr",
     "output_type": "stream",
     "text": [
      "Training: 100%|██████████| 1080/1080 [07:14<00:00,  2.49it/s]\n"
     ]
    },
    {
     "name": "stdout",
     "output_type": "stream",
     "text": [
      "Loss: 0.0112 Acc: 0.9965\n",
      "Train Accuracy: 0.9965 F1 Score: 0.9965 Spearman Corr: 0.9932 Specificity: 0.9982 Mean Metrics: 0.9960\n"
     ]
    },
    {
     "name": "stderr",
     "output_type": "stream",
     "text": [
      "Validation: 100%|██████████| 265/265 [00:52<00:00,  5.06it/s]\n"
     ]
    },
    {
     "name": "stdout",
     "output_type": "stream",
     "text": [
      "Val Loss: 0.8888 Val Acc: 0.8578\n",
      "Validation Accuracy: 0.8578 F1 Score: 0.8549 Spearman Corr: 0.6537 Specificity: 0.9257 Mean Metrics: 0.8114\n",
      "Epoch 49/60\n",
      "----------\n"
     ]
    },
    {
     "name": "stderr",
     "output_type": "stream",
     "text": [
      "Training: 100%|██████████| 1080/1080 [07:15<00:00,  2.48it/s]\n"
     ]
    },
    {
     "name": "stdout",
     "output_type": "stream",
     "text": [
      "Loss: 0.0125 Acc: 0.9965\n",
      "Train Accuracy: 0.9965 F1 Score: 0.9965 Spearman Corr: 0.9940 Specificity: 0.9982 Mean Metrics: 0.9963\n"
     ]
    },
    {
     "name": "stderr",
     "output_type": "stream",
     "text": [
      "Validation: 100%|██████████| 265/265 [00:52<00:00,  5.08it/s]\n"
     ]
    },
    {
     "name": "stdout",
     "output_type": "stream",
     "text": [
      "Val Loss: 0.8920 Val Acc: 0.8580\n",
      "Validation Accuracy: 0.8580 F1 Score: 0.8549 Spearman Corr: 0.6532 Specificity: 0.9255 Mean Metrics: 0.8112\n",
      "Epoch 50/60\n",
      "----------\n"
     ]
    },
    {
     "name": "stderr",
     "output_type": "stream",
     "text": [
      "Training: 100%|██████████| 1080/1080 [07:15<00:00,  2.48it/s]\n"
     ]
    },
    {
     "name": "stdout",
     "output_type": "stream",
     "text": [
      "Loss: 0.0114 Acc: 0.9967\n",
      "Train Accuracy: 0.9967 F1 Score: 0.9967 Spearman Corr: 0.9937 Specificity: 0.9983 Mean Metrics: 0.9962\n"
     ]
    },
    {
     "name": "stderr",
     "output_type": "stream",
     "text": [
      "Validation: 100%|██████████| 265/265 [00:51<00:00,  5.15it/s]\n"
     ]
    },
    {
     "name": "stdout",
     "output_type": "stream",
     "text": [
      "Val Loss: 0.8913 Val Acc: 0.8573\n",
      "Validation Accuracy: 0.8573 F1 Score: 0.8545 Spearman Corr: 0.6509 Specificity: 0.9262 Mean Metrics: 0.8105\n",
      "Epoch 51/60\n",
      "----------\n"
     ]
    },
    {
     "name": "stderr",
     "output_type": "stream",
     "text": [
      "Training: 100%|██████████| 1080/1080 [07:13<00:00,  2.49it/s]\n"
     ]
    },
    {
     "name": "stdout",
     "output_type": "stream",
     "text": [
      "Loss: 0.0129 Acc: 0.9960\n",
      "Train Accuracy: 0.9960 F1 Score: 0.9960 Spearman Corr: 0.9931 Specificity: 0.9980 Mean Metrics: 0.9957\n"
     ]
    },
    {
     "name": "stderr",
     "output_type": "stream",
     "text": [
      "Validation: 100%|██████████| 265/265 [00:52<00:00,  5.08it/s]\n"
     ]
    },
    {
     "name": "stdout",
     "output_type": "stream",
     "text": [
      "Val Loss: 0.8958 Val Acc: 0.8573\n",
      "Validation Accuracy: 0.8573 F1 Score: 0.8542 Spearman Corr: 0.6512 Specificity: 0.9252 Mean Metrics: 0.8102\n",
      "Epoch 52/60\n",
      "----------\n"
     ]
    },
    {
     "name": "stderr",
     "output_type": "stream",
     "text": [
      "Training: 100%|██████████| 1080/1080 [07:16<00:00,  2.47it/s]\n"
     ]
    },
    {
     "name": "stdout",
     "output_type": "stream",
     "text": [
      "Loss: 0.0117 Acc: 0.9962\n",
      "Train Accuracy: 0.9962 F1 Score: 0.9962 Spearman Corr: 0.9936 Specificity: 0.9980 Mean Metrics: 0.9959\n"
     ]
    },
    {
     "name": "stderr",
     "output_type": "stream",
     "text": [
      "Validation: 100%|██████████| 265/265 [00:51<00:00,  5.15it/s]\n"
     ]
    },
    {
     "name": "stdout",
     "output_type": "stream",
     "text": [
      "Val Loss: 0.8923 Val Acc: 0.8566\n",
      "Validation Accuracy: 0.8566 F1 Score: 0.8537 Spearman Corr: 0.6509 Specificity: 0.9253 Mean Metrics: 0.8100\n",
      "Epoch 53/60\n",
      "----------\n"
     ]
    },
    {
     "name": "stderr",
     "output_type": "stream",
     "text": [
      "Training: 100%|██████████| 1080/1080 [07:13<00:00,  2.49it/s]\n"
     ]
    },
    {
     "name": "stdout",
     "output_type": "stream",
     "text": [
      "Loss: 0.0133 Acc: 0.9959\n",
      "Train Accuracy: 0.9959 F1 Score: 0.9959 Spearman Corr: 0.9936 Specificity: 0.9977 Mean Metrics: 0.9957\n"
     ]
    },
    {
     "name": "stderr",
     "output_type": "stream",
     "text": [
      "Validation: 100%|██████████| 265/265 [00:52<00:00,  5.05it/s]\n"
     ]
    },
    {
     "name": "stdout",
     "output_type": "stream",
     "text": [
      "Val Loss: 0.8910 Val Acc: 0.8570\n",
      "Validation Accuracy: 0.8570 F1 Score: 0.8543 Spearman Corr: 0.6502 Specificity: 0.9260 Mean Metrics: 0.8102\n",
      "Epoch 54/60\n",
      "----------\n"
     ]
    },
    {
     "name": "stderr",
     "output_type": "stream",
     "text": [
      "Training: 100%|██████████| 1080/1080 [07:15<00:00,  2.48it/s]\n"
     ]
    },
    {
     "name": "stdout",
     "output_type": "stream",
     "text": [
      "Loss: 0.0121 Acc: 0.9965\n",
      "Train Accuracy: 0.9965 F1 Score: 0.9965 Spearman Corr: 0.9943 Specificity: 0.9981 Mean Metrics: 0.9963\n"
     ]
    },
    {
     "name": "stderr",
     "output_type": "stream",
     "text": [
      "Validation: 100%|██████████| 265/265 [00:52<00:00,  5.05it/s]\n"
     ]
    },
    {
     "name": "stdout",
     "output_type": "stream",
     "text": [
      "Val Loss: 0.8920 Val Acc: 0.8568\n",
      "Validation Accuracy: 0.8568 F1 Score: 0.8540 Spearman Corr: 0.6497 Specificity: 0.9258 Mean Metrics: 0.8098\n",
      "Epoch 55/60\n",
      "----------\n"
     ]
    },
    {
     "name": "stderr",
     "output_type": "stream",
     "text": [
      "Training: 100%|██████████| 1080/1080 [07:15<00:00,  2.48it/s]\n"
     ]
    },
    {
     "name": "stdout",
     "output_type": "stream",
     "text": [
      "Loss: 0.0108 Acc: 0.9972\n",
      "Train Accuracy: 0.9972 F1 Score: 0.9972 Spearman Corr: 0.9959 Specificity: 0.9986 Mean Metrics: 0.9972\n"
     ]
    },
    {
     "name": "stderr",
     "output_type": "stream",
     "text": [
      "Validation: 100%|██████████| 265/265 [00:52<00:00,  5.08it/s]\n"
     ]
    },
    {
     "name": "stdout",
     "output_type": "stream",
     "text": [
      "Val Loss: 0.8951 Val Acc: 0.8568\n",
      "Validation Accuracy: 0.8568 F1 Score: 0.8540 Spearman Corr: 0.6495 Specificity: 0.9257 Mean Metrics: 0.8097\n",
      "Epoch 56/60\n",
      "----------\n"
     ]
    },
    {
     "name": "stderr",
     "output_type": "stream",
     "text": [
      "Training: 100%|██████████| 1080/1080 [07:12<00:00,  2.49it/s]\n"
     ]
    },
    {
     "name": "stdout",
     "output_type": "stream",
     "text": [
      "Loss: 0.0112 Acc: 0.9966\n",
      "Train Accuracy: 0.9966 F1 Score: 0.9966 Spearman Corr: 0.9939 Specificity: 0.9984 Mean Metrics: 0.9963\n"
     ]
    },
    {
     "name": "stderr",
     "output_type": "stream",
     "text": [
      "Validation: 100%|██████████| 265/265 [00:52<00:00,  5.06it/s]\n"
     ]
    },
    {
     "name": "stdout",
     "output_type": "stream",
     "text": [
      "Val Loss: 0.8994 Val Acc: 0.8566\n",
      "Validation Accuracy: 0.8566 F1 Score: 0.8536 Spearman Corr: 0.6496 Specificity: 0.9252 Mean Metrics: 0.8095\n",
      "Epoch 57/60\n",
      "----------\n"
     ]
    },
    {
     "name": "stderr",
     "output_type": "stream",
     "text": [
      "Training: 100%|██████████| 1080/1080 [07:13<00:00,  2.49it/s]\n"
     ]
    },
    {
     "name": "stdout",
     "output_type": "stream",
     "text": [
      "Loss: 0.0124 Acc: 0.9962\n",
      "Train Accuracy: 0.9962 F1 Score: 0.9962 Spearman Corr: 0.9937 Specificity: 0.9980 Mean Metrics: 0.9960\n"
     ]
    },
    {
     "name": "stderr",
     "output_type": "stream",
     "text": [
      "Validation: 100%|██████████| 265/265 [00:52<00:00,  5.07it/s]\n"
     ]
    },
    {
     "name": "stdout",
     "output_type": "stream",
     "text": [
      "Val Loss: 0.8996 Val Acc: 0.8570\n",
      "Validation Accuracy: 0.8570 F1 Score: 0.8540 Spearman Corr: 0.6508 Specificity: 0.9251 Mean Metrics: 0.8100\n",
      "Epoch 58/60\n",
      "----------\n"
     ]
    },
    {
     "name": "stderr",
     "output_type": "stream",
     "text": [
      "Training: 100%|██████████| 1080/1080 [07:13<00:00,  2.49it/s]\n"
     ]
    },
    {
     "name": "stdout",
     "output_type": "stream",
     "text": [
      "Loss: 0.0131 Acc: 0.9965\n",
      "Train Accuracy: 0.9965 F1 Score: 0.9965 Spearman Corr: 0.9945 Specificity: 0.9980 Mean Metrics: 0.9964\n"
     ]
    },
    {
     "name": "stderr",
     "output_type": "stream",
     "text": [
      "Validation: 100%|██████████| 265/265 [00:51<00:00,  5.15it/s]\n"
     ]
    },
    {
     "name": "stdout",
     "output_type": "stream",
     "text": [
      "Val Loss: 0.8954 Val Acc: 0.8570\n",
      "Validation Accuracy: 0.8570 F1 Score: 0.8542 Spearman Corr: 0.6520 Specificity: 0.9257 Mean Metrics: 0.8106\n",
      "Epoch 59/60\n",
      "----------\n"
     ]
    },
    {
     "name": "stderr",
     "output_type": "stream",
     "text": [
      "Training: 100%|██████████| 1080/1080 [07:14<00:00,  2.49it/s]\n"
     ]
    },
    {
     "name": "stdout",
     "output_type": "stream",
     "text": [
      "Loss: 0.0113 Acc: 0.9971\n",
      "Train Accuracy: 0.9971 F1 Score: 0.9971 Spearman Corr: 0.9947 Specificity: 0.9986 Mean Metrics: 0.9968\n"
     ]
    },
    {
     "name": "stderr",
     "output_type": "stream",
     "text": [
      "Validation: 100%|██████████| 265/265 [00:51<00:00,  5.13it/s]\n"
     ]
    },
    {
     "name": "stdout",
     "output_type": "stream",
     "text": [
      "Val Loss: 0.8985 Val Acc: 0.8566\n",
      "Validation Accuracy: 0.8566 F1 Score: 0.8536 Spearman Corr: 0.6508 Specificity: 0.9252 Mean Metrics: 0.8099\n",
      "Epoch 60/60\n",
      "----------\n"
     ]
    },
    {
     "name": "stderr",
     "output_type": "stream",
     "text": [
      "Training: 100%|██████████| 1080/1080 [07:15<00:00,  2.48it/s]\n"
     ]
    },
    {
     "name": "stdout",
     "output_type": "stream",
     "text": [
      "Loss: 0.0121 Acc: 0.9972\n",
      "Train Accuracy: 0.9972 F1 Score: 0.9972 Spearman Corr: 0.9941 Specificity: 0.9985 Mean Metrics: 0.9966\n"
     ]
    },
    {
     "name": "stderr",
     "output_type": "stream",
     "text": [
      "Validation: 100%|██████████| 265/265 [00:56<00:00,  4.70it/s]\n"
     ]
    },
    {
     "name": "stdout",
     "output_type": "stream",
     "text": [
      "Val Loss: 0.8982 Val Acc: 0.8563\n",
      "Validation Accuracy: 0.8563 F1 Score: 0.8535 Spearman Corr: 0.6507 Specificity: 0.9252 Mean Metrics: 0.8098\n"
     ]
    },
    {
     "data": {
      "text/plain": [
       "OCTClassifier0(\n",
       "  (model): ConvNeXt(\n",
       "    (stem): Sequential(\n",
       "      (0): Conv2d(1, 192, kernel_size=(4, 4), stride=(4, 4))\n",
       "      (1): LayerNorm2d((192,), eps=1e-06, elementwise_affine=True)\n",
       "    )\n",
       "    (stages): Sequential(\n",
       "      (0): ConvNeXtStage(\n",
       "        (downsample): Identity()\n",
       "        (blocks): Sequential(\n",
       "          (0): ConvNeXtBlock(\n",
       "            (conv_dw): Conv2d(192, 192, kernel_size=(7, 7), stride=(1, 1), padding=(3, 3), groups=192)\n",
       "            (norm): LayerNorm((192,), eps=1e-06, elementwise_affine=True)\n",
       "            (mlp): GlobalResponseNormMlp(\n",
       "              (fc1): Linear(in_features=192, out_features=768, bias=True)\n",
       "              (act): GELU()\n",
       "              (drop1): Dropout(p=0.0, inplace=False)\n",
       "              (grn): GlobalResponseNorm()\n",
       "              (fc2): Linear(in_features=768, out_features=192, bias=True)\n",
       "              (drop2): Dropout(p=0.0, inplace=False)\n",
       "            )\n",
       "            (shortcut): Identity()\n",
       "            (drop_path): Identity()\n",
       "          )\n",
       "          (1): ConvNeXtBlock(\n",
       "            (conv_dw): Conv2d(192, 192, kernel_size=(7, 7), stride=(1, 1), padding=(3, 3), groups=192)\n",
       "            (norm): LayerNorm((192,), eps=1e-06, elementwise_affine=True)\n",
       "            (mlp): GlobalResponseNormMlp(\n",
       "              (fc1): Linear(in_features=192, out_features=768, bias=True)\n",
       "              (act): GELU()\n",
       "              (drop1): Dropout(p=0.0, inplace=False)\n",
       "              (grn): GlobalResponseNorm()\n",
       "              (fc2): Linear(in_features=768, out_features=192, bias=True)\n",
       "              (drop2): Dropout(p=0.0, inplace=False)\n",
       "            )\n",
       "            (shortcut): Identity()\n",
       "            (drop_path): Identity()\n",
       "          )\n",
       "          (2): ConvNeXtBlock(\n",
       "            (conv_dw): Conv2d(192, 192, kernel_size=(7, 7), stride=(1, 1), padding=(3, 3), groups=192)\n",
       "            (norm): LayerNorm((192,), eps=1e-06, elementwise_affine=True)\n",
       "            (mlp): GlobalResponseNormMlp(\n",
       "              (fc1): Linear(in_features=192, out_features=768, bias=True)\n",
       "              (act): GELU()\n",
       "              (drop1): Dropout(p=0.0, inplace=False)\n",
       "              (grn): GlobalResponseNorm()\n",
       "              (fc2): Linear(in_features=768, out_features=192, bias=True)\n",
       "              (drop2): Dropout(p=0.0, inplace=False)\n",
       "            )\n",
       "            (shortcut): Identity()\n",
       "            (drop_path): Identity()\n",
       "          )\n",
       "        )\n",
       "      )\n",
       "      (1): ConvNeXtStage(\n",
       "        (downsample): Sequential(\n",
       "          (0): LayerNorm2d((192,), eps=1e-06, elementwise_affine=True)\n",
       "          (1): Conv2d(192, 384, kernel_size=(2, 2), stride=(2, 2))\n",
       "        )\n",
       "        (blocks): Sequential(\n",
       "          (0): ConvNeXtBlock(\n",
       "            (conv_dw): Conv2d(384, 384, kernel_size=(7, 7), stride=(1, 1), padding=(3, 3), groups=384)\n",
       "            (norm): LayerNorm((384,), eps=1e-06, elementwise_affine=True)\n",
       "            (mlp): GlobalResponseNormMlp(\n",
       "              (fc1): Linear(in_features=384, out_features=1536, bias=True)\n",
       "              (act): GELU()\n",
       "              (drop1): Dropout(p=0.0, inplace=False)\n",
       "              (grn): GlobalResponseNorm()\n",
       "              (fc2): Linear(in_features=1536, out_features=384, bias=True)\n",
       "              (drop2): Dropout(p=0.0, inplace=False)\n",
       "            )\n",
       "            (shortcut): Identity()\n",
       "            (drop_path): Identity()\n",
       "          )\n",
       "          (1): ConvNeXtBlock(\n",
       "            (conv_dw): Conv2d(384, 384, kernel_size=(7, 7), stride=(1, 1), padding=(3, 3), groups=384)\n",
       "            (norm): LayerNorm((384,), eps=1e-06, elementwise_affine=True)\n",
       "            (mlp): GlobalResponseNormMlp(\n",
       "              (fc1): Linear(in_features=384, out_features=1536, bias=True)\n",
       "              (act): GELU()\n",
       "              (drop1): Dropout(p=0.0, inplace=False)\n",
       "              (grn): GlobalResponseNorm()\n",
       "              (fc2): Linear(in_features=1536, out_features=384, bias=True)\n",
       "              (drop2): Dropout(p=0.0, inplace=False)\n",
       "            )\n",
       "            (shortcut): Identity()\n",
       "            (drop_path): Identity()\n",
       "          )\n",
       "          (2): ConvNeXtBlock(\n",
       "            (conv_dw): Conv2d(384, 384, kernel_size=(7, 7), stride=(1, 1), padding=(3, 3), groups=384)\n",
       "            (norm): LayerNorm((384,), eps=1e-06, elementwise_affine=True)\n",
       "            (mlp): GlobalResponseNormMlp(\n",
       "              (fc1): Linear(in_features=384, out_features=1536, bias=True)\n",
       "              (act): GELU()\n",
       "              (drop1): Dropout(p=0.0, inplace=False)\n",
       "              (grn): GlobalResponseNorm()\n",
       "              (fc2): Linear(in_features=1536, out_features=384, bias=True)\n",
       "              (drop2): Dropout(p=0.0, inplace=False)\n",
       "            )\n",
       "            (shortcut): Identity()\n",
       "            (drop_path): Identity()\n",
       "          )\n",
       "        )\n",
       "      )\n",
       "      (2): ConvNeXtStage(\n",
       "        (downsample): Sequential(\n",
       "          (0): LayerNorm2d((384,), eps=1e-06, elementwise_affine=True)\n",
       "          (1): Conv2d(384, 768, kernel_size=(2, 2), stride=(2, 2))\n",
       "        )\n",
       "        (blocks): Sequential(\n",
       "          (0): ConvNeXtBlock(\n",
       "            (conv_dw): Conv2d(768, 768, kernel_size=(7, 7), stride=(1, 1), padding=(3, 3), groups=768)\n",
       "            (norm): LayerNorm((768,), eps=1e-06, elementwise_affine=True)\n",
       "            (mlp): GlobalResponseNormMlp(\n",
       "              (fc1): Linear(in_features=768, out_features=3072, bias=True)\n",
       "              (act): GELU()\n",
       "              (drop1): Dropout(p=0.0, inplace=False)\n",
       "              (grn): GlobalResponseNorm()\n",
       "              (fc2): Linear(in_features=3072, out_features=768, bias=True)\n",
       "              (drop2): Dropout(p=0.0, inplace=False)\n",
       "            )\n",
       "            (shortcut): Identity()\n",
       "            (drop_path): Identity()\n",
       "          )\n",
       "          (1): ConvNeXtBlock(\n",
       "            (conv_dw): Conv2d(768, 768, kernel_size=(7, 7), stride=(1, 1), padding=(3, 3), groups=768)\n",
       "            (norm): LayerNorm((768,), eps=1e-06, elementwise_affine=True)\n",
       "            (mlp): GlobalResponseNormMlp(\n",
       "              (fc1): Linear(in_features=768, out_features=3072, bias=True)\n",
       "              (act): GELU()\n",
       "              (drop1): Dropout(p=0.0, inplace=False)\n",
       "              (grn): GlobalResponseNorm()\n",
       "              (fc2): Linear(in_features=3072, out_features=768, bias=True)\n",
       "              (drop2): Dropout(p=0.0, inplace=False)\n",
       "            )\n",
       "            (shortcut): Identity()\n",
       "            (drop_path): Identity()\n",
       "          )\n",
       "          (2): ConvNeXtBlock(\n",
       "            (conv_dw): Conv2d(768, 768, kernel_size=(7, 7), stride=(1, 1), padding=(3, 3), groups=768)\n",
       "            (norm): LayerNorm((768,), eps=1e-06, elementwise_affine=True)\n",
       "            (mlp): GlobalResponseNormMlp(\n",
       "              (fc1): Linear(in_features=768, out_features=3072, bias=True)\n",
       "              (act): GELU()\n",
       "              (drop1): Dropout(p=0.0, inplace=False)\n",
       "              (grn): GlobalResponseNorm()\n",
       "              (fc2): Linear(in_features=3072, out_features=768, bias=True)\n",
       "              (drop2): Dropout(p=0.0, inplace=False)\n",
       "            )\n",
       "            (shortcut): Identity()\n",
       "            (drop_path): Identity()\n",
       "          )\n",
       "          (3): ConvNeXtBlock(\n",
       "            (conv_dw): Conv2d(768, 768, kernel_size=(7, 7), stride=(1, 1), padding=(3, 3), groups=768)\n",
       "            (norm): LayerNorm((768,), eps=1e-06, elementwise_affine=True)\n",
       "            (mlp): GlobalResponseNormMlp(\n",
       "              (fc1): Linear(in_features=768, out_features=3072, bias=True)\n",
       "              (act): GELU()\n",
       "              (drop1): Dropout(p=0.0, inplace=False)\n",
       "              (grn): GlobalResponseNorm()\n",
       "              (fc2): Linear(in_features=3072, out_features=768, bias=True)\n",
       "              (drop2): Dropout(p=0.0, inplace=False)\n",
       "            )\n",
       "            (shortcut): Identity()\n",
       "            (drop_path): Identity()\n",
       "          )\n",
       "          (4): ConvNeXtBlock(\n",
       "            (conv_dw): Conv2d(768, 768, kernel_size=(7, 7), stride=(1, 1), padding=(3, 3), groups=768)\n",
       "            (norm): LayerNorm((768,), eps=1e-06, elementwise_affine=True)\n",
       "            (mlp): GlobalResponseNormMlp(\n",
       "              (fc1): Linear(in_features=768, out_features=3072, bias=True)\n",
       "              (act): GELU()\n",
       "              (drop1): Dropout(p=0.0, inplace=False)\n",
       "              (grn): GlobalResponseNorm()\n",
       "              (fc2): Linear(in_features=3072, out_features=768, bias=True)\n",
       "              (drop2): Dropout(p=0.0, inplace=False)\n",
       "            )\n",
       "            (shortcut): Identity()\n",
       "            (drop_path): Identity()\n",
       "          )\n",
       "          (5): ConvNeXtBlock(\n",
       "            (conv_dw): Conv2d(768, 768, kernel_size=(7, 7), stride=(1, 1), padding=(3, 3), groups=768)\n",
       "            (norm): LayerNorm((768,), eps=1e-06, elementwise_affine=True)\n",
       "            (mlp): GlobalResponseNormMlp(\n",
       "              (fc1): Linear(in_features=768, out_features=3072, bias=True)\n",
       "              (act): GELU()\n",
       "              (drop1): Dropout(p=0.0, inplace=False)\n",
       "              (grn): GlobalResponseNorm()\n",
       "              (fc2): Linear(in_features=3072, out_features=768, bias=True)\n",
       "              (drop2): Dropout(p=0.0, inplace=False)\n",
       "            )\n",
       "            (shortcut): Identity()\n",
       "            (drop_path): Identity()\n",
       "          )\n",
       "          (6): ConvNeXtBlock(\n",
       "            (conv_dw): Conv2d(768, 768, kernel_size=(7, 7), stride=(1, 1), padding=(3, 3), groups=768)\n",
       "            (norm): LayerNorm((768,), eps=1e-06, elementwise_affine=True)\n",
       "            (mlp): GlobalResponseNormMlp(\n",
       "              (fc1): Linear(in_features=768, out_features=3072, bias=True)\n",
       "              (act): GELU()\n",
       "              (drop1): Dropout(p=0.0, inplace=False)\n",
       "              (grn): GlobalResponseNorm()\n",
       "              (fc2): Linear(in_features=3072, out_features=768, bias=True)\n",
       "              (drop2): Dropout(p=0.0, inplace=False)\n",
       "            )\n",
       "            (shortcut): Identity()\n",
       "            (drop_path): Identity()\n",
       "          )\n",
       "          (7): ConvNeXtBlock(\n",
       "            (conv_dw): Conv2d(768, 768, kernel_size=(7, 7), stride=(1, 1), padding=(3, 3), groups=768)\n",
       "            (norm): LayerNorm((768,), eps=1e-06, elementwise_affine=True)\n",
       "            (mlp): GlobalResponseNormMlp(\n",
       "              (fc1): Linear(in_features=768, out_features=3072, bias=True)\n",
       "              (act): GELU()\n",
       "              (drop1): Dropout(p=0.0, inplace=False)\n",
       "              (grn): GlobalResponseNorm()\n",
       "              (fc2): Linear(in_features=3072, out_features=768, bias=True)\n",
       "              (drop2): Dropout(p=0.0, inplace=False)\n",
       "            )\n",
       "            (shortcut): Identity()\n",
       "            (drop_path): Identity()\n",
       "          )\n",
       "          (8): ConvNeXtBlock(\n",
       "            (conv_dw): Conv2d(768, 768, kernel_size=(7, 7), stride=(1, 1), padding=(3, 3), groups=768)\n",
       "            (norm): LayerNorm((768,), eps=1e-06, elementwise_affine=True)\n",
       "            (mlp): GlobalResponseNormMlp(\n",
       "              (fc1): Linear(in_features=768, out_features=3072, bias=True)\n",
       "              (act): GELU()\n",
       "              (drop1): Dropout(p=0.0, inplace=False)\n",
       "              (grn): GlobalResponseNorm()\n",
       "              (fc2): Linear(in_features=3072, out_features=768, bias=True)\n",
       "              (drop2): Dropout(p=0.0, inplace=False)\n",
       "            )\n",
       "            (shortcut): Identity()\n",
       "            (drop_path): Identity()\n",
       "          )\n",
       "          (9): ConvNeXtBlock(\n",
       "            (conv_dw): Conv2d(768, 768, kernel_size=(7, 7), stride=(1, 1), padding=(3, 3), groups=768)\n",
       "            (norm): LayerNorm((768,), eps=1e-06, elementwise_affine=True)\n",
       "            (mlp): GlobalResponseNormMlp(\n",
       "              (fc1): Linear(in_features=768, out_features=3072, bias=True)\n",
       "              (act): GELU()\n",
       "              (drop1): Dropout(p=0.0, inplace=False)\n",
       "              (grn): GlobalResponseNorm()\n",
       "              (fc2): Linear(in_features=3072, out_features=768, bias=True)\n",
       "              (drop2): Dropout(p=0.0, inplace=False)\n",
       "            )\n",
       "            (shortcut): Identity()\n",
       "            (drop_path): Identity()\n",
       "          )\n",
       "          (10): ConvNeXtBlock(\n",
       "            (conv_dw): Conv2d(768, 768, kernel_size=(7, 7), stride=(1, 1), padding=(3, 3), groups=768)\n",
       "            (norm): LayerNorm((768,), eps=1e-06, elementwise_affine=True)\n",
       "            (mlp): GlobalResponseNormMlp(\n",
       "              (fc1): Linear(in_features=768, out_features=3072, bias=True)\n",
       "              (act): GELU()\n",
       "              (drop1): Dropout(p=0.0, inplace=False)\n",
       "              (grn): GlobalResponseNorm()\n",
       "              (fc2): Linear(in_features=3072, out_features=768, bias=True)\n",
       "              (drop2): Dropout(p=0.0, inplace=False)\n",
       "            )\n",
       "            (shortcut): Identity()\n",
       "            (drop_path): Identity()\n",
       "          )\n",
       "          (11): ConvNeXtBlock(\n",
       "            (conv_dw): Conv2d(768, 768, kernel_size=(7, 7), stride=(1, 1), padding=(3, 3), groups=768)\n",
       "            (norm): LayerNorm((768,), eps=1e-06, elementwise_affine=True)\n",
       "            (mlp): GlobalResponseNormMlp(\n",
       "              (fc1): Linear(in_features=768, out_features=3072, bias=True)\n",
       "              (act): GELU()\n",
       "              (drop1): Dropout(p=0.0, inplace=False)\n",
       "              (grn): GlobalResponseNorm()\n",
       "              (fc2): Linear(in_features=3072, out_features=768, bias=True)\n",
       "              (drop2): Dropout(p=0.0, inplace=False)\n",
       "            )\n",
       "            (shortcut): Identity()\n",
       "            (drop_path): Identity()\n",
       "          )\n",
       "          (12): ConvNeXtBlock(\n",
       "            (conv_dw): Conv2d(768, 768, kernel_size=(7, 7), stride=(1, 1), padding=(3, 3), groups=768)\n",
       "            (norm): LayerNorm((768,), eps=1e-06, elementwise_affine=True)\n",
       "            (mlp): GlobalResponseNormMlp(\n",
       "              (fc1): Linear(in_features=768, out_features=3072, bias=True)\n",
       "              (act): GELU()\n",
       "              (drop1): Dropout(p=0.0, inplace=False)\n",
       "              (grn): GlobalResponseNorm()\n",
       "              (fc2): Linear(in_features=3072, out_features=768, bias=True)\n",
       "              (drop2): Dropout(p=0.0, inplace=False)\n",
       "            )\n",
       "            (shortcut): Identity()\n",
       "            (drop_path): Identity()\n",
       "          )\n",
       "          (13): ConvNeXtBlock(\n",
       "            (conv_dw): Conv2d(768, 768, kernel_size=(7, 7), stride=(1, 1), padding=(3, 3), groups=768)\n",
       "            (norm): LayerNorm((768,), eps=1e-06, elementwise_affine=True)\n",
       "            (mlp): GlobalResponseNormMlp(\n",
       "              (fc1): Linear(in_features=768, out_features=3072, bias=True)\n",
       "              (act): GELU()\n",
       "              (drop1): Dropout(p=0.0, inplace=False)\n",
       "              (grn): GlobalResponseNorm()\n",
       "              (fc2): Linear(in_features=3072, out_features=768, bias=True)\n",
       "              (drop2): Dropout(p=0.0, inplace=False)\n",
       "            )\n",
       "            (shortcut): Identity()\n",
       "            (drop_path): Identity()\n",
       "          )\n",
       "          (14): ConvNeXtBlock(\n",
       "            (conv_dw): Conv2d(768, 768, kernel_size=(7, 7), stride=(1, 1), padding=(3, 3), groups=768)\n",
       "            (norm): LayerNorm((768,), eps=1e-06, elementwise_affine=True)\n",
       "            (mlp): GlobalResponseNormMlp(\n",
       "              (fc1): Linear(in_features=768, out_features=3072, bias=True)\n",
       "              (act): GELU()\n",
       "              (drop1): Dropout(p=0.0, inplace=False)\n",
       "              (grn): GlobalResponseNorm()\n",
       "              (fc2): Linear(in_features=3072, out_features=768, bias=True)\n",
       "              (drop2): Dropout(p=0.0, inplace=False)\n",
       "            )\n",
       "            (shortcut): Identity()\n",
       "            (drop_path): Identity()\n",
       "          )\n",
       "          (15): ConvNeXtBlock(\n",
       "            (conv_dw): Conv2d(768, 768, kernel_size=(7, 7), stride=(1, 1), padding=(3, 3), groups=768)\n",
       "            (norm): LayerNorm((768,), eps=1e-06, elementwise_affine=True)\n",
       "            (mlp): GlobalResponseNormMlp(\n",
       "              (fc1): Linear(in_features=768, out_features=3072, bias=True)\n",
       "              (act): GELU()\n",
       "              (drop1): Dropout(p=0.0, inplace=False)\n",
       "              (grn): GlobalResponseNorm()\n",
       "              (fc2): Linear(in_features=3072, out_features=768, bias=True)\n",
       "              (drop2): Dropout(p=0.0, inplace=False)\n",
       "            )\n",
       "            (shortcut): Identity()\n",
       "            (drop_path): Identity()\n",
       "          )\n",
       "          (16): ConvNeXtBlock(\n",
       "            (conv_dw): Conv2d(768, 768, kernel_size=(7, 7), stride=(1, 1), padding=(3, 3), groups=768)\n",
       "            (norm): LayerNorm((768,), eps=1e-06, elementwise_affine=True)\n",
       "            (mlp): GlobalResponseNormMlp(\n",
       "              (fc1): Linear(in_features=768, out_features=3072, bias=True)\n",
       "              (act): GELU()\n",
       "              (drop1): Dropout(p=0.0, inplace=False)\n",
       "              (grn): GlobalResponseNorm()\n",
       "              (fc2): Linear(in_features=3072, out_features=768, bias=True)\n",
       "              (drop2): Dropout(p=0.0, inplace=False)\n",
       "            )\n",
       "            (shortcut): Identity()\n",
       "            (drop_path): Identity()\n",
       "          )\n",
       "          (17): ConvNeXtBlock(\n",
       "            (conv_dw): Conv2d(768, 768, kernel_size=(7, 7), stride=(1, 1), padding=(3, 3), groups=768)\n",
       "            (norm): LayerNorm((768,), eps=1e-06, elementwise_affine=True)\n",
       "            (mlp): GlobalResponseNormMlp(\n",
       "              (fc1): Linear(in_features=768, out_features=3072, bias=True)\n",
       "              (act): GELU()\n",
       "              (drop1): Dropout(p=0.0, inplace=False)\n",
       "              (grn): GlobalResponseNorm()\n",
       "              (fc2): Linear(in_features=3072, out_features=768, bias=True)\n",
       "              (drop2): Dropout(p=0.0, inplace=False)\n",
       "            )\n",
       "            (shortcut): Identity()\n",
       "            (drop_path): Identity()\n",
       "          )\n",
       "          (18): ConvNeXtBlock(\n",
       "            (conv_dw): Conv2d(768, 768, kernel_size=(7, 7), stride=(1, 1), padding=(3, 3), groups=768)\n",
       "            (norm): LayerNorm((768,), eps=1e-06, elementwise_affine=True)\n",
       "            (mlp): GlobalResponseNormMlp(\n",
       "              (fc1): Linear(in_features=768, out_features=3072, bias=True)\n",
       "              (act): GELU()\n",
       "              (drop1): Dropout(p=0.0, inplace=False)\n",
       "              (grn): GlobalResponseNorm()\n",
       "              (fc2): Linear(in_features=3072, out_features=768, bias=True)\n",
       "              (drop2): Dropout(p=0.0, inplace=False)\n",
       "            )\n",
       "            (shortcut): Identity()\n",
       "            (drop_path): Identity()\n",
       "          )\n",
       "          (19): ConvNeXtBlock(\n",
       "            (conv_dw): Conv2d(768, 768, kernel_size=(7, 7), stride=(1, 1), padding=(3, 3), groups=768)\n",
       "            (norm): LayerNorm((768,), eps=1e-06, elementwise_affine=True)\n",
       "            (mlp): GlobalResponseNormMlp(\n",
       "              (fc1): Linear(in_features=768, out_features=3072, bias=True)\n",
       "              (act): GELU()\n",
       "              (drop1): Dropout(p=0.0, inplace=False)\n",
       "              (grn): GlobalResponseNorm()\n",
       "              (fc2): Linear(in_features=3072, out_features=768, bias=True)\n",
       "              (drop2): Dropout(p=0.0, inplace=False)\n",
       "            )\n",
       "            (shortcut): Identity()\n",
       "            (drop_path): Identity()\n",
       "          )\n",
       "          (20): ConvNeXtBlock(\n",
       "            (conv_dw): Conv2d(768, 768, kernel_size=(7, 7), stride=(1, 1), padding=(3, 3), groups=768)\n",
       "            (norm): LayerNorm((768,), eps=1e-06, elementwise_affine=True)\n",
       "            (mlp): GlobalResponseNormMlp(\n",
       "              (fc1): Linear(in_features=768, out_features=3072, bias=True)\n",
       "              (act): GELU()\n",
       "              (drop1): Dropout(p=0.0, inplace=False)\n",
       "              (grn): GlobalResponseNorm()\n",
       "              (fc2): Linear(in_features=3072, out_features=768, bias=True)\n",
       "              (drop2): Dropout(p=0.0, inplace=False)\n",
       "            )\n",
       "            (shortcut): Identity()\n",
       "            (drop_path): Identity()\n",
       "          )\n",
       "          (21): ConvNeXtBlock(\n",
       "            (conv_dw): Conv2d(768, 768, kernel_size=(7, 7), stride=(1, 1), padding=(3, 3), groups=768)\n",
       "            (norm): LayerNorm((768,), eps=1e-06, elementwise_affine=True)\n",
       "            (mlp): GlobalResponseNormMlp(\n",
       "              (fc1): Linear(in_features=768, out_features=3072, bias=True)\n",
       "              (act): GELU()\n",
       "              (drop1): Dropout(p=0.0, inplace=False)\n",
       "              (grn): GlobalResponseNorm()\n",
       "              (fc2): Linear(in_features=3072, out_features=768, bias=True)\n",
       "              (drop2): Dropout(p=0.0, inplace=False)\n",
       "            )\n",
       "            (shortcut): Identity()\n",
       "            (drop_path): Identity()\n",
       "          )\n",
       "          (22): ConvNeXtBlock(\n",
       "            (conv_dw): Conv2d(768, 768, kernel_size=(7, 7), stride=(1, 1), padding=(3, 3), groups=768)\n",
       "            (norm): LayerNorm((768,), eps=1e-06, elementwise_affine=True)\n",
       "            (mlp): GlobalResponseNormMlp(\n",
       "              (fc1): Linear(in_features=768, out_features=3072, bias=True)\n",
       "              (act): GELU()\n",
       "              (drop1): Dropout(p=0.0, inplace=False)\n",
       "              (grn): GlobalResponseNorm()\n",
       "              (fc2): Linear(in_features=3072, out_features=768, bias=True)\n",
       "              (drop2): Dropout(p=0.0, inplace=False)\n",
       "            )\n",
       "            (shortcut): Identity()\n",
       "            (drop_path): Identity()\n",
       "          )\n",
       "          (23): ConvNeXtBlock(\n",
       "            (conv_dw): Conv2d(768, 768, kernel_size=(7, 7), stride=(1, 1), padding=(3, 3), groups=768)\n",
       "            (norm): LayerNorm((768,), eps=1e-06, elementwise_affine=True)\n",
       "            (mlp): GlobalResponseNormMlp(\n",
       "              (fc1): Linear(in_features=768, out_features=3072, bias=True)\n",
       "              (act): GELU()\n",
       "              (drop1): Dropout(p=0.0, inplace=False)\n",
       "              (grn): GlobalResponseNorm()\n",
       "              (fc2): Linear(in_features=3072, out_features=768, bias=True)\n",
       "              (drop2): Dropout(p=0.0, inplace=False)\n",
       "            )\n",
       "            (shortcut): Identity()\n",
       "            (drop_path): Identity()\n",
       "          )\n",
       "          (24): ConvNeXtBlock(\n",
       "            (conv_dw): Conv2d(768, 768, kernel_size=(7, 7), stride=(1, 1), padding=(3, 3), groups=768)\n",
       "            (norm): LayerNorm((768,), eps=1e-06, elementwise_affine=True)\n",
       "            (mlp): GlobalResponseNormMlp(\n",
       "              (fc1): Linear(in_features=768, out_features=3072, bias=True)\n",
       "              (act): GELU()\n",
       "              (drop1): Dropout(p=0.0, inplace=False)\n",
       "              (grn): GlobalResponseNorm()\n",
       "              (fc2): Linear(in_features=3072, out_features=768, bias=True)\n",
       "              (drop2): Dropout(p=0.0, inplace=False)\n",
       "            )\n",
       "            (shortcut): Identity()\n",
       "            (drop_path): Identity()\n",
       "          )\n",
       "          (25): ConvNeXtBlock(\n",
       "            (conv_dw): Conv2d(768, 768, kernel_size=(7, 7), stride=(1, 1), padding=(3, 3), groups=768)\n",
       "            (norm): LayerNorm((768,), eps=1e-06, elementwise_affine=True)\n",
       "            (mlp): GlobalResponseNormMlp(\n",
       "              (fc1): Linear(in_features=768, out_features=3072, bias=True)\n",
       "              (act): GELU()\n",
       "              (drop1): Dropout(p=0.0, inplace=False)\n",
       "              (grn): GlobalResponseNorm()\n",
       "              (fc2): Linear(in_features=3072, out_features=768, bias=True)\n",
       "              (drop2): Dropout(p=0.0, inplace=False)\n",
       "            )\n",
       "            (shortcut): Identity()\n",
       "            (drop_path): Identity()\n",
       "          )\n",
       "          (26): ConvNeXtBlock(\n",
       "            (conv_dw): Conv2d(768, 768, kernel_size=(7, 7), stride=(1, 1), padding=(3, 3), groups=768)\n",
       "            (norm): LayerNorm((768,), eps=1e-06, elementwise_affine=True)\n",
       "            (mlp): GlobalResponseNormMlp(\n",
       "              (fc1): Linear(in_features=768, out_features=3072, bias=True)\n",
       "              (act): GELU()\n",
       "              (drop1): Dropout(p=0.0, inplace=False)\n",
       "              (grn): GlobalResponseNorm()\n",
       "              (fc2): Linear(in_features=3072, out_features=768, bias=True)\n",
       "              (drop2): Dropout(p=0.0, inplace=False)\n",
       "            )\n",
       "            (shortcut): Identity()\n",
       "            (drop_path): Identity()\n",
       "          )\n",
       "        )\n",
       "      )\n",
       "      (3): ConvNeXtStage(\n",
       "        (downsample): Sequential(\n",
       "          (0): LayerNorm2d((768,), eps=1e-06, elementwise_affine=True)\n",
       "          (1): Conv2d(768, 1536, kernel_size=(2, 2), stride=(2, 2))\n",
       "        )\n",
       "        (blocks): Sequential(\n",
       "          (0): ConvNeXtBlock(\n",
       "            (conv_dw): Conv2d(1536, 1536, kernel_size=(7, 7), stride=(1, 1), padding=(3, 3), groups=1536)\n",
       "            (norm): LayerNorm((1536,), eps=1e-06, elementwise_affine=True)\n",
       "            (mlp): GlobalResponseNormMlp(\n",
       "              (fc1): Linear(in_features=1536, out_features=6144, bias=True)\n",
       "              (act): GELU()\n",
       "              (drop1): Dropout(p=0.0, inplace=False)\n",
       "              (grn): GlobalResponseNorm()\n",
       "              (fc2): Linear(in_features=6144, out_features=1536, bias=True)\n",
       "              (drop2): Dropout(p=0.0, inplace=False)\n",
       "            )\n",
       "            (shortcut): Identity()\n",
       "            (drop_path): Identity()\n",
       "          )\n",
       "          (1): ConvNeXtBlock(\n",
       "            (conv_dw): Conv2d(1536, 1536, kernel_size=(7, 7), stride=(1, 1), padding=(3, 3), groups=1536)\n",
       "            (norm): LayerNorm((1536,), eps=1e-06, elementwise_affine=True)\n",
       "            (mlp): GlobalResponseNormMlp(\n",
       "              (fc1): Linear(in_features=1536, out_features=6144, bias=True)\n",
       "              (act): GELU()\n",
       "              (drop1): Dropout(p=0.0, inplace=False)\n",
       "              (grn): GlobalResponseNorm()\n",
       "              (fc2): Linear(in_features=6144, out_features=1536, bias=True)\n",
       "              (drop2): Dropout(p=0.0, inplace=False)\n",
       "            )\n",
       "            (shortcut): Identity()\n",
       "            (drop_path): Identity()\n",
       "          )\n",
       "          (2): ConvNeXtBlock(\n",
       "            (conv_dw): Conv2d(1536, 1536, kernel_size=(7, 7), stride=(1, 1), padding=(3, 3), groups=1536)\n",
       "            (norm): LayerNorm((1536,), eps=1e-06, elementwise_affine=True)\n",
       "            (mlp): GlobalResponseNormMlp(\n",
       "              (fc1): Linear(in_features=1536, out_features=6144, bias=True)\n",
       "              (act): GELU()\n",
       "              (drop1): Dropout(p=0.0, inplace=False)\n",
       "              (grn): GlobalResponseNorm()\n",
       "              (fc2): Linear(in_features=6144, out_features=1536, bias=True)\n",
       "              (drop2): Dropout(p=0.0, inplace=False)\n",
       "            )\n",
       "            (shortcut): Identity()\n",
       "            (drop_path): Identity()\n",
       "          )\n",
       "        )\n",
       "      )\n",
       "    )\n",
       "    (norm_pre): Identity()\n",
       "    (head): NormMlpClassifierHead(\n",
       "      (global_pool): SelectAdaptivePool2d(pool_type=avg, flatten=Identity())\n",
       "      (norm): LayerNorm2d((1536,), eps=1e-06, elementwise_affine=True)\n",
       "      (flatten): Flatten(start_dim=1, end_dim=-1)\n",
       "      (pre_logits): Identity()\n",
       "      (drop): Dropout(p=0.0, inplace=False)\n",
       "      (fc): Identity()\n",
       "    )\n",
       "  )\n",
       "  (fc_single): Sequential(\n",
       "    (0): Linear(in_features=1536, out_features=512, bias=True)\n",
       "    (1): ReLU()\n",
       "    (2): Linear(in_features=512, out_features=256, bias=True)\n",
       "  )\n",
       "  (fc_diff): Sequential(\n",
       "    (0): Linear(in_features=1536, out_features=512, bias=True)\n",
       "    (1): ReLU()\n",
       "    (2): Linear(in_features=512, out_features=256, bias=True)\n",
       "  )\n",
       "  (fc_final): Sequential(\n",
       "    (0): Linear(in_features=768, out_features=512, bias=True)\n",
       "    (1): ReLU()\n",
       "    (2): Linear(in_features=512, out_features=4, bias=True)\n",
       "  )\n",
       ")"
      ]
     },
     "execution_count": 1,
     "metadata": {},
     "output_type": "execute_result"
    }
   ],
   "execution_count": 1
  },
  {
   "metadata": {},
   "cell_type": "code",
   "outputs": [],
   "execution_count": null,
   "source": "",
   "id": "26b6a73cef6be546"
  },
  {
   "metadata": {},
   "cell_type": "markdown",
   "source": "5e-6 try 1-3",
   "id": "57d9b5f5838fcd6a"
  },
  {
   "metadata": {
    "ExecuteTime": {
     "end_time": "2024-08-10T00:57:09.936020Z",
     "start_time": "2024-08-09T17:49:53.039990Z"
    }
   },
   "cell_type": "code",
   "source": [
    "import pandas as pd\n",
    "import random\n",
    "\n",
    "import torch\n",
    "import torch.nn as nn\n",
    "import torch.optim as optim\n",
    "import numpy as np\n",
    "from torch.utils.data import DataLoader, random_split\n",
    "from torchvision import transforms, models\n",
    "import OCTData\n",
    "from evaluate import evaluate_model\n",
    "from models import OCTClassifier0\n",
    "from training import train_model\n",
    "from config import config\n",
    "from torchvision.transforms import AutoAugment, RandAugment, AutoAugmentPolicy, InterpolationMode\n",
    "from albumentations.pytorch import ToTensorV2\n",
    "\n",
    "def set_seed(seed):\n",
    "    random.seed(seed)\n",
    "    np.random.seed(seed)\n",
    "    torch.manual_seed(seed)\n",
    "    if torch.cuda.is_available():\n",
    "        torch.cuda.manual_seed(seed)\n",
    "        torch.cuda.manual_seed_all(seed)\n",
    "    torch.backends.cudnn.deterministic = True\n",
    "    torch.backends.cudnn.benchmark = False\n",
    "    generator = torch.Generator().manual_seed(seed)\n",
    "    return generator\n",
    "\n",
    "\n",
    "\n",
    "generator= set_seed(config.seed)  # 你可以选择任何整数作为种子\n",
    "\n",
    "transform = transforms.Compose([\n",
    "    # SquarePad(),  # 填充到正方形\n",
    "    transforms.Resize((224, 224)),\n",
    "    transforms.ToTensor(),\n",
    "    transforms.Normalize(mean=[0.5], std=[0.5]), # ??\n",
    "])\n",
    "\n",
    "#aug3 more\n",
    "train_transform = transforms.Compose([\n",
    "        transforms.RandomApply([transforms.ColorJitter(brightness=0.25, contrast=0.25)], p=0.25),\n",
    "        transforms.RandomApply([transforms.GaussianBlur(kernel_size=(5, 9), sigma=(0.1, 5))], p=0.15),\n",
    "        transforms.RandomAffine(degrees=25, scale=(0.8, 1.2), translate=(0.1, 0.1)),\n",
    "        transforms.RandomHorizontalFlip(p=0.3),\n",
    "        transforms.Resize((224, 224)),\n",
    "        transforms.ToTensor(),\n",
    "        transforms.Normalize(mean=[0.5], std=[0.5]),\n",
    "    ])\n",
    "\n",
    "\n",
    "# 验证集不进行数据增强，只进行基本的预处理\n",
    "val_transform = transforms.Compose([\n",
    "    transforms.Resize((224, 224)),\n",
    "    transforms.ToTensor(),\n",
    "    transforms.Normalize(mean=[0.5], std=[0.5])\n",
    "])\n",
    "\n",
    "\n",
    "\n",
    "train_data_frame = pd.read_csv(config.final_train_csv_file)\n",
    "val_data_frame = pd.read_csv(config.final_val_csv_file)\n",
    "\n",
    "# 为训练和验证集分别创建不同的 Dataset 实例，并应用不同的 transforms\n",
    "train_dataset = OCTData.OCTData(train_data_frame, root_dir=config.final_root_dir, transform=train_transform)\n",
    "val_dataset = OCTData.OCTData(val_data_frame, root_dir=config.final_root_dir, transform=val_transform)\n",
    "\n",
    "# 创建数据加载器\n",
    "train_loader = DataLoader(train_dataset, batch_size=config.batch_size, shuffle=True)\n",
    "val_loader = DataLoader(val_dataset, batch_size=config.batch_size, shuffle=False)\n",
    "\n",
    "\n",
    "\n",
    "\n",
    "model = OCTClassifier0()\n",
    "\n",
    "device = torch.device(\"cuda:0\" if torch.cuda.is_available() else \"cpu\")\n",
    "model = model.to(device)\n",
    "# checkpoint_path = \"data/model/convnextv2_large_v3/epoch_45_split_0.8_bs_16_lr_5e-07.pth\"\n",
    "# checkpoint = torch.load(checkpoint_path)\n",
    "# model.load_state_dict(checkpoint)\n",
    "\n",
    "criterion = nn.CrossEntropyLoss()\n",
    "optimizer = optim.Adam(model.parameters(), lr=config.lr)    \n",
    "\n",
    "train_model(model, train_loader, val_loader, criterion, optimizer, num_epochs=config.num_epochs)\n",
    "\n",
    "\n",
    "\n",
    "\n"
   ],
   "id": "422aaf76e1aee184",
   "outputs": [
    {
     "name": "stderr",
     "output_type": "stream",
     "text": [
      "INFO:albumentations.check_version:A new version of Albumentations is available: 1.4.13 (you have 1.4.12). Upgrade using: pip install -U albumentations. To disable automatic update checks, set the environment variable NO_ALBUMENTATIONS_UPDATE to 1.\n",
      "INFO:timm.models._builder:Loading pretrained weights from Hugging Face hub (timm/convnextv2_large.fcmae_ft_in22k_in1k)\n",
      "INFO:timm.models._hub:[timm/convnextv2_large.fcmae_ft_in22k_in1k] Safe alternative available for 'pytorch_model.bin' (as 'model.safetensors'). Loading weights using safetensors.\n"
     ]
    },
    {
     "name": "stdout",
     "output_type": "stream",
     "text": [
      "Epoch 0/90\n",
      "----------\n"
     ]
    },
    {
     "name": "stderr",
     "output_type": "stream",
     "text": [
      "Training: 100%|██████████| 1081/1081 [07:13<00:00,  2.49it/s]\n"
     ]
    },
    {
     "name": "stdout",
     "output_type": "stream",
     "text": [
      "Loss: 0.8471 Acc: 0.6868\n",
      "Train Accuracy: 0.6868 F1 Score: 0.6229 Spearman Corr: 0.1823 Specificity: 0.8067 Mean Metrics: 0.5373\n"
     ]
    },
    {
     "name": "stderr",
     "output_type": "stream",
     "text": [
      "Validation: 100%|██████████| 264/264 [00:52<00:00,  5.05it/s]\n"
     ]
    },
    {
     "name": "stdout",
     "output_type": "stream",
     "text": [
      "Val Loss: 0.6433 Val Acc: 0.7666\n",
      "Validation Accuracy: 0.7666 F1 Score: 0.7424 Spearman Corr: 0.3573 Specificity: 0.8598 Mean Metrics: 0.6532\n",
      "Epoch 1/90\n",
      "----------\n"
     ]
    },
    {
     "name": "stderr",
     "output_type": "stream",
     "text": [
      "Training: 100%|██████████| 1081/1081 [07:12<00:00,  2.50it/s]\n"
     ]
    },
    {
     "name": "stdout",
     "output_type": "stream",
     "text": [
      "Loss: 0.5993 Acc: 0.7790\n",
      "Train Accuracy: 0.7790 F1 Score: 0.7690 Spearman Corr: 0.4832 Specificity: 0.8862 Mean Metrics: 0.7128\n"
     ]
    },
    {
     "name": "stderr",
     "output_type": "stream",
     "text": [
      "Validation: 100%|██████████| 264/264 [00:51<00:00,  5.12it/s]\n"
     ]
    },
    {
     "name": "stdout",
     "output_type": "stream",
     "text": [
      "Val Loss: 0.5534 Val Acc: 0.7882\n",
      "Validation Accuracy: 0.7882 F1 Score: 0.7755 Spearman Corr: 0.4520 Specificity: 0.8728 Mean Metrics: 0.7001\n",
      "Epoch 2/90\n",
      "----------\n"
     ]
    },
    {
     "name": "stderr",
     "output_type": "stream",
     "text": [
      "Training: 100%|██████████| 1081/1081 [07:13<00:00,  2.50it/s]\n"
     ]
    },
    {
     "name": "stdout",
     "output_type": "stream",
     "text": [
      "Loss: 0.5105 Acc: 0.8153\n",
      "Train Accuracy: 0.8153 F1 Score: 0.8087 Spearman Corr: 0.5845 Specificity: 0.9044 Mean Metrics: 0.7659\n"
     ]
    },
    {
     "name": "stderr",
     "output_type": "stream",
     "text": [
      "Validation: 100%|██████████| 264/264 [00:51<00:00,  5.09it/s]\n"
     ]
    },
    {
     "name": "stdout",
     "output_type": "stream",
     "text": [
      "Val Loss: 0.5383 Val Acc: 0.8073\n",
      "Validation Accuracy: 0.8073 F1 Score: 0.7921 Spearman Corr: 0.5113 Specificity: 0.8794 Mean Metrics: 0.7276\n",
      "Epoch 3/90\n",
      "----------\n"
     ]
    },
    {
     "name": "stderr",
     "output_type": "stream",
     "text": [
      "Training: 100%|██████████| 1081/1081 [07:13<00:00,  2.50it/s]\n"
     ]
    },
    {
     "name": "stdout",
     "output_type": "stream",
     "text": [
      "Loss: 0.4618 Acc: 0.8282\n",
      "Train Accuracy: 0.8282 F1 Score: 0.8237 Spearman Corr: 0.6225 Specificity: 0.9125 Mean Metrics: 0.7862\n"
     ]
    },
    {
     "name": "stderr",
     "output_type": "stream",
     "text": [
      "Validation: 100%|██████████| 264/264 [00:52<00:00,  5.03it/s]\n"
     ]
    },
    {
     "name": "stdout",
     "output_type": "stream",
     "text": [
      "Val Loss: 0.4810 Val Acc: 0.8133\n",
      "Validation Accuracy: 0.8133 F1 Score: 0.8044 Spearman Corr: 0.5810 Specificity: 0.8865 Mean Metrics: 0.7573\n",
      "Epoch 4/90\n",
      "----------\n"
     ]
    },
    {
     "name": "stderr",
     "output_type": "stream",
     "text": [
      "Training: 100%|██████████| 1081/1081 [07:13<00:00,  2.50it/s]\n"
     ]
    },
    {
     "name": "stdout",
     "output_type": "stream",
     "text": [
      "Loss: 0.4206 Acc: 0.8448\n",
      "Train Accuracy: 0.8448 F1 Score: 0.8415 Spearman Corr: 0.6755 Specificity: 0.9201 Mean Metrics: 0.8123\n"
     ]
    },
    {
     "name": "stderr",
     "output_type": "stream",
     "text": [
      "Validation: 100%|██████████| 264/264 [00:51<00:00,  5.09it/s]\n"
     ]
    },
    {
     "name": "stdout",
     "output_type": "stream",
     "text": [
      "Val Loss: 0.4601 Val Acc: 0.8182\n",
      "Validation Accuracy: 0.8182 F1 Score: 0.8134 Spearman Corr: 0.5548 Specificity: 0.8990 Mean Metrics: 0.7557\n",
      "Epoch 5/90\n",
      "----------\n"
     ]
    },
    {
     "name": "stderr",
     "output_type": "stream",
     "text": [
      "Training: 100%|██████████| 1081/1081 [07:11<00:00,  2.50it/s]\n"
     ]
    },
    {
     "name": "stdout",
     "output_type": "stream",
     "text": [
      "Loss: 0.4015 Acc: 0.8560\n",
      "Train Accuracy: 0.8560 F1 Score: 0.8529 Spearman Corr: 0.6988 Specificity: 0.9253 Mean Metrics: 0.8257\n"
     ]
    },
    {
     "name": "stderr",
     "output_type": "stream",
     "text": [
      "Validation: 100%|██████████| 264/264 [00:51<00:00,  5.12it/s]\n"
     ]
    },
    {
     "name": "stdout",
     "output_type": "stream",
     "text": [
      "Val Loss: 0.4574 Val Acc: 0.8187\n",
      "Validation Accuracy: 0.8187 F1 Score: 0.8099 Spearman Corr: 0.5726 Specificity: 0.8914 Mean Metrics: 0.7580\n",
      "Epoch 6/90\n",
      "----------\n"
     ]
    },
    {
     "name": "stderr",
     "output_type": "stream",
     "text": [
      "Training: 100%|██████████| 1081/1081 [07:12<00:00,  2.50it/s]\n"
     ]
    },
    {
     "name": "stdout",
     "output_type": "stream",
     "text": [
      "Loss: 0.3672 Acc: 0.8665\n",
      "Train Accuracy: 0.8665 F1 Score: 0.8636 Spearman Corr: 0.7257 Specificity: 0.9296 Mean Metrics: 0.8396\n"
     ]
    },
    {
     "name": "stderr",
     "output_type": "stream",
     "text": [
      "Validation: 100%|██████████| 264/264 [00:52<00:00,  5.01it/s]\n"
     ]
    },
    {
     "name": "stdout",
     "output_type": "stream",
     "text": [
      "Val Loss: 0.4677 Val Acc: 0.8284\n",
      "Validation Accuracy: 0.8284 F1 Score: 0.8202 Spearman Corr: 0.5888 Specificity: 0.8989 Mean Metrics: 0.7693\n",
      "Epoch 7/90\n",
      "----------\n"
     ]
    },
    {
     "name": "stderr",
     "output_type": "stream",
     "text": [
      "Training: 100%|██████████| 1081/1081 [07:15<00:00,  2.48it/s]\n"
     ]
    },
    {
     "name": "stdout",
     "output_type": "stream",
     "text": [
      "Loss: 0.3501 Acc: 0.8738\n",
      "Train Accuracy: 0.8738 F1 Score: 0.8713 Spearman Corr: 0.7391 Specificity: 0.9338 Mean Metrics: 0.8481\n"
     ]
    },
    {
     "name": "stderr",
     "output_type": "stream",
     "text": [
      "Validation: 100%|██████████| 264/264 [00:51<00:00,  5.09it/s]\n"
     ]
    },
    {
     "name": "stdout",
     "output_type": "stream",
     "text": [
      "Val Loss: 0.4502 Val Acc: 0.8320\n",
      "Validation Accuracy: 0.8320 F1 Score: 0.8295 Spearman Corr: 0.6070 Specificity: 0.9099 Mean Metrics: 0.7822\n",
      "Epoch 8/90\n",
      "----------\n"
     ]
    },
    {
     "name": "stderr",
     "output_type": "stream",
     "text": [
      "Training: 100%|██████████| 1081/1081 [07:15<00:00,  2.48it/s]\n"
     ]
    },
    {
     "name": "stdout",
     "output_type": "stream",
     "text": [
      "Loss: 0.3330 Acc: 0.8797\n",
      "Train Accuracy: 0.8797 F1 Score: 0.8775 Spearman Corr: 0.7600 Specificity: 0.9366 Mean Metrics: 0.8580\n"
     ]
    },
    {
     "name": "stderr",
     "output_type": "stream",
     "text": [
      "Validation: 100%|██████████| 264/264 [00:52<00:00,  5.02it/s]\n"
     ]
    },
    {
     "name": "stdout",
     "output_type": "stream",
     "text": [
      "Val Loss: 0.4385 Val Acc: 0.8398\n",
      "Validation Accuracy: 0.8398 F1 Score: 0.8337 Spearman Corr: 0.6162 Specificity: 0.9069 Mean Metrics: 0.7856\n",
      "Epoch 9/90\n",
      "----------\n"
     ]
    },
    {
     "name": "stderr",
     "output_type": "stream",
     "text": [
      "Training: 100%|██████████| 1081/1081 [07:15<00:00,  2.48it/s]\n"
     ]
    },
    {
     "name": "stdout",
     "output_type": "stream",
     "text": [
      "Loss: 0.3185 Acc: 0.8858\n",
      "Train Accuracy: 0.8858 F1 Score: 0.8840 Spearman Corr: 0.7748 Specificity: 0.9402 Mean Metrics: 0.8663\n"
     ]
    },
    {
     "name": "stderr",
     "output_type": "stream",
     "text": [
      "Validation: 100%|██████████| 264/264 [00:52<00:00,  5.07it/s]\n"
     ]
    },
    {
     "name": "stdout",
     "output_type": "stream",
     "text": [
      "Val Loss: 0.4404 Val Acc: 0.8355\n",
      "Validation Accuracy: 0.8355 F1 Score: 0.8297 Spearman Corr: 0.6009 Specificity: 0.9047 Mean Metrics: 0.7784\n",
      "Epoch 10/90\n",
      "----------\n"
     ]
    },
    {
     "name": "stderr",
     "output_type": "stream",
     "text": [
      "Training: 100%|██████████| 1081/1081 [07:16<00:00,  2.47it/s]\n"
     ]
    },
    {
     "name": "stdout",
     "output_type": "stream",
     "text": [
      "Loss: 0.3045 Acc: 0.8899\n",
      "Train Accuracy: 0.8899 F1 Score: 0.8881 Spearman Corr: 0.7811 Specificity: 0.9419 Mean Metrics: 0.8704\n"
     ]
    },
    {
     "name": "stderr",
     "output_type": "stream",
     "text": [
      "Validation: 100%|██████████| 264/264 [00:53<00:00,  4.97it/s]\n"
     ]
    },
    {
     "name": "stdout",
     "output_type": "stream",
     "text": [
      "Val Loss: 0.4520 Val Acc: 0.8405\n",
      "Validation Accuracy: 0.8405 F1 Score: 0.8344 Spearman Corr: 0.6121 Specificity: 0.9086 Mean Metrics: 0.7850\n",
      "Epoch 11/90\n",
      "----------\n"
     ]
    },
    {
     "name": "stderr",
     "output_type": "stream",
     "text": [
      "Training: 100%|██████████| 1081/1081 [07:17<00:00,  2.47it/s]\n"
     ]
    },
    {
     "name": "stdout",
     "output_type": "stream",
     "text": [
      "Loss: 0.2920 Acc: 0.8975\n",
      "Train Accuracy: 0.8975 F1 Score: 0.8960 Spearman Corr: 0.8036 Specificity: 0.9457 Mean Metrics: 0.8818\n"
     ]
    },
    {
     "name": "stderr",
     "output_type": "stream",
     "text": [
      "Validation: 100%|██████████| 264/264 [00:53<00:00,  4.95it/s]\n"
     ]
    },
    {
     "name": "stdout",
     "output_type": "stream",
     "text": [
      "Val Loss: 0.4328 Val Acc: 0.8434\n",
      "Validation Accuracy: 0.8434 F1 Score: 0.8388 Spearman Corr: 0.6365 Specificity: 0.9103 Mean Metrics: 0.7952\n",
      "Epoch 12/90\n",
      "----------\n"
     ]
    },
    {
     "name": "stderr",
     "output_type": "stream",
     "text": [
      "Training: 100%|██████████| 1081/1081 [07:16<00:00,  2.48it/s]\n"
     ]
    },
    {
     "name": "stdout",
     "output_type": "stream",
     "text": [
      "Loss: 0.2862 Acc: 0.8979\n",
      "Train Accuracy: 0.8979 F1 Score: 0.8965 Spearman Corr: 0.7999 Specificity: 0.9464 Mean Metrics: 0.8809\n"
     ]
    },
    {
     "name": "stderr",
     "output_type": "stream",
     "text": [
      "Validation: 100%|██████████| 264/264 [00:52<00:00,  5.03it/s]\n"
     ]
    },
    {
     "name": "stdout",
     "output_type": "stream",
     "text": [
      "Val Loss: 0.4392 Val Acc: 0.8434\n",
      "Validation Accuracy: 0.8434 F1 Score: 0.8377 Spearman Corr: 0.6287 Specificity: 0.9082 Mean Metrics: 0.7915\n",
      "Epoch 13/90\n",
      "----------\n"
     ]
    },
    {
     "name": "stderr",
     "output_type": "stream",
     "text": [
      "Training: 100%|██████████| 1081/1081 [07:17<00:00,  2.47it/s]\n"
     ]
    },
    {
     "name": "stdout",
     "output_type": "stream",
     "text": [
      "Loss: 0.2740 Acc: 0.9012\n",
      "Train Accuracy: 0.9012 F1 Score: 0.8998 Spearman Corr: 0.8080 Specificity: 0.9478 Mean Metrics: 0.8852\n"
     ]
    },
    {
     "name": "stderr",
     "output_type": "stream",
     "text": [
      "Validation: 100%|██████████| 264/264 [00:51<00:00,  5.10it/s]\n"
     ]
    },
    {
     "name": "stdout",
     "output_type": "stream",
     "text": [
      "Val Loss: 0.4450 Val Acc: 0.8400\n",
      "Validation Accuracy: 0.8400 F1 Score: 0.8338 Spearman Corr: 0.6186 Specificity: 0.9051 Mean Metrics: 0.7858\n",
      "Epoch 14/90\n",
      "----------\n"
     ]
    },
    {
     "name": "stderr",
     "output_type": "stream",
     "text": [
      "Training: 100%|██████████| 1081/1081 [07:16<00:00,  2.48it/s]\n"
     ]
    },
    {
     "name": "stdout",
     "output_type": "stream",
     "text": [
      "Loss: 0.2621 Acc: 0.9062\n",
      "Train Accuracy: 0.9062 F1 Score: 0.9051 Spearman Corr: 0.8254 Specificity: 0.9506 Mean Metrics: 0.8937\n"
     ]
    },
    {
     "name": "stderr",
     "output_type": "stream",
     "text": [
      "Validation: 100%|██████████| 264/264 [00:53<00:00,  4.97it/s]\n"
     ]
    },
    {
     "name": "stdout",
     "output_type": "stream",
     "text": [
      "Val Loss: 0.4367 Val Acc: 0.8467\n",
      "Validation Accuracy: 0.8467 F1 Score: 0.8415 Spearman Corr: 0.6378 Specificity: 0.9104 Mean Metrics: 0.7966\n",
      "Epoch 15/90\n",
      "----------\n"
     ]
    },
    {
     "name": "stderr",
     "output_type": "stream",
     "text": [
      "Training: 100%|██████████| 1081/1081 [07:18<00:00,  2.47it/s]\n"
     ]
    },
    {
     "name": "stdout",
     "output_type": "stream",
     "text": [
      "Loss: 0.2649 Acc: 0.9043\n",
      "Train Accuracy: 0.9043 F1 Score: 0.9030 Spearman Corr: 0.8175 Specificity: 0.9493 Mean Metrics: 0.8899\n"
     ]
    },
    {
     "name": "stderr",
     "output_type": "stream",
     "text": [
      "Validation: 100%|██████████| 264/264 [00:52<00:00,  4.99it/s]\n"
     ]
    },
    {
     "name": "stdout",
     "output_type": "stream",
     "text": [
      "Val Loss: 0.4395 Val Acc: 0.8431\n",
      "Validation Accuracy: 0.8431 F1 Score: 0.8381 Spearman Corr: 0.6354 Specificity: 0.9093 Mean Metrics: 0.7943\n",
      "Epoch 16/90\n",
      "----------\n"
     ]
    },
    {
     "name": "stderr",
     "output_type": "stream",
     "text": [
      "Training: 100%|██████████| 1081/1081 [07:18<00:00,  2.46it/s]\n"
     ]
    },
    {
     "name": "stdout",
     "output_type": "stream",
     "text": [
      "Loss: 0.2536 Acc: 0.9085\n",
      "Train Accuracy: 0.9085 F1 Score: 0.9073 Spearman Corr: 0.8267 Specificity: 0.9517 Mean Metrics: 0.8953\n"
     ]
    },
    {
     "name": "stderr",
     "output_type": "stream",
     "text": [
      "Validation: 100%|██████████| 264/264 [00:52<00:00,  5.03it/s]\n"
     ]
    },
    {
     "name": "stdout",
     "output_type": "stream",
     "text": [
      "Val Loss: 0.4346 Val Acc: 0.8469\n",
      "Validation Accuracy: 0.8469 F1 Score: 0.8431 Spearman Corr: 0.6452 Specificity: 0.9143 Mean Metrics: 0.8009\n",
      "Epoch 17/90\n",
      "----------\n"
     ]
    },
    {
     "name": "stderr",
     "output_type": "stream",
     "text": [
      "Training: 100%|██████████| 1081/1081 [07:15<00:00,  2.48it/s]\n"
     ]
    },
    {
     "name": "stdout",
     "output_type": "stream",
     "text": [
      "Loss: 0.2448 Acc: 0.9110\n",
      "Train Accuracy: 0.9110 F1 Score: 0.9099 Spearman Corr: 0.8318 Specificity: 0.9532 Mean Metrics: 0.8983\n"
     ]
    },
    {
     "name": "stderr",
     "output_type": "stream",
     "text": [
      "Validation: 100%|██████████| 264/264 [00:52<00:00,  5.05it/s]\n"
     ]
    },
    {
     "name": "stdout",
     "output_type": "stream",
     "text": [
      "Val Loss: 0.4376 Val Acc: 0.8483\n",
      "Validation Accuracy: 0.8483 F1 Score: 0.8462 Spearman Corr: 0.6574 Specificity: 0.9191 Mean Metrics: 0.8076\n",
      "Epoch 18/90\n",
      "----------\n"
     ]
    },
    {
     "name": "stderr",
     "output_type": "stream",
     "text": [
      "Training: 100%|██████████| 1081/1081 [07:15<00:00,  2.48it/s]\n"
     ]
    },
    {
     "name": "stdout",
     "output_type": "stream",
     "text": [
      "Loss: 0.2424 Acc: 0.9128\n",
      "Train Accuracy: 0.9128 F1 Score: 0.9119 Spearman Corr: 0.8400 Specificity: 0.9542 Mean Metrics: 0.9020\n"
     ]
    },
    {
     "name": "stderr",
     "output_type": "stream",
     "text": [
      "Validation: 100%|██████████| 264/264 [00:53<00:00,  4.97it/s]\n"
     ]
    },
    {
     "name": "stdout",
     "output_type": "stream",
     "text": [
      "Val Loss: 0.4459 Val Acc: 0.8457\n",
      "Validation Accuracy: 0.8457 F1 Score: 0.8427 Spearman Corr: 0.6455 Specificity: 0.9163 Mean Metrics: 0.8015\n",
      "Epoch 19/90\n",
      "----------\n"
     ]
    },
    {
     "name": "stderr",
     "output_type": "stream",
     "text": [
      "Training: 100%|██████████| 1081/1081 [07:17<00:00,  2.47it/s]\n"
     ]
    },
    {
     "name": "stdout",
     "output_type": "stream",
     "text": [
      "Loss: 0.2384 Acc: 0.9140\n",
      "Train Accuracy: 0.9140 F1 Score: 0.9131 Spearman Corr: 0.8413 Specificity: 0.9546 Mean Metrics: 0.9030\n"
     ]
    },
    {
     "name": "stderr",
     "output_type": "stream",
     "text": [
      "Validation: 100%|██████████| 264/264 [00:52<00:00,  5.02it/s]\n"
     ]
    },
    {
     "name": "stdout",
     "output_type": "stream",
     "text": [
      "Val Loss: 0.4507 Val Acc: 0.8460\n",
      "Validation Accuracy: 0.8460 F1 Score: 0.8404 Spearman Corr: 0.6448 Specificity: 0.9088 Mean Metrics: 0.7980\n",
      "Epoch 20/90\n",
      "----------\n"
     ]
    },
    {
     "name": "stderr",
     "output_type": "stream",
     "text": [
      "Training: 100%|██████████| 1081/1081 [07:15<00:00,  2.48it/s]\n"
     ]
    },
    {
     "name": "stdout",
     "output_type": "stream",
     "text": [
      "Loss: 0.2298 Acc: 0.9170\n",
      "Train Accuracy: 0.9170 F1 Score: 0.9161 Spearman Corr: 0.8440 Specificity: 0.9562 Mean Metrics: 0.9054\n"
     ]
    },
    {
     "name": "stderr",
     "output_type": "stream",
     "text": [
      "Validation: 100%|██████████| 264/264 [00:52<00:00,  4.98it/s]\n"
     ]
    },
    {
     "name": "stdout",
     "output_type": "stream",
     "text": [
      "Val Loss: 0.4489 Val Acc: 0.8488\n",
      "Validation Accuracy: 0.8488 F1 Score: 0.8441 Spearman Corr: 0.6533 Specificity: 0.9124 Mean Metrics: 0.8033\n",
      "Epoch 21/90\n",
      "----------\n"
     ]
    },
    {
     "name": "stderr",
     "output_type": "stream",
     "text": [
      "Training: 100%|██████████| 1081/1081 [07:17<00:00,  2.47it/s]\n"
     ]
    },
    {
     "name": "stdout",
     "output_type": "stream",
     "text": [
      "Loss: 0.2302 Acc: 0.9166\n",
      "Train Accuracy: 0.9166 F1 Score: 0.9157 Spearman Corr: 0.8470 Specificity: 0.9560 Mean Metrics: 0.9062\n"
     ]
    },
    {
     "name": "stderr",
     "output_type": "stream",
     "text": [
      "Validation: 100%|██████████| 264/264 [00:53<00:00,  4.96it/s]\n"
     ]
    },
    {
     "name": "stdout",
     "output_type": "stream",
     "text": [
      "Val Loss: 0.4496 Val Acc: 0.8469\n",
      "Validation Accuracy: 0.8469 F1 Score: 0.8425 Spearman Corr: 0.6453 Specificity: 0.9127 Mean Metrics: 0.8002\n",
      "Epoch 22/90\n",
      "----------\n"
     ]
    },
    {
     "name": "stderr",
     "output_type": "stream",
     "text": [
      "Training: 100%|██████████| 1081/1081 [07:16<00:00,  2.48it/s]\n"
     ]
    },
    {
     "name": "stdout",
     "output_type": "stream",
     "text": [
      "Loss: 0.2310 Acc: 0.9148\n",
      "Train Accuracy: 0.9148 F1 Score: 0.9139 Spearman Corr: 0.8439 Specificity: 0.9551 Mean Metrics: 0.9043\n"
     ]
    },
    {
     "name": "stderr",
     "output_type": "stream",
     "text": [
      "Validation: 100%|██████████| 264/264 [00:53<00:00,  4.94it/s]\n"
     ]
    },
    {
     "name": "stdout",
     "output_type": "stream",
     "text": [
      "Val Loss: 0.4464 Val Acc: 0.8450\n",
      "Validation Accuracy: 0.8450 F1 Score: 0.8404 Spearman Corr: 0.6381 Specificity: 0.9112 Mean Metrics: 0.7966\n",
      "Epoch 23/90\n",
      "----------\n"
     ]
    },
    {
     "name": "stderr",
     "output_type": "stream",
     "text": [
      "Training: 100%|██████████| 1081/1081 [07:16<00:00,  2.48it/s]\n"
     ]
    },
    {
     "name": "stdout",
     "output_type": "stream",
     "text": [
      "Loss: 0.2196 Acc: 0.9210\n",
      "Train Accuracy: 0.9210 F1 Score: 0.9202 Spearman Corr: 0.8521 Specificity: 0.9584 Mean Metrics: 0.9102\n"
     ]
    },
    {
     "name": "stderr",
     "output_type": "stream",
     "text": [
      "Validation: 100%|██████████| 264/264 [00:51<00:00,  5.10it/s]\n"
     ]
    },
    {
     "name": "stdout",
     "output_type": "stream",
     "text": [
      "Val Loss: 0.4504 Val Acc: 0.8486\n",
      "Validation Accuracy: 0.8486 F1 Score: 0.8441 Spearman Corr: 0.6469 Specificity: 0.9133 Mean Metrics: 0.8014\n",
      "Epoch 24/90\n",
      "----------\n"
     ]
    },
    {
     "name": "stderr",
     "output_type": "stream",
     "text": [
      "Training: 100%|██████████| 1081/1081 [07:16<00:00,  2.47it/s]\n"
     ]
    },
    {
     "name": "stdout",
     "output_type": "stream",
     "text": [
      "Loss: 0.2207 Acc: 0.9218\n",
      "Train Accuracy: 0.9218 F1 Score: 0.9210 Spearman Corr: 0.8559 Specificity: 0.9585 Mean Metrics: 0.9118\n"
     ]
    },
    {
     "name": "stderr",
     "output_type": "stream",
     "text": [
      "Validation: 100%|██████████| 264/264 [00:53<00:00,  4.97it/s]\n"
     ]
    },
    {
     "name": "stdout",
     "output_type": "stream",
     "text": [
      "Val Loss: 0.4525 Val Acc: 0.8495\n",
      "Validation Accuracy: 0.8495 F1 Score: 0.8445 Spearman Corr: 0.6494 Specificity: 0.9125 Mean Metrics: 0.8021\n",
      "Epoch 25/90\n",
      "----------\n"
     ]
    },
    {
     "name": "stderr",
     "output_type": "stream",
     "text": [
      "Training: 100%|██████████| 1081/1081 [07:19<00:00,  2.46it/s]\n"
     ]
    },
    {
     "name": "stdout",
     "output_type": "stream",
     "text": [
      "Loss: 0.2167 Acc: 0.9207\n",
      "Train Accuracy: 0.9207 F1 Score: 0.9199 Spearman Corr: 0.8550 Specificity: 0.9581 Mean Metrics: 0.9110\n"
     ]
    },
    {
     "name": "stderr",
     "output_type": "stream",
     "text": [
      "Validation: 100%|██████████| 264/264 [00:52<00:00,  5.01it/s]\n"
     ]
    },
    {
     "name": "stdout",
     "output_type": "stream",
     "text": [
      "Val Loss: 0.4506 Val Acc: 0.8498\n",
      "Validation Accuracy: 0.8498 F1 Score: 0.8454 Spearman Corr: 0.6556 Specificity: 0.9139 Mean Metrics: 0.8050\n",
      "Epoch 26/90\n",
      "----------\n"
     ]
    },
    {
     "name": "stderr",
     "output_type": "stream",
     "text": [
      "Training: 100%|██████████| 1081/1081 [07:20<00:00,  2.45it/s]\n"
     ]
    },
    {
     "name": "stdout",
     "output_type": "stream",
     "text": [
      "Loss: 0.2167 Acc: 0.9227\n",
      "Train Accuracy: 0.9227 F1 Score: 0.9219 Spearman Corr: 0.8562 Specificity: 0.9591 Mean Metrics: 0.9124\n"
     ]
    },
    {
     "name": "stderr",
     "output_type": "stream",
     "text": [
      "Validation: 100%|██████████| 264/264 [00:53<00:00,  4.98it/s]\n"
     ]
    },
    {
     "name": "stdout",
     "output_type": "stream",
     "text": [
      "Val Loss: 0.4629 Val Acc: 0.8481\n",
      "Validation Accuracy: 0.8481 F1 Score: 0.8427 Spearman Corr: 0.6467 Specificity: 0.9109 Mean Metrics: 0.8001\n",
      "Epoch 27/90\n",
      "----------\n"
     ]
    },
    {
     "name": "stderr",
     "output_type": "stream",
     "text": [
      "Training: 100%|██████████| 1081/1081 [07:18<00:00,  2.46it/s]\n"
     ]
    },
    {
     "name": "stdout",
     "output_type": "stream",
     "text": [
      "Loss: 0.2136 Acc: 0.9216\n",
      "Train Accuracy: 0.9216 F1 Score: 0.9209 Spearman Corr: 0.8549 Specificity: 0.9589 Mean Metrics: 0.9116\n"
     ]
    },
    {
     "name": "stderr",
     "output_type": "stream",
     "text": [
      "Validation: 100%|██████████| 264/264 [00:53<00:00,  4.92it/s]\n"
     ]
    },
    {
     "name": "stdout",
     "output_type": "stream",
     "text": [
      "Val Loss: 0.4576 Val Acc: 0.8491\n",
      "Validation Accuracy: 0.8491 F1 Score: 0.8446 Spearman Corr: 0.6489 Specificity: 0.9134 Mean Metrics: 0.8023\n",
      "Epoch 28/90\n",
      "----------\n"
     ]
    },
    {
     "name": "stderr",
     "output_type": "stream",
     "text": [
      "Training: 100%|██████████| 1081/1081 [07:19<00:00,  2.46it/s]\n"
     ]
    },
    {
     "name": "stdout",
     "output_type": "stream",
     "text": [
      "Loss: 0.2150 Acc: 0.9222\n",
      "Train Accuracy: 0.9222 F1 Score: 0.9215 Spearman Corr: 0.8578 Specificity: 0.9590 Mean Metrics: 0.9127\n"
     ]
    },
    {
     "name": "stderr",
     "output_type": "stream",
     "text": [
      "Validation: 100%|██████████| 264/264 [00:52<00:00,  5.03it/s]\n"
     ]
    },
    {
     "name": "stdout",
     "output_type": "stream",
     "text": [
      "Val Loss: 0.4520 Val Acc: 0.8483\n",
      "Validation Accuracy: 0.8483 F1 Score: 0.8441 Spearman Corr: 0.6509 Specificity: 0.9133 Mean Metrics: 0.8028\n",
      "Epoch 29/90\n",
      "----------\n"
     ]
    },
    {
     "name": "stderr",
     "output_type": "stream",
     "text": [
      "Training: 100%|██████████| 1081/1081 [07:16<00:00,  2.48it/s]\n"
     ]
    },
    {
     "name": "stdout",
     "output_type": "stream",
     "text": [
      "Loss: 0.2088 Acc: 0.9253\n",
      "Train Accuracy: 0.9253 F1 Score: 0.9245 Spearman Corr: 0.8615 Specificity: 0.9603 Mean Metrics: 0.9154\n"
     ]
    },
    {
     "name": "stderr",
     "output_type": "stream",
     "text": [
      "Validation: 100%|██████████| 264/264 [00:52<00:00,  5.01it/s]\n"
     ]
    },
    {
     "name": "stdout",
     "output_type": "stream",
     "text": [
      "Val Loss: 0.4542 Val Acc: 0.8498\n",
      "Validation Accuracy: 0.8498 F1 Score: 0.8450 Spearman Corr: 0.6555 Specificity: 0.9128 Mean Metrics: 0.8045\n",
      "Epoch 30/90\n",
      "----------\n"
     ]
    },
    {
     "name": "stderr",
     "output_type": "stream",
     "text": [
      "Training: 100%|██████████| 1081/1081 [07:18<00:00,  2.47it/s]\n"
     ]
    },
    {
     "name": "stdout",
     "output_type": "stream",
     "text": [
      "Loss: 0.2096 Acc: 0.9240\n",
      "Train Accuracy: 0.9240 F1 Score: 0.9233 Spearman Corr: 0.8590 Specificity: 0.9600 Mean Metrics: 0.9141\n"
     ]
    },
    {
     "name": "stderr",
     "output_type": "stream",
     "text": [
      "Validation: 100%|██████████| 264/264 [00:52<00:00,  4.98it/s]\n"
     ]
    },
    {
     "name": "stdout",
     "output_type": "stream",
     "text": [
      "Val Loss: 0.4555 Val Acc: 0.8498\n",
      "Validation Accuracy: 0.8498 F1 Score: 0.8455 Spearman Corr: 0.6524 Specificity: 0.9142 Mean Metrics: 0.8040\n",
      "Epoch 31/90\n",
      "----------\n"
     ]
    },
    {
     "name": "stderr",
     "output_type": "stream",
     "text": [
      "Training: 100%|██████████| 1081/1081 [07:19<00:00,  2.46it/s]\n"
     ]
    },
    {
     "name": "stdout",
     "output_type": "stream",
     "text": [
      "Loss: 0.2122 Acc: 0.9218\n",
      "Train Accuracy: 0.9218 F1 Score: 0.9211 Spearman Corr: 0.8588 Specificity: 0.9588 Mean Metrics: 0.9129\n"
     ]
    },
    {
     "name": "stderr",
     "output_type": "stream",
     "text": [
      "Validation: 100%|██████████| 264/264 [00:52<00:00,  5.06it/s]\n"
     ]
    },
    {
     "name": "stdout",
     "output_type": "stream",
     "text": [
      "Val Loss: 0.4528 Val Acc: 0.8500\n",
      "Validation Accuracy: 0.8500 F1 Score: 0.8457 Spearman Corr: 0.6534 Specificity: 0.9144 Mean Metrics: 0.8045\n",
      "Epoch 32/90\n",
      "----------\n"
     ]
    },
    {
     "name": "stderr",
     "output_type": "stream",
     "text": [
      "Training: 100%|██████████| 1081/1081 [07:17<00:00,  2.47it/s]\n"
     ]
    },
    {
     "name": "stdout",
     "output_type": "stream",
     "text": [
      "Loss: 0.2029 Acc: 0.9249\n",
      "Train Accuracy: 0.9249 F1 Score: 0.9242 Spearman Corr: 0.8640 Specificity: 0.9601 Mean Metrics: 0.9161\n"
     ]
    },
    {
     "name": "stderr",
     "output_type": "stream",
     "text": [
      "Validation: 100%|██████████| 264/264 [00:53<00:00,  4.98it/s]\n"
     ]
    },
    {
     "name": "stdout",
     "output_type": "stream",
     "text": [
      "Val Loss: 0.4567 Val Acc: 0.8488\n",
      "Validation Accuracy: 0.8488 F1 Score: 0.8446 Spearman Corr: 0.6538 Specificity: 0.9138 Mean Metrics: 0.8041\n",
      "Epoch 33/90\n",
      "----------\n"
     ]
    },
    {
     "name": "stderr",
     "output_type": "stream",
     "text": [
      "Training: 100%|██████████| 1081/1081 [07:17<00:00,  2.47it/s]\n"
     ]
    },
    {
     "name": "stdout",
     "output_type": "stream",
     "text": [
      "Loss: 0.2036 Acc: 0.9273\n",
      "Train Accuracy: 0.9273 F1 Score: 0.9266 Spearman Corr: 0.8702 Specificity: 0.9615 Mean Metrics: 0.9195\n"
     ]
    },
    {
     "name": "stderr",
     "output_type": "stream",
     "text": [
      "Validation: 100%|██████████| 264/264 [00:53<00:00,  4.97it/s]\n"
     ]
    },
    {
     "name": "stdout",
     "output_type": "stream",
     "text": [
      "Val Loss: 0.4595 Val Acc: 0.8491\n",
      "Validation Accuracy: 0.8491 F1 Score: 0.8451 Spearman Corr: 0.6522 Specificity: 0.9145 Mean Metrics: 0.8039\n",
      "Epoch 34/90\n",
      "----------\n"
     ]
    },
    {
     "name": "stderr",
     "output_type": "stream",
     "text": [
      "Training: 100%|██████████| 1081/1081 [07:19<00:00,  2.46it/s]\n"
     ]
    },
    {
     "name": "stdout",
     "output_type": "stream",
     "text": [
      "Loss: 0.2037 Acc: 0.9277\n",
      "Train Accuracy: 0.9277 F1 Score: 0.9272 Spearman Corr: 0.8655 Specificity: 0.9622 Mean Metrics: 0.9183\n"
     ]
    },
    {
     "name": "stderr",
     "output_type": "stream",
     "text": [
      "Validation: 100%|██████████| 264/264 [00:53<00:00,  4.98it/s]\n"
     ]
    },
    {
     "name": "stdout",
     "output_type": "stream",
     "text": [
      "Val Loss: 0.4603 Val Acc: 0.8486\n",
      "Validation Accuracy: 0.8486 F1 Score: 0.8445 Spearman Corr: 0.6542 Specificity: 0.9139 Mean Metrics: 0.8042\n",
      "Epoch 35/90\n",
      "----------\n"
     ]
    },
    {
     "name": "stderr",
     "output_type": "stream",
     "text": [
      "Training: 100%|██████████| 1081/1081 [07:20<00:00,  2.45it/s]\n"
     ]
    },
    {
     "name": "stdout",
     "output_type": "stream",
     "text": [
      "Loss: 0.2023 Acc: 0.9263\n",
      "Train Accuracy: 0.9263 F1 Score: 0.9257 Spearman Corr: 0.8594 Specificity: 0.9616 Mean Metrics: 0.9156\n"
     ]
    },
    {
     "name": "stderr",
     "output_type": "stream",
     "text": [
      "Validation: 100%|██████████| 264/264 [00:52<00:00,  4.98it/s]\n"
     ]
    },
    {
     "name": "stdout",
     "output_type": "stream",
     "text": [
      "Val Loss: 0.4606 Val Acc: 0.8481\n",
      "Validation Accuracy: 0.8481 F1 Score: 0.8442 Spearman Corr: 0.6512 Specificity: 0.9141 Mean Metrics: 0.8032\n",
      "Epoch 36/90\n",
      "----------\n"
     ]
    },
    {
     "name": "stderr",
     "output_type": "stream",
     "text": [
      "Training: 100%|██████████| 1081/1081 [07:16<00:00,  2.47it/s]\n"
     ]
    },
    {
     "name": "stdout",
     "output_type": "stream",
     "text": [
      "Loss: 0.2008 Acc: 0.9295\n",
      "Train Accuracy: 0.9295 F1 Score: 0.9289 Spearman Corr: 0.8656 Specificity: 0.9631 Mean Metrics: 0.9192\n"
     ]
    },
    {
     "name": "stderr",
     "output_type": "stream",
     "text": [
      "Validation: 100%|██████████| 264/264 [00:52<00:00,  5.03it/s]\n"
     ]
    },
    {
     "name": "stdout",
     "output_type": "stream",
     "text": [
      "Val Loss: 0.4588 Val Acc: 0.8488\n",
      "Validation Accuracy: 0.8488 F1 Score: 0.8448 Spearman Corr: 0.6480 Specificity: 0.9144 Mean Metrics: 0.8024\n",
      "Epoch 37/90\n",
      "----------\n"
     ]
    },
    {
     "name": "stderr",
     "output_type": "stream",
     "text": [
      "Training: 100%|██████████| 1081/1081 [07:19<00:00,  2.46it/s]\n"
     ]
    },
    {
     "name": "stdout",
     "output_type": "stream",
     "text": [
      "Loss: 0.1995 Acc: 0.9266\n",
      "Train Accuracy: 0.9266 F1 Score: 0.9260 Spearman Corr: 0.8641 Specificity: 0.9615 Mean Metrics: 0.9172\n"
     ]
    },
    {
     "name": "stderr",
     "output_type": "stream",
     "text": [
      "Validation: 100%|██████████| 264/264 [00:52<00:00,  5.03it/s]\n"
     ]
    },
    {
     "name": "stdout",
     "output_type": "stream",
     "text": [
      "Val Loss: 0.4577 Val Acc: 0.8493\n",
      "Validation Accuracy: 0.8493 F1 Score: 0.8456 Spearman Corr: 0.6508 Specificity: 0.9155 Mean Metrics: 0.8040\n",
      "Epoch 38/90\n",
      "----------\n"
     ]
    },
    {
     "name": "stderr",
     "output_type": "stream",
     "text": [
      "Training: 100%|██████████| 1081/1081 [07:16<00:00,  2.48it/s]\n"
     ]
    },
    {
     "name": "stdout",
     "output_type": "stream",
     "text": [
      "Loss: 0.2002 Acc: 0.9261\n",
      "Train Accuracy: 0.9261 F1 Score: 0.9255 Spearman Corr: 0.8662 Specificity: 0.9614 Mean Metrics: 0.9177\n"
     ]
    },
    {
     "name": "stderr",
     "output_type": "stream",
     "text": [
      "Validation: 100%|██████████| 264/264 [00:52<00:00,  5.00it/s]\n"
     ]
    },
    {
     "name": "stdout",
     "output_type": "stream",
     "text": [
      "Val Loss: 0.4610 Val Acc: 0.8486\n",
      "Validation Accuracy: 0.8486 F1 Score: 0.8441 Spearman Corr: 0.6476 Specificity: 0.9133 Mean Metrics: 0.8017\n",
      "Epoch 39/90\n",
      "----------\n"
     ]
    },
    {
     "name": "stderr",
     "output_type": "stream",
     "text": [
      "Training: 100%|██████████| 1081/1081 [07:18<00:00,  2.47it/s]\n"
     ]
    },
    {
     "name": "stdout",
     "output_type": "stream",
     "text": [
      "Loss: 0.1995 Acc: 0.9288\n",
      "Train Accuracy: 0.9288 F1 Score: 0.9282 Spearman Corr: 0.8687 Specificity: 0.9627 Mean Metrics: 0.9199\n"
     ]
    },
    {
     "name": "stderr",
     "output_type": "stream",
     "text": [
      "Validation: 100%|██████████| 264/264 [00:52<00:00,  5.05it/s]\n"
     ]
    },
    {
     "name": "stdout",
     "output_type": "stream",
     "text": [
      "Val Loss: 0.4597 Val Acc: 0.8493\n",
      "Validation Accuracy: 0.8493 F1 Score: 0.8452 Spearman Corr: 0.6520 Specificity: 0.9144 Mean Metrics: 0.8039\n",
      "Epoch 40/90\n",
      "----------\n"
     ]
    },
    {
     "name": "stderr",
     "output_type": "stream",
     "text": [
      "Training: 100%|██████████| 1081/1081 [07:17<00:00,  2.47it/s]\n"
     ]
    },
    {
     "name": "stdout",
     "output_type": "stream",
     "text": [
      "Loss: 0.1989 Acc: 0.9298\n",
      "Train Accuracy: 0.9298 F1 Score: 0.9292 Spearman Corr: 0.8722 Specificity: 0.9628 Mean Metrics: 0.9214\n"
     ]
    },
    {
     "name": "stderr",
     "output_type": "stream",
     "text": [
      "Validation: 100%|██████████| 264/264 [00:52<00:00,  5.03it/s]\n"
     ]
    },
    {
     "name": "stdout",
     "output_type": "stream",
     "text": [
      "Val Loss: 0.4584 Val Acc: 0.8498\n",
      "Validation Accuracy: 0.8498 F1 Score: 0.8460 Spearman Corr: 0.6524 Specificity: 0.9152 Mean Metrics: 0.8045\n",
      "Epoch 41/90\n",
      "----------\n"
     ]
    },
    {
     "name": "stderr",
     "output_type": "stream",
     "text": [
      "Training: 100%|██████████| 1081/1081 [07:17<00:00,  2.47it/s]\n"
     ]
    },
    {
     "name": "stdout",
     "output_type": "stream",
     "text": [
      "Loss: 0.1947 Acc: 0.9298\n",
      "Train Accuracy: 0.9298 F1 Score: 0.9292 Spearman Corr: 0.8757 Specificity: 0.9630 Mean Metrics: 0.9226\n"
     ]
    },
    {
     "name": "stderr",
     "output_type": "stream",
     "text": [
      "Validation: 100%|██████████| 264/264 [00:52<00:00,  5.00it/s]\n"
     ]
    },
    {
     "name": "stdout",
     "output_type": "stream",
     "text": [
      "Val Loss: 0.4594 Val Acc: 0.8491\n",
      "Validation Accuracy: 0.8491 F1 Score: 0.8452 Spearman Corr: 0.6518 Specificity: 0.9146 Mean Metrics: 0.8039\n",
      "Epoch 42/90\n",
      "----------\n"
     ]
    },
    {
     "name": "stderr",
     "output_type": "stream",
     "text": [
      "Training: 100%|██████████| 1081/1081 [07:27<00:00,  2.41it/s]\n"
     ]
    },
    {
     "name": "stdout",
     "output_type": "stream",
     "text": [
      "Loss: 0.1997 Acc: 0.9291\n",
      "Train Accuracy: 0.9291 F1 Score: 0.9285 Spearman Corr: 0.8712 Specificity: 0.9624 Mean Metrics: 0.9207\n"
     ]
    },
    {
     "name": "stderr",
     "output_type": "stream",
     "text": [
      "Validation: 100%|██████████| 264/264 [00:53<00:00,  4.93it/s]\n"
     ]
    },
    {
     "name": "stdout",
     "output_type": "stream",
     "text": [
      "Val Loss: 0.4601 Val Acc: 0.8500\n",
      "Validation Accuracy: 0.8500 F1 Score: 0.8458 Spearman Corr: 0.6523 Specificity: 0.9145 Mean Metrics: 0.8042\n",
      "Epoch 43/90\n",
      "----------\n"
     ]
    },
    {
     "name": "stderr",
     "output_type": "stream",
     "text": [
      "Training: 100%|██████████| 1081/1081 [07:21<00:00,  2.45it/s]\n"
     ]
    },
    {
     "name": "stdout",
     "output_type": "stream",
     "text": [
      "Loss: 0.2005 Acc: 0.9301\n",
      "Train Accuracy: 0.9301 F1 Score: 0.9294 Spearman Corr: 0.8700 Specificity: 0.9627 Mean Metrics: 0.9207\n"
     ]
    },
    {
     "name": "stderr",
     "output_type": "stream",
     "text": [
      "Validation: 100%|██████████| 264/264 [00:53<00:00,  4.94it/s]\n"
     ]
    },
    {
     "name": "stdout",
     "output_type": "stream",
     "text": [
      "Val Loss: 0.4576 Val Acc: 0.8493\n",
      "Validation Accuracy: 0.8493 F1 Score: 0.8455 Spearman Corr: 0.6534 Specificity: 0.9152 Mean Metrics: 0.8047\n",
      "Epoch 44/90\n",
      "----------\n"
     ]
    },
    {
     "name": "stderr",
     "output_type": "stream",
     "text": [
      "Training: 100%|██████████| 1081/1081 [07:18<00:00,  2.47it/s]\n"
     ]
    },
    {
     "name": "stdout",
     "output_type": "stream",
     "text": [
      "Loss: 0.1959 Acc: 0.9292\n",
      "Train Accuracy: 0.9292 F1 Score: 0.9285 Spearman Corr: 0.8725 Specificity: 0.9622 Mean Metrics: 0.9211\n"
     ]
    },
    {
     "name": "stderr",
     "output_type": "stream",
     "text": [
      "Validation: 100%|██████████| 264/264 [00:52<00:00,  5.03it/s]\n"
     ]
    },
    {
     "name": "stdout",
     "output_type": "stream",
     "text": [
      "Val Loss: 0.4573 Val Acc: 0.8491\n",
      "Validation Accuracy: 0.8491 F1 Score: 0.8455 Spearman Corr: 0.6530 Specificity: 0.9157 Mean Metrics: 0.8047\n",
      "Epoch 45/90\n",
      "----------\n"
     ]
    },
    {
     "name": "stderr",
     "output_type": "stream",
     "text": [
      "Training: 100%|██████████| 1081/1081 [07:17<00:00,  2.47it/s]\n"
     ]
    },
    {
     "name": "stdout",
     "output_type": "stream",
     "text": [
      "Loss: 0.1974 Acc: 0.9290\n",
      "Train Accuracy: 0.9290 F1 Score: 0.9283 Spearman Corr: 0.8689 Specificity: 0.9626 Mean Metrics: 0.9199\n"
     ]
    },
    {
     "name": "stderr",
     "output_type": "stream",
     "text": [
      "Validation: 100%|██████████| 264/264 [00:53<00:00,  4.92it/s]\n"
     ]
    },
    {
     "name": "stdout",
     "output_type": "stream",
     "text": [
      "Val Loss: 0.4601 Val Acc: 0.8495\n",
      "Validation Accuracy: 0.8495 F1 Score: 0.8455 Spearman Corr: 0.6507 Specificity: 0.9146 Mean Metrics: 0.8036\n",
      "Epoch 46/90\n",
      "----------\n"
     ]
    },
    {
     "name": "stderr",
     "output_type": "stream",
     "text": [
      "Training: 100%|██████████| 1081/1081 [07:18<00:00,  2.46it/s]\n"
     ]
    },
    {
     "name": "stdout",
     "output_type": "stream",
     "text": [
      "Loss: 0.1997 Acc: 0.9268\n",
      "Train Accuracy: 0.9268 F1 Score: 0.9261 Spearman Corr: 0.8642 Specificity: 0.9616 Mean Metrics: 0.9173\n"
     ]
    },
    {
     "name": "stderr",
     "output_type": "stream",
     "text": [
      "Validation: 100%|██████████| 264/264 [00:52<00:00,  5.05it/s]\n"
     ]
    },
    {
     "name": "stdout",
     "output_type": "stream",
     "text": [
      "Val Loss: 0.4601 Val Acc: 0.8500\n",
      "Validation Accuracy: 0.8500 F1 Score: 0.8460 Spearman Corr: 0.6529 Specificity: 0.9149 Mean Metrics: 0.8046\n",
      "Epoch 47/90\n",
      "----------\n"
     ]
    },
    {
     "name": "stderr",
     "output_type": "stream",
     "text": [
      "Training: 100%|██████████| 1081/1081 [07:19<00:00,  2.46it/s]\n"
     ]
    },
    {
     "name": "stdout",
     "output_type": "stream",
     "text": [
      "Loss: 0.1987 Acc: 0.9288\n",
      "Train Accuracy: 0.9288 F1 Score: 0.9282 Spearman Corr: 0.8710 Specificity: 0.9624 Mean Metrics: 0.9205\n"
     ]
    },
    {
     "name": "stderr",
     "output_type": "stream",
     "text": [
      "Validation: 100%|██████████| 264/264 [00:53<00:00,  4.92it/s]\n"
     ]
    },
    {
     "name": "stdout",
     "output_type": "stream",
     "text": [
      "Val Loss: 0.4607 Val Acc: 0.8500\n",
      "Validation Accuracy: 0.8500 F1 Score: 0.8461 Spearman Corr: 0.6519 Specificity: 0.9150 Mean Metrics: 0.8043\n",
      "Epoch 48/90\n",
      "----------\n"
     ]
    },
    {
     "name": "stderr",
     "output_type": "stream",
     "text": [
      "Training: 100%|██████████| 1081/1081 [07:18<00:00,  2.47it/s]\n"
     ]
    },
    {
     "name": "stdout",
     "output_type": "stream",
     "text": [
      "Loss: 0.1962 Acc: 0.9302\n",
      "Train Accuracy: 0.9302 F1 Score: 0.9295 Spearman Corr: 0.8685 Specificity: 0.9629 Mean Metrics: 0.9203\n"
     ]
    },
    {
     "name": "stderr",
     "output_type": "stream",
     "text": [
      "Validation: 100%|██████████| 264/264 [00:53<00:00,  4.94it/s]\n"
     ]
    },
    {
     "name": "stdout",
     "output_type": "stream",
     "text": [
      "Val Loss: 0.4601 Val Acc: 0.8493\n",
      "Validation Accuracy: 0.8493 F1 Score: 0.8456 Spearman Corr: 0.6534 Specificity: 0.9152 Mean Metrics: 0.8048\n",
      "Epoch 49/90\n",
      "----------\n"
     ]
    },
    {
     "name": "stderr",
     "output_type": "stream",
     "text": [
      "Training: 100%|██████████| 1081/1081 [07:20<00:00,  2.45it/s]\n"
     ]
    },
    {
     "name": "stdout",
     "output_type": "stream",
     "text": [
      "Loss: 0.1981 Acc: 0.9287\n",
      "Train Accuracy: 0.9287 F1 Score: 0.9281 Spearman Corr: 0.8694 Specificity: 0.9628 Mean Metrics: 0.9201\n"
     ]
    },
    {
     "name": "stderr",
     "output_type": "stream",
     "text": [
      "Validation: 100%|██████████| 264/264 [00:53<00:00,  4.92it/s]\n"
     ]
    },
    {
     "name": "stdout",
     "output_type": "stream",
     "text": [
      "Val Loss: 0.4610 Val Acc: 0.8498\n",
      "Validation Accuracy: 0.8498 F1 Score: 0.8458 Spearman Corr: 0.6536 Specificity: 0.9147 Mean Metrics: 0.8047\n",
      "Epoch 50/90\n",
      "----------\n"
     ]
    },
    {
     "name": "stderr",
     "output_type": "stream",
     "text": [
      "Training: 100%|██████████| 1081/1081 [07:22<00:00,  2.44it/s]\n"
     ]
    },
    {
     "name": "stdout",
     "output_type": "stream",
     "text": [
      "Loss: 0.1941 Acc: 0.9303\n",
      "Train Accuracy: 0.9303 F1 Score: 0.9298 Spearman Corr: 0.8717 Specificity: 0.9639 Mean Metrics: 0.9218\n"
     ]
    },
    {
     "name": "stderr",
     "output_type": "stream",
     "text": [
      "Validation: 100%|██████████| 264/264 [00:53<00:00,  4.94it/s]\n"
     ]
    },
    {
     "name": "stdout",
     "output_type": "stream",
     "text": [
      "Val Loss: 0.4613 Val Acc: 0.8495\n",
      "Validation Accuracy: 0.8495 F1 Score: 0.8456 Spearman Corr: 0.6538 Specificity: 0.9146 Mean Metrics: 0.8047\n",
      "Epoch 51/90\n",
      "----------\n"
     ]
    },
    {
     "name": "stderr",
     "output_type": "stream",
     "text": [
      "Training: 100%|██████████| 1081/1081 [07:17<00:00,  2.47it/s]\n"
     ]
    },
    {
     "name": "stdout",
     "output_type": "stream",
     "text": [
      "Loss: 0.1954 Acc: 0.9304\n",
      "Train Accuracy: 0.9304 F1 Score: 0.9298 Spearman Corr: 0.8703 Specificity: 0.9633 Mean Metrics: 0.9211\n"
     ]
    },
    {
     "name": "stderr",
     "output_type": "stream",
     "text": [
      "Validation: 100%|██████████| 264/264 [00:53<00:00,  4.89it/s]\n"
     ]
    },
    {
     "name": "stdout",
     "output_type": "stream",
     "text": [
      "Val Loss: 0.4613 Val Acc: 0.8495\n",
      "Validation Accuracy: 0.8495 F1 Score: 0.8457 Spearman Corr: 0.6530 Specificity: 0.9150 Mean Metrics: 0.8046\n",
      "Epoch 52/90\n",
      "----------\n"
     ]
    },
    {
     "name": "stderr",
     "output_type": "stream",
     "text": [
      "Training:  26%|██▌       | 283/1081 [02:00<05:40,  2.34it/s]\n"
     ]
    },
    {
     "ename": "KeyboardInterrupt",
     "evalue": "",
     "output_type": "error",
     "traceback": [
      "\u001B[0;31m---------------------------------------------------------------------------\u001B[0m",
      "\u001B[0;31mKeyboardInterrupt\u001B[0m                         Traceback (most recent call last)",
      "Cell \u001B[0;32mIn[1], line 87\u001B[0m\n\u001B[1;32m     84\u001B[0m criterion \u001B[38;5;241m=\u001B[39m nn\u001B[38;5;241m.\u001B[39mCrossEntropyLoss()\n\u001B[1;32m     85\u001B[0m optimizer \u001B[38;5;241m=\u001B[39m optim\u001B[38;5;241m.\u001B[39mAdam(model\u001B[38;5;241m.\u001B[39mparameters(), lr\u001B[38;5;241m=\u001B[39mconfig\u001B[38;5;241m.\u001B[39mlr)    \n\u001B[0;32m---> 87\u001B[0m \u001B[43mtrain_model\u001B[49m\u001B[43m(\u001B[49m\u001B[43mmodel\u001B[49m\u001B[43m,\u001B[49m\u001B[43m \u001B[49m\u001B[43mtrain_loader\u001B[49m\u001B[43m,\u001B[49m\u001B[43m \u001B[49m\u001B[43mval_loader\u001B[49m\u001B[43m,\u001B[49m\u001B[43m \u001B[49m\u001B[43mcriterion\u001B[49m\u001B[43m,\u001B[49m\u001B[43m \u001B[49m\u001B[43moptimizer\u001B[49m\u001B[43m,\u001B[49m\u001B[43m \u001B[49m\u001B[43mnum_epochs\u001B[49m\u001B[38;5;241;43m=\u001B[39;49m\u001B[43mconfig\u001B[49m\u001B[38;5;241;43m.\u001B[39;49m\u001B[43mnum_epochs\u001B[49m\u001B[43m)\u001B[49m\n",
      "File \u001B[0;32m~/PycharmProjects/MARIO/training.py:90\u001B[0m, in \u001B[0;36mtrain_model\u001B[0;34m(model, train_loader, val_loader, criterion, optimizer, num_epochs)\u001B[0m\n\u001B[1;32m     87\u001B[0m     loss \u001B[38;5;241m=\u001B[39m criterion(outputs, labels)\n\u001B[1;32m     89\u001B[0m scaler\u001B[38;5;241m.\u001B[39mscale(loss)\u001B[38;5;241m.\u001B[39mbackward()\n\u001B[0;32m---> 90\u001B[0m \u001B[43mscaler\u001B[49m\u001B[38;5;241;43m.\u001B[39;49m\u001B[43mstep\u001B[49m\u001B[43m(\u001B[49m\u001B[43moptimizer\u001B[49m\u001B[43m)\u001B[49m\n\u001B[1;32m     91\u001B[0m scaler\u001B[38;5;241m.\u001B[39mupdate()\n\u001B[1;32m     93\u001B[0m running_loss \u001B[38;5;241m+\u001B[39m\u001B[38;5;241m=\u001B[39m loss\u001B[38;5;241m.\u001B[39mitem() \u001B[38;5;241m*\u001B[39m inputs_ti\u001B[38;5;241m.\u001B[39msize(\u001B[38;5;241m0\u001B[39m)\n",
      "File \u001B[0;32m~/anaconda3/envs/myenv/lib/python3.10/site-packages/torch/amp/grad_scaler.py:453\u001B[0m, in \u001B[0;36mGradScaler.step\u001B[0;34m(self, optimizer, *args, **kwargs)\u001B[0m\n\u001B[1;32m    447\u001B[0m     \u001B[38;5;28mself\u001B[39m\u001B[38;5;241m.\u001B[39munscale_(optimizer)\n\u001B[1;32m    449\u001B[0m \u001B[38;5;28;01massert\u001B[39;00m (\n\u001B[1;32m    450\u001B[0m     \u001B[38;5;28mlen\u001B[39m(optimizer_state[\u001B[38;5;124m\"\u001B[39m\u001B[38;5;124mfound_inf_per_device\u001B[39m\u001B[38;5;124m\"\u001B[39m]) \u001B[38;5;241m>\u001B[39m \u001B[38;5;241m0\u001B[39m\n\u001B[1;32m    451\u001B[0m ), \u001B[38;5;124m\"\u001B[39m\u001B[38;5;124mNo inf checks were recorded for this optimizer.\u001B[39m\u001B[38;5;124m\"\u001B[39m\n\u001B[0;32m--> 453\u001B[0m retval \u001B[38;5;241m=\u001B[39m \u001B[38;5;28;43mself\u001B[39;49m\u001B[38;5;241;43m.\u001B[39;49m\u001B[43m_maybe_opt_step\u001B[49m\u001B[43m(\u001B[49m\u001B[43moptimizer\u001B[49m\u001B[43m,\u001B[49m\u001B[43m \u001B[49m\u001B[43moptimizer_state\u001B[49m\u001B[43m,\u001B[49m\u001B[43m \u001B[49m\u001B[38;5;241;43m*\u001B[39;49m\u001B[43margs\u001B[49m\u001B[43m,\u001B[49m\u001B[43m \u001B[49m\u001B[38;5;241;43m*\u001B[39;49m\u001B[38;5;241;43m*\u001B[39;49m\u001B[43mkwargs\u001B[49m\u001B[43m)\u001B[49m\n\u001B[1;32m    455\u001B[0m optimizer_state[\u001B[38;5;124m\"\u001B[39m\u001B[38;5;124mstage\u001B[39m\u001B[38;5;124m\"\u001B[39m] \u001B[38;5;241m=\u001B[39m OptState\u001B[38;5;241m.\u001B[39mSTEPPED\n\u001B[1;32m    457\u001B[0m \u001B[38;5;28;01mreturn\u001B[39;00m retval\n",
      "File \u001B[0;32m~/anaconda3/envs/myenv/lib/python3.10/site-packages/torch/amp/grad_scaler.py:350\u001B[0m, in \u001B[0;36mGradScaler._maybe_opt_step\u001B[0;34m(self, optimizer, optimizer_state, *args, **kwargs)\u001B[0m\n\u001B[1;32m    342\u001B[0m \u001B[38;5;28;01mdef\u001B[39;00m \u001B[38;5;21m_maybe_opt_step\u001B[39m(\n\u001B[1;32m    343\u001B[0m     \u001B[38;5;28mself\u001B[39m,\n\u001B[1;32m    344\u001B[0m     optimizer: torch\u001B[38;5;241m.\u001B[39moptim\u001B[38;5;241m.\u001B[39mOptimizer,\n\u001B[0;32m   (...)\u001B[0m\n\u001B[1;32m    347\u001B[0m     \u001B[38;5;241m*\u001B[39m\u001B[38;5;241m*\u001B[39mkwargs: Any,\n\u001B[1;32m    348\u001B[0m ) \u001B[38;5;241m-\u001B[39m\u001B[38;5;241m>\u001B[39m Optional[\u001B[38;5;28mfloat\u001B[39m]:\n\u001B[1;32m    349\u001B[0m     retval: Optional[\u001B[38;5;28mfloat\u001B[39m] \u001B[38;5;241m=\u001B[39m \u001B[38;5;28;01mNone\u001B[39;00m\n\u001B[0;32m--> 350\u001B[0m     \u001B[38;5;28;01mif\u001B[39;00m \u001B[38;5;129;01mnot\u001B[39;00m \u001B[38;5;28;43msum\u001B[39;49m\u001B[43m(\u001B[49m\u001B[43mv\u001B[49m\u001B[38;5;241;43m.\u001B[39;49m\u001B[43mitem\u001B[49m\u001B[43m(\u001B[49m\u001B[43m)\u001B[49m\u001B[43m \u001B[49m\u001B[38;5;28;43;01mfor\u001B[39;49;00m\u001B[43m \u001B[49m\u001B[43mv\u001B[49m\u001B[43m \u001B[49m\u001B[38;5;129;43;01min\u001B[39;49;00m\u001B[43m \u001B[49m\u001B[43moptimizer_state\u001B[49m\u001B[43m[\u001B[49m\u001B[38;5;124;43m\"\u001B[39;49m\u001B[38;5;124;43mfound_inf_per_device\u001B[39;49m\u001B[38;5;124;43m\"\u001B[39;49m\u001B[43m]\u001B[49m\u001B[38;5;241;43m.\u001B[39;49m\u001B[43mvalues\u001B[49m\u001B[43m(\u001B[49m\u001B[43m)\u001B[49m\u001B[43m)\u001B[49m:\n\u001B[1;32m    351\u001B[0m         retval \u001B[38;5;241m=\u001B[39m optimizer\u001B[38;5;241m.\u001B[39mstep(\u001B[38;5;241m*\u001B[39margs, \u001B[38;5;241m*\u001B[39m\u001B[38;5;241m*\u001B[39mkwargs)\n\u001B[1;32m    352\u001B[0m     \u001B[38;5;28;01mreturn\u001B[39;00m retval\n",
      "File \u001B[0;32m~/anaconda3/envs/myenv/lib/python3.10/site-packages/torch/amp/grad_scaler.py:350\u001B[0m, in \u001B[0;36m<genexpr>\u001B[0;34m(.0)\u001B[0m\n\u001B[1;32m    342\u001B[0m \u001B[38;5;28;01mdef\u001B[39;00m \u001B[38;5;21m_maybe_opt_step\u001B[39m(\n\u001B[1;32m    343\u001B[0m     \u001B[38;5;28mself\u001B[39m,\n\u001B[1;32m    344\u001B[0m     optimizer: torch\u001B[38;5;241m.\u001B[39moptim\u001B[38;5;241m.\u001B[39mOptimizer,\n\u001B[0;32m   (...)\u001B[0m\n\u001B[1;32m    347\u001B[0m     \u001B[38;5;241m*\u001B[39m\u001B[38;5;241m*\u001B[39mkwargs: Any,\n\u001B[1;32m    348\u001B[0m ) \u001B[38;5;241m-\u001B[39m\u001B[38;5;241m>\u001B[39m Optional[\u001B[38;5;28mfloat\u001B[39m]:\n\u001B[1;32m    349\u001B[0m     retval: Optional[\u001B[38;5;28mfloat\u001B[39m] \u001B[38;5;241m=\u001B[39m \u001B[38;5;28;01mNone\u001B[39;00m\n\u001B[0;32m--> 350\u001B[0m     \u001B[38;5;28;01mif\u001B[39;00m \u001B[38;5;129;01mnot\u001B[39;00m \u001B[38;5;28msum\u001B[39m(\u001B[43mv\u001B[49m\u001B[38;5;241;43m.\u001B[39;49m\u001B[43mitem\u001B[49m\u001B[43m(\u001B[49m\u001B[43m)\u001B[49m \u001B[38;5;28;01mfor\u001B[39;00m v \u001B[38;5;129;01min\u001B[39;00m optimizer_state[\u001B[38;5;124m\"\u001B[39m\u001B[38;5;124mfound_inf_per_device\u001B[39m\u001B[38;5;124m\"\u001B[39m]\u001B[38;5;241m.\u001B[39mvalues()):\n\u001B[1;32m    351\u001B[0m         retval \u001B[38;5;241m=\u001B[39m optimizer\u001B[38;5;241m.\u001B[39mstep(\u001B[38;5;241m*\u001B[39margs, \u001B[38;5;241m*\u001B[39m\u001B[38;5;241m*\u001B[39mkwargs)\n\u001B[1;32m    352\u001B[0m     \u001B[38;5;28;01mreturn\u001B[39;00m retval\n",
      "\u001B[0;31mKeyboardInterrupt\u001B[0m: "
     ]
    }
   ],
   "execution_count": 1
  },
  {
   "metadata": {},
   "cell_type": "code",
   "outputs": [],
   "execution_count": null,
   "source": "",
   "id": "98dc212699ab401d"
  }
 ],
 "metadata": {
  "kernelspec": {
   "display_name": "Python 3",
   "language": "python",
   "name": "python3"
  },
  "language_info": {
   "codemirror_mode": {
    "name": "ipython",
    "version": 2
   },
   "file_extension": ".py",
   "mimetype": "text/x-python",
   "name": "python",
   "nbconvert_exporter": "python",
   "pygments_lexer": "ipython2",
   "version": "2.7.6"
  }
 },
 "nbformat": 4,
 "nbformat_minor": 5
}
